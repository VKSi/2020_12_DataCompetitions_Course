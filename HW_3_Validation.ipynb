{
  "nbformat": 4,
  "nbformat_minor": 0,
  "metadata": {
    "colab": {
      "name": "HW_3",
      "provenance": [],
      "collapsed_sections": [
        "KeZgNDIQkFaU"
      ],
      "authorship_tag": "ABX9TyN/Sh4TlYjrmmEpzV6Pzai1",
      "include_colab_link": true
    },
    "kernelspec": {
      "name": "python3",
      "display_name": "Python 3"
    }
  },
  "cells": [
    {
      "cell_type": "markdown",
      "metadata": {
        "id": "view-in-github",
        "colab_type": "text"
      },
      "source": [
        "<a href=\"https://colab.research.google.com/github/VKSi/2020_12_DataCompetitions_Course/blob/main/HW_3_Validation.ipynb\" target=\"_parent\"><img src=\"https://colab.research.google.com/assets/colab-badge.svg\" alt=\"Open In Colab\"/></a>"
      ]
    },
    {
      "cell_type": "markdown",
      "metadata": {
        "id": "eJ4aFIz7LCtS"
      },
      "source": [
        "## Построение надежной локальной валидации"
      ]
    },
    {
      "cell_type": "markdown",
      "metadata": {
        "id": "0LiiOrIYHPWN"
      },
      "source": [
        "\n",
        "## Основное задание:\n",
        "Даны выборки для обучения и для тестирования. Задание заключается в том, чтобы попробовать разные способы валидации, проанализировать плюсы / минусы каждой и сделать выводы о том, какой способ валидации наиболее устойчивый в данной задаче. Метрика качества для оценки прогнозов - ROC-AUC, название целевой переменной - IsFraud. Рекомендуется использовать модели градиетного бустинга, реализация любая / гипепараметры любые. Внимание! выборка assignment_2_test.csv - наш аналог лидерборда. Будем моделировать ситуацию отправки решения на лидерборд и сравнить значение метрики на лидерборде и на локальной валидации. Для других целей использовать выборку запрещено!.\n",
        "\n",
        "### Терминалогия, используемая в задании:\n",
        "* обучающая выборка - выборка, которая передается в метод fit / train;\n",
        "* валидационная выборка - выборка, которая получается при Hold-Out на 2 выборки (train, valid);\n",
        "* тестовая выборка - выборка, которая получается при Hold-Out на 3 выборки (train, valid, test);\n",
        "* ЛБ - лидерборд, выборка assignment_2_test.csv.\n",
        "\n",
        "### Задание 1:\n",
        " сделать Hold-Out валидацию с разбиением, размер которого будет адеквтаным, по вашему мнению; разбиение проводить по id-транзакции (TransactionID), обучать модель градиетного бустинга любой реализации с подбором числа деревьев по early_stopping критерию до достижения сходимости. Оценить качество модели на валидационной выборке, оценить расхождение по сравнению с качеством на обучающей выборке и валидационной выборке. Оценить качество на ЛБ, сравнить с качеством на обучении и валидации. Сделать выводы.\n",
        "\n",
        "### Задание 2:\n",
        " сделать Hold-Out валидацию с разбиением на 3 выборки, разбиение проводить по id-транзакции (TransactionID), размер каждой выборки подобрать самостоятельно. Повторить процедуру из п.1. для каждой выборки.\n",
        "\n",
        "### Задание 3:\n",
        " построить доверительный интервал на данных из п.2 на основе бутстреп выборок, оценить качество модели на ЛБ относительно полученного доверительного интервала. Сделать выводы.\n",
        "\n",
        "### Задание 4:\n",
        " выполнить Adversarial Validation, подобрать объекты из обучающей выборки, которые сильно похожи на объекты из assignment_2_test.csv, и использовать их в качестве валидационного набора. Оценить качество модели на ЛБ, сделать выводы о полученных результатах.\n",
        "\n",
        "### Задание 5:\n",
        " сделать KFold / StratifiedKFold валидацию (на ваше усмотрение), оценить получаемые качество и разброс по метрике качества. Сделать выводы об устойчивости кросс-валидации, сходимости оценки на кросс-валидации и отложенном наборе данных; Оценить качество на ЛБ, сделать выводы.\n",
        "\n",
        "### Задание 6 (опциональное):\n",
        " сделать Hold-Out валидацию по времени (TransactionDT), повторить процедуры из п.1 / п.2 (на ваш выбор). Построить доверительный интервал, сравнить качество на ЛБ выборке с полученным доверительным интервалом. Сделать выводы.\n",
        "\n",
        "### Задание 7 (совсем опциональное):\n",
        " в данном наборе данных у нас есть ID-транзакции (TransactionID) и время транзакции (TransactionDT), но отсутствует ID-клиента, который совершал транзакции. Кажется, что в этой задаче валидация по клиенту работала бы хорошо. Предложить критерий, по которому можно выделить клиентов и сделать п.5, используя созданное определение клиента, используя валидацию по клиенту (GroupKFold)."
      ]
    },
    {
      "cell_type": "markdown",
      "metadata": {
        "id": "KeZgNDIQkFaU"
      },
      "source": [
        "# Общая (подготовительная) часть"
      ]
    },
    {
      "cell_type": "code",
      "metadata": {
        "id": "A53RsCfOjoQN",
        "colab": {
          "base_uri": "https://localhost:8080/"
        },
        "outputId": "9db983e5-38e9-4966-f805-047c0af2eb15"
      },
      "source": [
        "!pip install catboost"
      ],
      "execution_count": null,
      "outputs": [
        {
          "output_type": "stream",
          "text": [
            "Collecting catboost\n",
            "\u001b[?25l  Downloading https://files.pythonhosted.org/packages/7e/c1/c1c4707013f9e2f8a96899dd3a87f66c9167d6d776a6dc8fe7ec8678d446/catboost-0.24.3-cp36-none-manylinux1_x86_64.whl (66.3MB)\n",
            "\u001b[K     |████████████████████████████████| 66.3MB 54kB/s \n",
            "\u001b[?25hRequirement already satisfied: matplotlib in /usr/local/lib/python3.6/dist-packages (from catboost) (3.2.2)\n",
            "Requirement already satisfied: numpy>=1.16.0 in /usr/local/lib/python3.6/dist-packages (from catboost) (1.18.5)\n",
            "Requirement already satisfied: graphviz in /usr/local/lib/python3.6/dist-packages (from catboost) (0.10.1)\n",
            "Requirement already satisfied: scipy in /usr/local/lib/python3.6/dist-packages (from catboost) (1.4.1)\n",
            "Requirement already satisfied: pandas>=0.24.0 in /usr/local/lib/python3.6/dist-packages (from catboost) (1.1.4)\n",
            "Requirement already satisfied: six in /usr/local/lib/python3.6/dist-packages (from catboost) (1.15.0)\n",
            "Requirement already satisfied: plotly in /usr/local/lib/python3.6/dist-packages (from catboost) (4.4.1)\n",
            "Requirement already satisfied: pyparsing!=2.0.4,!=2.1.2,!=2.1.6,>=2.0.1 in /usr/local/lib/python3.6/dist-packages (from matplotlib->catboost) (2.4.7)\n",
            "Requirement already satisfied: cycler>=0.10 in /usr/local/lib/python3.6/dist-packages (from matplotlib->catboost) (0.10.0)\n",
            "Requirement already satisfied: python-dateutil>=2.1 in /usr/local/lib/python3.6/dist-packages (from matplotlib->catboost) (2.8.1)\n",
            "Requirement already satisfied: kiwisolver>=1.0.1 in /usr/local/lib/python3.6/dist-packages (from matplotlib->catboost) (1.3.1)\n",
            "Requirement already satisfied: pytz>=2017.2 in /usr/local/lib/python3.6/dist-packages (from pandas>=0.24.0->catboost) (2018.9)\n",
            "Requirement already satisfied: retrying>=1.3.3 in /usr/local/lib/python3.6/dist-packages (from plotly->catboost) (1.3.3)\n",
            "Installing collected packages: catboost\n",
            "Successfully installed catboost-0.24.3\n"
          ],
          "name": "stdout"
        }
      ]
    },
    {
      "cell_type": "code",
      "metadata": {
        "id": "EmGCSBaOH_uS"
      },
      "source": [
        "import matplotlib.pyplot as plt\n",
        "import numpy as np\n",
        "import pandas as pd\n",
        "import seaborn as sns\n",
        "from google.colab import files, drive\n",
        "import pickle\n",
        "from sklearn.model_selection import KFold, StratifiedKFold, train_test_split, cross_val_score\n",
        "from sklearn.metrics import roc_auc_score\n",
        "from typing import List, Tuple\n",
        "import catboost as cb"
      ],
      "execution_count": null,
      "outputs": []
    },
    {
      "cell_type": "code",
      "metadata": {
        "id": "bYNuwmRZdQoW",
        "colab": {
          "base_uri": "https://localhost:8080/"
        },
        "outputId": "5837cd6d-1964-405b-f8c5-9e5f56a87ae3"
      },
      "source": [
        "drive.mount('/content/gdrive', force_remount=True)"
      ],
      "execution_count": null,
      "outputs": [
        {
          "output_type": "stream",
          "text": [
            "Mounted at /content/gdrive\n"
          ],
          "name": "stdout"
        }
      ]
    },
    {
      "cell_type": "code",
      "metadata": {
        "id": "QcVU3H3ngHye",
        "colab": {
          "base_uri": "https://localhost:8080/"
        },
        "outputId": "5c5a1427-9ba0-4788-b877-330b1df3699c"
      },
      "source": [
        "!df -h"
      ],
      "execution_count": null,
      "outputs": [
        {
          "output_type": "stream",
          "text": [
            "Filesystem      Size  Used Avail Use% Mounted on\n",
            "overlay         108G   33G   76G  30% /\n",
            "tmpfs            64M     0   64M   0% /dev\n",
            "tmpfs           6.4G     0  6.4G   0% /sys/fs/cgroup\n",
            "shm             5.9G     0  5.9G   0% /dev/shm\n",
            "tmpfs           6.4G   16K  6.4G   1% /var/colab\n",
            "/dev/sda1       114G   34G   81G  30% /etc/hosts\n",
            "tmpfs           6.4G     0  6.4G   0% /proc/acpi\n",
            "tmpfs           6.4G     0  6.4G   0% /proc/scsi\n",
            "tmpfs           6.4G     0  6.4G   0% /sys/firmware\n",
            "drive            15G  8.1G  7.0G  54% /content/gdrive\n"
          ],
          "name": "stdout"
        }
      ]
    },
    {
      "cell_type": "code",
      "metadata": {
        "id": "vyE8_9LKIdJd"
      },
      "source": [
        "!cp /content/gdrive/'My Drive'/AI/GB/Kaggle/'assignment_2_test.csv' .\n",
        "!cp /content/gdrive/'My Drive'/AI/GB/Kaggle/'assignment_2_train.csv' ."
      ],
      "execution_count": null,
      "outputs": []
    },
    {
      "cell_type": "code",
      "metadata": {
        "id": "t6lT50xLxCMK"
      },
      "source": [
        "object_path = \"gdrive/My Drive/AI/GB/Kaggle/objects/\""
      ],
      "execution_count": null,
      "outputs": []
    },
    {
      "cell_type": "code",
      "metadata": {
        "id": "WSExDrwGxOut"
      },
      "source": [
        "def save_obj(obj, name: str):\n",
        "    path = object_path + name + '.pkl'\n",
        "    with open(path, 'wb') as f:\n",
        "        pickle.dump(obj, f, pickle.HIGHEST_PROTOCOL)\n",
        "    return path\n",
        "\n",
        "\n",
        "def load_obj(name: str):\n",
        "    with open(object_path + name + '.pkl', 'rb') as f:\n",
        "        return pickle.load(f)"
      ],
      "execution_count": null,
      "outputs": []
    },
    {
      "cell_type": "code",
      "metadata": {
        "id": "awXeCZvihjs1"
      },
      "source": [
        "data = pd.read_csv(\"assignment_2_train.csv\")\n",
        "lb = pd.read_csv(\"assignment_2_test.csv\")"
      ],
      "execution_count": null,
      "outputs": []
    },
    {
      "cell_type": "code",
      "metadata": {
        "id": "3LDMZNWIhnLp",
        "colab": {
          "base_uri": "https://localhost:8080/"
        },
        "outputId": "bfc2cb05-c301-40e3-f323-4b7a288fa0b5"
      },
      "source": [
        "print(\"data.shape = {} rows, {} cols\".format(*data.shape))\n",
        "print(\"lb.shape = {} rows, {} cols\".format(*lb.shape))"
      ],
      "execution_count": null,
      "outputs": [
        {
          "output_type": "stream",
          "text": [
            "data.shape = 180000 rows, 394 cols\n",
            "lb.shape = 100001 rows, 394 cols\n"
          ],
          "name": "stdout"
        }
      ]
    },
    {
      "cell_type": "code",
      "metadata": {
        "id": "6F_c4xJxipW-"
      },
      "source": [
        "REST_FEATURES = data.columns\n",
        "INITIAL_FEATURES = REST_FEATURES.copy()\n",
        "\n",
        "ID = 'TransactionID'\n",
        "REST_FEATURES = list(set(REST_FEATURES) - set([ID]))\n",
        "\n",
        "TARGET = 'isFraud'\n",
        "REST_FEATURES = list(set(REST_FEATURES) - set([TARGET]))\n",
        "\n",
        "NUMERICAL_FEATURES = data[REST_FEATURES].select_dtypes(include=[np.number]).columns.to_list()\n",
        "REST_FEATURES = list(set(REST_FEATURES) - set(NUMERICAL_FEATURES))\n",
        "\n",
        "CATEGORICAL_FEATURES = REST_FEATURES\n",
        "\n",
        "REST_FEATURES = None"
      ],
      "execution_count": null,
      "outputs": []
    },
    {
      "cell_type": "code",
      "metadata": {
        "id": "nL4sVIg-iu21",
        "colab": {
          "base_uri": "https://localhost:8080/"
        },
        "outputId": "1007bef5-a481-4381-d3fd-26586598031c"
      },
      "source": [
        "data[TARGET].value_counts()/data.shape[0]"
      ],
      "execution_count": null,
      "outputs": [
        {
          "output_type": "execute_result",
          "data": {
            "text/plain": [
              "0    0.971439\n",
              "1    0.028561\n",
              "Name: isFraud, dtype: float64"
            ]
          },
          "metadata": {
            "tags": []
          },
          "execution_count": 11
        }
      ]
    },
    {
      "cell_type": "code",
      "metadata": {
        "id": "u7SE5BscjNfw",
        "colab": {
          "base_uri": "https://localhost:8080/"
        },
        "outputId": "21760eea-70f5-4e6b-b756-3c7c54028e13"
      },
      "source": [
        "data[TARGET].value_counts()/data.shape[0]"
      ],
      "execution_count": null,
      "outputs": [
        {
          "output_type": "execute_result",
          "data": {
            "text/plain": [
              "0    0.971439\n",
              "1    0.028561\n",
              "Name: isFraud, dtype: float64"
            ]
          },
          "metadata": {
            "tags": []
          },
          "execution_count": 12
        }
      ]
    },
    {
      "cell_type": "code",
      "metadata": {
        "id": "xf58tFPQv_Co"
      },
      "source": [
        "data[CATEGORICAL_FEATURES] = data[CATEGORICAL_FEATURES].astype('str')\n",
        "lb[CATEGORICAL_FEATURES] = lb[CATEGORICAL_FEATURES].astype('str')"
      ],
      "execution_count": null,
      "outputs": []
    },
    {
      "cell_type": "code",
      "metadata": {
        "id": "ijxwviD_zPS2"
      },
      "source": [
        "X_lb = lb.drop([ID, TARGET], axis='columns')\n",
        "y_lb = lb[TARGET]"
      ],
      "execution_count": null,
      "outputs": []
    },
    {
      "cell_type": "code",
      "metadata": {
        "id": "_JygztX7jkf2"
      },
      "source": [
        "cb_params = {\n",
        "    \"n_estimators\": 10000,\n",
        "    \"loss_function\": \"Logloss\",\n",
        "    \"eval_metric\": \"AUC\",\n",
        "    \"task_type\": \"CPU\",\n",
        "    \"max_bin\": 20,\n",
        "    \"verbose\": 100,\n",
        "    \"max_depth\": 4,\n",
        "    \"reg_lambda\": 100,\n",
        "    \"class_weights\":[3, 97], \n",
        "    \"early_stopping_rounds\": 50,\n",
        "    \"thread_count\": 6,\n",
        "    \"random_seed\": 27\n",
        "}"
      ],
      "execution_count": null,
      "outputs": []
    },
    {
      "cell_type": "markdown",
      "metadata": {
        "id": "wHV_M48dkWZ5"
      },
      "source": [
        "# Задание 1:\n",
        "сделать Hold-Out валидацию с разбиением, размер которого будет адеквтаным, по вашему мнению; разбиение проводить по id-транзакции (TransactionID), обучать модель градиетного бустинга любой реализации с подбором числа деревьев по early_stopping критерию до достижения сходимости. Оценить качество модели на валидационной выборке, оценить расхождение по сравнению с качеством на обучающей выборке и валидационной выборке. Оценить качество на ЛБ, сравнить с качеством на обучении и валидации. Сделать выводы."
      ]
    },
    {
      "cell_type": "code",
      "metadata": {
        "id": "5NRX4OvakO_i",
        "colab": {
          "base_uri": "https://localhost:8080/"
        },
        "outputId": "d5e44e9d-58a3-4e09-8484-ee737cb299b9"
      },
      "source": [
        "data[ID].nunique() == data.shape[0]"
      ],
      "execution_count": null,
      "outputs": [
        {
          "output_type": "execute_result",
          "data": {
            "text/plain": [
              "True"
            ]
          },
          "metadata": {
            "tags": []
          },
          "execution_count": 16
        }
      ]
    },
    {
      "cell_type": "markdown",
      "metadata": {
        "id": "xcIEI1Iol5zl"
      },
      "source": [
        "Все значения ID уникальны"
      ]
    },
    {
      "cell_type": "markdown",
      "metadata": {
        "id": "ONKK0LRLsgk5"
      },
      "source": [
        "В задании требуется разбить данные по ID, для этого их нужно упорядочить"
      ]
    },
    {
      "cell_type": "code",
      "metadata": {
        "id": "QyuBngNpl1r4"
      },
      "source": [
        "data.sort_values(by=ID, inplace=True)"
      ],
      "execution_count": null,
      "outputs": []
    },
    {
      "cell_type": "code",
      "metadata": {
        "id": "jvsIfAvPr8hH"
      },
      "source": [
        "X = data.drop([ID, TARGET], axis='columns')\n",
        "y = data[TARGET]"
      ],
      "execution_count": null,
      "outputs": []
    },
    {
      "cell_type": "code",
      "metadata": {
        "id": "1LrytGiNvIP8",
        "colab": {
          "base_uri": "https://localhost:8080/"
        },
        "outputId": "318291c9-82a4-4921-fc36-27b8c93672f3"
      },
      "source": [
        "print(f'X.shape = {X.shape}')\n",
        "print(f'y.shape = {y.shape}')"
      ],
      "execution_count": null,
      "outputs": [
        {
          "output_type": "stream",
          "text": [
            "X.shape = (180000, 392)\n",
            "y.shape = (180000,)\n"
          ],
          "name": "stdout"
        }
      ]
    },
    {
      "cell_type": "code",
      "metadata": {
        "id": "FzBh-eB-rsE6"
      },
      "source": [
        "train_share = 0.25"
      ],
      "execution_count": null,
      "outputs": []
    },
    {
      "cell_type": "code",
      "metadata": {
        "id": "iRNnKOwasUg2"
      },
      "source": [
        "X_train = X.head(int(X.shape[0]*(1 - train_share)))\n",
        "y_train = y.loc[y.index.isin(X_train.index)]\n",
        "X_test = X.loc[~X.index.isin(X_train.index)]\n",
        "y_test = y.loc[y.index.isin(X_test.index)]"
      ],
      "execution_count": null,
      "outputs": []
    },
    {
      "cell_type": "code",
      "metadata": {
        "id": "dxACwTqgtj0N",
        "colab": {
          "base_uri": "https://localhost:8080/"
        },
        "outputId": "7a3b68de-9141-4e06-9422-71de705aeb65"
      },
      "source": [
        "print(f'X_train.shape = {X_train.shape}')\n",
        "print(f'y_train.shape = {y_train.shape}')\n",
        "print(f'X_test.shape = {X_test.shape}')\n",
        "print(f'y_test.shape = {y_test.shape}')"
      ],
      "execution_count": null,
      "outputs": [
        {
          "output_type": "stream",
          "text": [
            "X_train.shape = (135000, 392)\n",
            "y_train.shape = (135000,)\n",
            "X_test.shape = (45000, 392)\n",
            "y_test.shape = (45000,)\n"
          ],
          "name": "stdout"
        }
      ]
    },
    {
      "cell_type": "code",
      "metadata": {
        "id": "gfyyYg9Huw_N"
      },
      "source": [
        "train_pool = cb.Pool(X_train, y_train, cat_features=CATEGORICAL_FEATURES)\n",
        "valid_pool = cb.Pool(X_test, y_test, cat_features=CATEGORICAL_FEATURES)"
      ],
      "execution_count": null,
      "outputs": []
    },
    {
      "cell_type": "code",
      "metadata": {
        "id": "y9ZuI5bkvnLE",
        "colab": {
          "base_uri": "https://localhost:8080/"
        },
        "outputId": "763c7d86-79ab-487b-8710-919782cbcd3c"
      },
      "source": [
        "model = cb.CatBoostClassifier(**cb_params)\n",
        "model.fit(train_pool, eval_set=[train_pool, valid_pool])"
      ],
      "execution_count": null,
      "outputs": [
        {
          "output_type": "stream",
          "text": [
            "0:\ttest: 0.7514447\ttest1: 0.7402343\tbest: 0.7402343 (0)\ttotal: 759ms\tremaining: 37m 57s\n",
            "100:\ttest: 0.8740239\ttest1: 0.8495840\tbest: 0.8495840 (100)\ttotal: 1m\tremaining: 28m 49s\n",
            "200:\ttest: 0.8851725\ttest1: 0.8576180\tbest: 0.8576180 (200)\ttotal: 1m 59s\tremaining: 27m 41s\n",
            "300:\ttest: 0.8921213\ttest1: 0.8639272\tbest: 0.8639272 (300)\ttotal: 2m 57s\tremaining: 26m 27s\n",
            "400:\ttest: 0.8981703\ttest1: 0.8679228\tbest: 0.8679228 (400)\ttotal: 3m 54s\tremaining: 25m 20s\n",
            "500:\ttest: 0.9103926\ttest1: 0.8771553\tbest: 0.8771553 (500)\ttotal: 4m 53s\tremaining: 24m 25s\n",
            "600:\ttest: 0.9191184\ttest1: 0.8827751\tbest: 0.8827751 (600)\ttotal: 5m 51s\tremaining: 23m 24s\n",
            "700:\ttest: 0.9252989\ttest1: 0.8859906\tbest: 0.8859906 (700)\ttotal: 6m 50s\tremaining: 22m 26s\n",
            "800:\ttest: 0.9304810\ttest1: 0.8891957\tbest: 0.8892175 (797)\ttotal: 7m 52s\tremaining: 21m 37s\n",
            "900:\ttest: 0.9345428\ttest1: 0.8911036\tbest: 0.8911996 (898)\ttotal: 8m 50s\tremaining: 20m 35s\n",
            "1000:\ttest: 0.9383434\ttest1: 0.8929068\tbest: 0.8929260 (988)\ttotal: 9m 48s\tremaining: 19m 35s\n",
            "1100:\ttest: 0.9418894\ttest1: 0.8952284\tbest: 0.8952704 (1099)\ttotal: 10m 47s\tremaining: 18m 36s\n",
            "1200:\ttest: 0.9451045\ttest1: 0.8970021\tbest: 0.8970021 (1200)\ttotal: 11m 45s\tremaining: 17m 37s\n",
            "1300:\ttest: 0.9481059\ttest1: 0.8979176\tbest: 0.8979317 (1296)\ttotal: 12m 45s\tremaining: 16m 39s\n",
            "1400:\ttest: 0.9507151\ttest1: 0.8993939\tbest: 0.8994282 (1396)\ttotal: 13m 44s\tremaining: 15m 40s\n",
            "1500:\ttest: 0.9529830\ttest1: 0.9004344\tbest: 0.9004344 (1500)\ttotal: 14m 42s\tremaining: 14m 41s\n",
            "1600:\ttest: 0.9548726\ttest1: 0.9015917\tbest: 0.9015917 (1600)\ttotal: 15m 40s\tremaining: 13m 41s\n",
            "1700:\ttest: 0.9567418\ttest1: 0.9021369\tbest: 0.9021521 (1678)\ttotal: 16m 39s\tremaining: 12m 43s\n",
            "1800:\ttest: 0.9586067\ttest1: 0.9032043\tbest: 0.9032043 (1800)\ttotal: 17m 40s\tremaining: 11m 46s\n",
            "1900:\ttest: 0.9601717\ttest1: 0.9037737\tbest: 0.9037840 (1897)\ttotal: 18m 39s\tremaining: 10m 47s\n",
            "2000:\ttest: 0.9617836\ttest1: 0.9047120\tbest: 0.9047241 (1997)\ttotal: 19m 38s\tremaining: 9m 48s\n",
            "2100:\ttest: 0.9631126\ttest1: 0.9055761\tbest: 0.9055761 (2100)\ttotal: 20m 37s\tremaining: 8m 49s\n",
            "Stopped by overfitting detector  (50 iterations wait)\n",
            "\n",
            "bestTest = 0.9057222592\n",
            "bestIteration = 2149\n",
            "\n",
            "Shrink model to first 2150 iterations.\n"
          ],
          "name": "stdout"
        },
        {
          "output_type": "execute_result",
          "data": {
            "text/plain": [
              "<catboost.core.CatBoostClassifier at 0x7effd9420f60>"
            ]
          },
          "metadata": {
            "tags": []
          },
          "execution_count": 24
        }
      ]
    },
    {
      "cell_type": "code",
      "metadata": {
        "id": "o8eAzvlbwXfp",
        "colab": {
          "base_uri": "https://localhost:8080/",
          "height": 35
        },
        "outputId": "a22037db-beca-45e8-b144-c1fb25e8b615"
      },
      "source": [
        "save_obj(model, 'model_task_1')"
      ],
      "execution_count": null,
      "outputs": [
        {
          "output_type": "execute_result",
          "data": {
            "application/vnd.google.colaboratory.intrinsic+json": {
              "type": "string"
            },
            "text/plain": [
              "'gdrive/My Drive/AI/GB/Kaggle/objects/model_task_1.pkl'"
            ]
          },
          "metadata": {
            "tags": []
          },
          "execution_count": 25
        }
      ]
    },
    {
      "cell_type": "code",
      "metadata": {
        "id": "tbwWU8FQyK0e",
        "colab": {
          "base_uri": "https://localhost:8080/"
        },
        "outputId": "25021172-ee9e-4de6-b82f-ec3c9dc80d8c"
      },
      "source": [
        "train_score = roc_auc_score(y_train, model.predict_proba(X_train)[:, 1])\n",
        "test_score = roc_auc_score(y_test, model.predict_proba(X_test)[:, 1])\n",
        "lb_score = roc_auc_score(y_lb, model.predict_proba(X_lb)[:, 1])\n",
        "\n",
        "print(f\"Train-score: {round(train_score, 3)}, Test-score: {round(test_score, 3)} LB-score: {round(lb_score, 3)}\")"
      ],
      "execution_count": null,
      "outputs": [
        {
          "output_type": "stream",
          "text": [
            "Train-score: 0.964, Test-score: 0.906 LB-score: 0.861\n"
          ],
          "name": "stdout"
        }
      ]
    },
    {
      "cell_type": "markdown",
      "metadata": {
        "id": "IcNirJQj4Jl2"
      },
      "source": [
        "#### Вывод:\n",
        "модель выглядит переученной: метрика на тесте ниже, чем метрика на трейне. При этом метрика на ЛиберБорд еще ниже."
      ]
    },
    {
      "cell_type": "markdown",
      "metadata": {
        "id": "_kwcYisy4nm2"
      },
      "source": [
        "# Задание 2:\n",
        " сделать Hold-Out валидацию с разбиением на 3 выборки, разбиение проводить по id-транзакции (TransactionID), размер каждой выборки подобрать самостоятельно. Повторить процедуру из п.1. для каждой выборки."
      ]
    },
    {
      "cell_type": "code",
      "metadata": {
        "id": "9hFbgpve4GSO"
      },
      "source": [
        "train_share = 0.3"
      ],
      "execution_count": null,
      "outputs": []
    },
    {
      "cell_type": "code",
      "metadata": {
        "id": "zw9edzHo4u1V"
      },
      "source": [
        "X_train = X.head(int(X.shape[0]*(1 - train_share)))\n",
        "y_train = y.loc[y.index.isin(X_train.index)]\n",
        "X_test = X.loc[~X.index.isin(X_train.index)]\n",
        "y_test = y.loc[y.index.isin(X_test.index)]\n",
        "\n",
        "X_valid = X_test.head(int(X_test.shape[0]*(1 - train_share)))\n",
        "y_valid = y_test.loc[y_test.index.isin(X_valid.index)]\n",
        "X_test = X_test.loc[~X_test.index.isin(X_valid.index)]\n",
        "y_test = y_test.loc[y_test.index.isin(X_test.index)]"
      ],
      "execution_count": null,
      "outputs": []
    },
    {
      "cell_type": "code",
      "metadata": {
        "id": "KH8hgdlP5d6c",
        "colab": {
          "base_uri": "https://localhost:8080/"
        },
        "outputId": "55fb4eb3-d2c7-4bf6-b114-4ff45b2dbc54"
      },
      "source": [
        "print(f'X_train.shape = {X_train.shape}')\n",
        "print(f'y_train.shape = {y_train.shape}')\n",
        "print(f'X_valid.shape = {X_valid.shape}')\n",
        "print(f'y_valid.shape = {y_valid.shape}')\n",
        "print(f'X_test.shape = {X_test.shape}')\n",
        "print(f'y_test.shape = {y_test.shape}')"
      ],
      "execution_count": null,
      "outputs": [
        {
          "output_type": "stream",
          "text": [
            "X_train.shape = (125999, 392)\n",
            "y_train.shape = (125999,)\n",
            "X_valid.shape = (37800, 392)\n",
            "y_valid.shape = (37800,)\n",
            "X_test.shape = (16201, 392)\n",
            "y_test.shape = (16201,)\n"
          ],
          "name": "stdout"
        }
      ]
    },
    {
      "cell_type": "code",
      "metadata": {
        "id": "JSg6HFaJ6Rif"
      },
      "source": [
        "train_pool = cb.Pool(X_train, y_train, cat_features=CATEGORICAL_FEATURES)\n",
        "valid_pool = cb.Pool(X_valid, y_valid, cat_features=CATEGORICAL_FEATURES)"
      ],
      "execution_count": null,
      "outputs": []
    },
    {
      "cell_type": "code",
      "metadata": {
        "id": "nFexP3oU5ox-",
        "colab": {
          "base_uri": "https://localhost:8080/"
        },
        "outputId": "14ee7a4d-9c1e-44cf-e990-de141dab8b53"
      },
      "source": [
        "model = cb.CatBoostClassifier(**cb_params)\n",
        "model.fit(train_pool, eval_set=[train_pool, valid_pool])"
      ],
      "execution_count": null,
      "outputs": [
        {
          "output_type": "stream",
          "text": [
            "0:\ttest: 0.7588777\ttest1: 0.7886359\tbest: 0.7886359 (0)\ttotal: 719ms\tremaining: 35m 55s\n",
            "100:\ttest: 0.8749803\ttest1: 0.8611416\tbest: 0.8611692 (98)\ttotal: 56.6s\tremaining: 27m 5s\n",
            "200:\ttest: 0.8864823\ttest1: 0.8689309\tbest: 0.8689516 (199)\ttotal: 1m 53s\tremaining: 26m 20s\n",
            "300:\ttest: 0.8936365\ttest1: 0.8730562\tbest: 0.8730579 (297)\ttotal: 2m 46s\tremaining: 24m 56s\n",
            "400:\ttest: 0.9006290\ttest1: 0.8778237\tbest: 0.8778237 (400)\ttotal: 3m 40s\tremaining: 23m 49s\n",
            "500:\ttest: 0.9121103\ttest1: 0.8856522\tbest: 0.8856522 (500)\ttotal: 4m 35s\tremaining: 22m 54s\n",
            "600:\ttest: 0.9201918\ttest1: 0.8903625\tbest: 0.8903625 (600)\ttotal: 5m 29s\tremaining: 21m 54s\n",
            "700:\ttest: 0.9257604\ttest1: 0.8945793\tbest: 0.8945793 (700)\ttotal: 6m 22s\tremaining: 20m 54s\n",
            "800:\ttest: 0.9306055\ttest1: 0.8970273\tbest: 0.8970273 (800)\ttotal: 7m 17s\tremaining: 20m\n",
            "900:\ttest: 0.9347594\ttest1: 0.8990032\tbest: 0.8990070 (899)\ttotal: 8m 11s\tremaining: 19m 6s\n",
            "1000:\ttest: 0.9389401\ttest1: 0.9013326\tbest: 0.9013326 (1000)\ttotal: 9m 7s\tremaining: 18m 12s\n",
            "1100:\ttest: 0.9426847\ttest1: 0.9029968\tbest: 0.9029968 (1100)\ttotal: 10m 2s\tremaining: 17m 18s\n",
            "1200:\ttest: 0.9453521\ttest1: 0.9032195\tbest: 0.9033673 (1169)\ttotal: 10m 55s\tremaining: 16m 22s\n",
            "1300:\ttest: 0.9477809\ttest1: 0.9038713\tbest: 0.9040260 (1281)\ttotal: 11m 52s\tremaining: 15m 30s\n",
            "1400:\ttest: 0.9502422\ttest1: 0.9047103\tbest: 0.9047322 (1395)\ttotal: 12m 45s\tremaining: 14m 34s\n",
            "1500:\ttest: 0.9525281\ttest1: 0.9048988\tbest: 0.9050219 (1481)\ttotal: 13m 39s\tremaining: 13m 38s\n",
            "Stopped by overfitting detector  (50 iterations wait)\n",
            "\n",
            "bestTest = 0.905021873\n",
            "bestIteration = 1481\n",
            "\n",
            "Shrink model to first 1482 iterations.\n"
          ],
          "name": "stdout"
        },
        {
          "output_type": "execute_result",
          "data": {
            "text/plain": [
              "<catboost.core.CatBoostClassifier at 0x7effd8b874e0>"
            ]
          },
          "metadata": {
            "tags": []
          },
          "execution_count": 31
        }
      ]
    },
    {
      "cell_type": "code",
      "metadata": {
        "id": "_bUeweco6k88",
        "colab": {
          "base_uri": "https://localhost:8080/",
          "height": 35
        },
        "outputId": "347bbf75-c8a5-4818-e357-0c57ae2ceb44"
      },
      "source": [
        "save_obj(model, 'model_task_2')"
      ],
      "execution_count": null,
      "outputs": [
        {
          "output_type": "execute_result",
          "data": {
            "application/vnd.google.colaboratory.intrinsic+json": {
              "type": "string"
            },
            "text/plain": [
              "'gdrive/My Drive/AI/GB/Kaggle/objects/model_task_2.pkl'"
            ]
          },
          "metadata": {
            "tags": []
          },
          "execution_count": 32
        }
      ]
    },
    {
      "cell_type": "code",
      "metadata": {
        "id": "uHzBdW0G7CXG",
        "colab": {
          "base_uri": "https://localhost:8080/"
        },
        "outputId": "794e4290-f59e-4f88-e3f0-5f34b951a2ef"
      },
      "source": [
        "train_score = roc_auc_score(y_train, model.predict_proba(X_train)[:, 1])\n",
        "test_score = roc_auc_score(y_test, model.predict_proba(X_test)[:, 1])\n",
        "valid_score = roc_auc_score(y_valid, model.predict_proba(X_valid)[:, 1])\n",
        "lb_score = roc_auc_score(y_lb, model.predict_proba(X_lb)[:, 1])\n",
        "\n",
        "print(f\"Train-score: {round(train_score, 3)}, Valid-score: {round(valid_score, 3)}, Test-score: {round(test_score, 3)} LB-score: {round(lb_score, 3)}\")"
      ],
      "execution_count": null,
      "outputs": [
        {
          "output_type": "stream",
          "text": [
            "Train-score: 0.952, Valid-score: 0.905, Test-score: 0.88 LB-score: 0.866\n"
          ],
          "name": "stdout"
        }
      ]
    },
    {
      "cell_type": "markdown",
      "metadata": {
        "id": "kZPQMYq5_XqF"
      },
      "source": [
        "\"Динамика\" от трейна к тесту через валидационную выборку дает более точное представление о том, что ждать от Либерборда"
      ]
    },
    {
      "cell_type": "markdown",
      "metadata": {
        "id": "wwebBr8q9KVe"
      },
      "source": [
        "# Задание 3:\n",
        "построить доверительный интервал на данных из п.2 на основе бутстреп выборок, оценить качество модели на ЛБ относительно полученного доверительного интервала. Сделать выводы."
      ]
    },
    {
      "cell_type": "code",
      "metadata": {
        "id": "0Q_RsoZL9Mkn"
      },
      "source": [
        "def create_bootstrap_samples(data: np.array, n_samples: int = 1000) -> np.array:\n",
        "    \"\"\"\n",
        "    Создание бутстреп-выборок.\n",
        "\n",
        "    Parameters\n",
        "    ----------\n",
        "    data: np.array\n",
        "        Исходная выборка, которая будет использоваться для\n",
        "        создания бутстреп выборок.\n",
        "\n",
        "    n_samples: int, optional, default = 1000\n",
        "        Количество создаваемых бутстреп выборок.\n",
        "        Опциональный параметр, по умолчанию, равен 1000.\n",
        "\n",
        "    Returns\n",
        "    -------\n",
        "    bootstrap_idx: np.array\n",
        "        Матрица индексов, для создания бутстреп выборок.\n",
        "\n",
        "    \"\"\"\n",
        "    bootstrap_idx = np.random.randint(\n",
        "        low=0, high=len(data), size=(n_samples, len(data))\n",
        "    )\n",
        "    return bootstrap_idx\n",
        "\n",
        "\n",
        "def create_bootstrap_metrics(y_true: np.array,\n",
        "                             y_pred: np.array,\n",
        "                             metric: callable,\n",
        "                             n_samlpes: int = 1000) -> List[float]:\n",
        "    \"\"\"\n",
        "    Вычисление бутстреп оценок.\n",
        "\n",
        "    Parameters\n",
        "    ----------\n",
        "    y_true: np.array\n",
        "        Вектор целевой переменной.\n",
        "\n",
        "    y_pred: np.array\n",
        "        Вектор прогнозов.\n",
        "\n",
        "    metric: callable\n",
        "        Функция для вычисления метрики.\n",
        "        Функция должна принимать 2 аргумента: y_true, y_pred.\n",
        "\n",
        "    n_samples: int, optional, default = 1000\n",
        "        Количество создаваемых бутстреп выборок.\n",
        "        Опциональный параметр, по умолчанию, равен 1000.\n",
        "\n",
        "    Returns\n",
        "    -------\n",
        "    bootstrap_metrics: List[float]\n",
        "        Список со значениями метрики качества на каждой бустреп выборке.\n",
        "\n",
        "    \"\"\"\n",
        "    scores = []\n",
        "\n",
        "    if isinstance(y_true, pd.Series):\n",
        "        y_true = y_true.values\n",
        "\n",
        "    bootstrap_idx = create_bootstrap_samples(y_true)\n",
        "    for idx in bootstrap_idx:\n",
        "        y_true_bootstrap = y_true[idx]\n",
        "        y_pred_bootstrap = y_pred[idx]\n",
        "\n",
        "        score = metric(y_true_bootstrap, y_pred_bootstrap)\n",
        "        scores.append(score)\n",
        "\n",
        "    return scores\n",
        "\n",
        "\n",
        "def calculate_confidence_interval(scores: list, conf_interval: float = 0.95) -> Tuple[float]:\n",
        "    \"\"\"\n",
        "    Вычисление доверительного интервала.\n",
        "\n",
        "    Parameters\n",
        "    ----------\n",
        "    scores: List[float / int]\n",
        "        Список с оценками изучаемой величины.\n",
        "\n",
        "    conf_interval: float, optional, default = 0.95\n",
        "        Уровень доверия для построения интервала.\n",
        "        Опциональный параметр, по умолчанию, равен 0.95.\n",
        "\n",
        "    Returns\n",
        "    -------\n",
        "    conf_interval: Tuple[float]\n",
        "        Кортеж с границами доверительного интервала.\n",
        "\n",
        "    \"\"\"\n",
        "    left_bound = np.percentile(\n",
        "        scores, ((1 - conf_interval) / 2) * 100\n",
        "    )\n",
        "    right_bound = np.percentile(\n",
        "        scores, (conf_interval + ((1 - conf_interval) / 2)) * 100\n",
        "    )\n",
        "\n",
        "    return left_bound, right_bound"
      ],
      "execution_count": null,
      "outputs": []
    },
    {
      "cell_type": "code",
      "metadata": {
        "id": "u03pYg1J9k1H",
        "colab": {
          "base_uri": "https://localhost:8080/"
        },
        "outputId": "5731b4b8-4e0a-45cf-ceb9-aad3cd2ac37e"
      },
      "source": [
        "np.random.seed(26)\n",
        "scores = create_bootstrap_metrics(y_test, model.predict_proba(X_test)[:, 1], roc_auc_score)\n",
        "\n",
        "calculate_confidence_interval(scores)"
      ],
      "execution_count": null,
      "outputs": [
        {
          "output_type": "execute_result",
          "data": {
            "text/plain": [
              "(0.8646961283373846, 0.8950432004637787)"
            ]
          },
          "metadata": {
            "tags": []
          },
          "execution_count": 37
        }
      ]
    },
    {
      "cell_type": "markdown",
      "metadata": {
        "id": "9SBuG3fp_v-6"
      },
      "source": [
        "Ура! Доверительный интервал достаточно узкий. Результат на Лидерборде лежит внутри доверительного интервала.     \n",
        "\n",
        "Реально, мы должны были использовать валидационный набор для подбора гиперпараметров и только потом лучшую модель оценивать на тесте. Но в задании этого не требуется."
      ]
    },
    {
      "cell_type": "markdown",
      "metadata": {
        "id": "sJeesESUAtAI"
      },
      "source": [
        "# Задание 4:\n",
        "выполнить Adversarial Validation, подобрать объекты из обучающей выборки, которые сильно похожи на объекты из assignment_2_test.csv, и использовать их в качестве валидационного набора. Оценить качество модели на ЛБ, сделать выводы о полученных результатах."
      ]
    },
    {
      "cell_type": "code",
      "metadata": {
        "id": "CIJBOHEG_ouK"
      },
      "source": [
        "X_adv = pd.concat([X, X_lb])\n",
        "y_adv = np.hstack((np.ones(X_lb.shape[0]), np.zeros(X.shape[0])))"
      ],
      "execution_count": null,
      "outputs": []
    },
    {
      "cell_type": "code",
      "metadata": {
        "id": "n6aYn8ePBYVf",
        "colab": {
          "base_uri": "https://localhost:8080/"
        },
        "outputId": "528a9d0d-fdec-4093-c245-083d94da3df0"
      },
      "source": [
        "print(f'X_adv.shape = {X_adv.shape}')\n",
        "print(f'y_adv.shape = {y_adv.shape}')"
      ],
      "execution_count": null,
      "outputs": [
        {
          "output_type": "stream",
          "text": [
            "X_adv.shape = (280001, 392)\n",
            "y_adv.shape = (280001,)\n"
          ],
          "name": "stdout"
        }
      ]
    },
    {
      "cell_type": "code",
      "metadata": {
        "id": "Onmx5G4lBiXB"
      },
      "source": [
        "train_pool = cb.Pool(X_adv, y_adv, cat_features=CATEGORICAL_FEATURES)"
      ],
      "execution_count": null,
      "outputs": []
    },
    {
      "cell_type": "code",
      "metadata": {
        "id": "ZEYMu5_8CKjH",
        "colab": {
          "base_uri": "https://localhost:8080/"
        },
        "outputId": "bda5a154-a72f-4e3c-f366-1a9296b911b6"
      },
      "source": [
        "weight_1 = (y_adv == 1).sum()\n",
        "weight_0 = (y_adv == 0).sum()\n",
        "print(weight_1, weight_0)"
      ],
      "execution_count": null,
      "outputs": [
        {
          "output_type": "stream",
          "text": [
            "100001 180000\n"
          ],
          "name": "stdout"
        }
      ]
    },
    {
      "cell_type": "code",
      "metadata": {
        "id": "VMKTeF9CB-hY"
      },
      "source": [
        "cb_params_adv = cb_params.copy()\n",
        "cb_params_adv['class_weights'] = [weight_1, weight_0]"
      ],
      "execution_count": null,
      "outputs": []
    },
    {
      "cell_type": "code",
      "metadata": {
        "id": "ZHvTMQh3B39V",
        "colab": {
          "base_uri": "https://localhost:8080/"
        },
        "outputId": "8580ddf0-45e7-4793-ff99-0a6bb8fdaebf"
      },
      "source": [
        "model = cb.CatBoostClassifier(**cb_params_adv)\n",
        "model.fit(train_pool, eval_set=[train_pool])"
      ],
      "execution_count": null,
      "outputs": [
        {
          "output_type": "stream",
          "text": [
            "0:\ttest: 0.5691879\tbest: 0.5691879 (0)\ttotal: 1.23s\tremaining: 1h 1m 19s\n",
            "100:\ttest: 0.9978272\tbest: 0.9979014 (90)\ttotal: 1m 40s\tremaining: 48m 12s\n",
            "Stopped by overfitting detector  (50 iterations wait)\n",
            "\n",
            "bestTest = 0.9981597609\n",
            "bestIteration = 108\n",
            "\n",
            "Shrink model to first 109 iterations.\n"
          ],
          "name": "stdout"
        },
        {
          "output_type": "execute_result",
          "data": {
            "text/plain": [
              "<catboost.core.CatBoostClassifier at 0x7effd9b24eb8>"
            ]
          },
          "metadata": {
            "tags": []
          },
          "execution_count": 43
        }
      ]
    },
    {
      "cell_type": "code",
      "metadata": {
        "id": "omjYEkb9pVMi",
        "colab": {
          "base_uri": "https://localhost:8080/",
          "height": 35
        },
        "outputId": "5ac7a85f-d94a-4e56-b118-24f6728e8eb2"
      },
      "source": [
        "save_obj(model, 'model_task_4_adv')"
      ],
      "execution_count": null,
      "outputs": [
        {
          "output_type": "execute_result",
          "data": {
            "application/vnd.google.colaboratory.intrinsic+json": {
              "type": "string"
            },
            "text/plain": [
              "'gdrive/My Drive/AI/GB/Kaggle/objects/model_task_4_adv.pkl'"
            ]
          },
          "metadata": {
            "tags": []
          },
          "execution_count": 44
        }
      ]
    },
    {
      "cell_type": "code",
      "metadata": {
        "id": "4144QyzVpa_i"
      },
      "source": [
        "proba = model.predict_proba(X)"
      ],
      "execution_count": null,
      "outputs": []
    },
    {
      "cell_type": "code",
      "metadata": {
        "id": "dCTEW01xpfWL",
        "colab": {
          "base_uri": "https://localhost:8080/"
        },
        "outputId": "e64f4c36-51a2-4e6e-bcc1-afbf472fa37a"
      },
      "source": [
        "(proba[:, 1] > 0.5).sum()/proba.shape[0]"
      ],
      "execution_count": null,
      "outputs": [
        {
          "output_type": "execute_result",
          "data": {
            "text/plain": [
              "0.5844333333333334"
            ]
          },
          "metadata": {
            "tags": []
          },
          "execution_count": 46
        }
      ]
    },
    {
      "cell_type": "markdown",
      "metadata": {
        "id": "Zga4fuR7JmBU"
      },
      "source": [
        "Подберем уровень отсечки чтобы отобрать 25% \"самых\" похожих на лидерборд"
      ]
    },
    {
      "cell_type": "code",
      "metadata": {
        "id": "R1U03hzVpjNF",
        "colab": {
          "base_uri": "https://localhost:8080/"
        },
        "outputId": "b9a9466d-46de-4d3b-9025-6a9ba3f8a209"
      },
      "source": [
        "th = 0.82\n",
        "(proba[:, 1] > th).sum()/proba.shape[0]"
      ],
      "execution_count": null,
      "outputs": [
        {
          "output_type": "execute_result",
          "data": {
            "text/plain": [
              "0.25875555555555557"
            ]
          },
          "metadata": {
            "tags": []
          },
          "execution_count": 47
        }
      ]
    },
    {
      "cell_type": "code",
      "metadata": {
        "id": "qPUfKe0cpl3w"
      },
      "source": [
        "to_train_ind = np.where(proba[:, 1] <= th)[0]\n",
        "to_test_ind = np.where(proba[:, 1] > th)[0]"
      ],
      "execution_count": null,
      "outputs": []
    },
    {
      "cell_type": "code",
      "metadata": {
        "id": "eQCbEPnmpoAW"
      },
      "source": [
        "X_train = X.loc[X.index.isin(to_train_ind)]\n",
        "y_train = y.loc[y.index.isin(X_train.index)]\n",
        "X_test = X.loc[X.index.isin(to_test_ind)]\n",
        "y_test = y.loc[y.index.isin(X_test.index)]"
      ],
      "execution_count": null,
      "outputs": []
    },
    {
      "cell_type": "code",
      "metadata": {
        "id": "ElVwjhBdpsN7",
        "colab": {
          "base_uri": "https://localhost:8080/"
        },
        "outputId": "6288c7f7-c8ec-4d3f-fa2c-3caead489954"
      },
      "source": [
        "print(f'X_train.shape = {X_train.shape}')\n",
        "print(f'y_train.shape = {y_train.shape}')\n",
        "print(f'X_test.shape = {X_test.shape}')\n",
        "print(f'y_test.shape = {y_test.shape}')"
      ],
      "execution_count": null,
      "outputs": [
        {
          "output_type": "stream",
          "text": [
            "X_train.shape = (133424, 392)\n",
            "y_train.shape = (133424,)\n",
            "X_test.shape = (46576, 392)\n",
            "y_test.shape = (46576,)\n"
          ],
          "name": "stdout"
        }
      ]
    },
    {
      "cell_type": "code",
      "metadata": {
        "id": "hXoMtcT8pvD1"
      },
      "source": [
        "train_pool = cb.Pool(X_train, y_train, cat_features=CATEGORICAL_FEATURES)\n",
        "valid_pool = cb.Pool(X_valid, y_valid, cat_features=CATEGORICAL_FEATURES)"
      ],
      "execution_count": null,
      "outputs": []
    },
    {
      "cell_type": "code",
      "metadata": {
        "id": "TXaDo_cipzVb",
        "colab": {
          "base_uri": "https://localhost:8080/"
        },
        "outputId": "f46d145f-f184-45e9-9da3-0321d9004bd8"
      },
      "source": [
        "model = cb.CatBoostClassifier(**cb_params)\n",
        "model.fit(train_pool, eval_set=[train_pool, valid_pool])"
      ],
      "execution_count": null,
      "outputs": [
        {
          "output_type": "stream",
          "text": [
            "0:\ttest: 0.7655423\ttest1: 0.7876907\tbest: 0.7876907 (0)\ttotal: 760ms\tremaining: 2h 6m 40s\n",
            "100:\ttest: 0.8665136\ttest1: 0.8809609\tbest: 0.8809609 (100)\ttotal: 59s\tremaining: 1h 36m 19s\n",
            "200:\ttest: 0.8827677\ttest1: 0.8944929\tbest: 0.8944929 (200)\ttotal: 1m 55s\tremaining: 1h 33m 56s\n",
            "300:\ttest: 0.8909067\ttest1: 0.9011871\tbest: 0.9011871 (300)\ttotal: 2m 50s\tremaining: 1h 31m 47s\n",
            "400:\ttest: 0.8986673\ttest1: 0.9074538\tbest: 0.9074538 (400)\ttotal: 3m 46s\tremaining: 1h 30m 30s\n",
            "500:\ttest: 0.9096786\ttest1: 0.9167436\tbest: 0.9167436 (500)\ttotal: 4m 44s\tremaining: 1h 29m 59s\n",
            "600:\ttest: 0.9187632\ttest1: 0.9243692\tbest: 0.9243692 (600)\ttotal: 5m 42s\tremaining: 1h 29m 22s\n",
            "700:\ttest: 0.9257627\ttest1: 0.9303281\tbest: 0.9303281 (700)\ttotal: 6m 42s\tremaining: 1h 29m 2s\n",
            "800:\ttest: 0.9316076\ttest1: 0.9351679\tbest: 0.9351679 (800)\ttotal: 7m 41s\tremaining: 1h 28m 25s\n",
            "900:\ttest: 0.9361129\ttest1: 0.9392100\tbest: 0.9392100 (900)\ttotal: 8m 39s\tremaining: 1h 27m 29s\n",
            "1000:\ttest: 0.9400540\ttest1: 0.9428313\tbest: 0.9428313 (1000)\ttotal: 9m 37s\tremaining: 1h 26m 30s\n",
            "1100:\ttest: 0.9430616\ttest1: 0.9458201\tbest: 0.9458201 (1100)\ttotal: 10m 34s\tremaining: 1h 25m 31s\n",
            "1200:\ttest: 0.9460710\ttest1: 0.9486730\tbest: 0.9486730 (1200)\ttotal: 11m 32s\tremaining: 1h 24m 33s\n",
            "1300:\ttest: 0.9485870\ttest1: 0.9510405\tbest: 0.9510405 (1300)\ttotal: 12m 29s\tremaining: 1h 23m 28s\n",
            "1400:\ttest: 0.9510321\ttest1: 0.9533202\tbest: 0.9533202 (1400)\ttotal: 13m 26s\tremaining: 1h 22m 28s\n",
            "1500:\ttest: 0.9529397\ttest1: 0.9550987\tbest: 0.9550987 (1500)\ttotal: 14m 22s\tremaining: 1h 21m 24s\n",
            "1600:\ttest: 0.9544095\ttest1: 0.9564100\tbest: 0.9564100 (1600)\ttotal: 15m 18s\tremaining: 1h 20m 17s\n",
            "1700:\ttest: 0.9557957\ttest1: 0.9576398\tbest: 0.9576398 (1700)\ttotal: 16m 12s\tremaining: 1h 19m 6s\n",
            "1800:\ttest: 0.9571913\ttest1: 0.9590290\tbest: 0.9590290 (1800)\ttotal: 17m 9s\tremaining: 1h 18m 8s\n",
            "1900:\ttest: 0.9586180\ttest1: 0.9605412\tbest: 0.9605412 (1900)\ttotal: 18m 6s\tremaining: 1h 17m 7s\n",
            "2000:\ttest: 0.9596987\ttest1: 0.9615811\tbest: 0.9615811 (2000)\ttotal: 19m\tremaining: 1h 16m\n",
            "2100:\ttest: 0.9606744\ttest1: 0.9624760\tbest: 0.9624766 (2098)\ttotal: 19m 56s\tremaining: 1h 14m 56s\n",
            "2200:\ttest: 0.9619015\ttest1: 0.9636963\tbest: 0.9636963 (2198)\ttotal: 20m 55s\tremaining: 1h 14m 7s\n",
            "2300:\ttest: 0.9629911\ttest1: 0.9647778\tbest: 0.9647778 (2300)\ttotal: 21m 51s\tremaining: 1h 13m 8s\n",
            "2400:\ttest: 0.9641688\ttest1: 0.9658510\tbest: 0.9658510 (2399)\ttotal: 22m 48s\tremaining: 1h 12m 12s\n",
            "2500:\ttest: 0.9650532\ttest1: 0.9667422\tbest: 0.9667447 (2499)\ttotal: 23m 44s\tremaining: 1h 11m 11s\n",
            "2600:\ttest: 0.9661391\ttest1: 0.9678561\tbest: 0.9678561 (2599)\ttotal: 24m 40s\tremaining: 1h 10m 12s\n",
            "2700:\ttest: 0.9670334\ttest1: 0.9688170\tbest: 0.9688170 (2700)\ttotal: 25m 37s\tremaining: 1h 9m 15s\n",
            "2800:\ttest: 0.9679056\ttest1: 0.9696562\tbest: 0.9696562 (2800)\ttotal: 26m 33s\tremaining: 1h 8m 15s\n",
            "2900:\ttest: 0.9687003\ttest1: 0.9704191\tbest: 0.9704245 (2899)\ttotal: 27m 29s\tremaining: 1h 7m 17s\n",
            "3000:\ttest: 0.9694999\ttest1: 0.9711373\tbest: 0.9711373 (3000)\ttotal: 28m 25s\tremaining: 1h 6m 17s\n",
            "3100:\ttest: 0.9702932\ttest1: 0.9718342\tbest: 0.9718342 (3100)\ttotal: 29m 21s\tremaining: 1h 5m 18s\n",
            "3200:\ttest: 0.9709595\ttest1: 0.9724393\tbest: 0.9724393 (3200)\ttotal: 30m 15s\tremaining: 1h 4m 16s\n",
            "3300:\ttest: 0.9716576\ttest1: 0.9731315\tbest: 0.9731315 (3299)\ttotal: 31m 11s\tremaining: 1h 3m 17s\n",
            "3400:\ttest: 0.9722326\ttest1: 0.9736063\tbest: 0.9736063 (3398)\ttotal: 32m 6s\tremaining: 1h 2m 17s\n",
            "3500:\ttest: 0.9728686\ttest1: 0.9741680\tbest: 0.9741680 (3500)\ttotal: 33m 3s\tremaining: 1h 1m 21s\n",
            "3600:\ttest: 0.9734618\ttest1: 0.9746918\tbest: 0.9746918 (3600)\ttotal: 33m 59s\tremaining: 1h 24s\n",
            "3700:\ttest: 0.9741707\ttest1: 0.9753439\tbest: 0.9753441 (3699)\ttotal: 34m 57s\tremaining: 59m 29s\n",
            "3800:\ttest: 0.9746277\ttest1: 0.9757275\tbest: 0.9757275 (3800)\ttotal: 35m 51s\tremaining: 58m 29s\n",
            "3900:\ttest: 0.9752598\ttest1: 0.9763039\tbest: 0.9763039 (3900)\ttotal: 36m 48s\tremaining: 57m 33s\n",
            "4000:\ttest: 0.9757634\ttest1: 0.9767445\tbest: 0.9767479 (3999)\ttotal: 37m 44s\tremaining: 56m 35s\n",
            "4100:\ttest: 0.9762341\ttest1: 0.9771251\tbest: 0.9771251 (4100)\ttotal: 38m 40s\tremaining: 55m 38s\n",
            "4200:\ttest: 0.9766191\ttest1: 0.9774815\tbest: 0.9774815 (4199)\ttotal: 39m 35s\tremaining: 54m 38s\n",
            "4300:\ttest: 0.9770826\ttest1: 0.9778801\tbest: 0.9778801 (4300)\ttotal: 40m 29s\tremaining: 53m 39s\n",
            "4400:\ttest: 0.9775438\ttest1: 0.9783203\tbest: 0.9783203 (4400)\ttotal: 41m 24s\tremaining: 52m 41s\n",
            "4500:\ttest: 0.9779022\ttest1: 0.9786287\tbest: 0.9786300 (4499)\ttotal: 42m 17s\tremaining: 51m 40s\n",
            "4600:\ttest: 0.9783043\ttest1: 0.9789733\tbest: 0.9789733 (4600)\ttotal: 43m 12s\tremaining: 50m 41s\n",
            "4700:\ttest: 0.9786702\ttest1: 0.9792661\tbest: 0.9792661 (4697)\ttotal: 44m 6s\tremaining: 49m 43s\n",
            "4800:\ttest: 0.9789903\ttest1: 0.9795089\tbest: 0.9795089 (4800)\ttotal: 45m\tremaining: 48m 44s\n",
            "4900:\ttest: 0.9794148\ttest1: 0.9798783\tbest: 0.9798783 (4900)\ttotal: 45m 55s\tremaining: 47m 47s\n",
            "5000:\ttest: 0.9797237\ttest1: 0.9801741\tbest: 0.9801741 (5000)\ttotal: 46m 49s\tremaining: 46m 48s\n",
            "5100:\ttest: 0.9800218\ttest1: 0.9804310\tbest: 0.9804310 (5100)\ttotal: 47m 44s\tremaining: 45m 50s\n",
            "5200:\ttest: 0.9804100\ttest1: 0.9808228\tbest: 0.9808228 (5199)\ttotal: 48m 38s\tremaining: 44m 53s\n",
            "5300:\ttest: 0.9807224\ttest1: 0.9810573\tbest: 0.9810573 (5300)\ttotal: 49m 34s\tremaining: 43m 56s\n",
            "5400:\ttest: 0.9809934\ttest1: 0.9812597\tbest: 0.9812597 (5400)\ttotal: 50m 29s\tremaining: 42m 59s\n",
            "5500:\ttest: 0.9813160\ttest1: 0.9815211\tbest: 0.9815212 (5494)\ttotal: 51m 25s\tremaining: 42m 3s\n",
            "5600:\ttest: 0.9816693\ttest1: 0.9818043\tbest: 0.9818062 (5598)\ttotal: 52m 20s\tremaining: 41m 6s\n",
            "5700:\ttest: 0.9819696\ttest1: 0.9820712\tbest: 0.9820712 (5700)\ttotal: 53m 15s\tremaining: 40m 9s\n",
            "5800:\ttest: 0.9822689\ttest1: 0.9823486\tbest: 0.9823486 (5795)\ttotal: 54m 10s\tremaining: 39m 12s\n",
            "5900:\ttest: 0.9826261\ttest1: 0.9826538\tbest: 0.9826538 (5899)\ttotal: 55m 5s\tremaining: 38m 15s\n",
            "6000:\ttest: 0.9828797\ttest1: 0.9828654\tbest: 0.9828654 (5999)\ttotal: 56m\tremaining: 37m 19s\n",
            "6100:\ttest: 0.9832062\ttest1: 0.9831249\tbest: 0.9831249 (6099)\ttotal: 56m 55s\tremaining: 36m 22s\n",
            "6200:\ttest: 0.9834548\ttest1: 0.9833583\tbest: 0.9833583 (6200)\ttotal: 57m 50s\tremaining: 35m 26s\n",
            "6300:\ttest: 0.9837207\ttest1: 0.9835661\tbest: 0.9835661 (6300)\ttotal: 58m 45s\tremaining: 34m 29s\n",
            "6400:\ttest: 0.9839506\ttest1: 0.9837669\tbest: 0.9837713 (6395)\ttotal: 59m 40s\tremaining: 33m 33s\n",
            "6500:\ttest: 0.9841551\ttest1: 0.9839605\tbest: 0.9839605 (6499)\ttotal: 1h 34s\tremaining: 32m 36s\n",
            "6600:\ttest: 0.9843412\ttest1: 0.9841420\tbest: 0.9841420 (6599)\ttotal: 1h 1m 27s\tremaining: 31m 38s\n",
            "6700:\ttest: 0.9845305\ttest1: 0.9842990\tbest: 0.9842990 (6700)\ttotal: 1h 2m 22s\tremaining: 30m 42s\n",
            "6800:\ttest: 0.9847529\ttest1: 0.9844718\tbest: 0.9844718 (6800)\ttotal: 1h 3m 16s\tremaining: 29m 45s\n",
            "6900:\ttest: 0.9848972\ttest1: 0.9845862\tbest: 0.9845862 (6898)\ttotal: 1h 4m 10s\tremaining: 28m 49s\n",
            "7000:\ttest: 0.9850627\ttest1: 0.9847550\tbest: 0.9847550 (6999)\ttotal: 1h 5m 6s\tremaining: 27m 53s\n",
            "7100:\ttest: 0.9852410\ttest1: 0.9848833\tbest: 0.9848833 (7100)\ttotal: 1h 6m 1s\tremaining: 26m 57s\n",
            "7200:\ttest: 0.9854463\ttest1: 0.9850475\tbest: 0.9850475 (7200)\ttotal: 1h 6m 55s\tremaining: 26m\n",
            "7300:\ttest: 0.9855992\ttest1: 0.9852046\tbest: 0.9852046 (7298)\ttotal: 1h 7m 49s\tremaining: 25m 4s\n",
            "7400:\ttest: 0.9857043\ttest1: 0.9853036\tbest: 0.9853036 (7400)\ttotal: 1h 8m 42s\tremaining: 24m 7s\n",
            "7500:\ttest: 0.9858576\ttest1: 0.9854293\tbest: 0.9854299 (7497)\ttotal: 1h 9m 35s\tremaining: 23m 11s\n",
            "7600:\ttest: 0.9859922\ttest1: 0.9855270\tbest: 0.9855270 (7599)\ttotal: 1h 10m 28s\tremaining: 22m 14s\n",
            "7700:\ttest: 0.9861488\ttest1: 0.9856646\tbest: 0.9856646 (7700)\ttotal: 1h 11m 21s\tremaining: 21m 18s\n",
            "7800:\ttest: 0.9862740\ttest1: 0.9857716\tbest: 0.9857716 (7800)\ttotal: 1h 12m 16s\tremaining: 20m 22s\n",
            "7900:\ttest: 0.9864155\ttest1: 0.9858996\tbest: 0.9858996 (7900)\ttotal: 1h 13m 10s\tremaining: 19m 26s\n",
            "8000:\ttest: 0.9865903\ttest1: 0.9860501\tbest: 0.9860505 (7993)\ttotal: 1h 14m 3s\tremaining: 18m 30s\n",
            "8100:\ttest: 0.9866897\ttest1: 0.9861404\tbest: 0.9861412 (8094)\ttotal: 1h 14m 57s\tremaining: 17m 34s\n",
            "8200:\ttest: 0.9867979\ttest1: 0.9862416\tbest: 0.9862416 (8200)\ttotal: 1h 15m 50s\tremaining: 16m 38s\n",
            "8300:\ttest: 0.9869044\ttest1: 0.9863380\tbest: 0.9863380 (8300)\ttotal: 1h 16m 43s\tremaining: 15m 42s\n",
            "8400:\ttest: 0.9869994\ttest1: 0.9864160\tbest: 0.9864160 (8400)\ttotal: 1h 17m 36s\tremaining: 14m 46s\n",
            "8500:\ttest: 0.9870801\ttest1: 0.9864786\tbest: 0.9864787 (8492)\ttotal: 1h 18m 30s\tremaining: 13m 50s\n",
            "8600:\ttest: 0.9872160\ttest1: 0.9866154\tbest: 0.9866154 (8600)\ttotal: 1h 19m 23s\tremaining: 12m 54s\n",
            "8700:\ttest: 0.9873555\ttest1: 0.9867529\tbest: 0.9867529 (8700)\ttotal: 1h 20m 16s\tremaining: 11m 59s\n",
            "8800:\ttest: 0.9874434\ttest1: 0.9868384\tbest: 0.9868384 (8797)\ttotal: 1h 21m 8s\tremaining: 11m 3s\n",
            "8900:\ttest: 0.9875378\ttest1: 0.9869132\tbest: 0.9869132 (8900)\ttotal: 1h 22m 1s\tremaining: 10m 7s\n",
            "9000:\ttest: 0.9876345\ttest1: 0.9870048\tbest: 0.9870048 (8999)\ttotal: 1h 22m 53s\tremaining: 9m 12s\n",
            "9100:\ttest: 0.9877733\ttest1: 0.9871228\tbest: 0.9871248 (9093)\ttotal: 1h 23m 46s\tremaining: 8m 16s\n",
            "9200:\ttest: 0.9878482\ttest1: 0.9871795\tbest: 0.9871807 (9193)\ttotal: 1h 24m 38s\tremaining: 7m 20s\n",
            "9300:\ttest: 0.9879267\ttest1: 0.9872525\tbest: 0.9872525 (9298)\ttotal: 1h 25m 31s\tremaining: 6m 25s\n",
            "9400:\ttest: 0.9879783\ttest1: 0.9873018\tbest: 0.9873018 (9396)\ttotal: 1h 26m 22s\tremaining: 5m 30s\n",
            "9500:\ttest: 0.9880798\ttest1: 0.9873877\tbest: 0.9873877 (9499)\ttotal: 1h 27m 15s\tremaining: 4m 34s\n",
            "9600:\ttest: 0.9881444\ttest1: 0.9874524\tbest: 0.9874524 (9599)\ttotal: 1h 28m 8s\tremaining: 3m 39s\n",
            "9700:\ttest: 0.9882182\ttest1: 0.9875289\tbest: 0.9875289 (9700)\ttotal: 1h 29m\tremaining: 2m 44s\n",
            "9800:\ttest: 0.9883416\ttest1: 0.9876365\tbest: 0.9876365 (9800)\ttotal: 1h 29m 52s\tremaining: 1m 49s\n",
            "9900:\ttest: 0.9884578\ttest1: 0.9877471\tbest: 0.9877471 (9896)\ttotal: 1h 30m 43s\tremaining: 54.4s\n",
            "9999:\ttest: 0.9885510\ttest1: 0.9878225\tbest: 0.9878241 (9997)\ttotal: 1h 31m 34s\tremaining: 0us\n",
            "\n",
            "bestTest = 0.9878241383\n",
            "bestIteration = 9997\n",
            "\n",
            "Shrink model to first 9998 iterations.\n"
          ],
          "name": "stdout"
        },
        {
          "output_type": "execute_result",
          "data": {
            "text/plain": [
              "<catboost.core.CatBoostClassifier at 0x7effd94437f0>"
            ]
          },
          "metadata": {
            "tags": []
          },
          "execution_count": 56
        }
      ]
    },
    {
      "cell_type": "code",
      "metadata": {
        "id": "eyYYAsJDp5M6",
        "colab": {
          "base_uri": "https://localhost:8080/",
          "height": 35
        },
        "outputId": "22cee98d-fe0e-4dae-e677-d816832cfe45"
      },
      "source": [
        "save_obj(model, 'model_task_4')"
      ],
      "execution_count": null,
      "outputs": [
        {
          "output_type": "execute_result",
          "data": {
            "application/vnd.google.colaboratory.intrinsic+json": {
              "type": "string"
            },
            "text/plain": [
              "'gdrive/My Drive/AI/GB/Kaggle/objects/model_task_4.pkl'"
            ]
          },
          "metadata": {
            "tags": []
          },
          "execution_count": 57
        }
      ]
    },
    {
      "cell_type": "code",
      "metadata": {
        "id": "fTKAG_KWp8Eg",
        "colab": {
          "base_uri": "https://localhost:8080/"
        },
        "outputId": "21d84a4d-d058-4e0d-e6de-0491e74fb013"
      },
      "source": [
        "train_score = roc_auc_score(y_train, model.predict_proba(X_train)[:, 1])\n",
        "test_score = roc_auc_score(y_test, model.predict_proba(X_test)[:, 1])\n",
        "lb_score = roc_auc_score(y_lb, model.predict_proba(X_lb)[:, 1])\n",
        "\n",
        "print(f\"Train-score: {round(train_score, 3)}, Test-score: {round(test_score, 3)} LB-score: {round(lb_score, 3)}\")"
      ],
      "execution_count": null,
      "outputs": [
        {
          "output_type": "stream",
          "text": [
            "Train-score: 0.989, Test-score: 0.919 LB-score: 0.838\n"
          ],
          "name": "stdout"
        }
      ]
    },
    {
      "cell_type": "markdown",
      "metadata": {
        "id": "BS9mNq9FLuY_"
      },
      "source": [
        "### Вывод\n",
        "Модель училась гораздо дольше и все-равно остановилась не по критерию останова. При этом метрика качества на обучающей и валидационной выборках существенно выше, чем в предыдущих вариантах.     \n",
        "Удивительно, но в процессе обучения результаты на тесте были не только гораздо ближе к трейну, чем в предыдущих вариантах, но практически постоянно превышали их.\n",
        "К сожалению, результат на ЛидерБорде ниже (!) чем в первом задании.    \n"
      ]
    },
    {
      "cell_type": "markdown",
      "metadata": {
        "id": "3aGvsoiuLlfq"
      },
      "source": [
        "# Задание 5:\n",
        " сделать KFold / StratifiedKFold валидацию (на ваше усмотрение), оценить получаемые качество и разброс по метрике качества. Сделать выводы об устойчивости кросс-валидации, сходимости оценки на кросс-валидации и отложенном наборе данных; Оценить качество на ЛБ, сделать выводы."
      ]
    },
    {
      "cell_type": "markdown",
      "metadata": {
        "id": "bCsOmduLMOIU"
      },
      "source": [
        "Доработаем функцию из лекции, чтобы она работала с catboost"
      ]
    },
    {
      "cell_type": "code",
      "metadata": {
        "id": "JRK8MqmIqJXw"
      },
      "source": [
        "def make_cross_validation(X: pd.DataFrame,\n",
        "                          y: pd.Series,\n",
        "                          estimator: object,\n",
        "                          metric: callable,\n",
        "                          cv_strategy):\n",
        "    \"\"\"\n",
        "    Кросс-валидация.\n",
        "\n",
        "    Parameters\n",
        "    ----------\n",
        "    X: pd.DataFrame\n",
        "        Матрица признаков.\n",
        "\n",
        "    y: pd.Series\n",
        "        Вектор целевой переменной.\n",
        "\n",
        "    estimator: callable\n",
        "        Объект модели для обучения.\n",
        "\n",
        "    metric: callable\n",
        "        Метрика для оценки качества решения.\n",
        "        Ожидается, что на вход будет передана функция,\n",
        "        которая принимает 2 аргумента: y_true, y_pred.\n",
        "\n",
        "    cv_strategy: cross-validation generator\n",
        "        Объект для описания стратегии кросс-валидации.\n",
        "        Ожидается, что на вход будет передан объект типа\n",
        "        KFold или StratifiedKFold.\n",
        "\n",
        "    Returns\n",
        "    -------\n",
        "    oof_score: float\n",
        "        Значение метрики качества на OOF-прогнозах.\n",
        "\n",
        "    fold_train_scores: List[float]\n",
        "        Значение метрики качества на каждом обучающем датасете кросс-валидации.\n",
        "\n",
        "    fold_valid_scores: List[float]\n",
        "        Значение метрики качества на каждом валидационном датасете кросс-валидации.\n",
        "\n",
        "    oof_predictions: np.array\n",
        "        Прогнозы на OOF.\n",
        "\n",
        "    \"\"\"\n",
        "    estimators, fold_train_scores, fold_valid_scores = [], [], []\n",
        "    oof_predictions = np.zeros(X.shape[0])\n",
        "\n",
        "    for fold_number, (train_idx, valid_idx) in enumerate(cv_strategy.split(X, y)):\n",
        "        X_train, X_valid = X.loc[train_idx], X.loc[valid_idx]\n",
        "        y_train, y_valid = y.loc[train_idx], y.loc[valid_idx]\n",
        "\n",
        "        train_pool = cb.Pool(X_train, y_train, cat_features=CATEGORICAL_FEATURES)\n",
        "        valid_pool = cb.Pool(X_valid, y_valid, cat_features=CATEGORICAL_FEATURES)\n",
        "        estimator.fit(train_pool, eval_set=[train_pool, valid_pool])\n",
        "\n",
        "        y_train_pred = estimator.predict(X_train)\n",
        "        y_valid_pred = estimator.predict(X_valid)\n",
        "\n",
        "        fold_train_scores.append(metric(y_train, y_train_pred))\n",
        "        fold_valid_scores.append(metric(y_valid, y_valid_pred))\n",
        "        oof_predictions[valid_idx] = y_valid_pred\n",
        "\n",
        "        msg = (\n",
        "            f\"Fold: {fold_number+1}, train-observations = {len(train_idx)}, \"\n",
        "            f\"valid-observations = {len(valid_idx)}\\n\"\n",
        "            f\"train-score = {round(fold_train_scores[fold_number], 4)}, \"\n",
        "            f\"valid-score = {round(fold_valid_scores[fold_number], 4)}\" \n",
        "        )\n",
        "        print(msg)\n",
        "        print(\"=\"*69)\n",
        "        estimators.append(estimator)\n",
        "        save_obj(estimators, 'estimators_task_5')\n",
        "\n",
        "    oof_score = metric(y, oof_predictions)\n",
        "    print(f\"CV-results train: {round(np.mean(fold_train_scores), 4)} +/- {round(np.std(fold_train_scores), 3)}\")\n",
        "    print(f\"CV-results valid: {round(np.mean(fold_valid_scores), 4)} +/- {round(np.std(fold_valid_scores), 3)}\")\n",
        "    print(f\"OOF-score = {round(oof_score, 4)}\")\n",
        "\n",
        "    return estimators, oof_score, fold_train_scores, fold_valid_scores, oof_predictions"
      ],
      "execution_count": null,
      "outputs": []
    },
    {
      "cell_type": "code",
      "metadata": {
        "id": "gYOSNcpMqMWP"
      },
      "source": [
        "cb_params_3 = cb_params.copy()\n",
        "cb_params_3['silent'] = True\n",
        "cb_params_3['verbose'] = None\n",
        "model = cb.CatBoostClassifier(**cb_params_3)"
      ],
      "execution_count": null,
      "outputs": []
    },
    {
      "cell_type": "code",
      "metadata": {
        "id": "0lz0rtQDqObB"
      },
      "source": [
        "cv_strategy = StratifiedKFold(n_splits=5)"
      ],
      "execution_count": null,
      "outputs": []
    },
    {
      "cell_type": "code",
      "metadata": {
        "id": "3W99fHzTqRjQ",
        "colab": {
          "base_uri": "https://localhost:8080/"
        },
        "outputId": "75c976a7-c6cf-44e7-e431-6c9de45d91b4"
      },
      "source": [
        "estimators, oof_score, fold_train_scores, fold_valid_scores, oof_predictions = \\\n",
        "    make_cross_validation(X, y, model, metric=roc_auc_score, cv_strategy=cv_strategy)"
      ],
      "execution_count": null,
      "outputs": [
        {
          "output_type": "stream",
          "text": [
            "Fold: 1, train-observations = 144000, valid-observations = 36000\n",
            "train-score = 0.8863, valid-score = 0.8078\n",
            "=====================================================================\n",
            "Fold: 2, train-observations = 144000, valid-observations = 36000\n",
            "train-score = 0.8922, valid-score = 0.8306\n",
            "=====================================================================\n",
            "Fold: 3, train-observations = 144000, valid-observations = 36000\n",
            "train-score = 0.7874, valid-score = 0.7741\n",
            "=====================================================================\n",
            "Fold: 4, train-observations = 144000, valid-observations = 36000\n",
            "train-score = 0.7838, valid-score = 0.7891\n",
            "=====================================================================\n",
            "Fold: 5, train-observations = 144000, valid-observations = 36000\n",
            "train-score = 0.9003, valid-score = 0.7966\n",
            "=====================================================================\n",
            "CV-results train: 0.85 +/- 0.053\n",
            "CV-results valid: 0.7996 +/- 0.019\n",
            "OOF-score = 0.7996\n"
          ],
          "name": "stdout"
        }
      ]
    },
    {
      "cell_type": "code",
      "metadata": {
        "id": "e8P02OtVqT-I",
        "colab": {
          "base_uri": "https://localhost:8080/",
          "height": 35
        },
        "outputId": "0680ee86-6cd7-4e99-e01f-0bcde0f01616"
      },
      "source": [
        "save_obj(estimators, 'estimators_task_5')"
      ],
      "execution_count": null,
      "outputs": [
        {
          "output_type": "execute_result",
          "data": {
            "application/vnd.google.colaboratory.intrinsic+json": {
              "type": "string"
            },
            "text/plain": [
              "'gdrive/My Drive/AI/GB/Kaggle/objects/estimators_task_5.pkl'"
            ]
          },
          "metadata": {
            "tags": []
          },
          "execution_count": 77
        }
      ]
    },
    {
      "cell_type": "code",
      "metadata": {
        "id": "BqQFbYxDOKQI",
        "colab": {
          "base_uri": "https://localhost:8080/"
        },
        "outputId": "590f78f5-df26-41a4-c8f6-976475dd9892"
      },
      "source": [
        "proba = np.zeros((len(estimators), X_lb.shape[0]))\n",
        "for i, est in enumerate(estimators):\n",
        "  proba[i, :] = est.predict_proba(X_lb)[:, 1]\n",
        "proba_lb = np.mean(proba, axis = 0)\n",
        "proba_lb\n",
        " "
      ],
      "execution_count": null,
      "outputs": [
        {
          "output_type": "execute_result",
          "data": {
            "text/plain": [
              "array([0.93457839, 0.24743438, 0.40196993, ..., 0.60295161, 0.8435361 ,\n",
              "       0.24872083])"
            ]
          },
          "metadata": {
            "tags": []
          },
          "execution_count": 86
        }
      ]
    },
    {
      "cell_type": "code",
      "metadata": {
        "id": "fHAKeuDw2Ix6"
      },
      "source": [
        "y_pred = (proba_lb > 0.5) "
      ],
      "execution_count": null,
      "outputs": []
    },
    {
      "cell_type": "code",
      "metadata": {
        "id": "I_Wdbsrj2jhc",
        "colab": {
          "base_uri": "https://localhost:8080/"
        },
        "outputId": "38a4ac8f-b0a8-42f6-ef23-d5d2e97f22e9"
      },
      "source": [
        "lb_score = roc_auc_score(y_lb, y_pred)\n",
        "print(f'LB score = {round(lb_score, 3)}')"
      ],
      "execution_count": null,
      "outputs": [
        {
          "output_type": "stream",
          "text": [
            "LB score = 0.768\n"
          ],
          "name": "stdout"
        }
      ]
    },
    {
      "cell_type": "markdown",
      "metadata": {
        "id": "Ot8K1-5l28Ks"
      },
      "source": [
        "Результаты на валидационном наборе данных (минус одна сигма от среднего) находятся за пределами 1-й сигмы тренировочного набора.      \n",
        "Результат на Лидерборде находится за пределами того и другого."
      ]
    },
    {
      "cell_type": "code",
      "metadata": {
        "id": "1hVDgN78BPQK"
      },
      "source": [
        ""
      ],
      "execution_count": null,
      "outputs": []
    }
  ]
}