{
  "nbformat": 4,
  "nbformat_minor": 0,
  "metadata": {
    "colab": {
      "name": "HW_7",
      "provenance": [],
      "collapsed_sections": [
        "HNk0MJ9BgKi2",
        "g7KGs-dBZJeY",
        "3aGvsoiuLlfq",
        "AMgwZrIn6YJG",
        "GjYrbGKR6j_a",
        "0NI3ag0n6zZP",
        "OYwbNPOkEBJl",
        "xEeFnmzBVgLR",
        "r3P_oJTZYP2i",
        "QK5naEdYYVQp",
        "TgBzLQu6YAcc",
        "uapRgXuZYePC",
        "RnH8kKkaYgV9",
        "W8eqo4WMYtUK",
        "wc47dA2kYxwG",
        "HgKVABZLqXFr",
        "_A9lB2qOe1E1",
        "_cP5kCkCGq8m",
        "E1aEfjl8G1T3",
        "rHuxhqkHmvgW",
        "1VjyTsDItH1C",
        "Y28b8hdPtTWu",
        "JI86PvTS5F7h",
        "dB5ntkq64PtQ",
        "5PKlzH3t6J_Q"
      ],
      "include_colab_link": true
    },
    "kernelspec": {
      "name": "python3",
      "display_name": "Python 3"
    }
  },
  "cells": [
    {
      "cell_type": "markdown",
      "metadata": {
        "id": "view-in-github",
        "colab_type": "text"
      },
      "source": [
        "<a href=\"https://colab.research.google.com/github/VKSi/2020_12_DataCompetitions_Course/blob/main/HW_7_ModelsTuning.ipynb\" target=\"_parent\"><img src=\"https://colab.research.google.com/assets/colab-badge.svg\" alt=\"Open In Colab\"/></a>"
      ]
    },
    {
      "cell_type": "markdown",
      "metadata": {
        "id": "eJ4aFIz7LCtS"
      },
      "source": [
        "# Урок 7. Тюнинг гиперпараметров, построение ансамблей алгоритмов."
      ]
    },
    {
      "cell_type": "markdown",
      "metadata": {
        "id": "0LiiOrIYHPWN"
      },
      "source": [
        "Чтобы было больше времени на выполнение курсовой работы, задание выполнить на наборе данных для соревнования:\n",
        "\n",
        "Тестовая выборка - это выборка для применения модели и загрузки на ЛБ.\n",
        "\n",
        "1. Обучить алгоритмы LightGBM и XGBoost, получить OOF прогнозы, оценить корреляцию прогнозов на обучающей выборке. Применить модели на тестовую выборку и оценить корреляцию.     \n",
        "2. Усреднить прогнозы с помощью арифмитического среднего, геометрического среднего и усреднить ранги, сделать выводы о качестве отдельных моделей и о качестве комбинации.     \n",
        "3. Обучить CatBoost, получить OOF прогнозы и выполнить задание 1 для трех моделей.     \n",
        "4. Выполнить задание 2 для трех моделей.     \n",
        "5. (опция) Объединить OOF-прогнозы для трех моделей и обучить алгоритм Логистической регрессии (и любой другой, на ваше усмотрение). Сделать выводы о достигаемом качестве, сравнить достигаемое качество с качеством отдельных моделей и моделей, полученных в п.2 и п.4.     \n",
        "6. (опция) Обучить алгоритмRandomForest (желательно подтюнить параметры) и добавить к построенным ранее моделям. Выполнить задание 5."
      ]
    },
    {
      "cell_type": "markdown",
      "metadata": {
        "id": "KeZgNDIQkFaU"
      },
      "source": [
        "# Общая (подготовительная) часть"
      ]
    },
    {
      "cell_type": "markdown",
      "metadata": {
        "id": "8nB6p33BYB3z"
      },
      "source": [
        "## Загрузка данных"
      ]
    },
    {
      "cell_type": "code",
      "metadata": {
        "id": "A53RsCfOjoQN",
        "colab": {
          "base_uri": "https://localhost:8080/"
        },
        "outputId": "b5459569-da3b-46b2-e2c4-68279e062227"
      },
      "source": [
        "!pip install catboost"
      ],
      "execution_count": null,
      "outputs": [
        {
          "output_type": "stream",
          "text": [
            "Collecting catboost\n",
            "\u001b[?25l  Downloading https://files.pythonhosted.org/packages/7e/c1/c1c4707013f9e2f8a96899dd3a87f66c9167d6d776a6dc8fe7ec8678d446/catboost-0.24.3-cp36-none-manylinux1_x86_64.whl (66.3MB)\n",
            "\u001b[K     |████████████████████████████████| 66.3MB 57kB/s \n",
            "\u001b[?25hRequirement already satisfied: matplotlib in /usr/local/lib/python3.6/dist-packages (from catboost) (3.2.2)\n",
            "Requirement already satisfied: six in /usr/local/lib/python3.6/dist-packages (from catboost) (1.15.0)\n",
            "Requirement already satisfied: scipy in /usr/local/lib/python3.6/dist-packages (from catboost) (1.4.1)\n",
            "Requirement already satisfied: graphviz in /usr/local/lib/python3.6/dist-packages (from catboost) (0.10.1)\n",
            "Requirement already satisfied: plotly in /usr/local/lib/python3.6/dist-packages (from catboost) (4.4.1)\n",
            "Requirement already satisfied: pandas>=0.24.0 in /usr/local/lib/python3.6/dist-packages (from catboost) (1.1.5)\n",
            "Requirement already satisfied: numpy>=1.16.0 in /usr/local/lib/python3.6/dist-packages (from catboost) (1.18.5)\n",
            "Requirement already satisfied: python-dateutil>=2.1 in /usr/local/lib/python3.6/dist-packages (from matplotlib->catboost) (2.8.1)\n",
            "Requirement already satisfied: cycler>=0.10 in /usr/local/lib/python3.6/dist-packages (from matplotlib->catboost) (0.10.0)\n",
            "Requirement already satisfied: pyparsing!=2.0.4,!=2.1.2,!=2.1.6,>=2.0.1 in /usr/local/lib/python3.6/dist-packages (from matplotlib->catboost) (2.4.7)\n",
            "Requirement already satisfied: kiwisolver>=1.0.1 in /usr/local/lib/python3.6/dist-packages (from matplotlib->catboost) (1.3.1)\n",
            "Requirement already satisfied: retrying>=1.3.3 in /usr/local/lib/python3.6/dist-packages (from plotly->catboost) (1.3.3)\n",
            "Requirement already satisfied: pytz>=2017.2 in /usr/local/lib/python3.6/dist-packages (from pandas>=0.24.0->catboost) (2018.9)\n",
            "Installing collected packages: catboost\n",
            "Successfully installed catboost-0.24.3\n"
          ],
          "name": "stdout"
        }
      ]
    },
    {
      "cell_type": "code",
      "metadata": {
        "id": "1lmPHhsmUDFQ"
      },
      "source": [
        "# !pip install lightgbm"
      ],
      "execution_count": null,
      "outputs": []
    },
    {
      "cell_type": "code",
      "metadata": {
        "id": "qe2mruOjUgSW"
      },
      "source": [
        "# !pip install xgboost"
      ],
      "execution_count": null,
      "outputs": []
    },
    {
      "cell_type": "code",
      "metadata": {
        "id": "EmGCSBaOH_uS"
      },
      "source": [
        "import time\n",
        "import matplotlib.pyplot as plt\n",
        "import numpy as np\n",
        "import pandas as pd\n",
        "import seaborn as sns\n",
        "from google.colab import files, drive\n",
        "import pickle\n",
        "from sklearn.model_selection import KFold, StratifiedKFold, train_test_split, cross_val_score\n",
        "from sklearn.metrics import roc_auc_score\n",
        "from typing import List, Tuple\n",
        "import catboost as cb\n",
        "import xgboost as xgb\n",
        "import lightgbm as lgb"
      ],
      "execution_count": null,
      "outputs": []
    },
    {
      "cell_type": "code",
      "metadata": {
        "id": "bYNuwmRZdQoW",
        "colab": {
          "base_uri": "https://localhost:8080/"
        },
        "outputId": "2d5ddf94-5c5e-4a14-c136-456b3fffc36c"
      },
      "source": [
        "drive.mount('/content/gdrive', force_remount=True)"
      ],
      "execution_count": null,
      "outputs": [
        {
          "output_type": "stream",
          "text": [
            "Mounted at /content/gdrive\n"
          ],
          "name": "stdout"
        }
      ]
    },
    {
      "cell_type": "code",
      "metadata": {
        "id": "t6lT50xLxCMK"
      },
      "source": [
        "PATH = 'gdrive/My Drive/AI/GB/Kaggle/geekbrains-competitive-data-analysis/'\n",
        "object_path = PATH + 'objects/'"
      ],
      "execution_count": null,
      "outputs": []
    },
    {
      "cell_type": "code",
      "metadata": {
        "id": "WSExDrwGxOut"
      },
      "source": [
        "def save_obj(obj, name: str):\n",
        "    path = object_path + name + '.pkl'\n",
        "    with open(path, 'wb') as f:\n",
        "        pickle.dump(obj, f, pickle.HIGHEST_PROTOCOL)\n",
        "    return path\n",
        "\n",
        "\n",
        "def load_obj(name: str):\n",
        "    with open(object_path + name + '.pkl', 'rb') as f:\n",
        "        return pickle.load(f)"
      ],
      "execution_count": null,
      "outputs": []
    },
    {
      "cell_type": "code",
      "metadata": {
        "id": "awXeCZvihjs1"
      },
      "source": [
        "train = pd.read_csv(PATH + 'train.csv')\n",
        "test = pd.read_csv(PATH + 'test.csv')\n",
        "data = pd.read_csv(object_path + \"data_bl.csv\", index_col=0)  # Модель данных из baseline\n",
        "cp = pd.read_csv(PATH + \"client_profile.csv\", index_col=0)  # Сырые данные ок лиентах "
      ],
      "execution_count": null,
      "outputs": []
    },
    {
      "cell_type": "code",
      "metadata": {
        "id": "3LDMZNWIhnLp",
        "colab": {
          "base_uri": "https://localhost:8080/"
        },
        "outputId": "b849dfee-5082-40c4-8898-f09f0e890b10"
      },
      "source": [
        "print(\"data.shape = {} rows, {} cols\".format(*data.shape))"
      ],
      "execution_count": null,
      "outputs": [
        {
          "output_type": "stream",
          "text": [
            "data.shape = 275234 rows, 54 cols\n"
          ],
          "name": "stdout"
        }
      ]
    },
    {
      "cell_type": "code",
      "metadata": {
        "id": "1qb92ZWSEamE"
      },
      "source": [
        "train.columns = [col.lower() for col in train.columns]\n",
        "test.columns = [col.lower() for col in test.columns]"
      ],
      "execution_count": null,
      "outputs": []
    },
    {
      "cell_type": "code",
      "metadata": {
        "id": "RigYHQLZ_8Gy"
      },
      "source": [
        "data.drop(columns=['target'], inplace=True)\n",
        "data.drop(columns=['name_contract_type'], inplace=True)\n",
        "if 'Unnamed: 0' in data.columns:\n",
        "  data.drop('Unnamed: 0', axis='columns', inplace=True)"
      ],
      "execution_count": null,
      "outputs": []
    },
    {
      "cell_type": "code",
      "metadata": {
        "id": "HY6Cu72T1MLg"
      },
      "source": [
        "AN = 'application_number'\n",
        "ID ='application_number'\n",
        "TARGET = 'target'"
      ],
      "execution_count": null,
      "outputs": []
    },
    {
      "cell_type": "code",
      "metadata": {
        "colab": {
          "base_uri": "https://localhost:8080/",
          "height": 160
        },
        "id": "lmvYpnvyp9tG",
        "outputId": "ba685116-7e41-41af-eb7f-d8bb0d4be30f"
      },
      "source": [
        "data.tail(2)"
      ],
      "execution_count": null,
      "outputs": [
        {
          "output_type": "execute_result",
          "data": {
            "text/html": [
              "<div>\n",
              "<style scoped>\n",
              "    .dataframe tbody tr th:only-of-type {\n",
              "        vertical-align: middle;\n",
              "    }\n",
              "\n",
              "    .dataframe tbody tr th {\n",
              "        vertical-align: top;\n",
              "    }\n",
              "\n",
              "    .dataframe thead th {\n",
              "        text-align: right;\n",
              "    }\n",
              "</style>\n",
              "<table border=\"1\" class=\"dataframe\">\n",
              "  <thead>\n",
              "    <tr style=\"text-align: right;\">\n",
              "      <th></th>\n",
              "      <th>application_number</th>\n",
              "      <th>gender</th>\n",
              "      <th>childrens</th>\n",
              "      <th>total_salary</th>\n",
              "      <th>amount_credit</th>\n",
              "      <th>amount_annuity</th>\n",
              "      <th>education_level</th>\n",
              "      <th>family_status</th>\n",
              "      <th>region_population</th>\n",
              "      <th>age</th>\n",
              "      <th>days_on_last_job</th>\n",
              "      <th>own_car_age</th>\n",
              "      <th>flag_phone</th>\n",
              "      <th>flag_email</th>\n",
              "      <th>family_size</th>\n",
              "      <th>external_scoring_rating_1</th>\n",
              "      <th>external_scoring_rating_2</th>\n",
              "      <th>external_scoring_rating_3</th>\n",
              "      <th>amt_req_credit_bureau_hour</th>\n",
              "      <th>amt_req_credit_bureau_day</th>\n",
              "      <th>amt_req_credit_bureau_week</th>\n",
              "      <th>amt_req_credit_bureau_mon</th>\n",
              "      <th>amt_req_credit_bureau_qrt</th>\n",
              "      <th>amt_req_credit_bureau_year</th>\n",
              "      <th>bki_requests_count</th>\n",
              "      <th>bki_kurtosis</th>\n",
              "      <th>external_scoring_prod</th>\n",
              "      <th>external_scoring_weighted</th>\n",
              "      <th>external_scoring_rating_min</th>\n",
              "      <th>external_scoring_rating_max</th>\n",
              "      <th>external_scoring_rating_mean</th>\n",
              "      <th>external_scoring_rating_nanmedian</th>\n",
              "      <th>external_scoring_rating_var</th>\n",
              "      <th>ratio_credit_to_annuity</th>\n",
              "      <th>ratio_annuity_to_salary</th>\n",
              "      <th>ratio_credit_to_salary</th>\n",
              "      <th>ratio_annuity_to_age</th>\n",
              "      <th>ratio_credit_to_age</th>\n",
              "      <th>ratio_salary_to_age</th>\n",
              "      <th>ratio_salary_to_experience</th>\n",
              "      <th>ratio_credit_to_experience</th>\n",
              "      <th>ratio_annuity_to_experience</th>\n",
              "      <th>ratio_age_to_experience</th>\n",
              "      <th>ratio_salary_to_region_population</th>\n",
              "      <th>ratio_car_to_experience</th>\n",
              "      <th>ratio_car_to_age</th>\n",
              "      <th>expected_total_loss_1</th>\n",
              "      <th>expected_total_loss_2</th>\n",
              "      <th>expected_total_loss_3</th>\n",
              "      <th>expected_monthly_loss_1</th>\n",
              "      <th>expected_monthly_loss_2</th>\n",
              "      <th>expected_monthly_loss_3</th>\n",
              "    </tr>\n",
              "  </thead>\n",
              "  <tbody>\n",
              "    <tr>\n",
              "      <th>275232</th>\n",
              "      <td>123631557</td>\n",
              "      <td>F</td>\n",
              "      <td>0.0</td>\n",
              "      <td>112500.0</td>\n",
              "      <td>350181.0</td>\n",
              "      <td>36769.5</td>\n",
              "      <td>Secondary / secondary special</td>\n",
              "      <td>Married</td>\n",
              "      <td>0.030755</td>\n",
              "      <td>20551.0</td>\n",
              "      <td>NaN</td>\n",
              "      <td>NaN</td>\n",
              "      <td>0.0</td>\n",
              "      <td>1.0</td>\n",
              "      <td>2.0</td>\n",
              "      <td>NaN</td>\n",
              "      <td>0.761376</td>\n",
              "      <td>NaN</td>\n",
              "      <td>NaN</td>\n",
              "      <td>NaN</td>\n",
              "      <td>NaN</td>\n",
              "      <td>NaN</td>\n",
              "      <td>NaN</td>\n",
              "      <td>NaN</td>\n",
              "      <td>0.0</td>\n",
              "      <td>NaN</td>\n",
              "      <td>NaN</td>\n",
              "      <td>NaN</td>\n",
              "      <td>0.761376</td>\n",
              "      <td>0.761376</td>\n",
              "      <td>0.761376</td>\n",
              "      <td>0.761376</td>\n",
              "      <td>0.000000</td>\n",
              "      <td>9.523681</td>\n",
              "      <td>0.326840</td>\n",
              "      <td>3.112720</td>\n",
              "      <td>1.789183</td>\n",
              "      <td>17.039609</td>\n",
              "      <td>5.474186</td>\n",
              "      <td>NaN</td>\n",
              "      <td>NaN</td>\n",
              "      <td>NaN</td>\n",
              "      <td>NaN</td>\n",
              "      <td>3459.9375</td>\n",
              "      <td>NaN</td>\n",
              "      <td>NaN</td>\n",
              "      <td>NaN</td>\n",
              "      <td>266619.257702</td>\n",
              "      <td>NaN</td>\n",
              "      <td>NaN</td>\n",
              "      <td>27995.398940</td>\n",
              "      <td>NaN</td>\n",
              "    </tr>\n",
              "    <tr>\n",
              "      <th>275233</th>\n",
              "      <td>123433260</td>\n",
              "      <td>M</td>\n",
              "      <td>0.0</td>\n",
              "      <td>247500.0</td>\n",
              "      <td>1241437.5</td>\n",
              "      <td>36427.5</td>\n",
              "      <td>Secondary / secondary special</td>\n",
              "      <td>Married</td>\n",
              "      <td>0.018029</td>\n",
              "      <td>18853.0</td>\n",
              "      <td>6543.0</td>\n",
              "      <td>15.0</td>\n",
              "      <td>0.0</td>\n",
              "      <td>0.0</td>\n",
              "      <td>2.0</td>\n",
              "      <td>NaN</td>\n",
              "      <td>0.493617</td>\n",
              "      <td>0.546023</td>\n",
              "      <td>0.0</td>\n",
              "      <td>0.0</td>\n",
              "      <td>0.0</td>\n",
              "      <td>1.0</td>\n",
              "      <td>0.0</td>\n",
              "      <td>2.0</td>\n",
              "      <td>3.0</td>\n",
              "      <td>1.428571</td>\n",
              "      <td>NaN</td>\n",
              "      <td>NaN</td>\n",
              "      <td>0.493617</td>\n",
              "      <td>0.546023</td>\n",
              "      <td>0.519820</td>\n",
              "      <td>0.519820</td>\n",
              "      <td>0.000687</td>\n",
              "      <td>34.079679</td>\n",
              "      <td>0.147182</td>\n",
              "      <td>5.015909</td>\n",
              "      <td>1.932186</td>\n",
              "      <td>65.848273</td>\n",
              "      <td>13.127884</td>\n",
              "      <td>37.826685</td>\n",
              "      <td>189.735213</td>\n",
              "      <td>5.5674</td>\n",
              "      <td>2.8814</td>\n",
              "      <td>4462.1775</td>\n",
              "      <td>0.002293</td>\n",
              "      <td>0.000796</td>\n",
              "      <td>NaN</td>\n",
              "      <td>612794.525674</td>\n",
              "      <td>677853.672632</td>\n",
              "      <td>NaN</td>\n",
              "      <td>17981.229489</td>\n",
              "      <td>19890.260009</td>\n",
              "    </tr>\n",
              "  </tbody>\n",
              "</table>\n",
              "</div>"
            ],
            "text/plain": [
              "        application_number  ... expected_monthly_loss_3\n",
              "275232           123631557  ...                     NaN\n",
              "275233           123433260  ...            19890.260009\n",
              "\n",
              "[2 rows x 52 columns]"
            ]
          },
          "metadata": {
            "tags": []
          },
          "execution_count": 16
        }
      ]
    },
    {
      "cell_type": "markdown",
      "metadata": {
        "id": "HNk0MJ9BgKi2"
      },
      "source": [
        "## Полезные функции из лекции"
      ]
    },
    {
      "cell_type": "code",
      "metadata": {
        "id": "p6NX3uBggRIj"
      },
      "source": [
        "def lightgbm_cross_validation(params, X, y, cv, categorical = None, early_stopping_rounds = 5000):\n",
        "    \"\"\"\n",
        "    Кросс-валидация для модели lightgbm.\n",
        "\n",
        "    Parameters\n",
        "    ----------\n",
        "    params: dict\n",
        "        Словарь гиперпараметров модели.\n",
        "\n",
        "    X: pandas.core.frame.DataFrame\n",
        "        Матрица признако для обучения модели.\n",
        "\n",
        "    y: pandas.core.frame.Series\n",
        "        Вектор целевой переменной для обучения модели.\n",
        "\n",
        "    cv: KFold or StratifiedKFold generator.\n",
        "        Объект KFold / StratifiedKFold для определения\n",
        "        стратегии кросс-валидации модели.\n",
        "\n",
        "    categorical: str, optional, default = None\n",
        "        Список категориальных признаков.\n",
        "        Опциональный параметр, по умолчанию, не используется.\n",
        "\n",
        "    Returns\n",
        "    -------\n",
        "    estimators: list\n",
        "        Список с объектами обученной модели.\n",
        "\n",
        "    oof_preds: np.array\n",
        "        Вектор OOF-прогнозов.\n",
        "\n",
        "    \"\"\"\n",
        "    if not categorical:\n",
        "        categorical = \"auto\"\n",
        "\n",
        "    estimators, folds_scores = [], []\n",
        "    oof_preds = np.zeros(X.shape[0])\n",
        "    print(f\"{time.ctime()}, Cross-Validation, {X.shape[0]} rows, {X.shape[1]} cols\")\n",
        "\n",
        "    for fold, (train_idx, valid_idx) in enumerate(cv.split(X, y)):\n",
        "        x_train, x_valid = X.loc[train_idx], X.loc[valid_idx]\n",
        "        y_train, y_valid = y[train_idx], y[valid_idx]\n",
        "\n",
        "        model = lgb.LGBMClassifier(**params)\n",
        "        model.fit(\n",
        "            x_train, y_train,\n",
        "            eval_set=[(x_valid, y_valid)],\n",
        "            eval_metric=\"auc\", verbose=1000, early_stopping_rounds=early_stopping_rounds,\n",
        "            categorical_feature=categorical\n",
        "        )\n",
        "        oof_preds[valid_idx] = model.predict_proba(x_valid)[:, 1]\n",
        "        score = roc_auc_score(y_valid, oof_preds[valid_idx])\n",
        "        print(f\"Fold {fold+1}, Valid score = {round(score, 5)}\")\n",
        "        folds_scores.append(round(score, 5))\n",
        "        estimators.append(model)\n",
        "\n",
        "    print(f\"Score by each fold: {folds_scores}\")\n",
        "    print(\"=\"*65)\n",
        "    return estimators, oof_preds\n",
        "\n",
        "\n",
        "def xgboost_cross_validation(params, X, y, cv, categorical = None, early_stopping_rounds=5000):\n",
        "    \"\"\"\n",
        "    Кросс-валидация для модели xgboost.\n",
        "\n",
        "    Parameters\n",
        "    ----------\n",
        "    params: dict\n",
        "        Словарь гиперпараметров модели.\n",
        "\n",
        "    X: pandas.core.frame.DataFrame\n",
        "        Матрица признако для обучения модели.\n",
        "\n",
        "    y: pandas.core.frame.Series\n",
        "        Вектор целевой переменной для обучения модели.\n",
        "\n",
        "    cv: KFold or StratifiedKFold generator.\n",
        "        Объект KFold / StratifiedKFold для определения\n",
        "        стратегии кросс-валидации модели.\n",
        "\n",
        "    categorical: str, optional, default = None\n",
        "        Список категориальных признаков.\n",
        "        Опциональный параметр, по умолчанию, не используется.\n",
        "\n",
        "    Returns\n",
        "    -------\n",
        "    estimators: list\n",
        "        Список с объектами обученной модели.\n",
        "\n",
        "    encoders: dict\n",
        "        Список с объектами LabelEncoders.\n",
        "\n",
        "    oof_preds: np.array\n",
        "        Вектор OOF-прогнозов.\n",
        "\n",
        "    \"\"\"\n",
        "    estimators, encoders = [], {}\n",
        "    oof_preds = np.zeros(X.shape[0])\n",
        "\n",
        "    if categorical:\n",
        "        for feature in categorical:\n",
        "            encoder = LabelEncoder()\n",
        "            X[feature] = encoder.fit_transform(X[feature].astype(\"str\").fillna(\"NA\"))\n",
        "            encoders[feature] = encoder\n",
        "\n",
        "    print(f\"{time.ctime()}, Cross-Validation, {X.shape[0]} rows, {X.shape[1]} cols\")\n",
        "\n",
        "    for fold, (train_idx, valid_idx) in enumerate(cv.split(X, y)):\n",
        "\n",
        "        x_train, x_valid = X.loc[train_idx], X.loc[valid_idx]\n",
        "        y_train, y_valid = y[train_idx], y[valid_idx]\n",
        "        dtrain = xgb.DMatrix(x_train, y_train)\n",
        "        dvalid = xgb.DMatrix(x_valid, y_valid)\n",
        "\n",
        "        model = xgb.train(\n",
        "            params=params,\n",
        "            dtrain=dtrain,\n",
        "            maximize=True,\n",
        "            num_boost_round=10000,\n",
        "            early_stopping_rounds=early_stopping_rounds,\n",
        "            evals=[(dtrain, \"train\"), (dvalid, \"valid\")],\n",
        "            verbose_eval=1000,\n",
        "        )\n",
        "        oof_preds[valid_idx] = model.predict(dvalid)\n",
        "        score = roc_auc_score(y_valid, oof_preds[valid_idx])\n",
        "        print(f\"Fold {fold+1}, Valid score = {round(score, 5)}\")\n",
        "        estimators.append(model)\n",
        "\n",
        "    return estimators, encoders, oof_preds"
      ],
      "execution_count": null,
      "outputs": []
    },
    {
      "cell_type": "markdown",
      "metadata": {
        "id": "g7KGs-dBZJeY"
      },
      "source": [
        "## Предобработка данных для возможности использования в LightGBM и XGBoost\n",
        "* в основном из ноутбука data_wrangling_cp"
      ]
    },
    {
      "cell_type": "code",
      "metadata": {
        "id": "_5bMFVBtd62O"
      },
      "source": [
        "data_cb = data.copy()  # для категориального бустинга сохраняем не преобразованные данные"
      ],
      "execution_count": null,
      "outputs": []
    },
    {
      "cell_type": "code",
      "metadata": {
        "id": "i6z12d4RZaCD"
      },
      "source": [
        "REST_FEATURES = data.columns\n",
        "INITIAL_FEATURES = REST_FEATURES.copy()\n",
        "\n",
        "REST_FEATURES = list(set(REST_FEATURES) - set([ID]))\n",
        "\n",
        "REST_FEATURES = list(set(REST_FEATURES) - set([TARGET]))\n",
        "NUMERICAL_FEATURES = data[REST_FEATURES].select_dtypes(include=[np.number]).columns.to_list()\n",
        "REST_FEATURES = list(set(REST_FEATURES) - set(NUMERICAL_FEATURES))\n",
        "CATEGORICAL_FEATURES = REST_FEATURES"
      ],
      "execution_count": null,
      "outputs": []
    },
    {
      "cell_type": "code",
      "metadata": {
        "colab": {
          "base_uri": "https://localhost:8080/"
        },
        "id": "WBopl8mNZZ-0",
        "outputId": "dab0c3da-f4dc-443f-d5e6-7a98be19ca65"
      },
      "source": [
        "CATEGORICAL_FEATURES"
      ],
      "execution_count": null,
      "outputs": [
        {
          "output_type": "execute_result",
          "data": {
            "text/plain": [
              "['family_status', 'gender', 'education_level']"
            ]
          },
          "metadata": {
            "tags": []
          },
          "execution_count": 20
        }
      ]
    },
    {
      "cell_type": "code",
      "metadata": {
        "colab": {
          "base_uri": "https://localhost:8080/"
        },
        "id": "k4xBlnMrZZ6g",
        "outputId": "4fa1b042-4900-46f1-9601-942a51780a43"
      },
      "source": [
        "for feat in CATEGORICAL_FEATURES:\n",
        "  print('*'*10)\n",
        "  print(feat)\n",
        "  print(data[feat].value_counts())"
      ],
      "execution_count": null,
      "outputs": [
        {
          "output_type": "stream",
          "text": [
            "**********\n",
            "family_status\n",
            "Married                 143149\n",
            "Single / not married     32888\n",
            "Civil marriage           21687\n",
            "Separated                14295\n",
            "Widow                    11694\n",
            "Unknown                      2\n",
            "Name: family_status, dtype: int64\n",
            "**********\n",
            "gender\n",
            "F      147444\n",
            "M       76267\n",
            "XNA         4\n",
            "Name: gender, dtype: int64\n",
            "**********\n",
            "education_level\n",
            "Secondary / secondary special    158887\n",
            "Higher education                  54516\n",
            "Incomplete higher                  7456\n",
            "Lower secondary                    2736\n",
            "Academic degree                     120\n",
            "Name: education_level, dtype: int64\n"
          ],
          "name": "stdout"
        }
      ]
    },
    {
      "cell_type": "markdown",
      "metadata": {
        "id": "USNb6Wc4bJpf"
      },
      "source": [
        "Уровень образования является ординальной величиной. Создадим соответствующий признак"
      ]
    },
    {
      "cell_type": "code",
      "metadata": {
        "id": "S7WZUzB6U3sM"
      },
      "source": [
        "EDUCATION_LEVEL_dict = {'Lower secondary':1, 'Secondary / secondary special': 2, 'Incomplete higher':3, 'Higher education':4, 'Academic degree':5}\n",
        "data['education_level__ordinal'] = data['education_level'].map(EDUCATION_LEVEL_dict)"
      ],
      "execution_count": null,
      "outputs": []
    },
    {
      "cell_type": "code",
      "metadata": {
        "colab": {
          "base_uri": "https://localhost:8080/"
        },
        "id": "DOdVtAayfUHo",
        "outputId": "fd6b8385-29f9-45b0-f802-c067fe5ec68c"
      },
      "source": [
        "data['education_level__ordinal'].value_counts().sort_index()"
      ],
      "execution_count": null,
      "outputs": [
        {
          "output_type": "execute_result",
          "data": {
            "text/plain": [
              "1.0      2736\n",
              "2.0    158887\n",
              "3.0      7456\n",
              "4.0     54516\n",
              "5.0       120\n",
              "Name: education_level__ordinal, dtype: int64"
            ]
          },
          "metadata": {
            "tags": []
          },
          "execution_count": 23
        }
      ]
    },
    {
      "cell_type": "code",
      "metadata": {
        "id": "UIWBgIAjeflB"
      },
      "source": [
        "data = data.drop(columns='education_level')"
      ],
      "execution_count": null,
      "outputs": []
    },
    {
      "cell_type": "markdown",
      "metadata": {
        "id": "Beqcv3h4c9MR"
      },
      "source": [
        "GENDER XNA скорее всего соответствует NA. Заменим эту запись, убрав лишнее значение категории"
      ]
    },
    {
      "cell_type": "code",
      "metadata": {
        "id": "xFIMEvhiU3KS"
      },
      "source": [
        "data.loc[data.gender == 'XNA', 'gender'] = np.nan\n",
        "data.loc[data.gender == 'M', 'gender'] = 0\n",
        "data.loc[data.gender == 'F', 'gender'] = 1"
      ],
      "execution_count": null,
      "outputs": []
    },
    {
      "cell_type": "code",
      "metadata": {
        "colab": {
          "base_uri": "https://localhost:8080/"
        },
        "id": "0h8Y5u5McMXK",
        "outputId": "24e58cc4-e4d0-4c63-8919-6a4d0b99987a"
      },
      "source": [
        "data.gender.value_counts()"
      ],
      "execution_count": null,
      "outputs": [
        {
          "output_type": "execute_result",
          "data": {
            "text/plain": [
              "1    147444\n",
              "0     76267\n",
              "Name: gender, dtype: int64"
            ]
          },
          "metadata": {
            "tags": []
          },
          "execution_count": 26
        }
      ]
    },
    {
      "cell_type": "markdown",
      "metadata": {
        "id": "eTrN0A9Ddfll"
      },
      "source": [
        "То же самое в FAMILY_STATUS"
      ]
    },
    {
      "cell_type": "code",
      "metadata": {
        "id": "JkF7iGGYU234"
      },
      "source": [
        "data.loc[data.family_status == 'Unknown', 'family_status'] = np.nan"
      ],
      "execution_count": null,
      "outputs": []
    },
    {
      "cell_type": "code",
      "metadata": {
        "id": "YyFwJz54ZZup"
      },
      "source": [
        "data = pd.get_dummies(data, columns=['family_status'])\n"
      ],
      "execution_count": null,
      "outputs": []
    },
    {
      "cell_type": "code",
      "metadata": {
        "colab": {
          "base_uri": "https://localhost:8080/"
        },
        "id": "IiZ9tWUJZZki",
        "outputId": "3c147fc7-405e-4a5c-9f8d-cc09bc55e2eb"
      },
      "source": [
        "data.head(5)"
      ],
      "execution_count": null,
      "outputs": [
        {
          "output_type": "execute_result",
          "data": {
            "text/html": [
              "<div>\n",
              "<style scoped>\n",
              "    .dataframe tbody tr th:only-of-type {\n",
              "        vertical-align: middle;\n",
              "    }\n",
              "\n",
              "    .dataframe tbody tr th {\n",
              "        vertical-align: top;\n",
              "    }\n",
              "\n",
              "    .dataframe thead th {\n",
              "        text-align: right;\n",
              "    }\n",
              "</style>\n",
              "<table border=\"1\" class=\"dataframe\">\n",
              "  <thead>\n",
              "    <tr style=\"text-align: right;\">\n",
              "      <th></th>\n",
              "      <th>application_number</th>\n",
              "      <th>gender</th>\n",
              "      <th>childrens</th>\n",
              "      <th>total_salary</th>\n",
              "      <th>amount_credit</th>\n",
              "      <th>amount_annuity</th>\n",
              "      <th>region_population</th>\n",
              "      <th>age</th>\n",
              "      <th>days_on_last_job</th>\n",
              "      <th>own_car_age</th>\n",
              "      <th>flag_phone</th>\n",
              "      <th>flag_email</th>\n",
              "      <th>family_size</th>\n",
              "      <th>external_scoring_rating_1</th>\n",
              "      <th>external_scoring_rating_2</th>\n",
              "      <th>external_scoring_rating_3</th>\n",
              "      <th>amt_req_credit_bureau_hour</th>\n",
              "      <th>amt_req_credit_bureau_day</th>\n",
              "      <th>amt_req_credit_bureau_week</th>\n",
              "      <th>amt_req_credit_bureau_mon</th>\n",
              "      <th>amt_req_credit_bureau_qrt</th>\n",
              "      <th>amt_req_credit_bureau_year</th>\n",
              "      <th>bki_requests_count</th>\n",
              "      <th>bki_kurtosis</th>\n",
              "      <th>external_scoring_prod</th>\n",
              "      <th>external_scoring_weighted</th>\n",
              "      <th>external_scoring_rating_min</th>\n",
              "      <th>external_scoring_rating_max</th>\n",
              "      <th>external_scoring_rating_mean</th>\n",
              "      <th>external_scoring_rating_nanmedian</th>\n",
              "      <th>external_scoring_rating_var</th>\n",
              "      <th>ratio_credit_to_annuity</th>\n",
              "      <th>ratio_annuity_to_salary</th>\n",
              "      <th>ratio_credit_to_salary</th>\n",
              "      <th>ratio_annuity_to_age</th>\n",
              "      <th>ratio_credit_to_age</th>\n",
              "      <th>ratio_salary_to_age</th>\n",
              "      <th>ratio_salary_to_experience</th>\n",
              "      <th>ratio_credit_to_experience</th>\n",
              "      <th>ratio_annuity_to_experience</th>\n",
              "      <th>ratio_age_to_experience</th>\n",
              "      <th>ratio_salary_to_region_population</th>\n",
              "      <th>ratio_car_to_experience</th>\n",
              "      <th>ratio_car_to_age</th>\n",
              "      <th>expected_total_loss_1</th>\n",
              "      <th>expected_total_loss_2</th>\n",
              "      <th>expected_total_loss_3</th>\n",
              "      <th>expected_monthly_loss_1</th>\n",
              "      <th>expected_monthly_loss_2</th>\n",
              "      <th>expected_monthly_loss_3</th>\n",
              "      <th>education_level__ordinal</th>\n",
              "      <th>family_status_Civil marriage</th>\n",
              "      <th>family_status_Married</th>\n",
              "      <th>family_status_Separated</th>\n",
              "      <th>family_status_Single / not married</th>\n",
              "      <th>family_status_Widow</th>\n",
              "    </tr>\n",
              "  </thead>\n",
              "  <tbody>\n",
              "    <tr>\n",
              "      <th>0</th>\n",
              "      <td>123687442</td>\n",
              "      <td>0</td>\n",
              "      <td>1.0</td>\n",
              "      <td>157500.0</td>\n",
              "      <td>855000.0</td>\n",
              "      <td>25128.0</td>\n",
              "      <td>0.019101</td>\n",
              "      <td>15728.0</td>\n",
              "      <td>1719.0</td>\n",
              "      <td>11.0</td>\n",
              "      <td>0.0</td>\n",
              "      <td>0.0</td>\n",
              "      <td>3.0</td>\n",
              "      <td>0.700784</td>\n",
              "      <td>0.645914</td>\n",
              "      <td>0.716570</td>\n",
              "      <td>0.0</td>\n",
              "      <td>0.0</td>\n",
              "      <td>1.0</td>\n",
              "      <td>0.0</td>\n",
              "      <td>0.0</td>\n",
              "      <td>2.0</td>\n",
              "      <td>3.0</td>\n",
              "      <td>1.428571</td>\n",
              "      <td>0.324353</td>\n",
              "      <td>4.197193</td>\n",
              "      <td>0.645914</td>\n",
              "      <td>0.716570</td>\n",
              "      <td>0.687756</td>\n",
              "      <td>0.700784</td>\n",
              "      <td>9.169231e-04</td>\n",
              "      <td>34.025788</td>\n",
              "      <td>0.159543</td>\n",
              "      <td>5.428571</td>\n",
              "      <td>1.597660</td>\n",
              "      <td>54.361648</td>\n",
              "      <td>10.013988</td>\n",
              "      <td>91.623037</td>\n",
              "      <td>497.382199</td>\n",
              "      <td>14.617801</td>\n",
              "      <td>9.149506</td>\n",
              "      <td>3008.4075</td>\n",
              "      <td>0.006399</td>\n",
              "      <td>0.000699</td>\n",
              "      <td>599170.547652</td>\n",
              "      <td>552256.266546</td>\n",
              "      <td>612667.559305</td>\n",
              "      <td>17609.307043</td>\n",
              "      <td>16230.521013</td>\n",
              "      <td>18005.977111</td>\n",
              "      <td>2.0</td>\n",
              "      <td>0</td>\n",
              "      <td>1</td>\n",
              "      <td>0</td>\n",
              "      <td>0</td>\n",
              "      <td>0</td>\n",
              "    </tr>\n",
              "    <tr>\n",
              "      <th>1</th>\n",
              "      <td>123597908</td>\n",
              "      <td>NaN</td>\n",
              "      <td>NaN</td>\n",
              "      <td>NaN</td>\n",
              "      <td>NaN</td>\n",
              "      <td>NaN</td>\n",
              "      <td>NaN</td>\n",
              "      <td>NaN</td>\n",
              "      <td>NaN</td>\n",
              "      <td>NaN</td>\n",
              "      <td>NaN</td>\n",
              "      <td>NaN</td>\n",
              "      <td>NaN</td>\n",
              "      <td>NaN</td>\n",
              "      <td>NaN</td>\n",
              "      <td>NaN</td>\n",
              "      <td>NaN</td>\n",
              "      <td>NaN</td>\n",
              "      <td>NaN</td>\n",
              "      <td>NaN</td>\n",
              "      <td>NaN</td>\n",
              "      <td>NaN</td>\n",
              "      <td>NaN</td>\n",
              "      <td>NaN</td>\n",
              "      <td>NaN</td>\n",
              "      <td>NaN</td>\n",
              "      <td>NaN</td>\n",
              "      <td>NaN</td>\n",
              "      <td>NaN</td>\n",
              "      <td>NaN</td>\n",
              "      <td>NaN</td>\n",
              "      <td>NaN</td>\n",
              "      <td>NaN</td>\n",
              "      <td>NaN</td>\n",
              "      <td>NaN</td>\n",
              "      <td>NaN</td>\n",
              "      <td>NaN</td>\n",
              "      <td>NaN</td>\n",
              "      <td>NaN</td>\n",
              "      <td>NaN</td>\n",
              "      <td>NaN</td>\n",
              "      <td>NaN</td>\n",
              "      <td>NaN</td>\n",
              "      <td>NaN</td>\n",
              "      <td>NaN</td>\n",
              "      <td>NaN</td>\n",
              "      <td>NaN</td>\n",
              "      <td>NaN</td>\n",
              "      <td>NaN</td>\n",
              "      <td>NaN</td>\n",
              "      <td>NaN</td>\n",
              "      <td>0</td>\n",
              "      <td>0</td>\n",
              "      <td>0</td>\n",
              "      <td>0</td>\n",
              "      <td>0</td>\n",
              "    </tr>\n",
              "    <tr>\n",
              "      <th>2</th>\n",
              "      <td>123526683</td>\n",
              "      <td>1</td>\n",
              "      <td>0.0</td>\n",
              "      <td>135000.0</td>\n",
              "      <td>1006920.0</td>\n",
              "      <td>42660.0</td>\n",
              "      <td>0.026392</td>\n",
              "      <td>21557.0</td>\n",
              "      <td>3618.0</td>\n",
              "      <td>NaN</td>\n",
              "      <td>1.0</td>\n",
              "      <td>0.0</td>\n",
              "      <td>2.0</td>\n",
              "      <td>NaN</td>\n",
              "      <td>0.682149</td>\n",
              "      <td>0.267869</td>\n",
              "      <td>0.0</td>\n",
              "      <td>0.0</td>\n",
              "      <td>0.0</td>\n",
              "      <td>7.0</td>\n",
              "      <td>0.0</td>\n",
              "      <td>4.0</td>\n",
              "      <td>11.0</td>\n",
              "      <td>0.539379</td>\n",
              "      <td>NaN</td>\n",
              "      <td>NaN</td>\n",
              "      <td>0.267869</td>\n",
              "      <td>0.682149</td>\n",
              "      <td>0.475009</td>\n",
              "      <td>0.475009</td>\n",
              "      <td>4.290708e-02</td>\n",
              "      <td>23.603376</td>\n",
              "      <td>0.316000</td>\n",
              "      <td>7.458667</td>\n",
              "      <td>1.978940</td>\n",
              "      <td>46.709653</td>\n",
              "      <td>6.262467</td>\n",
              "      <td>37.313433</td>\n",
              "      <td>278.308458</td>\n",
              "      <td>11.791045</td>\n",
              "      <td>5.958264</td>\n",
              "      <td>3562.9200</td>\n",
              "      <td>NaN</td>\n",
              "      <td>NaN</td>\n",
              "      <td>NaN</td>\n",
              "      <td>686869.876357</td>\n",
              "      <td>269722.588880</td>\n",
              "      <td>NaN</td>\n",
              "      <td>29100.493510</td>\n",
              "      <td>11427.288803</td>\n",
              "      <td>4.0</td>\n",
              "      <td>0</td>\n",
              "      <td>1</td>\n",
              "      <td>0</td>\n",
              "      <td>0</td>\n",
              "      <td>0</td>\n",
              "    </tr>\n",
              "    <tr>\n",
              "      <th>3</th>\n",
              "      <td>123710391</td>\n",
              "      <td>0</td>\n",
              "      <td>0.0</td>\n",
              "      <td>180000.0</td>\n",
              "      <td>518562.0</td>\n",
              "      <td>22972.5</td>\n",
              "      <td>0.031329</td>\n",
              "      <td>22338.0</td>\n",
              "      <td>NaN</td>\n",
              "      <td>NaN</td>\n",
              "      <td>0.0</td>\n",
              "      <td>0.0</td>\n",
              "      <td>2.0</td>\n",
              "      <td>NaN</td>\n",
              "      <td>0.171299</td>\n",
              "      <td>0.170446</td>\n",
              "      <td>0.0</td>\n",
              "      <td>0.0</td>\n",
              "      <td>0.0</td>\n",
              "      <td>0.0</td>\n",
              "      <td>0.0</td>\n",
              "      <td>0.0</td>\n",
              "      <td>0.0</td>\n",
              "      <td>0.000000</td>\n",
              "      <td>NaN</td>\n",
              "      <td>NaN</td>\n",
              "      <td>0.170446</td>\n",
              "      <td>0.171299</td>\n",
              "      <td>0.170873</td>\n",
              "      <td>0.170873</td>\n",
              "      <td>1.818800e-07</td>\n",
              "      <td>22.573164</td>\n",
              "      <td>0.127625</td>\n",
              "      <td>2.880900</td>\n",
              "      <td>1.028405</td>\n",
              "      <td>23.214343</td>\n",
              "      <td>8.058018</td>\n",
              "      <td>NaN</td>\n",
              "      <td>NaN</td>\n",
              "      <td>NaN</td>\n",
              "      <td>NaN</td>\n",
              "      <td>5639.2200</td>\n",
              "      <td>NaN</td>\n",
              "      <td>NaN</td>\n",
              "      <td>NaN</td>\n",
              "      <td>88829.188848</td>\n",
              "      <td>88386.882459</td>\n",
              "      <td>NaN</td>\n",
              "      <td>3935.167908</td>\n",
              "      <td>3915.573562</td>\n",
              "      <td>2.0</td>\n",
              "      <td>0</td>\n",
              "      <td>1</td>\n",
              "      <td>0</td>\n",
              "      <td>0</td>\n",
              "      <td>0</td>\n",
              "    </tr>\n",
              "    <tr>\n",
              "      <th>4</th>\n",
              "      <td>123590329</td>\n",
              "      <td>NaN</td>\n",
              "      <td>NaN</td>\n",
              "      <td>NaN</td>\n",
              "      <td>NaN</td>\n",
              "      <td>NaN</td>\n",
              "      <td>NaN</td>\n",
              "      <td>NaN</td>\n",
              "      <td>NaN</td>\n",
              "      <td>NaN</td>\n",
              "      <td>NaN</td>\n",
              "      <td>NaN</td>\n",
              "      <td>NaN</td>\n",
              "      <td>NaN</td>\n",
              "      <td>NaN</td>\n",
              "      <td>NaN</td>\n",
              "      <td>NaN</td>\n",
              "      <td>NaN</td>\n",
              "      <td>NaN</td>\n",
              "      <td>NaN</td>\n",
              "      <td>NaN</td>\n",
              "      <td>NaN</td>\n",
              "      <td>NaN</td>\n",
              "      <td>NaN</td>\n",
              "      <td>NaN</td>\n",
              "      <td>NaN</td>\n",
              "      <td>NaN</td>\n",
              "      <td>NaN</td>\n",
              "      <td>NaN</td>\n",
              "      <td>NaN</td>\n",
              "      <td>NaN</td>\n",
              "      <td>NaN</td>\n",
              "      <td>NaN</td>\n",
              "      <td>NaN</td>\n",
              "      <td>NaN</td>\n",
              "      <td>NaN</td>\n",
              "      <td>NaN</td>\n",
              "      <td>NaN</td>\n",
              "      <td>NaN</td>\n",
              "      <td>NaN</td>\n",
              "      <td>NaN</td>\n",
              "      <td>NaN</td>\n",
              "      <td>NaN</td>\n",
              "      <td>NaN</td>\n",
              "      <td>NaN</td>\n",
              "      <td>NaN</td>\n",
              "      <td>NaN</td>\n",
              "      <td>NaN</td>\n",
              "      <td>NaN</td>\n",
              "      <td>NaN</td>\n",
              "      <td>NaN</td>\n",
              "      <td>0</td>\n",
              "      <td>0</td>\n",
              "      <td>0</td>\n",
              "      <td>0</td>\n",
              "      <td>0</td>\n",
              "    </tr>\n",
              "  </tbody>\n",
              "</table>\n",
              "</div>"
            ],
            "text/plain": [
              "   application_number  ... family_status_Widow\n",
              "0           123687442  ...                   0\n",
              "1           123597908  ...                   0\n",
              "2           123526683  ...                   0\n",
              "3           123710391  ...                   0\n",
              "4           123590329  ...                   0\n",
              "\n",
              "[5 rows x 56 columns]"
            ]
          },
          "metadata": {
            "tags": []
          },
          "execution_count": 29
        }
      ]
    },
    {
      "cell_type": "markdown",
      "metadata": {
        "id": "vHGb9KQ9fhdZ"
      },
      "source": [
        "Посмотрим только на те данные, которые нам реально понадобятся для модели"
      ]
    },
    {
      "cell_type": "code",
      "metadata": {
        "id": "uGTtKSoiZZen"
      },
      "source": [
        "df = data[(data[AN].isin(train[AN].values)) | (data[AN].isin(test[AN].values))].sort_values(by=AN)"
      ],
      "execution_count": null,
      "outputs": []
    },
    {
      "cell_type": "code",
      "metadata": {
        "colab": {
          "base_uri": "https://localhost:8080/"
        },
        "id": "YVOVsBbgZZZC",
        "outputId": "8e558d2d-df91-4601-aeb3-5b3582ff88f0"
      },
      "source": [
        "df.head()"
      ],
      "execution_count": null,
      "outputs": [
        {
          "output_type": "execute_result",
          "data": {
            "text/html": [
              "<div>\n",
              "<style scoped>\n",
              "    .dataframe tbody tr th:only-of-type {\n",
              "        vertical-align: middle;\n",
              "    }\n",
              "\n",
              "    .dataframe tbody tr th {\n",
              "        vertical-align: top;\n",
              "    }\n",
              "\n",
              "    .dataframe thead th {\n",
              "        text-align: right;\n",
              "    }\n",
              "</style>\n",
              "<table border=\"1\" class=\"dataframe\">\n",
              "  <thead>\n",
              "    <tr style=\"text-align: right;\">\n",
              "      <th></th>\n",
              "      <th>application_number</th>\n",
              "      <th>gender</th>\n",
              "      <th>childrens</th>\n",
              "      <th>total_salary</th>\n",
              "      <th>amount_credit</th>\n",
              "      <th>amount_annuity</th>\n",
              "      <th>region_population</th>\n",
              "      <th>age</th>\n",
              "      <th>days_on_last_job</th>\n",
              "      <th>own_car_age</th>\n",
              "      <th>flag_phone</th>\n",
              "      <th>flag_email</th>\n",
              "      <th>family_size</th>\n",
              "      <th>external_scoring_rating_1</th>\n",
              "      <th>external_scoring_rating_2</th>\n",
              "      <th>external_scoring_rating_3</th>\n",
              "      <th>amt_req_credit_bureau_hour</th>\n",
              "      <th>amt_req_credit_bureau_day</th>\n",
              "      <th>amt_req_credit_bureau_week</th>\n",
              "      <th>amt_req_credit_bureau_mon</th>\n",
              "      <th>amt_req_credit_bureau_qrt</th>\n",
              "      <th>amt_req_credit_bureau_year</th>\n",
              "      <th>bki_requests_count</th>\n",
              "      <th>bki_kurtosis</th>\n",
              "      <th>external_scoring_prod</th>\n",
              "      <th>external_scoring_weighted</th>\n",
              "      <th>external_scoring_rating_min</th>\n",
              "      <th>external_scoring_rating_max</th>\n",
              "      <th>external_scoring_rating_mean</th>\n",
              "      <th>external_scoring_rating_nanmedian</th>\n",
              "      <th>external_scoring_rating_var</th>\n",
              "      <th>ratio_credit_to_annuity</th>\n",
              "      <th>ratio_annuity_to_salary</th>\n",
              "      <th>ratio_credit_to_salary</th>\n",
              "      <th>ratio_annuity_to_age</th>\n",
              "      <th>ratio_credit_to_age</th>\n",
              "      <th>ratio_salary_to_age</th>\n",
              "      <th>ratio_salary_to_experience</th>\n",
              "      <th>ratio_credit_to_experience</th>\n",
              "      <th>ratio_annuity_to_experience</th>\n",
              "      <th>ratio_age_to_experience</th>\n",
              "      <th>ratio_salary_to_region_population</th>\n",
              "      <th>ratio_car_to_experience</th>\n",
              "      <th>ratio_car_to_age</th>\n",
              "      <th>expected_total_loss_1</th>\n",
              "      <th>expected_total_loss_2</th>\n",
              "      <th>expected_total_loss_3</th>\n",
              "      <th>expected_monthly_loss_1</th>\n",
              "      <th>expected_monthly_loss_2</th>\n",
              "      <th>expected_monthly_loss_3</th>\n",
              "      <th>education_level__ordinal</th>\n",
              "      <th>family_status_Civil marriage</th>\n",
              "      <th>family_status_Married</th>\n",
              "      <th>family_status_Separated</th>\n",
              "      <th>family_status_Single / not married</th>\n",
              "      <th>family_status_Widow</th>\n",
              "    </tr>\n",
              "  </thead>\n",
              "  <tbody>\n",
              "    <tr>\n",
              "      <th>47058</th>\n",
              "      <td>123423341</td>\n",
              "      <td>0</td>\n",
              "      <td>0.0</td>\n",
              "      <td>202500.0</td>\n",
              "      <td>406597.5</td>\n",
              "      <td>24700.5</td>\n",
              "      <td>0.018801</td>\n",
              "      <td>9461.0</td>\n",
              "      <td>637.0</td>\n",
              "      <td>NaN</td>\n",
              "      <td>1.0</td>\n",
              "      <td>0.0</td>\n",
              "      <td>1.0</td>\n",
              "      <td>0.083037</td>\n",
              "      <td>0.262949</td>\n",
              "      <td>0.139376</td>\n",
              "      <td>0.0</td>\n",
              "      <td>0.0</td>\n",
              "      <td>0.0</td>\n",
              "      <td>0.0</td>\n",
              "      <td>0.0</td>\n",
              "      <td>1.0</td>\n",
              "      <td>1.0</td>\n",
              "      <td>6.0</td>\n",
              "      <td>0.003043</td>\n",
              "      <td>0.84715</td>\n",
              "      <td>0.083037</td>\n",
              "      <td>0.262949</td>\n",
              "      <td>0.161787</td>\n",
              "      <td>0.139376</td>\n",
              "      <td>0.005646</td>\n",
              "      <td>16.461104</td>\n",
              "      <td>0.121978</td>\n",
              "      <td>2.007889</td>\n",
              "      <td>2.610771</td>\n",
              "      <td>42.976165</td>\n",
              "      <td>21.403657</td>\n",
              "      <td>317.896389</td>\n",
              "      <td>638.300628</td>\n",
              "      <td>38.776295</td>\n",
              "      <td>14.852433</td>\n",
              "      <td>3807.2025</td>\n",
              "      <td>NaN</td>\n",
              "      <td>NaN</td>\n",
              "      <td>33762.623349</td>\n",
              "      <td>106914.240440</td>\n",
              "      <td>56669.843749</td>\n",
              "      <td>2051.054613</td>\n",
              "      <td>6494.961715</td>\n",
              "      <td>3442.651456</td>\n",
              "      <td>2.0</td>\n",
              "      <td>0</td>\n",
              "      <td>0</td>\n",
              "      <td>0</td>\n",
              "      <td>1</td>\n",
              "      <td>0</td>\n",
              "    </tr>\n",
              "    <tr>\n",
              "      <th>196055</th>\n",
              "      <td>123423342</td>\n",
              "      <td>1</td>\n",
              "      <td>0.0</td>\n",
              "      <td>270000.0</td>\n",
              "      <td>1293502.5</td>\n",
              "      <td>35698.5</td>\n",
              "      <td>0.003541</td>\n",
              "      <td>16765.0</td>\n",
              "      <td>1188.0</td>\n",
              "      <td>NaN</td>\n",
              "      <td>1.0</td>\n",
              "      <td>0.0</td>\n",
              "      <td>2.0</td>\n",
              "      <td>0.311267</td>\n",
              "      <td>0.622246</td>\n",
              "      <td>NaN</td>\n",
              "      <td>0.0</td>\n",
              "      <td>0.0</td>\n",
              "      <td>0.0</td>\n",
              "      <td>0.0</td>\n",
              "      <td>0.0</td>\n",
              "      <td>0.0</td>\n",
              "      <td>0.0</td>\n",
              "      <td>0.0</td>\n",
              "      <td>NaN</td>\n",
              "      <td>NaN</td>\n",
              "      <td>0.311267</td>\n",
              "      <td>0.622246</td>\n",
              "      <td>0.466757</td>\n",
              "      <td>0.466757</td>\n",
              "      <td>0.024177</td>\n",
              "      <td>36.234085</td>\n",
              "      <td>0.132217</td>\n",
              "      <td>4.790750</td>\n",
              "      <td>2.129347</td>\n",
              "      <td>77.154936</td>\n",
              "      <td>16.104981</td>\n",
              "      <td>227.272727</td>\n",
              "      <td>1088.806818</td>\n",
              "      <td>30.049242</td>\n",
              "      <td>14.111953</td>\n",
              "      <td>956.0700</td>\n",
              "      <td>NaN</td>\n",
              "      <td>NaN</td>\n",
              "      <td>402625.045440</td>\n",
              "      <td>804876.465907</td>\n",
              "      <td>NaN</td>\n",
              "      <td>11111.776115</td>\n",
              "      <td>22213.240808</td>\n",
              "      <td>NaN</td>\n",
              "      <td>4.0</td>\n",
              "      <td>0</td>\n",
              "      <td>1</td>\n",
              "      <td>0</td>\n",
              "      <td>0</td>\n",
              "      <td>0</td>\n",
              "    </tr>\n",
              "    <tr>\n",
              "      <th>237570</th>\n",
              "      <td>123423343</td>\n",
              "      <td>0</td>\n",
              "      <td>0.0</td>\n",
              "      <td>67500.0</td>\n",
              "      <td>135000.0</td>\n",
              "      <td>6750.0</td>\n",
              "      <td>0.010032</td>\n",
              "      <td>19046.0</td>\n",
              "      <td>225.0</td>\n",
              "      <td>26.0</td>\n",
              "      <td>1.0</td>\n",
              "      <td>0.0</td>\n",
              "      <td>1.0</td>\n",
              "      <td>NaN</td>\n",
              "      <td>0.555912</td>\n",
              "      <td>0.729567</td>\n",
              "      <td>0.0</td>\n",
              "      <td>0.0</td>\n",
              "      <td>0.0</td>\n",
              "      <td>0.0</td>\n",
              "      <td>0.0</td>\n",
              "      <td>0.0</td>\n",
              "      <td>0.0</td>\n",
              "      <td>0.0</td>\n",
              "      <td>NaN</td>\n",
              "      <td>NaN</td>\n",
              "      <td>0.555912</td>\n",
              "      <td>0.729567</td>\n",
              "      <td>0.642739</td>\n",
              "      <td>0.642739</td>\n",
              "      <td>0.007539</td>\n",
              "      <td>20.000000</td>\n",
              "      <td>0.100000</td>\n",
              "      <td>2.000000</td>\n",
              "      <td>0.354405</td>\n",
              "      <td>7.088102</td>\n",
              "      <td>3.544051</td>\n",
              "      <td>300.000000</td>\n",
              "      <td>600.000000</td>\n",
              "      <td>30.000000</td>\n",
              "      <td>84.648889</td>\n",
              "      <td>677.1600</td>\n",
              "      <td>0.115556</td>\n",
              "      <td>0.001365</td>\n",
              "      <td>NaN</td>\n",
              "      <td>75048.131258</td>\n",
              "      <td>98491.503245</td>\n",
              "      <td>NaN</td>\n",
              "      <td>3752.406563</td>\n",
              "      <td>4924.575162</td>\n",
              "      <td>2.0</td>\n",
              "      <td>0</td>\n",
              "      <td>0</td>\n",
              "      <td>0</td>\n",
              "      <td>1</td>\n",
              "      <td>0</td>\n",
              "    </tr>\n",
              "    <tr>\n",
              "      <th>239383</th>\n",
              "      <td>123423344</td>\n",
              "      <td>1</td>\n",
              "      <td>0.0</td>\n",
              "      <td>135000.0</td>\n",
              "      <td>312682.5</td>\n",
              "      <td>29686.5</td>\n",
              "      <td>0.008019</td>\n",
              "      <td>19005.0</td>\n",
              "      <td>3039.0</td>\n",
              "      <td>NaN</td>\n",
              "      <td>0.0</td>\n",
              "      <td>0.0</td>\n",
              "      <td>2.0</td>\n",
              "      <td>NaN</td>\n",
              "      <td>0.650442</td>\n",
              "      <td>NaN</td>\n",
              "      <td>NaN</td>\n",
              "      <td>NaN</td>\n",
              "      <td>NaN</td>\n",
              "      <td>NaN</td>\n",
              "      <td>NaN</td>\n",
              "      <td>NaN</td>\n",
              "      <td>0.0</td>\n",
              "      <td>NaN</td>\n",
              "      <td>NaN</td>\n",
              "      <td>NaN</td>\n",
              "      <td>0.650442</td>\n",
              "      <td>0.650442</td>\n",
              "      <td>0.650442</td>\n",
              "      <td>0.650442</td>\n",
              "      <td>0.000000</td>\n",
              "      <td>10.532818</td>\n",
              "      <td>0.219900</td>\n",
              "      <td>2.316167</td>\n",
              "      <td>1.562036</td>\n",
              "      <td>16.452644</td>\n",
              "      <td>7.103394</td>\n",
              "      <td>44.422507</td>\n",
              "      <td>102.889931</td>\n",
              "      <td>9.768509</td>\n",
              "      <td>6.253702</td>\n",
              "      <td>1082.5650</td>\n",
              "      <td>NaN</td>\n",
              "      <td>NaN</td>\n",
              "      <td>NaN</td>\n",
              "      <td>203381.733859</td>\n",
              "      <td>NaN</td>\n",
              "      <td>NaN</td>\n",
              "      <td>19309.337242</td>\n",
              "      <td>NaN</td>\n",
              "      <td>2.0</td>\n",
              "      <td>1</td>\n",
              "      <td>0</td>\n",
              "      <td>0</td>\n",
              "      <td>0</td>\n",
              "      <td>0</td>\n",
              "    </tr>\n",
              "    <tr>\n",
              "      <th>6474</th>\n",
              "      <td>123423345</td>\n",
              "      <td>0</td>\n",
              "      <td>0.0</td>\n",
              "      <td>121500.0</td>\n",
              "      <td>513000.0</td>\n",
              "      <td>21865.5</td>\n",
              "      <td>0.028663</td>\n",
              "      <td>19932.0</td>\n",
              "      <td>3038.0</td>\n",
              "      <td>NaN</td>\n",
              "      <td>0.0</td>\n",
              "      <td>0.0</td>\n",
              "      <td>1.0</td>\n",
              "      <td>NaN</td>\n",
              "      <td>0.322738</td>\n",
              "      <td>NaN</td>\n",
              "      <td>0.0</td>\n",
              "      <td>0.0</td>\n",
              "      <td>0.0</td>\n",
              "      <td>0.0</td>\n",
              "      <td>0.0</td>\n",
              "      <td>0.0</td>\n",
              "      <td>0.0</td>\n",
              "      <td>0.0</td>\n",
              "      <td>NaN</td>\n",
              "      <td>NaN</td>\n",
              "      <td>0.322738</td>\n",
              "      <td>0.322738</td>\n",
              "      <td>0.322738</td>\n",
              "      <td>0.322738</td>\n",
              "      <td>0.000000</td>\n",
              "      <td>23.461618</td>\n",
              "      <td>0.179963</td>\n",
              "      <td>4.222222</td>\n",
              "      <td>1.097005</td>\n",
              "      <td>25.737508</td>\n",
              "      <td>6.095725</td>\n",
              "      <td>39.993417</td>\n",
              "      <td>168.861093</td>\n",
              "      <td>7.197334</td>\n",
              "      <td>6.560895</td>\n",
              "      <td>3482.5545</td>\n",
              "      <td>NaN</td>\n",
              "      <td>NaN</td>\n",
              "      <td>NaN</td>\n",
              "      <td>165564.741216</td>\n",
              "      <td>NaN</td>\n",
              "      <td>NaN</td>\n",
              "      <td>7056.834014</td>\n",
              "      <td>NaN</td>\n",
              "      <td>2.0</td>\n",
              "      <td>0</td>\n",
              "      <td>0</td>\n",
              "      <td>0</td>\n",
              "      <td>1</td>\n",
              "      <td>0</td>\n",
              "    </tr>\n",
              "  </tbody>\n",
              "</table>\n",
              "</div>"
            ],
            "text/plain": [
              "        application_number  ... family_status_Widow\n",
              "47058            123423341  ...                   0\n",
              "196055           123423342  ...                   0\n",
              "237570           123423343  ...                   0\n",
              "239383           123423344  ...                   0\n",
              "6474             123423345  ...                   0\n",
              "\n",
              "[5 rows x 56 columns]"
            ]
          },
          "metadata": {
            "tags": []
          },
          "execution_count": 31
        }
      ]
    },
    {
      "cell_type": "code",
      "metadata": {
        "colab": {
          "base_uri": "https://localhost:8080/"
        },
        "id": "8K_BTtbrZZSq",
        "outputId": "83f98929-9a95-4383-de0a-677be386e657"
      },
      "source": [
        "df.info()"
      ],
      "execution_count": null,
      "outputs": [
        {
          "output_type": "stream",
          "text": [
            "<class 'pandas.core.frame.DataFrame'>\n",
            "Int64Index: 275234 entries, 47058 to 186722\n",
            "Data columns (total 56 columns):\n",
            " #   Column                              Non-Null Count   Dtype  \n",
            "---  ------                              --------------   -----  \n",
            " 0   application_number                  275234 non-null  int64  \n",
            " 1   gender                              223711 non-null  object \n",
            " 2   childrens                           223715 non-null  float64\n",
            " 3   total_salary                        223715 non-null  float64\n",
            " 4   amount_credit                       223715 non-null  float64\n",
            " 5   amount_annuity                      223704 non-null  float64\n",
            " 6   region_population                   223715 non-null  float64\n",
            " 7   age                                 223715 non-null  float64\n",
            " 8   days_on_last_job                    183605 non-null  float64\n",
            " 9   own_car_age                         76034 non-null   float64\n",
            " 10  flag_phone                          223715 non-null  float64\n",
            " 11  flag_email                          223715 non-null  float64\n",
            " 12  family_size                         223713 non-null  float64\n",
            " 13  external_scoring_rating_1           97726 non-null   float64\n",
            " 14  external_scoring_rating_2           223236 non-null  float64\n",
            " 15  external_scoring_rating_3           179308 non-null  float64\n",
            " 16  amt_req_credit_bureau_hour          193517 non-null  float64\n",
            " 17  amt_req_credit_bureau_day           193517 non-null  float64\n",
            " 18  amt_req_credit_bureau_week          193517 non-null  float64\n",
            " 19  amt_req_credit_bureau_mon           193517 non-null  float64\n",
            " 20  amt_req_credit_bureau_qrt           193517 non-null  float64\n",
            " 21  amt_req_credit_bureau_year          193517 non-null  float64\n",
            " 22  bki_requests_count                  223715 non-null  float64\n",
            " 23  bki_kurtosis                        193517 non-null  float64\n",
            " 24  external_scoring_prod               79800 non-null   float64\n",
            " 25  external_scoring_weighted           79800 non-null   float64\n",
            " 26  external_scoring_rating_min         223586 non-null  float64\n",
            " 27  external_scoring_rating_max         223586 non-null  float64\n",
            " 28  external_scoring_rating_mean        223586 non-null  float64\n",
            " 29  external_scoring_rating_nanmedian   223586 non-null  float64\n",
            " 30  external_scoring_rating_var         223586 non-null  float64\n",
            " 31  ratio_credit_to_annuity             223704 non-null  float64\n",
            " 32  ratio_annuity_to_salary             223704 non-null  float64\n",
            " 33  ratio_credit_to_salary              223715 non-null  float64\n",
            " 34  ratio_annuity_to_age                223704 non-null  float64\n",
            " 35  ratio_credit_to_age                 223715 non-null  float64\n",
            " 36  ratio_salary_to_age                 223715 non-null  float64\n",
            " 37  ratio_salary_to_experience          183604 non-null  float64\n",
            " 38  ratio_credit_to_experience          183604 non-null  float64\n",
            " 39  ratio_annuity_to_experience         183593 non-null  float64\n",
            " 40  ratio_age_to_experience             183604 non-null  float64\n",
            " 41  ratio_salary_to_region_population   223715 non-null  float64\n",
            " 42  ratio_car_to_experience             68685 non-null   float64\n",
            " 43  ratio_car_to_age                    76034 non-null   float64\n",
            " 44  expected_total_loss_1               97726 non-null   float64\n",
            " 45  expected_total_loss_2               223236 non-null  float64\n",
            " 46  expected_total_loss_3               179308 non-null  float64\n",
            " 47  expected_monthly_loss_1             97718 non-null   float64\n",
            " 48  expected_monthly_loss_2             223225 non-null  float64\n",
            " 49  expected_monthly_loss_3             179298 non-null  float64\n",
            " 50  education_level__ordinal            223715 non-null  float64\n",
            " 51  family_status_Civil marriage        275234 non-null  uint8  \n",
            " 52  family_status_Married               275234 non-null  uint8  \n",
            " 53  family_status_Separated             275234 non-null  uint8  \n",
            " 54  family_status_Single / not married  275234 non-null  uint8  \n",
            " 55  family_status_Widow                 275234 non-null  uint8  \n",
            "dtypes: float64(49), int64(1), object(1), uint8(5)\n",
            "memory usage: 110.5+ MB\n"
          ],
          "name": "stdout"
        }
      ]
    },
    {
      "cell_type": "code",
      "metadata": {
        "id": "rXWKm7KAjes0"
      },
      "source": [
        "data_un = pd.concat([train, test], axis=0)\n",
        "data_un = data_un.reset_index(drop=True)"
      ],
      "execution_count": null,
      "outputs": []
    },
    {
      "cell_type": "code",
      "metadata": {
        "colab": {
          "base_uri": "https://localhost:8080/"
        },
        "id": "6-sLqqFkjqev",
        "outputId": "44294bbc-a011-4397-f553-b09e37045b2c"
      },
      "source": [
        "data_un.head()"
      ],
      "execution_count": null,
      "outputs": [
        {
          "output_type": "execute_result",
          "data": {
            "text/html": [
              "<div>\n",
              "<style scoped>\n",
              "    .dataframe tbody tr th:only-of-type {\n",
              "        vertical-align: middle;\n",
              "    }\n",
              "\n",
              "    .dataframe tbody tr th {\n",
              "        vertical-align: top;\n",
              "    }\n",
              "\n",
              "    .dataframe thead th {\n",
              "        text-align: right;\n",
              "    }\n",
              "</style>\n",
              "<table border=\"1\" class=\"dataframe\">\n",
              "  <thead>\n",
              "    <tr style=\"text-align: right;\">\n",
              "      <th></th>\n",
              "      <th>application_number</th>\n",
              "      <th>target</th>\n",
              "      <th>name_contract_type</th>\n",
              "    </tr>\n",
              "  </thead>\n",
              "  <tbody>\n",
              "    <tr>\n",
              "      <th>0</th>\n",
              "      <td>123687442</td>\n",
              "      <td>0.0</td>\n",
              "      <td>Cash</td>\n",
              "    </tr>\n",
              "    <tr>\n",
              "      <th>1</th>\n",
              "      <td>123597908</td>\n",
              "      <td>1.0</td>\n",
              "      <td>Cash</td>\n",
              "    </tr>\n",
              "    <tr>\n",
              "      <th>2</th>\n",
              "      <td>123526683</td>\n",
              "      <td>0.0</td>\n",
              "      <td>Cash</td>\n",
              "    </tr>\n",
              "    <tr>\n",
              "      <th>3</th>\n",
              "      <td>123710391</td>\n",
              "      <td>1.0</td>\n",
              "      <td>Cash</td>\n",
              "    </tr>\n",
              "    <tr>\n",
              "      <th>4</th>\n",
              "      <td>123590329</td>\n",
              "      <td>1.0</td>\n",
              "      <td>Cash</td>\n",
              "    </tr>\n",
              "  </tbody>\n",
              "</table>\n",
              "</div>"
            ],
            "text/plain": [
              "   application_number  target name_contract_type\n",
              "0           123687442     0.0               Cash\n",
              "1           123597908     1.0               Cash\n",
              "2           123526683     0.0               Cash\n",
              "3           123710391     1.0               Cash\n",
              "4           123590329     1.0               Cash"
            ]
          },
          "metadata": {
            "tags": []
          },
          "execution_count": 34
        }
      ]
    },
    {
      "cell_type": "code",
      "metadata": {
        "colab": {
          "base_uri": "https://localhost:8080/"
        },
        "id": "b5oBd0a1jwfM",
        "outputId": "dc12f04c-7e10-4824-dcde-ca72b13e6df4"
      },
      "source": [
        "data_un.name_contract_type.value_counts()"
      ],
      "execution_count": null,
      "outputs": [
        {
          "output_type": "execute_result",
          "data": {
            "text/plain": [
              "Cash           248983\n",
              "Credit Card     26251\n",
              "Name: name_contract_type, dtype: int64"
            ]
          },
          "metadata": {
            "tags": []
          },
          "execution_count": 35
        }
      ]
    },
    {
      "cell_type": "code",
      "metadata": {
        "id": "uTGpM0ewj1zI"
      },
      "source": [
        "data_un = pd.get_dummies(data_un, columns=['name_contract_type'])"
      ],
      "execution_count": null,
      "outputs": []
    },
    {
      "cell_type": "code",
      "metadata": {
        "id": "2mJm5EyJkDI4"
      },
      "source": [
        "data = data_un.merge(df, how=\"left\", on=\"application_number\")"
      ],
      "execution_count": null,
      "outputs": []
    },
    {
      "cell_type": "code",
      "metadata": {
        "id": "dXrZh2cypeo8"
      },
      "source": [
        "data = data.replace(np.inf, np.nan)\n",
        "data = data.replace(-np.inf, np.nan)"
      ],
      "execution_count": null,
      "outputs": []
    },
    {
      "cell_type": "code",
      "metadata": {
        "id": "HK-jZ5L0noA1"
      },
      "source": [
        "from sklearn.experimental import enable_iterative_imputer\n",
        "from sklearn.impute import IterativeImputer"
      ],
      "execution_count": null,
      "outputs": []
    },
    {
      "cell_type": "code",
      "metadata": {
        "id": "kc0p31KRnn9X"
      },
      "source": [
        "to_imput = list(set(data.columns) - set([ID, TARGET]))\n",
        "for feat in to_imput:\n",
        "  mice_imputer = IterativeImputer()\n",
        "  data[feat] = mice_imputer.fit_transform(data[[feat]])"
      ],
      "execution_count": null,
      "outputs": []
    },
    {
      "cell_type": "code",
      "metadata": {
        "id": "DQQdtJoLpwLd"
      },
      "source": [
        "data = data.replace(np.inf, np.nan)\n",
        "data = data.replace(-np.inf, np.nan)"
      ],
      "execution_count": null,
      "outputs": []
    },
    {
      "cell_type": "code",
      "metadata": {
        "colab": {
          "base_uri": "https://localhost:8080/"
        },
        "id": "0fUUo-x8nnqt",
        "outputId": "8c8d5d76-99b1-4117-b2b0-ede401efc1cb"
      },
      "source": [
        "data[to_imput].isna().sum().sum()"
      ],
      "execution_count": null,
      "outputs": [
        {
          "output_type": "execute_result",
          "data": {
            "text/plain": [
              "0"
            ]
          },
          "metadata": {
            "tags": []
          },
          "execution_count": 42
        }
      ]
    },
    {
      "cell_type": "code",
      "metadata": {
        "id": "IYgJiTjhqb55"
      },
      "source": [
        "data_lb = data.copy()"
      ],
      "execution_count": null,
      "outputs": []
    },
    {
      "cell_type": "code",
      "metadata": {
        "id": "-iAwL-KesH6i"
      },
      "source": [
        "mask = data[TARGET].isnull()\n",
        "features_to_drop = [AN, TARGET]\n",
        "\n",
        "X_train = data[~mask].drop(features_to_drop, axis=1)\n",
        "y_train = data.loc[~mask, TARGET]\n",
        "X_test = data.loc[mask].drop(features_to_drop, axis=1)"
      ],
      "execution_count": null,
      "outputs": []
    },
    {
      "cell_type": "code",
      "metadata": {
        "colab": {
          "base_uri": "https://localhost:8080/"
        },
        "id": "3g3mSQdWklAm",
        "outputId": "276745ef-bc7c-4aff-df66-7593f3ee35bf"
      },
      "source": [
        "X_train.shape"
      ],
      "execution_count": null,
      "outputs": [
        {
          "output_type": "execute_result",
          "data": {
            "text/plain": [
              "(110093, 57)"
            ]
          },
          "metadata": {
            "tags": []
          },
          "execution_count": 45
        }
      ]
    },
    {
      "cell_type": "code",
      "metadata": {
        "colab": {
          "base_uri": "https://localhost:8080/"
        },
        "id": "ciRuTKH2kkz5",
        "outputId": "aad174ca-fbe9-46ee-b0fd-09a027be51ed"
      },
      "source": [
        "y_train.shape"
      ],
      "execution_count": null,
      "outputs": [
        {
          "output_type": "execute_result",
          "data": {
            "text/plain": [
              "(110093,)"
            ]
          },
          "metadata": {
            "tags": []
          },
          "execution_count": 46
        }
      ]
    },
    {
      "cell_type": "code",
      "metadata": {
        "colab": {
          "base_uri": "https://localhost:8080/"
        },
        "id": "C6FA6Q37taZq",
        "outputId": "d52af241-9bd1-41fc-f4e5-4173a5ad4a88"
      },
      "source": [
        "X_test.shape"
      ],
      "execution_count": null,
      "outputs": [
        {
          "output_type": "execute_result",
          "data": {
            "text/plain": [
              "(165141, 57)"
            ]
          },
          "metadata": {
            "tags": []
          },
          "execution_count": 47
        }
      ]
    },
    {
      "cell_type": "markdown",
      "metadata": {
        "id": "3aGvsoiuLlfq"
      },
      "source": [
        "# Задание 1:\n",
        "Обучить алгоритмы LightGBM и XGBoost, получить OOF прогнозы, оценить корреляцию прогнозов на обучающей выборке. Применить модели на тестовую выборку и оценить корреляцию.     "
      ]
    },
    {
      "cell_type": "markdown",
      "metadata": {
        "id": "AMgwZrIn6YJG"
      },
      "source": [
        "## Функция для расчета и сохранения сабмитов"
      ]
    },
    {
      "cell_type": "code",
      "metadata": {
        "id": "BOtZmhLkuKJl"
      },
      "source": [
        "def submition(subm_name, estimators, X_test, test, ID, TARGET, xgbm=False):\n",
        "  \"\"\"\n",
        "  Расчет и сохранение сабмитов.\n",
        "\n",
        "  Parameters\n",
        "  ----------\n",
        "  subm_name: str\n",
        "      Имя для сабмита.\n",
        "\n",
        "  estimators: list\n",
        "    Список с объектами обученной модели.\n",
        "\n",
        "  X_test: pandas.core.frame.DataFrame\n",
        "    Тестовая матрица признаков (без ID).\n",
        "\n",
        "  test: pandas.core.frame.DataFrame\n",
        "    Тестовая матрица признаков (c ID, необработанная).\n",
        "\n",
        "  ID: str\n",
        "    Название колонки с id\n",
        "\n",
        "  TARGET: str\n",
        "    Название колонки с таргетом\n",
        "\n",
        "  Returns\n",
        "  -------\n",
        "  to_submit: pandas.core.frame.DataFrame\n",
        "    Матрица для сабмита\n",
        "  \"\"\"\n",
        "  if xgbm:\n",
        "    dtest = xgb.DMatrix(X_test)\n",
        "  proba = np.zeros((len(estimators), X_test.shape[0]))\n",
        "  for i, est in enumerate(estimators):\n",
        "    if xgbm:\n",
        "      proba[i, :] = est.predict(dtest)\n",
        "    else:\n",
        "      proba[i, :] = est.predict_proba(X_test)[:, 1]\n",
        "    print(f'estimator {i+1} results are ready')\n",
        "  proba_test = np.mean(proba, axis = 0)\n",
        "  to_submit = pd.DataFrame(columns=[ID, TARGET])\n",
        "  to_submit[ID] = test[ID]\n",
        "  to_submit[TARGET] = proba_test\n",
        "  to_submit.to_csv(f'{object_path}subm_{subm_name}.csv', index=False)\n",
        "  return to_submit"
      ],
      "execution_count": null,
      "outputs": []
    },
    {
      "cell_type": "markdown",
      "metadata": {
        "id": "GjYrbGKR6j_a"
      },
      "source": [
        "## LightGBM"
      ]
    },
    {
      "cell_type": "code",
      "metadata": {
        "id": "_JygztX7jkf2"
      },
      "source": [
        "lgbm_params = {\n",
        "    'boosting_type': 'gbdt',\n",
        "    'n_estimators': 10000,\n",
        "    'learning_rate': 0.001,\n",
        "    'max_depth': 10,\n",
        "    'subsample': 0.7,\n",
        "    'random_state': 42,\n",
        "    'silent': -1,\n",
        "    'verbose': -1\n",
        "}"
      ],
      "execution_count": null,
      "outputs": []
    },
    {
      "cell_type": "code",
      "metadata": {
        "id": "0lz0rtQDqObB"
      },
      "source": [
        "cv_strategy = StratifiedKFold(n_splits=5)"
      ],
      "execution_count": null,
      "outputs": []
    },
    {
      "cell_type": "code",
      "metadata": {
        "colab": {
          "base_uri": "https://localhost:8080/"
        },
        "id": "K9CBAD1ilMPS",
        "outputId": "b4726ddc-46bf-4a5c-f8c5-39fa7d4ed250"
      },
      "source": [
        "estimators, oof_preds = lightgbm_cross_validation(params=lgbm_params,\n",
        "                                                  X=X_train,\n",
        "                                                  y=y_train,\n",
        "                                                  cv=cv_strategy,\n",
        "                                                  categorical = None,\n",
        "                                                  early_stopping_rounds = 500)"
      ],
      "execution_count": null,
      "outputs": [
        {
          "output_type": "stream",
          "text": [
            "Sat Dec 12 16:13:15 2020, Cross-Validation, 110093 rows, 57 cols\n",
            "Training until validation scores don't improve for 500 rounds.\n",
            "[1000]\tvalid_0's auc: 0.711308\tvalid_0's binary_logloss: 0.26143\n",
            "[2000]\tvalid_0's auc: 0.717472\tvalid_0's binary_logloss: 0.257255\n",
            "[3000]\tvalid_0's auc: 0.722098\tvalid_0's binary_logloss: 0.255495\n",
            "[4000]\tvalid_0's auc: 0.724156\tvalid_0's binary_logloss: 0.254752\n",
            "[5000]\tvalid_0's auc: 0.725158\tvalid_0's binary_logloss: 0.254494\n",
            "[6000]\tvalid_0's auc: 0.725341\tvalid_0's binary_logloss: 0.254314\n",
            "Early stopping, best iteration is:\n",
            "[5660]\tvalid_0's auc: 0.725827\tvalid_0's binary_logloss: 0.254359\n",
            "Fold 1, Valid score = 0.72583\n",
            "Training until validation scores don't improve for 500 rounds.\n",
            "[1000]\tvalid_0's auc: 0.703125\tvalid_0's binary_logloss: 0.262273\n",
            "[2000]\tvalid_0's auc: 0.709512\tvalid_0's binary_logloss: 0.258537\n",
            "[3000]\tvalid_0's auc: 0.714245\tvalid_0's binary_logloss: 0.256653\n",
            "[4000]\tvalid_0's auc: 0.716991\tvalid_0's binary_logloss: 0.255904\n",
            "[5000]\tvalid_0's auc: 0.718244\tvalid_0's binary_logloss: 0.25548\n",
            "Early stopping, best iteration is:\n",
            "[5454]\tvalid_0's auc: 0.718546\tvalid_0's binary_logloss: 0.255427\n",
            "Fold 2, Valid score = 0.71855\n",
            "Training until validation scores don't improve for 500 rounds.\n",
            "[1000]\tvalid_0's auc: 0.715141\tvalid_0's binary_logloss: 0.260261\n",
            "[2000]\tvalid_0's auc: 0.722198\tvalid_0's binary_logloss: 0.255732\n",
            "[3000]\tvalid_0's auc: 0.726144\tvalid_0's binary_logloss: 0.254043\n",
            "[4000]\tvalid_0's auc: 0.727567\tvalid_0's binary_logloss: 0.253407\n",
            "[5000]\tvalid_0's auc: 0.728108\tvalid_0's binary_logloss: 0.253123\n",
            "Early stopping, best iteration is:\n",
            "[5475]\tvalid_0's auc: 0.728462\tvalid_0's binary_logloss: 0.253068\n",
            "Fold 3, Valid score = 0.72846\n",
            "Training until validation scores don't improve for 500 rounds.\n",
            "[1000]\tvalid_0's auc: 0.709668\tvalid_0's binary_logloss: 0.261697\n",
            "[2000]\tvalid_0's auc: 0.713854\tvalid_0's binary_logloss: 0.257737\n",
            "[3000]\tvalid_0's auc: 0.719512\tvalid_0's binary_logloss: 0.255905\n",
            "[4000]\tvalid_0's auc: 0.72242\tvalid_0's binary_logloss: 0.25514\n",
            "[5000]\tvalid_0's auc: 0.723594\tvalid_0's binary_logloss: 0.254844\n",
            "[6000]\tvalid_0's auc: 0.724279\tvalid_0's binary_logloss: 0.254616\n",
            "[7000]\tvalid_0's auc: 0.724948\tvalid_0's binary_logloss: 0.254552\n",
            "Early stopping, best iteration is:\n",
            "[6696]\tvalid_0's auc: 0.724527\tvalid_0's binary_logloss: 0.254539\n",
            "Fold 4, Valid score = 0.72453\n",
            "Training until validation scores don't improve for 500 rounds.\n",
            "[1000]\tvalid_0's auc: 0.72115\tvalid_0's binary_logloss: 0.259805\n",
            "[2000]\tvalid_0's auc: 0.726131\tvalid_0's binary_logloss: 0.255527\n",
            "[3000]\tvalid_0's auc: 0.730724\tvalid_0's binary_logloss: 0.253758\n",
            "[4000]\tvalid_0's auc: 0.732429\tvalid_0's binary_logloss: 0.253083\n",
            "[5000]\tvalid_0's auc: 0.73327\tvalid_0's binary_logloss: 0.252799\n",
            "Early stopping, best iteration is:\n",
            "[5335]\tvalid_0's auc: 0.733791\tvalid_0's binary_logloss: 0.252736\n",
            "Fold 5, Valid score = 0.73379\n",
            "Score by each fold: [0.72583, 0.71855, 0.72846, 0.72453, 0.73379]\n",
            "=================================================================\n"
          ],
          "name": "stdout"
        }
      ]
    },
    {
      "cell_type": "code",
      "metadata": {
        "colab": {
          "base_uri": "https://localhost:8080/",
          "height": 35
        },
        "id": "OOe0_oAsuK5x",
        "outputId": "442b37ac-9dc2-4de5-a4eb-87e95aa1d642"
      },
      "source": [
        "save_obj(estimators, 'estimators_bl_lgbm')\n",
        "save_obj(oof_preds, 'oof_preds_bl_lgbm')"
      ],
      "execution_count": null,
      "outputs": [
        {
          "output_type": "execute_result",
          "data": {
            "application/vnd.google.colaboratory.intrinsic+json": {
              "type": "string"
            },
            "text/plain": [
              "'gdrive/My Drive/AI/GB/Kaggle/geekbrains-competitive-data-analysis/objects/oof_preds_bl_lgbm.pkl'"
            ]
          },
          "metadata": {
            "tags": []
          },
          "execution_count": 457
        }
      ]
    },
    {
      "cell_type": "code",
      "metadata": {
        "colab": {
          "base_uri": "https://localhost:8080/"
        },
        "id": "1ahBgfQxlnAk",
        "outputId": "20be1f71-bc23-4ad3-9fe3-19606d2aa5ef"
      },
      "source": [
        "oof_score = roc_auc_score(y_train, oof_preds)\n",
        "print(f\"OOF-score = {round(oof_score, 5)}\")"
      ],
      "execution_count": null,
      "outputs": [
        {
          "output_type": "stream",
          "text": [
            "OOF-score = 0.72578\n"
          ],
          "name": "stdout"
        }
      ]
    },
    {
      "cell_type": "code",
      "metadata": {
        "colab": {
          "base_uri": "https://localhost:8080/",
          "height": 143
        },
        "id": "zRa9_6AU1Hgt",
        "outputId": "31bb5b64-59d7-4398-bbaa-bf46473dd058"
      },
      "source": [
        "X_test.head(2)"
      ],
      "execution_count": null,
      "outputs": [
        {
          "output_type": "execute_result",
          "data": {
            "text/html": [
              "<div>\n",
              "<style scoped>\n",
              "    .dataframe tbody tr th:only-of-type {\n",
              "        vertical-align: middle;\n",
              "    }\n",
              "\n",
              "    .dataframe tbody tr th {\n",
              "        vertical-align: top;\n",
              "    }\n",
              "\n",
              "    .dataframe thead th {\n",
              "        text-align: right;\n",
              "    }\n",
              "</style>\n",
              "<table border=\"1\" class=\"dataframe\">\n",
              "  <thead>\n",
              "    <tr style=\"text-align: right;\">\n",
              "      <th></th>\n",
              "      <th>name_contract_type_Cash</th>\n",
              "      <th>name_contract_type_Credit Card</th>\n",
              "      <th>gender</th>\n",
              "      <th>childrens</th>\n",
              "      <th>total_salary</th>\n",
              "      <th>amount_credit</th>\n",
              "      <th>amount_annuity</th>\n",
              "      <th>region_population</th>\n",
              "      <th>age</th>\n",
              "      <th>days_on_last_job</th>\n",
              "      <th>own_car_age</th>\n",
              "      <th>flag_phone</th>\n",
              "      <th>flag_email</th>\n",
              "      <th>family_size</th>\n",
              "      <th>external_scoring_rating_1</th>\n",
              "      <th>external_scoring_rating_2</th>\n",
              "      <th>external_scoring_rating_3</th>\n",
              "      <th>amt_req_credit_bureau_hour</th>\n",
              "      <th>amt_req_credit_bureau_day</th>\n",
              "      <th>amt_req_credit_bureau_week</th>\n",
              "      <th>amt_req_credit_bureau_mon</th>\n",
              "      <th>amt_req_credit_bureau_qrt</th>\n",
              "      <th>amt_req_credit_bureau_year</th>\n",
              "      <th>bki_requests_count</th>\n",
              "      <th>bki_kurtosis</th>\n",
              "      <th>external_scoring_prod</th>\n",
              "      <th>external_scoring_weighted</th>\n",
              "      <th>external_scoring_rating_min</th>\n",
              "      <th>external_scoring_rating_max</th>\n",
              "      <th>external_scoring_rating_mean</th>\n",
              "      <th>external_scoring_rating_nanmedian</th>\n",
              "      <th>external_scoring_rating_var</th>\n",
              "      <th>ratio_credit_to_annuity</th>\n",
              "      <th>ratio_annuity_to_salary</th>\n",
              "      <th>ratio_credit_to_salary</th>\n",
              "      <th>ratio_annuity_to_age</th>\n",
              "      <th>ratio_credit_to_age</th>\n",
              "      <th>ratio_salary_to_age</th>\n",
              "      <th>ratio_salary_to_experience</th>\n",
              "      <th>ratio_credit_to_experience</th>\n",
              "      <th>ratio_annuity_to_experience</th>\n",
              "      <th>ratio_age_to_experience</th>\n",
              "      <th>ratio_salary_to_region_population</th>\n",
              "      <th>ratio_car_to_experience</th>\n",
              "      <th>ratio_car_to_age</th>\n",
              "      <th>expected_total_loss_1</th>\n",
              "      <th>expected_total_loss_2</th>\n",
              "      <th>expected_total_loss_3</th>\n",
              "      <th>expected_monthly_loss_1</th>\n",
              "      <th>expected_monthly_loss_2</th>\n",
              "      <th>expected_monthly_loss_3</th>\n",
              "      <th>education_level__ordinal</th>\n",
              "      <th>family_status_Civil marriage</th>\n",
              "      <th>family_status_Married</th>\n",
              "      <th>family_status_Separated</th>\n",
              "      <th>family_status_Single / not married</th>\n",
              "      <th>family_status_Widow</th>\n",
              "    </tr>\n",
              "  </thead>\n",
              "  <tbody>\n",
              "    <tr>\n",
              "      <th>110093</th>\n",
              "      <td>1.0</td>\n",
              "      <td>0.0</td>\n",
              "      <td>0.0</td>\n",
              "      <td>0.0</td>\n",
              "      <td>117000.0</td>\n",
              "      <td>1125000.0</td>\n",
              "      <td>32895.0</td>\n",
              "      <td>0.028663</td>\n",
              "      <td>16007.0</td>\n",
              "      <td>2646.0</td>\n",
              "      <td>20.000000</td>\n",
              "      <td>0.0</td>\n",
              "      <td>0.0</td>\n",
              "      <td>2.0</td>\n",
              "      <td>0.502059</td>\n",
              "      <td>0.628266</td>\n",
              "      <td>0.510665</td>\n",
              "      <td>0.0</td>\n",
              "      <td>0.0</td>\n",
              "      <td>0.0</td>\n",
              "      <td>0.0</td>\n",
              "      <td>1.0</td>\n",
              "      <td>4.0</td>\n",
              "      <td>5.0</td>\n",
              "      <td>4.639906</td>\n",
              "      <td>0.143151</td>\n",
              "      <td>3.033967</td>\n",
              "      <td>0.628266</td>\n",
              "      <td>0.628266</td>\n",
              "      <td>0.628266</td>\n",
              "      <td>0.628266</td>\n",
              "      <td>0.000000</td>\n",
              "      <td>34.199726</td>\n",
              "      <td>0.281154</td>\n",
              "      <td>9.615385</td>\n",
              "      <td>2.055038</td>\n",
              "      <td>70.281752</td>\n",
              "      <td>7.309302</td>\n",
              "      <td>44.217687</td>\n",
              "      <td>425.170068</td>\n",
              "      <td>12.431973</td>\n",
              "      <td>6.049509</td>\n",
              "      <td>3353.571</td>\n",
              "      <td>0.007559</td>\n",
              "      <td>0.001249</td>\n",
              "      <td>322939.469562</td>\n",
              "      <td>706799.427892</td>\n",
              "      <td>313952.077049</td>\n",
              "      <td>14458.706591</td>\n",
              "      <td>20666.815272</td>\n",
              "      <td>13970.667374</td>\n",
              "      <td>2.0</td>\n",
              "      <td>0.0</td>\n",
              "      <td>1.0</td>\n",
              "      <td>0.0</td>\n",
              "      <td>0.0</td>\n",
              "      <td>0.0</td>\n",
              "    </tr>\n",
              "    <tr>\n",
              "      <th>110094</th>\n",
              "      <td>1.0</td>\n",
              "      <td>0.0</td>\n",
              "      <td>1.0</td>\n",
              "      <td>2.0</td>\n",
              "      <td>81000.0</td>\n",
              "      <td>312768.0</td>\n",
              "      <td>17095.5</td>\n",
              "      <td>0.019689</td>\n",
              "      <td>10315.0</td>\n",
              "      <td>459.0</td>\n",
              "      <td>12.033603</td>\n",
              "      <td>0.0</td>\n",
              "      <td>0.0</td>\n",
              "      <td>4.0</td>\n",
              "      <td>0.502059</td>\n",
              "      <td>0.578161</td>\n",
              "      <td>0.188490</td>\n",
              "      <td>0.0</td>\n",
              "      <td>0.0</td>\n",
              "      <td>1.0</td>\n",
              "      <td>0.0</td>\n",
              "      <td>0.0</td>\n",
              "      <td>2.0</td>\n",
              "      <td>3.0</td>\n",
              "      <td>1.428571</td>\n",
              "      <td>0.143151</td>\n",
              "      <td>3.033967</td>\n",
              "      <td>0.188490</td>\n",
              "      <td>0.578161</td>\n",
              "      <td>0.383325</td>\n",
              "      <td>0.383325</td>\n",
              "      <td>0.037961</td>\n",
              "      <td>18.295341</td>\n",
              "      <td>0.211056</td>\n",
              "      <td>3.861333</td>\n",
              "      <td>1.657344</td>\n",
              "      <td>30.321667</td>\n",
              "      <td>7.852642</td>\n",
              "      <td>176.470588</td>\n",
              "      <td>681.411765</td>\n",
              "      <td>37.245098</td>\n",
              "      <td>22.472767</td>\n",
              "      <td>1594.809</td>\n",
              "      <td>0.015426</td>\n",
              "      <td>0.000849</td>\n",
              "      <td>322939.469562</td>\n",
              "      <td>180830.265914</td>\n",
              "      <td>58953.494506</td>\n",
              "      <td>14458.706591</td>\n",
              "      <td>9883.951718</td>\n",
              "      <td>3222.322825</td>\n",
              "      <td>2.0</td>\n",
              "      <td>0.0</td>\n",
              "      <td>1.0</td>\n",
              "      <td>0.0</td>\n",
              "      <td>0.0</td>\n",
              "      <td>0.0</td>\n",
              "    </tr>\n",
              "  </tbody>\n",
              "</table>\n",
              "</div>"
            ],
            "text/plain": [
              "        name_contract_type_Cash  ...  family_status_Widow\n",
              "110093                      1.0  ...                  0.0\n",
              "110094                      1.0  ...                  0.0\n",
              "\n",
              "[2 rows x 57 columns]"
            ]
          },
          "metadata": {
            "tags": []
          },
          "execution_count": 467
        }
      ]
    },
    {
      "cell_type": "code",
      "metadata": {
        "colab": {
          "base_uri": "https://localhost:8080/"
        },
        "id": "XUqkNAgiuJ7C",
        "outputId": "397e03b5-9845-4059-f7ec-afbc5046cc0f"
      },
      "source": [
        "submition(subm_name='bl_lgbm_hw7', estimators=estimators, X_test=X_test, ID=ID, TARGET=TARGET)"
      ],
      "execution_count": null,
      "outputs": [
        {
          "output_type": "stream",
          "text": [
            "0 estimator results are ready\n",
            "1 estimator results are ready\n",
            "2 estimator results are ready\n",
            "3 estimator results are ready\n",
            "4 estimator results are ready\n"
          ],
          "name": "stdout"
        }
      ]
    },
    {
      "cell_type": "markdown",
      "metadata": {
        "id": "vFda35LSB2Pp"
      },
      "source": [
        "### LB submition:\n",
        "  **0.72976**"
      ]
    },
    {
      "cell_type": "markdown",
      "metadata": {
        "id": "0NI3ag0n6zZP"
      },
      "source": [
        "## XGBoost"
      ]
    },
    {
      "cell_type": "code",
      "metadata": {
        "id": "biLFlC2OuJlT"
      },
      "source": [
        "xgb_params = {\n",
        "    \"objective\": \"binary:logistic\",\n",
        "    \"booster\": \"gbtree\",\n",
        "    \"eval_metric\": \"auc\",\n",
        "    \"eta\": \"0.05\",\n",
        "    \"max_depth\": 6,\n",
        "    \"gamma\": 10,\n",
        "    \"subsample\": 0.85,\n",
        "    \"colsample_bytree\": 0.7,\n",
        "    \"colsample_bylevel\": 0.632,\n",
        "    \"min_child_weight\": 30,\n",
        "    \"alpha\": 0,\n",
        "    \"lambda\": 0,\n",
        "    \"nthread\": 6,\n",
        "    \"random_seed\": 42\n",
        "}\n"
      ],
      "execution_count": null,
      "outputs": []
    },
    {
      "cell_type": "code",
      "metadata": {
        "colab": {
          "base_uri": "https://localhost:8080/"
        },
        "id": "iK0YidOtuJUD",
        "outputId": "72c1ef98-ba47-42e2-8611-13b4efebf0fd"
      },
      "source": [
        "xgb_estimators, _, xgb_oof = xgboost_cross_validation(params=xgb_params,\n",
        "                                                      X=X_train,\n",
        "                                                      y=y_train,\n",
        "                                                      cv=cv_strategy,\n",
        "                                                      categorical = None,\n",
        "                                                      early_stopping_rounds=500)"
      ],
      "execution_count": null,
      "outputs": [
        {
          "output_type": "stream",
          "text": [
            "Sat Dec 12 16:47:50 2020, Cross-Validation, 110093 rows, 57 cols\n",
            "[0]\ttrain-auc:0.689013\tvalid-auc:0.683124\n",
            "Multiple eval metrics have been passed: 'valid-auc' will be used for early stopping.\n",
            "\n",
            "Will train until valid-auc hasn't improved in 500 rounds.\n",
            "Stopping. Best iteration:\n",
            "[423]\ttrain-auc:0.766225\tvalid-auc:0.727701\n",
            "\n",
            "Fold 1, Valid score = 0.72644\n",
            "[0]\ttrain-auc:0.691644\tvalid-auc:0.678143\n",
            "Multiple eval metrics have been passed: 'valid-auc' will be used for early stopping.\n",
            "\n",
            "Will train until valid-auc hasn't improved in 500 rounds.\n",
            "[1000]\ttrain-auc:0.782375\tvalid-auc:0.720219\n",
            "Stopping. Best iteration:\n",
            "[1188]\ttrain-auc:0.786035\tvalid-auc:0.72046\n",
            "\n",
            "Fold 2, Valid score = 0.71989\n",
            "[0]\ttrain-auc:0.689561\tvalid-auc:0.690513\n",
            "Multiple eval metrics have been passed: 'valid-auc' will be used for early stopping.\n",
            "\n",
            "Will train until valid-auc hasn't improved in 500 rounds.\n",
            "[1000]\ttrain-auc:0.782119\tvalid-auc:0.731245\n",
            "Stopping. Best iteration:\n",
            "[1172]\ttrain-auc:0.78536\tvalid-auc:0.732066\n",
            "\n",
            "Fold 3, Valid score = 0.73133\n",
            "[0]\ttrain-auc:0.689798\tvalid-auc:0.684335\n",
            "Multiple eval metrics have been passed: 'valid-auc' will be used for early stopping.\n",
            "\n",
            "Will train until valid-auc hasn't improved in 500 rounds.\n",
            "[1000]\ttrain-auc:0.78115\tvalid-auc:0.729433\n",
            "Stopping. Best iteration:\n",
            "[1423]\ttrain-auc:0.789092\tvalid-auc:0.729999\n",
            "\n",
            "Fold 4, Valid score = 0.72888\n",
            "[0]\ttrain-auc:0.689073\tvalid-auc:0.689749\n",
            "Multiple eval metrics have been passed: 'valid-auc' will be used for early stopping.\n",
            "\n",
            "Will train until valid-auc hasn't improved in 500 rounds.\n",
            "[1000]\ttrain-auc:0.782622\tvalid-auc:0.736197\n",
            "Stopping. Best iteration:\n",
            "[713]\ttrain-auc:0.775805\tvalid-auc:0.737362\n",
            "\n",
            "Fold 5, Valid score = 0.73637\n"
          ],
          "name": "stdout"
        }
      ]
    },
    {
      "cell_type": "code",
      "metadata": {
        "colab": {
          "base_uri": "https://localhost:8080/",
          "height": 35
        },
        "id": "ufBq8Arf1guA",
        "outputId": "a19cec1b-e6f8-484a-8ffa-c1db5d822087"
      },
      "source": [
        "save_obj(xgb_estimators, 'estimators_bl_xgb')\n",
        "save_obj(xgb_oof, 'oof_preds_bl_xgb')"
      ],
      "execution_count": null,
      "outputs": [
        {
          "output_type": "execute_result",
          "data": {
            "application/vnd.google.colaboratory.intrinsic+json": {
              "type": "string"
            },
            "text/plain": [
              "'gdrive/My Drive/AI/GB/Kaggle/geekbrains-competitive-data-analysis/objects/oof_preds_bl_xgb.pkl'"
            ]
          },
          "metadata": {
            "tags": []
          },
          "execution_count": 483
        }
      ]
    },
    {
      "cell_type": "code",
      "metadata": {
        "colab": {
          "base_uri": "https://localhost:8080/"
        },
        "id": "phDCLkjG1gkz",
        "outputId": "b0e2d967-680a-48fe-ff93-22ffd64f75c4"
      },
      "source": [
        "oof_score = roc_auc_score(y_train, xgb_oof)\n",
        "print(f\"OOF-score = {round(oof_score, 5)}\")"
      ],
      "execution_count": null,
      "outputs": [
        {
          "output_type": "stream",
          "text": [
            "OOF-score = 0.72831\n"
          ],
          "name": "stdout"
        }
      ]
    },
    {
      "cell_type": "code",
      "metadata": {
        "colab": {
          "base_uri": "https://localhost:8080/",
          "height": 486
        },
        "id": "JSJuZgc81gb7",
        "outputId": "e9cf021c-0e89-48b7-9810-99029f67913d"
      },
      "source": [
        "submition(subm_name='bl_xgb_hw7', estimators=xgb_estimators, X_test=X_test, test=test, ID=ID, TARGET=TARGET, xgbm=True)"
      ],
      "execution_count": null,
      "outputs": [
        {
          "output_type": "stream",
          "text": [
            "estimator 1 results are ready\n",
            "estimator 2 results are ready\n",
            "estimator 3 results are ready\n",
            "estimator 4 results are ready\n",
            "estimator 5 results are ready\n"
          ],
          "name": "stdout"
        },
        {
          "output_type": "execute_result",
          "data": {
            "text/html": [
              "<div>\n",
              "<style scoped>\n",
              "    .dataframe tbody tr th:only-of-type {\n",
              "        vertical-align: middle;\n",
              "    }\n",
              "\n",
              "    .dataframe tbody tr th {\n",
              "        vertical-align: top;\n",
              "    }\n",
              "\n",
              "    .dataframe thead th {\n",
              "        text-align: right;\n",
              "    }\n",
              "</style>\n",
              "<table border=\"1\" class=\"dataframe\">\n",
              "  <thead>\n",
              "    <tr style=\"text-align: right;\">\n",
              "      <th></th>\n",
              "      <th>application_number</th>\n",
              "      <th>target</th>\n",
              "    </tr>\n",
              "  </thead>\n",
              "  <tbody>\n",
              "    <tr>\n",
              "      <th>0</th>\n",
              "      <td>123724268</td>\n",
              "      <td>0.070627</td>\n",
              "    </tr>\n",
              "    <tr>\n",
              "      <th>1</th>\n",
              "      <td>123456549</td>\n",
              "      <td>0.283316</td>\n",
              "    </tr>\n",
              "    <tr>\n",
              "      <th>2</th>\n",
              "      <td>123428178</td>\n",
              "      <td>0.153693</td>\n",
              "    </tr>\n",
              "    <tr>\n",
              "      <th>3</th>\n",
              "      <td>123619984</td>\n",
              "      <td>0.085141</td>\n",
              "    </tr>\n",
              "    <tr>\n",
              "      <th>4</th>\n",
              "      <td>123671104</td>\n",
              "      <td>0.016864</td>\n",
              "    </tr>\n",
              "    <tr>\n",
              "      <th>...</th>\n",
              "      <td>...</td>\n",
              "      <td>...</td>\n",
              "    </tr>\n",
              "    <tr>\n",
              "      <th>165136</th>\n",
              "      <td>123487967</td>\n",
              "      <td>0.085141</td>\n",
              "    </tr>\n",
              "    <tr>\n",
              "      <th>165137</th>\n",
              "      <td>123536402</td>\n",
              "      <td>0.055058</td>\n",
              "    </tr>\n",
              "    <tr>\n",
              "      <th>165138</th>\n",
              "      <td>123718238</td>\n",
              "      <td>0.085141</td>\n",
              "    </tr>\n",
              "    <tr>\n",
              "      <th>165139</th>\n",
              "      <td>123631557</td>\n",
              "      <td>0.013095</td>\n",
              "    </tr>\n",
              "    <tr>\n",
              "      <th>165140</th>\n",
              "      <td>123433260</td>\n",
              "      <td>0.041893</td>\n",
              "    </tr>\n",
              "  </tbody>\n",
              "</table>\n",
              "<p>165141 rows × 2 columns</p>\n",
              "</div>"
            ],
            "text/plain": [
              "        application_number    target\n",
              "0                123724268  0.070627\n",
              "1                123456549  0.283316\n",
              "2                123428178  0.153693\n",
              "3                123619984  0.085141\n",
              "4                123671104  0.016864\n",
              "...                    ...       ...\n",
              "165136           123487967  0.085141\n",
              "165137           123536402  0.055058\n",
              "165138           123718238  0.085141\n",
              "165139           123631557  0.013095\n",
              "165140           123433260  0.041893\n",
              "\n",
              "[165141 rows x 2 columns]"
            ]
          },
          "metadata": {
            "tags": []
          },
          "execution_count": 500
        }
      ]
    },
    {
      "cell_type": "markdown",
      "metadata": {
        "id": "f1Pd9xl-EGrp"
      },
      "source": [
        "### XGB submition:\n",
        "  **0.73424**"
      ]
    },
    {
      "cell_type": "markdown",
      "metadata": {
        "id": "OYwbNPOkEBJl"
      },
      "source": [
        "## Корреляции"
      ]
    },
    {
      "cell_type": "code",
      "metadata": {
        "id": "3KzofZZp1x73"
      },
      "source": [
        "oof_preds_lgbm = load_obj('oof_preds_bl_lgbm')\n",
        "oof_preds_xgb = load_obj('oof_preds_bl_xgb')\n",
        "subm_lgbm = pd.read_csv(object_path + \"subm_bl_lgbm_hw7.csv\", index_col=0)\n",
        "subm_xgb = pd.read_csv(object_path + \"subm_bl_xgb_hw7.csv\", index_col=0)"
      ],
      "execution_count": null,
      "outputs": []
    },
    {
      "cell_type": "code",
      "metadata": {
        "colab": {
          "base_uri": "https://localhost:8080/"
        },
        "id": "A2RS5DZFMxua",
        "outputId": "1cb988e7-7f0f-4c9f-80da-a611d7f6f11a"
      },
      "source": [
        "oof_preds_lgbm[:2]"
      ],
      "execution_count": null,
      "outputs": [
        {
          "output_type": "execute_result",
          "data": {
            "text/plain": [
              "array([0.02046236, 0.0838986 ])"
            ]
          },
          "metadata": {
            "tags": []
          },
          "execution_count": 13
        }
      ]
    },
    {
      "cell_type": "code",
      "metadata": {
        "colab": {
          "base_uri": "https://localhost:8080/"
        },
        "id": "0RoQk5U9M31O",
        "outputId": "5e6ae69d-86f4-4590-eb68-4696bbafe421"
      },
      "source": [
        "oof_preds_xgb[:2]"
      ],
      "execution_count": null,
      "outputs": [
        {
          "output_type": "execute_result",
          "data": {
            "text/plain": [
              "array([0.01656037, 0.08380837])"
            ]
          },
          "metadata": {
            "tags": []
          },
          "execution_count": 14
        }
      ]
    },
    {
      "cell_type": "code",
      "metadata": {
        "colab": {
          "base_uri": "https://localhost:8080/",
          "height": 136
        },
        "id": "zJaXTgou1x6K",
        "outputId": "0c200723-21aa-418f-dfac-52da9712e672"
      },
      "source": [
        "subm_lgbm.head(2)"
      ],
      "execution_count": null,
      "outputs": [
        {
          "output_type": "execute_result",
          "data": {
            "text/html": [
              "<div>\n",
              "<style scoped>\n",
              "    .dataframe tbody tr th:only-of-type {\n",
              "        vertical-align: middle;\n",
              "    }\n",
              "\n",
              "    .dataframe tbody tr th {\n",
              "        vertical-align: top;\n",
              "    }\n",
              "\n",
              "    .dataframe thead th {\n",
              "        text-align: right;\n",
              "    }\n",
              "</style>\n",
              "<table border=\"1\" class=\"dataframe\">\n",
              "  <thead>\n",
              "    <tr style=\"text-align: right;\">\n",
              "      <th></th>\n",
              "      <th>target</th>\n",
              "    </tr>\n",
              "    <tr>\n",
              "      <th>application_number</th>\n",
              "      <th></th>\n",
              "    </tr>\n",
              "  </thead>\n",
              "  <tbody>\n",
              "    <tr>\n",
              "      <th>123724268</th>\n",
              "      <td>0.057826</td>\n",
              "    </tr>\n",
              "    <tr>\n",
              "      <th>123456549</th>\n",
              "      <td>0.241536</td>\n",
              "    </tr>\n",
              "  </tbody>\n",
              "</table>\n",
              "</div>"
            ],
            "text/plain": [
              "                      target\n",
              "application_number          \n",
              "123724268           0.057826\n",
              "123456549           0.241536"
            ]
          },
          "metadata": {
            "tags": []
          },
          "execution_count": 8
        }
      ]
    },
    {
      "cell_type": "code",
      "metadata": {
        "colab": {
          "base_uri": "https://localhost:8080/",
          "height": 136
        },
        "id": "Ih4stR_m1x4K",
        "outputId": "55029e35-7dce-42e1-ca89-ea6bc543c8d5"
      },
      "source": [
        "subm_xgb.head(2)"
      ],
      "execution_count": null,
      "outputs": [
        {
          "output_type": "execute_result",
          "data": {
            "text/html": [
              "<div>\n",
              "<style scoped>\n",
              "    .dataframe tbody tr th:only-of-type {\n",
              "        vertical-align: middle;\n",
              "    }\n",
              "\n",
              "    .dataframe tbody tr th {\n",
              "        vertical-align: top;\n",
              "    }\n",
              "\n",
              "    .dataframe thead th {\n",
              "        text-align: right;\n",
              "    }\n",
              "</style>\n",
              "<table border=\"1\" class=\"dataframe\">\n",
              "  <thead>\n",
              "    <tr style=\"text-align: right;\">\n",
              "      <th></th>\n",
              "      <th>target</th>\n",
              "    </tr>\n",
              "    <tr>\n",
              "      <th>application_number</th>\n",
              "      <th></th>\n",
              "    </tr>\n",
              "  </thead>\n",
              "  <tbody>\n",
              "    <tr>\n",
              "      <th>123724268</th>\n",
              "      <td>0.070627</td>\n",
              "    </tr>\n",
              "    <tr>\n",
              "      <th>123456549</th>\n",
              "      <td>0.283316</td>\n",
              "    </tr>\n",
              "  </tbody>\n",
              "</table>\n",
              "</div>"
            ],
            "text/plain": [
              "                      target\n",
              "application_number          \n",
              "123724268           0.070627\n",
              "123456549           0.283316"
            ]
          },
          "metadata": {
            "tags": []
          },
          "execution_count": 9
        }
      ]
    },
    {
      "cell_type": "code",
      "metadata": {
        "colab": {
          "base_uri": "https://localhost:8080/"
        },
        "id": "AQpIGdr2M8PL",
        "outputId": "dd917438-862e-4835-cf02-5bc6c4f57d91"
      },
      "source": [
        "\n",
        "print(f'Корреляция между моделями на тренировочном наборе = {round(np.corrcoef(x=oof_preds_lgbm, y=oof_preds_xgb)[0, 1], 3)}')"
      ],
      "execution_count": null,
      "outputs": [
        {
          "output_type": "stream",
          "text": [
            "Корреляция между моделями на тренировочном наборе = 0.962\n"
          ],
          "name": "stdout"
        }
      ]
    },
    {
      "cell_type": "code",
      "metadata": {
        "colab": {
          "base_uri": "https://localhost:8080/"
        },
        "id": "LcRvDZPS1xyR",
        "outputId": "63527c7e-7a46-4d1f-dac0-7336a4d93dd3"
      },
      "source": [
        "print(f'Корреляция между моделями на тестовом наборе = {round(np.corrcoef(x=subm_lgbm.target.values, y=subm_xgb.target.values)[0, 1], 3)}')"
      ],
      "execution_count": null,
      "outputs": [
        {
          "output_type": "stream",
          "text": [
            "Корреляция между моделями на тестовом наборе = 0.977\n"
          ],
          "name": "stdout"
        }
      ]
    },
    {
      "cell_type": "markdown",
      "metadata": {
        "id": "ELltZZthNrwM"
      },
      "source": [
        "### Отличное значение корреляции для слияния"
      ]
    },
    {
      "cell_type": "markdown",
      "metadata": {
        "id": "xEeFnmzBVgLR"
      },
      "source": [
        "# Задание 2\n",
        "Усреднить прогнозы с помощью арифмитического среднего, геометрического среднего и усреднить ранги, сделать выводы о качестве отдельных моделей и о качестве комбинации."
      ]
    },
    {
      "cell_type": "markdown",
      "metadata": {
        "id": "r3P_oJTZYP2i"
      },
      "source": [
        "## MEAN"
      ]
    },
    {
      "cell_type": "markdown",
      "metadata": {
        "id": "QK5naEdYYVQp"
      },
      "source": [
        "### Расчет"
      ]
    },
    {
      "cell_type": "code",
      "metadata": {
        "id": "bQL883klV0E_"
      },
      "source": [
        "subm_mean = np.mean(np.array([subm_lgbm.target.values, subm_xgb.target.values]), axis=0)\n",
        "to_submit = pd.DataFrame(columns=[ID, TARGET])\n",
        "to_submit[ID] = test[ID]\n",
        "to_submit[TARGET] = subm_mean\n",
        "to_submit.to_csv(f'{object_path}subm_bl_mean(lgbm_xgb).csv', index=False)"
      ],
      "execution_count": null,
      "outputs": []
    },
    {
      "cell_type": "code",
      "metadata": {
        "colab": {
          "base_uri": "https://localhost:8080/",
          "height": 195
        },
        "id": "wRzhLL3uXRBI",
        "outputId": "681ad1ab-12b8-4bb6-dca0-5bd0c0886941"
      },
      "source": [
        "to_submit.head()"
      ],
      "execution_count": null,
      "outputs": [
        {
          "output_type": "execute_result",
          "data": {
            "text/html": [
              "<div>\n",
              "<style scoped>\n",
              "    .dataframe tbody tr th:only-of-type {\n",
              "        vertical-align: middle;\n",
              "    }\n",
              "\n",
              "    .dataframe tbody tr th {\n",
              "        vertical-align: top;\n",
              "    }\n",
              "\n",
              "    .dataframe thead th {\n",
              "        text-align: right;\n",
              "    }\n",
              "</style>\n",
              "<table border=\"1\" class=\"dataframe\">\n",
              "  <thead>\n",
              "    <tr style=\"text-align: right;\">\n",
              "      <th></th>\n",
              "      <th>application_number</th>\n",
              "      <th>target</th>\n",
              "    </tr>\n",
              "  </thead>\n",
              "  <tbody>\n",
              "    <tr>\n",
              "      <th>0</th>\n",
              "      <td>123724268</td>\n",
              "      <td>0.064226</td>\n",
              "    </tr>\n",
              "    <tr>\n",
              "      <th>1</th>\n",
              "      <td>123456549</td>\n",
              "      <td>0.262426</td>\n",
              "    </tr>\n",
              "    <tr>\n",
              "      <th>2</th>\n",
              "      <td>123428178</td>\n",
              "      <td>0.155141</td>\n",
              "    </tr>\n",
              "    <tr>\n",
              "      <th>3</th>\n",
              "      <td>123619984</td>\n",
              "      <td>0.085101</td>\n",
              "    </tr>\n",
              "    <tr>\n",
              "      <th>4</th>\n",
              "      <td>123671104</td>\n",
              "      <td>0.018674</td>\n",
              "    </tr>\n",
              "  </tbody>\n",
              "</table>\n",
              "</div>"
            ],
            "text/plain": [
              "   application_number    target\n",
              "0           123724268  0.064226\n",
              "1           123456549  0.262426\n",
              "2           123428178  0.155141\n",
              "3           123619984  0.085101\n",
              "4           123671104  0.018674"
            ]
          },
          "metadata": {
            "tags": []
          },
          "execution_count": 40
        }
      ]
    },
    {
      "cell_type": "markdown",
      "metadata": {
        "id": "TgBzLQu6YAcc"
      },
      "source": [
        "### XGB + LGBM mean submition:\n",
        "  **0.73295**"
      ]
    },
    {
      "cell_type": "markdown",
      "metadata": {
        "id": "CV3YigrxYLq-"
      },
      "source": [
        "Лучше, чем LGBM, но хуже чем XGB"
      ]
    },
    {
      "cell_type": "markdown",
      "metadata": {
        "id": "uapRgXuZYePC"
      },
      "source": [
        "## GMEAN"
      ]
    },
    {
      "cell_type": "markdown",
      "metadata": {
        "id": "RnH8kKkaYgV9"
      },
      "source": [
        "### Расчет"
      ]
    },
    {
      "cell_type": "code",
      "metadata": {
        "id": "7S73uolWP3lv"
      },
      "source": [
        "from scipy.stats import gmean"
      ],
      "execution_count": null,
      "outputs": []
    },
    {
      "cell_type": "code",
      "metadata": {
        "id": "aI8AwmnVNrZj"
      },
      "source": [
        "subm_gmean = gmean(np.array([subm_lgbm.target.values, subm_xgb.target.values]))\n",
        "to_submit = pd.DataFrame(columns=[ID, TARGET])\n",
        "to_submit[ID] = test[ID]\n",
        "to_submit[TARGET] = subm_gmean\n",
        "to_submit.to_csv(f'{object_path}subm_bl_gmean(lgbm_xgb).csv', index=False)"
      ],
      "execution_count": null,
      "outputs": []
    },
    {
      "cell_type": "markdown",
      "metadata": {
        "id": "5xfhZCcTRm7H"
      },
      "source": [
        "### XGB + LGBM gmean submition:\n",
        "  **0.73313**"
      ]
    },
    {
      "cell_type": "markdown",
      "metadata": {
        "id": "MLe4utXsRxxE"
      },
      "source": [
        "Лучше, чем LGBM, но хуже чем XGB. Лучше чем простое среднее"
      ]
    },
    {
      "cell_type": "markdown",
      "metadata": {
        "id": "W8eqo4WMYtUK"
      },
      "source": [
        "## Ранги"
      ]
    },
    {
      "cell_type": "markdown",
      "metadata": {
        "id": "wc47dA2kYxwG"
      },
      "source": [
        "### Расчет"
      ]
    },
    {
      "cell_type": "code",
      "metadata": {
        "id": "2LwpBCCeVoxq"
      },
      "source": [
        "from scipy.stats import rankdata"
      ],
      "execution_count": null,
      "outputs": []
    },
    {
      "cell_type": "code",
      "metadata": {
        "id": "mpG7WpszcF8x"
      },
      "source": [
        "scores = pd.DataFrame({'lgbm':subm_lgbm.target.values, 'xgb':subm_xgb.target.values})\n"
      ],
      "execution_count": null,
      "outputs": []
    },
    {
      "cell_type": "code",
      "metadata": {
        "colab": {
          "base_uri": "https://localhost:8080/",
          "height": 106
        },
        "id": "kMfI9vQnciOl",
        "outputId": "6f34791f-d2db-4c25-a93d-fb3c235af44a"
      },
      "source": [
        "scores.head(2)"
      ],
      "execution_count": null,
      "outputs": [
        {
          "output_type": "execute_result",
          "data": {
            "text/html": [
              "<div>\n",
              "<style scoped>\n",
              "    .dataframe tbody tr th:only-of-type {\n",
              "        vertical-align: middle;\n",
              "    }\n",
              "\n",
              "    .dataframe tbody tr th {\n",
              "        vertical-align: top;\n",
              "    }\n",
              "\n",
              "    .dataframe thead th {\n",
              "        text-align: right;\n",
              "    }\n",
              "</style>\n",
              "<table border=\"1\" class=\"dataframe\">\n",
              "  <thead>\n",
              "    <tr style=\"text-align: right;\">\n",
              "      <th></th>\n",
              "      <th>lgbm</th>\n",
              "      <th>xgb</th>\n",
              "    </tr>\n",
              "  </thead>\n",
              "  <tbody>\n",
              "    <tr>\n",
              "      <th>0</th>\n",
              "      <td>0.057826</td>\n",
              "      <td>0.070627</td>\n",
              "    </tr>\n",
              "    <tr>\n",
              "      <th>1</th>\n",
              "      <td>0.241536</td>\n",
              "      <td>0.283316</td>\n",
              "    </tr>\n",
              "  </tbody>\n",
              "</table>\n",
              "</div>"
            ],
            "text/plain": [
              "       lgbm       xgb\n",
              "0  0.057826  0.070627\n",
              "1  0.241536  0.283316"
            ]
          },
          "metadata": {
            "tags": []
          },
          "execution_count": 52
        }
      ]
    },
    {
      "cell_type": "code",
      "metadata": {
        "colab": {
          "base_uri": "https://localhost:8080/"
        },
        "id": "iGI7ju2pc0gJ",
        "outputId": "72e58c9d-6767-4bb4-c73e-edfd3f3e2a58"
      },
      "source": [
        "scores_rank_gmean = gmean(scores.rank(axis=0), axis=1)\n",
        "scores_rank_gmean = scores_rank_gmean/np.max(scores_rank_gmean)\n",
        "scores_rank_gmean"
      ],
      "execution_count": null,
      "outputs": [
        {
          "output_type": "execute_result",
          "data": {
            "text/plain": [
              "array([0.47380934, 0.96750954, 0.89152354, ..., 0.66301793, 0.05075414,\n",
              "       0.34080279])"
            ]
          },
          "metadata": {
            "tags": []
          },
          "execution_count": 143
        }
      ]
    },
    {
      "cell_type": "code",
      "metadata": {
        "colab": {
          "base_uri": "https://localhost:8080/"
        },
        "id": "G-oz8fwQxerq",
        "outputId": "6bbf5060-ca1b-4cf0-ef6d-17797bcadcc8"
      },
      "source": [
        "len(scores_rank_gmean)"
      ],
      "execution_count": null,
      "outputs": [
        {
          "output_type": "execute_result",
          "data": {
            "text/plain": [
              "165141"
            ]
          },
          "metadata": {
            "tags": []
          },
          "execution_count": 144
        }
      ]
    },
    {
      "cell_type": "code",
      "metadata": {
        "id": "g3_qN5-bqLuv"
      },
      "source": [
        "to_submit = pd.DataFrame(columns=[ID, TARGET])\n",
        "to_submit[ID] = test[ID]\n",
        "to_submit[TARGET] = scores_rank_gmean\n",
        "to_submit.to_csv(f'{object_path}subm_bl_rank_gmean(lgbm_xgb).csv', index=False)"
      ],
      "execution_count": null,
      "outputs": []
    },
    {
      "cell_type": "markdown",
      "metadata": {
        "id": "HgKVABZLqXFr"
      },
      "source": [
        "### LGBM + XGB rank submition"
      ]
    },
    {
      "cell_type": "markdown",
      "metadata": {
        "id": "W8bPcrIWqncA"
      },
      "source": [
        "**0.73262**"
      ]
    },
    {
      "cell_type": "markdown",
      "metadata": {
        "id": "IQ2aZCjVy4LF"
      },
      "source": [
        "Хуже чем просто gmean"
      ]
    },
    {
      "cell_type": "markdown",
      "metadata": {
        "id": "_A9lB2qOe1E1"
      },
      "source": [
        "# Задание 3\n",
        "Обучить CatBoost, получить OOF прогнозы и выполнить задание 1 для трех моделей"
      ]
    },
    {
      "cell_type": "markdown",
      "metadata": {
        "id": "hqMZ3FhXfFFk"
      },
      "source": [
        "Обученная модель с OOF прогнозами Baseline у нас есть.     \n",
        "Попробуем обучить модель с учетом заполнения пропусков и сравнить результаты"
      ]
    },
    {
      "cell_type": "markdown",
      "metadata": {
        "id": "_cP5kCkCGq8m"
      },
      "source": [
        "## CatBoost модель"
      ]
    },
    {
      "cell_type": "code",
      "metadata": {
        "id": "wIi_zdM5fDLm"
      },
      "source": [
        "def catboost_cross_validation(params, X, y, cv, categorical = None):\n",
        "    \"\"\"\n",
        "    Кросс-валидация для модели catbooost.\n",
        "\n",
        "    Parameters\n",
        "    ----------\n",
        "    params: dict\n",
        "        Словарь гиперпараметров модели.\n",
        "\n",
        "    X: pandas.core.frame.DataFrame\n",
        "        Матрица признако для обучения модели.\n",
        "\n",
        "    y: pandas.core.frame.Series\n",
        "        Вектор целевой переменной для обучения модели.\n",
        "\n",
        "    cv: KFold or StratifiedKFold generator.\n",
        "        Объект KFold / StratifiedKFold для определения\n",
        "        стратегии кросс-валидации модели.\n",
        "\n",
        "    categorical: str, optional, default = None\n",
        "        Список категориальных признаков.\n",
        "        Опциональный параметр, по умолчанию, не используется.\n",
        "\n",
        "    Returns\n",
        "    -------\n",
        "    estimators: list\n",
        "        Список с объектами обученной модели.\n",
        "\n",
        "    oof_preds: np.array\n",
        "        Вектор OOF-прогнозов.\n",
        "\n",
        "    \"\"\"\n",
        "    estimators, folds_scores = [], []\n",
        "    oof_preds = np.zeros(X.shape[0])\n",
        "\n",
        "    print(f\"{time.ctime()}, Cross-Validation, {X.shape[0]} rows, {X.shape[1]} cols\")\n",
        "    X[categorical] = X[categorical].astype(str)\n",
        "\n",
        "    for fold, (train_idx, valid_idx) in enumerate(cv.split(X, y)):\n",
        "\n",
        "        x_train, x_valid = X.loc[train_idx], X.loc[valid_idx]\n",
        "        y_train, y_valid = y[train_idx], y[valid_idx]\n",
        "\n",
        "        model = cb.CatBoostClassifier(**params)\n",
        "        model.fit(\n",
        "            x_train, y_train, categorical,\n",
        "            eval_set=[(x_train, y_train), (x_valid, y_valid)]\n",
        "        )\n",
        "        oof_preds[valid_idx] = model.predict_proba(x_valid)[:, 1]\n",
        "        score = roc_auc_score(y_valid, oof_preds[valid_idx])\n",
        "        print(f\"Fold {fold+1}, Valid score = {round(score, 5)}\")\n",
        "        folds_scores.append(round(score, 5))\n",
        "        estimators.append(model)\n",
        "\n",
        "    print(f\"Score by each fold: {folds_scores}\")\n",
        "    print(\"=\"*65)\n",
        "    return estimators, oof_preds"
      ],
      "execution_count": null,
      "outputs": []
    },
    {
      "cell_type": "code",
      "metadata": {
        "id": "UU566Bj-Zm6N"
      },
      "source": [
        "cb_params = {\n",
        "    \"n_estimators\": 10000,\n",
        "    \"learning_rate\": 0.01,\n",
        "    \"loss_function\": \"Logloss\",\n",
        "    \"eval_metric\": \"AUC\",\n",
        "    \"task_type\": \"CPU\",\n",
        "    \"max_bin\": 20,\n",
        "    \"verbose\": 1000,\n",
        "    \"max_depth\": 6,\n",
        "    \"l2_leaf_reg\": 10,\n",
        "    \"early_stopping_rounds\": 500,\n",
        "    \"thread_count\": 6,\n",
        "    \"random_seed\": 42\n",
        "}"
      ],
      "execution_count": null,
      "outputs": []
    },
    {
      "cell_type": "code",
      "metadata": {
        "id": "owCastYYhOd8"
      },
      "source": [
        "cv_strategy = StratifiedKFold(n_splits=5)"
      ],
      "execution_count": null,
      "outputs": []
    },
    {
      "cell_type": "code",
      "metadata": {
        "colab": {
          "base_uri": "https://localhost:8080/"
        },
        "id": "SM4kxP5_iion",
        "outputId": "5c6be4e0-0d13-4011-8c35-f83644768ad6"
      },
      "source": [
        "CATEGORICAL_FEATURES = list()\n",
        "for feat in X_train.columns:\n",
        "  if X_train[feat].nunique() < 10:\n",
        "    CATEGORICAL_FEATURES.append(feat)\n",
        "CATEGORICAL_FEATURES"
      ],
      "execution_count": null,
      "outputs": [
        {
          "output_type": "execute_result",
          "data": {
            "text/plain": [
              "['name_contract_type_Cash',\n",
              " 'name_contract_type_Credit Card',\n",
              " 'gender',\n",
              " 'flag_phone',\n",
              " 'flag_email',\n",
              " 'amt_req_credit_bureau_hour',\n",
              " 'amt_req_credit_bureau_day',\n",
              " 'amt_req_credit_bureau_week',\n",
              " 'education_level__ordinal',\n",
              " 'family_status_Civil marriage',\n",
              " 'family_status_Married',\n",
              " 'family_status_Separated',\n",
              " 'family_status_Single / not married',\n",
              " 'family_status_Widow']"
            ]
          },
          "metadata": {
            "tags": []
          },
          "execution_count": 186
        }
      ]
    },
    {
      "cell_type": "code",
      "metadata": {
        "colab": {
          "base_uri": "https://localhost:8080/"
        },
        "id": "qAj41s96w8D-",
        "outputId": "e1aca211-f2c2-4f9f-addb-2b6d999102f6"
      },
      "source": [
        "CATEGORICAL_FEATURES = list(set(CATEGORICAL_FEATURES) - set(['amt_req_credit_bureau_hour', 'amt_req_credit_bureau_day', 'amt_req_credit_bureau_week']))\n",
        "CATEGORICAL_FEATURES"
      ],
      "execution_count": null,
      "outputs": [
        {
          "output_type": "execute_result",
          "data": {
            "text/plain": [
              "['name_contract_type_Cash',\n",
              " 'education_level__ordinal',\n",
              " 'flag_phone',\n",
              " 'family_status_Separated',\n",
              " 'family_status_Civil marriage',\n",
              " 'family_status_Widow',\n",
              " 'gender',\n",
              " 'family_status_Single / not married',\n",
              " 'family_status_Married',\n",
              " 'flag_email',\n",
              " 'name_contract_type_Credit Card']"
            ]
          },
          "metadata": {
            "tags": []
          },
          "execution_count": 187
        }
      ]
    },
    {
      "cell_type": "code",
      "metadata": {
        "id": "v1Yv533QzQA1"
      },
      "source": [
        "X_train_catb = X_train.copy()\n",
        "X_test_catb = X_test.copy()\n",
        "for feat in CATEGORICAL_FEATURES:\n",
        "  X_train_catb[feat] = (X_train_catb[feat].astype('float')*10000//10/1000).astype('str')\n",
        "  X_test_catb[feat] = (X_test_catb[feat].astype('float')*10000//10/1000).astype('str')"
      ],
      "execution_count": null,
      "outputs": []
    },
    {
      "cell_type": "code",
      "metadata": {
        "colab": {
          "base_uri": "https://localhost:8080/"
        },
        "id": "VLorHzbI2Q0s",
        "outputId": "7758c382-a787-4318-dfb3-9a277383f6ce"
      },
      "source": [
        "for feat in CATEGORICAL_FEATURES:\n",
        "  print(set(X_train_catb[feat].unique())==set(X_test_catb[feat].unique()))"
      ],
      "execution_count": null,
      "outputs": [
        {
          "output_type": "stream",
          "text": [
            "True\n",
            "True\n",
            "True\n",
            "True\n",
            "True\n",
            "True\n",
            "True\n",
            "True\n",
            "True\n",
            "True\n",
            "True\n"
          ],
          "name": "stdout"
        }
      ]
    },
    {
      "cell_type": "code",
      "metadata": {
        "colab": {
          "base_uri": "https://localhost:8080/"
        },
        "id": "A_Q7gKyVhWAE",
        "outputId": "0ca73550-ae3f-4f0d-90bf-3304e9a9f33c"
      },
      "source": [
        "estimators, oof_preds = catboost_cross_validation(params=cb_params,\n",
        "                                                  X=X_train,\n",
        "                                                  y=y_train,\n",
        "                                                  cv=cv_strategy,\n",
        "                                                  categorical=CATEGORICAL_FEATURES)"
      ],
      "execution_count": null,
      "outputs": [
        {
          "output_type": "stream",
          "text": [
            "Sat Dec 12 21:42:08 2020, Cross-Validation, 110093 rows, 57 cols\n",
            "0:\ttest: 0.6449263\ttest1: 0.6451372\tbest: 0.6451372 (0)\ttotal: 232ms\tremaining: 38m 39s\n",
            "1000:\ttest: 0.7441769\ttest1: 0.7212424\tbest: 0.7213285 (991)\ttotal: 3m 25s\tremaining: 30m 49s\n",
            "2000:\ttest: 0.7571456\ttest1: 0.7228765\tbest: 0.7230176 (1963)\ttotal: 6m 37s\tremaining: 26m 30s\n",
            "Stopped by overfitting detector  (500 iterations wait)\n",
            "\n",
            "bestTest = 0.723545184\n",
            "bestIteration = 2210\n",
            "\n",
            "Shrink model to first 2211 iterations.\n",
            "Fold 1, Valid score = 0.72355\n",
            "0:\ttest: 0.6467076\ttest1: 0.6378924\tbest: 0.6378924 (0)\ttotal: 232ms\tremaining: 38m 37s\n",
            "1000:\ttest: 0.7441911\ttest1: 0.7176423\tbest: 0.7177786 (958)\ttotal: 3m 25s\tremaining: 30m 48s\n",
            "2000:\ttest: 0.7630682\ttest1: 0.7191803\tbest: 0.7194737 (1577)\ttotal: 6m 48s\tremaining: 27m 12s\n",
            "Stopped by overfitting detector  (500 iterations wait)\n",
            "\n",
            "bestTest = 0.7194737494\n",
            "bestIteration = 1577\n",
            "\n",
            "Shrink model to first 1578 iterations.\n",
            "Fold 2, Valid score = 0.71947\n",
            "0:\ttest: 0.6446685\ttest1: 0.6460924\tbest: 0.6460924 (0)\ttotal: 209ms\tremaining: 34m 46s\n",
            "1000:\ttest: 0.7434277\ttest1: 0.7267781\tbest: 0.7267924 (989)\ttotal: 3m 26s\tremaining: 30m 52s\n",
            "Stopped by overfitting detector  (500 iterations wait)\n",
            "\n",
            "bestTest = 0.7282736468\n",
            "bestIteration = 1427\n",
            "\n",
            "Shrink model to first 1428 iterations.\n",
            "Fold 3, Valid score = 0.72827\n",
            "0:\ttest: 0.6748645\ttest1: 0.6617415\tbest: 0.6617415 (0)\ttotal: 204ms\tremaining: 34m\n",
            "1000:\ttest: 0.7441480\ttest1: 0.7205649\tbest: 0.7205649 (1000)\ttotal: 3m 24s\tremaining: 30m 41s\n",
            "2000:\ttest: 0.7616749\ttest1: 0.7231531\tbest: 0.7235458 (1915)\ttotal: 6m 49s\tremaining: 27m 18s\n",
            "3000:\ttest: 0.7752466\ttest1: 0.7242844\tbest: 0.7243845 (2880)\ttotal: 10m 13s\tremaining: 23m 50s\n",
            "Stopped by overfitting detector  (500 iterations wait)\n",
            "\n",
            "bestTest = 0.724687011\n",
            "bestIteration = 3269\n",
            "\n",
            "Shrink model to first 3270 iterations.\n",
            "Fold 4, Valid score = 0.72469\n",
            "0:\ttest: 0.6707041\ttest1: 0.6808037\tbest: 0.6808037 (0)\ttotal: 216ms\tremaining: 36m 1s\n",
            "1000:\ttest: 0.7426955\ttest1: 0.7308502\tbest: 0.7309668 (999)\ttotal: 3m 24s\tremaining: 30m 40s\n",
            "2000:\ttest: 0.7609849\ttest1: 0.7304478\tbest: 0.7312893 (1583)\ttotal: 6m 47s\tremaining: 27m 9s\n",
            "Stopped by overfitting detector  (500 iterations wait)\n",
            "\n",
            "bestTest = 0.7312893108\n",
            "bestIteration = 1583\n",
            "\n",
            "Shrink model to first 1584 iterations.\n",
            "Fold 5, Valid score = 0.73129\n",
            "Score by each fold: [0.72355, 0.71947, 0.72827, 0.72469, 0.73129]\n",
            "=================================================================\n"
          ],
          "name": "stdout"
        }
      ]
    },
    {
      "cell_type": "code",
      "metadata": {
        "colab": {
          "base_uri": "https://localhost:8080/",
          "height": 35
        },
        "id": "6qAm6rkcjKI-",
        "outputId": "01ffbd51-8ce3-4513-ba27-194b4fcbb6a3"
      },
      "source": [
        "save_obj(estimators, 'estimators_bl_catb')\n",
        "save_obj(oof_preds, 'oof_preds_bl_catb')"
      ],
      "execution_count": null,
      "outputs": [
        {
          "output_type": "execute_result",
          "data": {
            "application/vnd.google.colaboratory.intrinsic+json": {
              "type": "string"
            },
            "text/plain": [
              "'gdrive/My Drive/AI/GB/Kaggle/geekbrains-competitive-data-analysis/objects/oof_preds_bl_catb.pkl'"
            ]
          },
          "metadata": {
            "tags": []
          },
          "execution_count": 192
        }
      ]
    },
    {
      "cell_type": "code",
      "metadata": {
        "colab": {
          "base_uri": "https://localhost:8080/"
        },
        "id": "HQ8zW_P2jhB7",
        "outputId": "dce9be99-288b-408c-e2ea-5c617362ef99"
      },
      "source": [
        "oof_score = roc_auc_score(y_train, oof_preds)\n",
        "print(f\"OOF-score = {round(oof_score, 5)}\")"
      ],
      "execution_count": null,
      "outputs": [
        {
          "output_type": "stream",
          "text": [
            "OOF-score = 0.72477\n"
          ],
          "name": "stdout"
        }
      ]
    },
    {
      "cell_type": "markdown",
      "metadata": {
        "id": "Fq36rmVAu638"
      },
      "source": [
        "Вообще-то результат получился чуть хуже, чем в базовой модели, но не очень существенно."
      ]
    },
    {
      "cell_type": "code",
      "metadata": {
        "colab": {
          "base_uri": "https://localhost:8080/"
        },
        "id": "4yrfJH6Ljo9_",
        "outputId": "a974ae57-362e-4167-c2e8-fe791b7039bd"
      },
      "source": [
        "subm_catb = submition(subm_name='bl_catb_hw7', estimators=estimators, X_test=X_test_catb, test=test, ID=ID, TARGET=TARGET)"
      ],
      "execution_count": null,
      "outputs": [
        {
          "output_type": "stream",
          "text": [
            "estimator 1 results are ready\n",
            "estimator 2 results are ready\n",
            "estimator 3 results are ready\n",
            "estimator 4 results are ready\n",
            "estimator 5 results are ready\n"
          ],
          "name": "stdout"
        }
      ]
    },
    {
      "cell_type": "markdown",
      "metadata": {
        "id": "sBVpXJpFE59C"
      },
      "source": [
        "### CatBoost submition:\n",
        "**0.72603**\n",
        "На LB результат получился чуть-лучше, чем для базовой модели"
      ]
    },
    {
      "cell_type": "markdown",
      "metadata": {
        "id": "E1aEfjl8G1T3"
      },
      "source": [
        "## Корреляции"
      ]
    },
    {
      "cell_type": "code",
      "metadata": {
        "id": "sMRJVdXKj4Dh"
      },
      "source": [
        "oof_preds_bl = load_obj('oof_preds_bl')\n",
        "oof_preds_lgbm = load_obj('oof_preds_bl_lgbm')\n",
        "oof_preds_xgb = load_obj('oof_preds_bl_xgb')\n",
        "oof_preds_catb = load_obj('oof_preds_bl_catb')"
      ],
      "execution_count": null,
      "outputs": []
    },
    {
      "cell_type": "code",
      "metadata": {
        "id": "UadmW7G8HImv"
      },
      "source": [
        "subm_lgbm = pd.read_csv(object_path + \"subm_bl_lgbm_hw7.csv\", index_col=0)\n",
        "subm_xgb = pd.read_csv(object_path + \"subm_bl_xgb_hw7.csv\", index_col=0)\n",
        "subm_catb = pd.read_csv(object_path + \"subm_bl_catb_hw7.csv\", index_col=0)\n",
        "subm_bl = pd.read_csv(object_path + \"subm_baseline.csv\", index_col=0)"
      ],
      "execution_count": null,
      "outputs": []
    },
    {
      "cell_type": "code",
      "metadata": {
        "id": "4ZoxiGSDj3pZ"
      },
      "source": [
        "def pred_corr(scores):\n",
        "  corr = scores_train.corr()\n",
        "  mask = np.zeros_like(corr, dtype=np.bool)\n",
        "  mask[np.triu_indices_from(mask)] = True\n",
        "  fig, axes = plt.subplots(1, 1, figsize=(10, 10))\n",
        "  sns.heatmap(corr, mask=mask, annot=True, fmt=\".4g\", square=True, cmap=\"viridis\", ax=axes)\n",
        "  plt.show()"
      ],
      "execution_count": null,
      "outputs": []
    },
    {
      "cell_type": "code",
      "metadata": {
        "id": "AXedV0qpj30O"
      },
      "source": [
        "scores_train = pd.DataFrame({'lgbm':oof_preds_lgbm, 'xgb':oof_preds_xgb, 'catb':oof_preds_catb, 'bl':oof_preds_bl})"
      ],
      "execution_count": null,
      "outputs": []
    },
    {
      "cell_type": "code",
      "metadata": {
        "colab": {
          "base_uri": "https://localhost:8080/",
          "height": 575
        },
        "id": "aXUuM35Aj3Q-",
        "outputId": "7f2de774-66b3-4270-c16f-9b9ecce935c7"
      },
      "source": [
        "pred_corr(scores=scores_train)"
      ],
      "execution_count": null,
      "outputs": [
        {
          "output_type": "display_data",
          "data": {
            "image/png": "[encoded data removed]",
            "text/plain": [
              "<Figure size 720x720 with 2 Axes>"
            ]
          },
          "metadata": {
            "tags": [],
            "needs_background": "light"
          }
        }
      ]
    },
    {
      "cell_type": "markdown",
      "metadata": {
        "id": "gMuuJo_hGZfF"
      },
      "source": [
        "Корреляция достаточно низкая. И результат у catboost был далектовато вниз. Наверное, мешать не стоит"
      ]
    },
    {
      "cell_type": "code",
      "metadata": {
        "id": "eUpSeaCSl1X0"
      },
      "source": [
        "scores_test = pd.DataFrame({'lgbm':subm_lgbm.target.values, 'xgb':subm_xgb.target.values, 'catb':subm_catb.target.values, 'bl':subm_bl.TARGET.values})"
      ],
      "execution_count": null,
      "outputs": []
    },
    {
      "cell_type": "code",
      "metadata": {
        "colab": {
          "base_uri": "https://localhost:8080/",
          "height": 575
        },
        "id": "CkUpPBRUl1Ul",
        "outputId": "ed89fcd1-2cc1-4107-b09d-6cf2bb7a49bc"
      },
      "source": [
        "pred_corr(scores=scores_test)"
      ],
      "execution_count": null,
      "outputs": [
        {
          "output_type": "display_data",
          "data": {
            "image/png": "[encoded data removed]",
            "text/plain": [
              "<Figure size 720x720 with 2 Axes>"
            ]
          },
          "metadata": {
            "tags": [],
            "needs_background": "light"
          }
        }
      ]
    },
    {
      "cell_type": "markdown",
      "metadata": {
        "id": "_vIGpjiWIANY"
      },
      "source": [
        "Та же история. Корреляции достаточно низкие. Скорее всего сабмит ухудшит результат и устойчивость модели"
      ]
    },
    {
      "cell_type": "markdown",
      "metadata": {
        "id": "rHuxhqkHmvgW"
      },
      "source": [
        "# Задание 4\n",
        "Выполнить задание 2 для трех моделей"
      ]
    },
    {
      "cell_type": "code",
      "metadata": {
        "colab": {
          "base_uri": "https://localhost:8080/"
        },
        "id": "bUCSEk7Zl1SW",
        "outputId": "f559ffdf-0867-4752-fd30-35c2cdfe27b6"
      },
      "source": [
        "scores_train_mean = scores_train.mean(axis=1)\n",
        "score = roc_auc_score(y_train.values, scores_train_mean)\n",
        "print(f\"Score = {round(score, 4)}\")"
      ],
      "execution_count": null,
      "outputs": [
        {
          "output_type": "stream",
          "text": [
            "Score = 0.7288\n"
          ],
          "name": "stdout"
        }
      ]
    },
    {
      "cell_type": "code",
      "metadata": {
        "id": "3_-nSMlXl1Py"
      },
      "source": [
        "scores_test_mean = scores_test.mean(axis=1)"
      ],
      "execution_count": null,
      "outputs": []
    },
    {
      "cell_type": "code",
      "metadata": {
        "colab": {
          "base_uri": "https://localhost:8080/"
        },
        "id": "3wQMzIoIl1MD",
        "outputId": "08fb6cae-5595-416b-91cd-424e7401a85d"
      },
      "source": [
        "scores_train_gmean = gmean(scores_train, axis=1)\n",
        "score = roc_auc_score(y_train.values, scores_train_gmean)\n",
        "print(f\"Score = {round(score, 4)}\")"
      ],
      "execution_count": null,
      "outputs": [
        {
          "output_type": "stream",
          "text": [
            "Score = 0.7288\n"
          ],
          "name": "stdout"
        }
      ]
    },
    {
      "cell_type": "code",
      "metadata": {
        "id": "ut1llVQql1He"
      },
      "source": [
        "scores_test_gmean = gmean(scores_test, axis=1)"
      ],
      "execution_count": null,
      "outputs": []
    },
    {
      "cell_type": "code",
      "metadata": {
        "colab": {
          "base_uri": "https://localhost:8080/"
        },
        "id": "rXE5JP7wn5og",
        "outputId": "dd35bd04-cfd1-4965-88a3-2c2777d09411"
      },
      "source": [
        "scores_train_rank_mean = scores_train.rank().mean(axis=1)\n",
        "score = roc_auc_score(y_train.values, scores_train_rank_mean)\n",
        "print(f\"Score = {round(score, 4)}\")"
      ],
      "execution_count": null,
      "outputs": [
        {
          "output_type": "stream",
          "text": [
            "Score = 0.7286\n"
          ],
          "name": "stdout"
        }
      ]
    },
    {
      "cell_type": "code",
      "metadata": {
        "colab": {
          "base_uri": "https://localhost:8080/"
        },
        "id": "SwqVY5myn5dd",
        "outputId": "cba82acc-95e0-4fe4-8c32-97332dcd2638"
      },
      "source": [
        "scores_train_rank_gmean = gmean(scores_train.rank(), axis=1)\n",
        "score = roc_auc_score(y_train.values, scores_train_rank_gmean)\n",
        "print(f\"Score = {round(score, 4)}\")"
      ],
      "execution_count": null,
      "outputs": [
        {
          "output_type": "stream",
          "text": [
            "Score = 0.7286\n"
          ],
          "name": "stdout"
        }
      ]
    },
    {
      "cell_type": "markdown",
      "metadata": {
        "id": "S8VLGjMaJB_p"
      },
      "source": [
        "Попробуем отсабмитить scores_test_gmean"
      ]
    },
    {
      "cell_type": "code",
      "metadata": {
        "id": "NHrR8GYln5Lk"
      },
      "source": [
        "to_submit = pd.DataFrame(columns=[ID, TARGET])\n",
        "to_submit[ID] = test[ID]\n",
        "to_submit[TARGET] = scores_test_gmean\n",
        "to_submit.to_csv(f'{object_path}subm_bl_gmean(lgbm_xgb_catb_bl).csv', index=False)"
      ],
      "execution_count": null,
      "outputs": []
    },
    {
      "cell_type": "markdown",
      "metadata": {
        "id": "gLqcPNdfKjYq"
      },
      "source": [
        "### XGB + LGBM + CATB + BL gmean submition:\n",
        "  **0.73138**"
      ]
    },
    {
      "cell_type": "markdown",
      "metadata": {
        "id": "B0gOQM7GKxKm"
      },
      "source": [
        "Хуже, чем чистый XGB и хуже, чем gmean(LGBM, XGB)"
      ]
    },
    {
      "cell_type": "markdown",
      "metadata": {
        "id": "1VjyTsDItH1C"
      },
      "source": [
        "# Задание 5\n",
        "(опция) Объединить OOF-прогнозы для трех моделей и обучить алгоритм Логистической регрессии (и любой другой, на ваше усмотрение). Сделать выводы о достигаемом качестве, сравнить достигаемое качество с качеством отдельных моделей и моделей, полученных в п.2 и п.4."
      ]
    },
    {
      "cell_type": "markdown",
      "metadata": {
        "id": "Y28b8hdPtTWu"
      },
      "source": [
        "## Загрузка данных (ноутбук выполнялся в разные дни)"
      ]
    },
    {
      "cell_type": "code",
      "metadata": {
        "id": "2aP775kLtsHk"
      },
      "source": [
        "oof_preds_bl = load_obj('oof_preds_bl')\n",
        "oof_preds_lgbm = load_obj('oof_preds_bl_lgbm')\n",
        "oof_preds_xgb = load_obj('oof_preds_bl_xgb')\n",
        "oof_preds_catb = load_obj('oof_preds_bl_catb')"
      ],
      "execution_count": null,
      "outputs": []
    },
    {
      "cell_type": "code",
      "metadata": {
        "id": "OeSlKWLstsHs"
      },
      "source": [
        "subm_lgbm = pd.read_csv(object_path + \"subm_bl_lgbm_hw7.csv\", index_col=0)\n",
        "subm_xgb = pd.read_csv(object_path + \"subm_bl_xgb_hw7.csv\", index_col=0)\n",
        "subm_catb = pd.read_csv(object_path + \"subm_bl_catb_hw7.csv\", index_col=0)\n",
        "subm_bl = pd.read_csv(object_path + \"subm_baseline.csv\", index_col=0)"
      ],
      "execution_count": null,
      "outputs": []
    },
    {
      "cell_type": "code",
      "metadata": {
        "id": "8ICC_AqHttpG"
      },
      "source": [
        "scores_train = pd.DataFrame({'lgbm':oof_preds_lgbm, 'xgb':oof_preds_xgb, 'catb':oof_preds_catb, 'bl':oof_preds_bl})"
      ],
      "execution_count": null,
      "outputs": []
    },
    {
      "cell_type": "code",
      "metadata": {
        "id": "8lNUO3y6ty1k"
      },
      "source": [
        "scores_test = pd.DataFrame({'lgbm':subm_lgbm.target.values, 'xgb':subm_xgb.target.values, 'catb':subm_catb.target.values, 'bl':subm_bl.TARGET.values})"
      ],
      "execution_count": null,
      "outputs": []
    },
    {
      "cell_type": "code",
      "metadata": {
        "colab": {
          "base_uri": "https://localhost:8080/",
          "height": 106
        },
        "id": "dqryGWU5t2qo",
        "outputId": "11d26f6e-b698-48da-dad1-f84d36566601"
      },
      "source": [
        "scores_train.head(2)"
      ],
      "execution_count": null,
      "outputs": [
        {
          "output_type": "execute_result",
          "data": {
            "text/html": [
              "<div>\n",
              "<style scoped>\n",
              "    .dataframe tbody tr th:only-of-type {\n",
              "        vertical-align: middle;\n",
              "    }\n",
              "\n",
              "    .dataframe tbody tr th {\n",
              "        vertical-align: top;\n",
              "    }\n",
              "\n",
              "    .dataframe thead th {\n",
              "        text-align: right;\n",
              "    }\n",
              "</style>\n",
              "<table border=\"1\" class=\"dataframe\">\n",
              "  <thead>\n",
              "    <tr style=\"text-align: right;\">\n",
              "      <th></th>\n",
              "      <th>lgbm</th>\n",
              "      <th>xgb</th>\n",
              "      <th>catb</th>\n",
              "      <th>bl</th>\n",
              "    </tr>\n",
              "  </thead>\n",
              "  <tbody>\n",
              "    <tr>\n",
              "      <th>0</th>\n",
              "      <td>0.020462</td>\n",
              "      <td>0.016560</td>\n",
              "      <td>0.025331</td>\n",
              "      <td>0.022107</td>\n",
              "    </tr>\n",
              "    <tr>\n",
              "      <th>1</th>\n",
              "      <td>0.083899</td>\n",
              "      <td>0.083808</td>\n",
              "      <td>0.084152</td>\n",
              "      <td>0.085708</td>\n",
              "    </tr>\n",
              "  </tbody>\n",
              "</table>\n",
              "</div>"
            ],
            "text/plain": [
              "       lgbm       xgb      catb        bl\n",
              "0  0.020462  0.016560  0.025331  0.022107\n",
              "1  0.083899  0.083808  0.084152  0.085708"
            ]
          },
          "metadata": {
            "tags": []
          },
          "execution_count": 49
        }
      ]
    },
    {
      "cell_type": "code",
      "metadata": {
        "colab": {
          "base_uri": "https://localhost:8080/"
        },
        "id": "-z_Vu0UXuRF_",
        "outputId": "8e806924-a078-4bc4-c307-a87b4f504140"
      },
      "source": [
        "y_train.head(2)"
      ],
      "execution_count": null,
      "outputs": [
        {
          "output_type": "execute_result",
          "data": {
            "text/plain": [
              "0    0.0\n",
              "1    1.0\n",
              "Name: target, dtype: float64"
            ]
          },
          "metadata": {
            "tags": []
          },
          "execution_count": 50
        }
      ]
    },
    {
      "cell_type": "markdown",
      "metadata": {
        "id": "JI86PvTS5F7h"
      },
      "source": [
        "## Линейная модель для всех 4-х моделей"
      ]
    },
    {
      "cell_type": "code",
      "metadata": {
        "id": "cR8bGfJcuWkE"
      },
      "source": [
        "from sklearn.linear_model import LogisticRegression"
      ],
      "execution_count": null,
      "outputs": []
    },
    {
      "cell_type": "code",
      "metadata": {
        "colab": {
          "base_uri": "https://localhost:8080/"
        },
        "id": "HAkJIhCTu0Co",
        "outputId": "3d6cc1a0-4feb-4932-9a16-1e21b483ca03"
      },
      "source": [
        "stacking_lr = LogisticRegression(class_weight='balanced', random_state=42)\n",
        "stacking_lr.fit(scores_train, y_train)"
      ],
      "execution_count": null,
      "outputs": [
        {
          "output_type": "execute_result",
          "data": {
            "text/plain": [
              "LogisticRegression(C=1.0, class_weight='balanced', dual=False,\n",
              "                   fit_intercept=True, intercept_scaling=1, l1_ratio=None,\n",
              "                   max_iter=100, multi_class='auto', n_jobs=None, penalty='l2',\n",
              "                   random_state=42, solver='lbfgs', tol=0.0001, verbose=0,\n",
              "                   warm_start=False)"
            ]
          },
          "metadata": {
            "tags": []
          },
          "execution_count": 55
        }
      ]
    },
    {
      "cell_type": "code",
      "metadata": {
        "colab": {
          "base_uri": "https://localhost:8080/"
        },
        "id": "_q-0Q6uUv-4v",
        "outputId": "15838380-3847-4ec2-f78c-1854172193ee"
      },
      "source": [
        "stacking_lr.coef_"
      ],
      "execution_count": null,
      "outputs": [
        {
          "output_type": "execute_result",
          "data": {
            "text/plain": [
              "array([[ 1.85415618,  4.69711051, -0.46373303,  4.82339419]])"
            ]
          },
          "metadata": {
            "tags": []
          },
          "execution_count": 57
        }
      ]
    },
    {
      "cell_type": "code",
      "metadata": {
        "colab": {
          "base_uri": "https://localhost:8080/"
        },
        "id": "Wd06KLfiyfr0",
        "outputId": "73cf4da1-abf4-4da5-8a34-da2786417274"
      },
      "source": [
        "stacking_lr.intercept_[0]"
      ],
      "execution_count": null,
      "outputs": [
        {
          "output_type": "execute_result",
          "data": {
            "text/plain": [
              "-1.0935345076542236"
            ]
          },
          "metadata": {
            "tags": []
          },
          "execution_count": 59
        }
      ]
    },
    {
      "cell_type": "code",
      "metadata": {
        "colab": {
          "base_uri": "https://localhost:8080/"
        },
        "id": "O9QVfrnnzPZb",
        "outputId": "bf424f6c-1b39-4942-9c20-ac20ba7c8b07"
      },
      "source": [
        "(np.array(scores_train)*stacking_lr.coef_[0]).sum(axis=1)"
      ],
      "execution_count": null,
      "outputs": [
        {
          "output_type": "execute_result",
          "data": {
            "text/plain": [
              "0.040635207588664915"
            ]
          },
          "metadata": {
            "tags": []
          },
          "execution_count": 69
        }
      ]
    },
    {
      "cell_type": "code",
      "metadata": {
        "id": "B52188chyomG"
      },
      "source": [
        "scores_train_np = (np.array(scores_train)*stacking_lr.coef_[0]).sum(axis=1)\n",
        "scores_train_np = scores_train_np/scores_train_np.max()\n",
        "scores_train['stacking_lr'] = scores_train_np"
      ],
      "execution_count": null,
      "outputs": []
    },
    {
      "cell_type": "code",
      "metadata": {
        "colab": {
          "base_uri": "https://localhost:8080/",
          "height": 106
        },
        "id": "DepQ_PjdzIbp",
        "outputId": "cd58e5da-ac20-4461-a0f7-c90680416dce"
      },
      "source": [
        "scores_train.head(2)"
      ],
      "execution_count": null,
      "outputs": [
        {
          "output_type": "execute_result",
          "data": {
            "text/html": [
              "<div>\n",
              "<style scoped>\n",
              "    .dataframe tbody tr th:only-of-type {\n",
              "        vertical-align: middle;\n",
              "    }\n",
              "\n",
              "    .dataframe tbody tr th {\n",
              "        vertical-align: top;\n",
              "    }\n",
              "\n",
              "    .dataframe thead th {\n",
              "        text-align: right;\n",
              "    }\n",
              "</style>\n",
              "<table border=\"1\" class=\"dataframe\">\n",
              "  <thead>\n",
              "    <tr style=\"text-align: right;\">\n",
              "      <th></th>\n",
              "      <th>lgbm</th>\n",
              "      <th>xgb</th>\n",
              "      <th>catb</th>\n",
              "      <th>bl</th>\n",
              "      <th>stacking_lr</th>\n",
              "    </tr>\n",
              "  </thead>\n",
              "  <tbody>\n",
              "    <tr>\n",
              "      <th>0</th>\n",
              "      <td>0.020462</td>\n",
              "      <td>0.016560</td>\n",
              "      <td>0.025331</td>\n",
              "      <td>0.022107</td>\n",
              "      <td>0.027410</td>\n",
              "    </tr>\n",
              "    <tr>\n",
              "      <th>1</th>\n",
              "      <td>0.083899</td>\n",
              "      <td>0.083808</td>\n",
              "      <td>0.084152</td>\n",
              "      <td>0.085708</td>\n",
              "      <td>0.120202</td>\n",
              "    </tr>\n",
              "  </tbody>\n",
              "</table>\n",
              "</div>"
            ],
            "text/plain": [
              "       lgbm       xgb      catb        bl  stacking_lr\n",
              "0  0.020462  0.016560  0.025331  0.022107     0.027410\n",
              "1  0.083899  0.083808  0.084152  0.085708     0.120202"
            ]
          },
          "metadata": {
            "tags": []
          },
          "execution_count": 80
        }
      ]
    },
    {
      "cell_type": "code",
      "metadata": {
        "colab": {
          "base_uri": "https://localhost:8080/"
        },
        "id": "53RuWZQp1gyO",
        "outputId": "025c0307-b62c-4128-df18-34ef481547c4"
      },
      "source": [
        "score = roc_auc_score(y_train.values, scores_train_np)\n",
        "print(f\"Score = {round(score, 4)}\")"
      ],
      "execution_count": null,
      "outputs": [
        {
          "output_type": "stream",
          "text": [
            "Score = 0.7291\n"
          ],
          "name": "stdout"
        }
      ]
    },
    {
      "cell_type": "markdown",
      "metadata": {
        "id": "9_WLNGec13lz"
      },
      "source": [
        "Чуть выше чем чем на необученных вариантах"
      ]
    },
    {
      "cell_type": "code",
      "metadata": {
        "id": "Khcf4rpJ2t7_"
      },
      "source": [
        "scores_test_np = (np.array(scores_test)*stacking_lr.coef_[0]).sum(axis=1)\n",
        "scores_test_np = scores_test_np/scores_test_np.max()"
      ],
      "execution_count": null,
      "outputs": []
    },
    {
      "cell_type": "code",
      "metadata": {
        "id": "hvKtu8R_1yx1"
      },
      "source": [
        "  to_submit = pd.DataFrame(columns=[ID, TARGET])\n",
        "  to_submit[ID] = test[ID]\n",
        "  to_submit[TARGET] = scores_test_np\n",
        "  to_submit.to_csv(f'{object_path}subm_bl_stacking_lr_hw7.csv', index=False)"
      ],
      "execution_count": null,
      "outputs": []
    },
    {
      "cell_type": "markdown",
      "metadata": {
        "id": "eLesEbR_4EdC"
      },
      "source": [
        "## Submit\n",
        "**0.73265**"
      ]
    },
    {
      "cell_type": "markdown",
      "metadata": {
        "id": "dB5ntkq64PtQ"
      },
      "source": [
        "## Попробуем то же самое но только для двух моделей"
      ]
    },
    {
      "cell_type": "code",
      "metadata": {
        "colab": {
          "base_uri": "https://localhost:8080/"
        },
        "id": "J0xgGntU2q0w",
        "outputId": "3d9c7f12-59c2-4efb-c8d7-9ea8e99b9603"
      },
      "source": [
        "stacking_lr_2 = LogisticRegression(class_weight='balanced', random_state=42)\n",
        "stacking_lr_2.fit(scores_train[['lgbm', 'xgb']], y_train)"
      ],
      "execution_count": null,
      "outputs": [
        {
          "output_type": "execute_result",
          "data": {
            "text/plain": [
              "LogisticRegression(C=1.0, class_weight='balanced', dual=False,\n",
              "                   fit_intercept=True, intercept_scaling=1, l1_ratio=None,\n",
              "                   max_iter=100, multi_class='auto', n_jobs=None, penalty='l2',\n",
              "                   random_state=42, solver='lbfgs', tol=0.0001, verbose=0,\n",
              "                   warm_start=False)"
            ]
          },
          "metadata": {
            "tags": []
          },
          "execution_count": 86
        }
      ]
    },
    {
      "cell_type": "code",
      "metadata": {
        "id": "dJm4oQim4hcX"
      },
      "source": [
        "scores_train_np_2 = (np.array(scores_train[['lgbm', 'xgb']])*stacking_lr_2.coef_[0]).sum(axis=1)\n",
        "scores_train_np_2 = scores_train_np_2/scores_train_np_2.max()"
      ],
      "execution_count": null,
      "outputs": []
    },
    {
      "cell_type": "code",
      "metadata": {
        "colab": {
          "base_uri": "https://localhost:8080/"
        },
        "id": "jeBwnZ-S4yjd",
        "outputId": "ad2fbdeb-4092-4620-c13c-d568b43f34f5"
      },
      "source": [
        "score = roc_auc_score(y_train.values, scores_train_np_2)\n",
        "print(f\"Score = {round(score, 4)}\")"
      ],
      "execution_count": null,
      "outputs": [
        {
          "output_type": "stream",
          "text": [
            "Score = 0.7288\n"
          ],
          "name": "stdout"
        }
      ]
    },
    {
      "cell_type": "markdown",
      "metadata": {
        "id": "NcVX8IJZ48Os"
      },
      "source": [
        "### Не лучше. Сабмитить не буду"
      ]
    },
    {
      "cell_type": "markdown",
      "metadata": {
        "id": "5PKlzH3t6J_Q"
      },
      "source": [
        "## Может быть дурацкая идея, но хочется попробовать отлинеить геометрию"
      ]
    },
    {
      "cell_type": "code",
      "metadata": {
        "colab": {
          "base_uri": "https://localhost:8080/",
          "height": 106
        },
        "id": "QFPZUPKD6flQ",
        "outputId": "444e68cb-4741-4f73-c46b-118159402b46"
      },
      "source": [
        "scores_train_repr = 1/scores_train\n",
        "scores_train_repr.head(2)"
      ],
      "execution_count": null,
      "outputs": [
        {
          "output_type": "execute_result",
          "data": {
            "text/html": [
              "<div>\n",
              "<style scoped>\n",
              "    .dataframe tbody tr th:only-of-type {\n",
              "        vertical-align: middle;\n",
              "    }\n",
              "\n",
              "    .dataframe tbody tr th {\n",
              "        vertical-align: top;\n",
              "    }\n",
              "\n",
              "    .dataframe thead th {\n",
              "        text-align: right;\n",
              "    }\n",
              "</style>\n",
              "<table border=\"1\" class=\"dataframe\">\n",
              "  <thead>\n",
              "    <tr style=\"text-align: right;\">\n",
              "      <th></th>\n",
              "      <th>lgbm</th>\n",
              "      <th>xgb</th>\n",
              "      <th>catb</th>\n",
              "      <th>bl</th>\n",
              "      <th>stacking_lr</th>\n",
              "    </tr>\n",
              "  </thead>\n",
              "  <tbody>\n",
              "    <tr>\n",
              "      <th>0</th>\n",
              "      <td>48.870208</td>\n",
              "      <td>60.385110</td>\n",
              "      <td>39.478062</td>\n",
              "      <td>45.234282</td>\n",
              "      <td>36.483023</td>\n",
              "    </tr>\n",
              "    <tr>\n",
              "      <th>1</th>\n",
              "      <td>11.919150</td>\n",
              "      <td>11.931982</td>\n",
              "      <td>11.883279</td>\n",
              "      <td>11.667546</td>\n",
              "      <td>8.319354</td>\n",
              "    </tr>\n",
              "  </tbody>\n",
              "</table>\n",
              "</div>"
            ],
            "text/plain": [
              "        lgbm        xgb       catb         bl  stacking_lr\n",
              "0  48.870208  60.385110  39.478062  45.234282    36.483023\n",
              "1  11.919150  11.931982  11.883279  11.667546     8.319354"
            ]
          },
          "metadata": {
            "tags": []
          },
          "execution_count": 97
        }
      ]
    },
    {
      "cell_type": "code",
      "metadata": {
        "colab": {
          "base_uri": "https://localhost:8080/"
        },
        "id": "TXBRAvV16JjQ",
        "outputId": "b9d3b595-6e9d-489f-ec50-6786e6b445ce"
      },
      "source": [
        "stacking_lr_3 = LogisticRegression(class_weight='balanced', random_state=42)\n",
        "stacking_lr_3.fit(scores_train_repr[['lgbm', 'xgb', 'bl']], y_train)"
      ],
      "execution_count": null,
      "outputs": [
        {
          "output_type": "execute_result",
          "data": {
            "text/plain": [
              "LogisticRegression(C=1.0, class_weight='balanced', dual=False,\n",
              "                   fit_intercept=True, intercept_scaling=1, l1_ratio=None,\n",
              "                   max_iter=100, multi_class='auto', n_jobs=None, penalty='l2',\n",
              "                   random_state=42, solver='lbfgs', tol=0.0001, verbose=0,\n",
              "                   warm_start=False)"
            ]
          },
          "metadata": {
            "tags": []
          },
          "execution_count": 98
        }
      ]
    },
    {
      "cell_type": "code",
      "metadata": {
        "colab": {
          "base_uri": "https://localhost:8080/"
        },
        "id": "sxCki1WK7c93",
        "outputId": "4cfb4fe9-e926-4310-d0c4-49c329d06c06"
      },
      "source": [
        "stacking_lr_3.coef_"
      ],
      "execution_count": null,
      "outputs": [
        {
          "output_type": "execute_result",
          "data": {
            "text/plain": [
              "array([[-0.02226481, -0.00955765, -0.03115728]])"
            ]
          },
          "metadata": {
            "tags": []
          },
          "execution_count": 99
        }
      ]
    },
    {
      "cell_type": "code",
      "metadata": {
        "colab": {
          "base_uri": "https://localhost:8080/"
        },
        "id": "VHGc-ehl44RR",
        "outputId": "deab4802-6b52-460a-e064-e4b609d60059"
      },
      "source": [
        "scores_train_np_3 = (np.array(scores_train_repr[['lgbm', 'xgb', 'bl']])*stacking_lr_3.coef_[0]).sum(axis=1)\n",
        "scores_train_np_3 = -1/scores_train_np_3\n",
        "scores_train_np_3 = scores_train_np_3/scores_train_np_3.max()\n",
        "scores_train_np_3"
      ],
      "execution_count": null,
      "outputs": [
        {
          "output_type": "execute_result",
          "data": {
            "text/plain": [
              "array([0.030145  , 0.12475147, 0.08425819, ..., 0.1239141 , 0.05195994,\n",
              "       0.10198822])"
            ]
          },
          "metadata": {
            "tags": []
          },
          "execution_count": 104
        }
      ]
    },
    {
      "cell_type": "code",
      "metadata": {
        "colab": {
          "base_uri": "https://localhost:8080/"
        },
        "id": "_vs2BDDn7DDd",
        "outputId": "5312f5f4-90a7-4a46-ea62-bd46a68d92a9"
      },
      "source": [
        "score = roc_auc_score(y_train.values, scores_train_np_3)\n",
        "print(f\"Score = {round(score, 4)}\")"
      ],
      "execution_count": null,
      "outputs": [
        {
          "output_type": "stream",
          "text": [
            "Score = 0.7283\n"
          ],
          "name": "stdout"
        }
      ]
    },
    {
      "cell_type": "markdown",
      "metadata": {
        "id": "IowrSGH98TR7"
      },
      "source": [
        "### Кажется, не прокатило (((   )))"
      ]
    },
    {
      "cell_type": "markdown",
      "metadata": {
        "id": "lRSC1AVq8hLO"
      },
      "source": [
        "# Задание 6\n",
        "(опция) Обучить алгоритмRandomForest (желательно подтюнить параметры) и добавить к построенным ранее моделям. Выполнить задание 5."
      ]
    },
    {
      "cell_type": "code",
      "metadata": {
        "id": "eKZ8xNS18PXE"
      },
      "source": [
        "from sklearn.ensemble import RandomForestClassifier"
      ],
      "execution_count": null,
      "outputs": []
    },
    {
      "cell_type": "code",
      "metadata": {
        "id": "1gLvbMbf91SS"
      },
      "source": [
        "def rfc_cross_validation(params, X, y, cv):\n",
        "    \"\"\"\n",
        "    Кросс-валидация для модели catbooost.\n",
        "\n",
        "    Parameters\n",
        "    ----------\n",
        "    params: dict\n",
        "        Словарь гиперпараметров модели.\n",
        "\n",
        "    X: pandas.core.frame.DataFrame\n",
        "        Матрица признако для обучения модели.\n",
        "\n",
        "    y: pandas.core.frame.Series\n",
        "        Вектор целевой переменной для обучения модели.\n",
        "\n",
        "    cv: KFold or StratifiedKFold generator.\n",
        "        Объект KFold / StratifiedKFold для определения\n",
        "        стратегии кросс-валидации модели.\n",
        "\n",
        "    Returns\n",
        "    -------\n",
        "    estimators: list\n",
        "        Список с объектами обученной модели.\n",
        "\n",
        "    oof_preds: np.array\n",
        "        Вектор OOF-прогнозов.\n",
        "\n",
        "    \"\"\"\n",
        "    estimators, folds_scores = [], []\n",
        "    oof_preds = np.zeros(X.shape[0])\n",
        "\n",
        "    print(f\"{time.ctime()}, Cross-Validation, {X.shape[0]} rows, {X.shape[1]} cols\")\n",
        "\n",
        "    for fold, (train_idx, valid_idx) in enumerate(cv.split(X, y)):\n",
        "\n",
        "        x_train, x_valid = X.loc[train_idx], X.loc[valid_idx]\n",
        "        y_train, y_valid = y[train_idx], y[valid_idx]\n",
        "\n",
        "        model = RandomForestClassifier(**params)\n",
        "        model.fit(\n",
        "            X=x_train, y=y_train\n",
        "        )\n",
        "        oof_preds[valid_idx] = model.predict_proba(x_valid)[:, 1]\n",
        "        score = roc_auc_score(y_valid, oof_preds[valid_idx])\n",
        "        print(f\"Fold {fold+1}, Valid score = {round(score, 5)}\")\n",
        "        folds_scores.append(round(score, 5))\n",
        "        estimators.append(model)\n",
        "\n",
        "    print(f\"Score by each fold: {folds_scores}\")\n",
        "    print(\"=\"*65)\n",
        "    return estimators, oof_preds"
      ],
      "execution_count": null,
      "outputs": []
    },
    {
      "cell_type": "code",
      "metadata": {
        "id": "69ZaLDlK9Dzw"
      },
      "source": [
        "params_rfc = {'class_weight':'balanced',\n",
        "              'n_estimators':250,\n",
        "              'max_depth':8}"
      ],
      "execution_count": null,
      "outputs": []
    },
    {
      "cell_type": "code",
      "metadata": {
        "id": "fQUh2mUO-sUq"
      },
      "source": [
        "cv_strategy = StratifiedKFold(n_splits=5)"
      ],
      "execution_count": null,
      "outputs": []
    },
    {
      "cell_type": "code",
      "metadata": {
        "colab": {
          "base_uri": "https://localhost:8080/"
        },
        "id": "wvYXWbEC9YTm",
        "outputId": "6dd46ac0-626f-4de4-96ee-75142002d279"
      },
      "source": [
        "estimators, oof_preds = rfc_cross_validation(params=params_rfc,\n",
        "                                             X=X_train,\n",
        "                                             y=y_train,\n",
        "                                             cv=cv_strategy)"
      ],
      "execution_count": null,
      "outputs": [
        {
          "output_type": "stream",
          "text": [
            "Sun Dec 13 19:48:59 2020, Cross-Validation, 110093 rows, 57 cols\n",
            "Fold 1, Valid score = 0.71117\n",
            "Fold 2, Valid score = 0.70554\n",
            "Fold 3, Valid score = 0.71468\n",
            "Fold 4, Valid score = 0.70713\n",
            "Fold 5, Valid score = 0.72055\n",
            "Score by each fold: [0.71117, 0.70554, 0.71468, 0.70713, 0.72055]\n",
            "=================================================================\n"
          ],
          "name": "stdout"
        }
      ]
    },
    {
      "cell_type": "code",
      "metadata": {
        "colab": {
          "base_uri": "https://localhost:8080/",
          "height": 35
        },
        "id": "C67yhZAX_XmY",
        "outputId": "8e9e6919-b3ab-492f-86cc-21d0ee56eaad"
      },
      "source": [
        "save_obj(estimators, 'estimators_bl_rfc')\n",
        "save_obj(oof_preds, 'oof_preds_bl_rfc')"
      ],
      "execution_count": null,
      "outputs": [
        {
          "output_type": "execute_result",
          "data": {
            "application/vnd.google.colaboratory.intrinsic+json": {
              "type": "string"
            },
            "text/plain": [
              "'gdrive/My Drive/AI/GB/Kaggle/geekbrains-competitive-data-analysis/objects/oof_preds_bl_rfc.pkl'"
            ]
          },
          "metadata": {
            "tags": []
          },
          "execution_count": 53
        }
      ]
    },
    {
      "cell_type": "code",
      "metadata": {
        "colab": {
          "base_uri": "https://localhost:8080/"
        },
        "id": "e-Oc3IPF_Xmi",
        "outputId": "6d302bce-455b-4e0e-c832-bf2101cc7944"
      },
      "source": [
        "oof_score = roc_auc_score(y_train, oof_preds)\n",
        "print(f\"OOF-score = {round(oof_score, 5)}\")"
      ],
      "execution_count": null,
      "outputs": [
        {
          "output_type": "stream",
          "text": [
            "OOF-score = 0.71144\n"
          ],
          "name": "stdout"
        }
      ]
    },
    {
      "cell_type": "markdown",
      "metadata": {
        "id": "RCD5J2Sm_Xmj"
      },
      "source": [
        "Маловато будет. Мешать с предыдущими точно не стоит. Нужно тюнить параметры"
      ]
    },
    {
      "cell_type": "code",
      "metadata": {
        "colab": {
          "base_uri": "https://localhost:8080/"
        },
        "id": "mW7C-dGXAKmw",
        "outputId": "46e52a9f-a326-4476-acdd-c65e6ef5758a"
      },
      "source": [
        "!pip install hyperopt --upgrade"
      ],
      "execution_count": null,
      "outputs": [
        {
          "output_type": "stream",
          "text": [
            "Collecting hyperopt\n",
            "\u001b[?25l  Downloading https://files.pythonhosted.org/packages/a6/07/bd524635d218adae139be320eeac87fb4fbbd45c63b0bd58930c9e91f1fc/hyperopt-0.2.5-py2.py3-none-any.whl (965kB)\n",
            "\u001b[K     |████████████████████████████████| 972kB 5.4MB/s \n",
            "\u001b[?25hRequirement already satisfied, skipping upgrade: scipy in /usr/local/lib/python3.6/dist-packages (from hyperopt) (1.4.1)\n",
            "Requirement already satisfied, skipping upgrade: networkx>=2.2 in /usr/local/lib/python3.6/dist-packages (from hyperopt) (2.5)\n",
            "Requirement already satisfied, skipping upgrade: future in /usr/local/lib/python3.6/dist-packages (from hyperopt) (0.16.0)\n",
            "Requirement already satisfied, skipping upgrade: six in /usr/local/lib/python3.6/dist-packages (from hyperopt) (1.15.0)\n",
            "Requirement already satisfied, skipping upgrade: tqdm in /usr/local/lib/python3.6/dist-packages (from hyperopt) (4.41.1)\n",
            "Requirement already satisfied, skipping upgrade: cloudpickle in /usr/local/lib/python3.6/dist-packages (from hyperopt) (1.3.0)\n",
            "Requirement already satisfied, skipping upgrade: numpy in /usr/local/lib/python3.6/dist-packages (from hyperopt) (1.18.5)\n",
            "Requirement already satisfied, skipping upgrade: decorator>=4.3.0 in /usr/local/lib/python3.6/dist-packages (from networkx>=2.2->hyperopt) (4.4.2)\n",
            "Installing collected packages: hyperopt\n",
            "  Found existing installation: hyperopt 0.1.2\n",
            "    Uninstalling hyperopt-0.1.2:\n",
            "      Successfully uninstalled hyperopt-0.1.2\n",
            "Successfully installed hyperopt-0.2.5\n"
          ],
          "name": "stdout"
        }
      ]
    },
    {
      "cell_type": "code",
      "metadata": {
        "id": "11UK7eTdBtat"
      },
      "source": [
        "from functools import partial\n",
        "from hyperopt import hp, fmin, tpe, space_eval, Trials, STATUS_OK"
      ],
      "execution_count": null,
      "outputs": []
    },
    {
      "cell_type": "code",
      "metadata": {
        "colab": {
          "base_uri": "https://localhost:8080/"
        },
        "id": "0wCKDEBNq13M",
        "outputId": "59658ba0-fcc6-420f-aa5d-aeaaa44f7890"
      },
      "source": [
        "from sklearn.model_selection import cross_val_score\n",
        "def acc_model(params):\n",
        "    clf = RandomForestClassifier(**params)\n",
        "    return cross_val_score(clf,\n",
        "                           X_train,\n",
        "                           y_train,\n",
        "                           cv=5,\n",
        "                           scoring='roc_auc').mean()\n",
        "\n",
        "param_space = {\n",
        "    'class_weight':'balanced',\n",
        "    'max_depth': hp.choice('max_depth', range(1,50)),\n",
        "    'max_features': hp.choice('max_features', range(1, len(X_train.columns))),\n",
        "    'n_estimators': hp.choice('n_estimators', range(1,500)),\n",
        "    'criterion': hp.choice('criterion', [\"gini\", \"entropy\"])}\n",
        "\n",
        "best = 0\n",
        "def f(params):\n",
        "    global best\n",
        "    acc = acc_model(params)\n",
        "    if acc > best:\n",
        "        best = acc\n",
        "    print ('new best:', best, params)\n",
        "    return {'loss': -acc, 'status': STATUS_OK}\n",
        "\n",
        "trials = Trials()\n",
        "best = fmin(f, param_space, algo=tpe.suggest, max_evals=100, trials=trials)\n",
        "print ('best:')\n",
        "print (best)"
      ],
      "execution_count": null,
      "outputs": [
        {
          "output_type": "stream",
          "text": [
            "new best:\n",
            "0.7076186545477932\n",
            "{'class_weight': 'balanced', 'criterion': 'gini', 'max_depth': 10, 'max_features': 40, 'n_estimators': 392}\n",
            "new best:\n",
            "0.7076186545477932\n",
            "{'class_weight': 'balanced', 'criterion': 'gini', 'max_depth': 30, 'max_features': 35, 'n_estimators': 338}\n",
            "new best:\n",
            "0.7076186545477932\n",
            "{'class_weight': 'balanced', 'criterion': 'entropy', 'max_depth': 18, 'max_features': 45, 'n_estimators': 295}\n",
            "new best:\n",
            "0.7076186545477932\n",
            "{'class_weight': 'balanced', 'criterion': 'gini', 'max_depth': 19, 'max_features': 7, 'n_estimators': 104}\n",
            "new best:\n",
            "0.7076186545477932\n",
            "{'class_weight': 'balanced', 'criterion': 'entropy', 'max_depth': 1, 'max_features': 3, 'n_estimators': 58}\n",
            "new best:\n",
            "0.7076186545477932\n",
            "{'class_weight': 'balanced', 'criterion': 'entropy', 'max_depth': 17, 'max_features': 20, 'n_estimators': 224}\n",
            "new best:\n",
            "0.7076186545477932\n",
            "{'class_weight': 'balanced', 'criterion': 'gini', 'max_depth': 29, 'max_features': 34, 'n_estimators': 233}\n",
            "new best:\n",
            "0.7076186545477932\n",
            "{'class_weight': 'balanced', 'criterion': 'entropy', 'max_depth': 26, 'max_features': 40, 'n_estimators': 378}\n",
            "new best:\n",
            "0.7083640449978142\n",
            "{'class_weight': 'balanced', 'criterion': 'gini', 'max_depth': 11, 'max_features': 6, 'n_estimators': 261}\n",
            "new best:\n",
            "0.7083640449978142\n",
            "{'class_weight': 'balanced', 'criterion': 'entropy', 'max_depth': 46, 'max_features': 45, 'n_estimators': 70}\n",
            "new best:\n",
            "0.7083640449978142\n",
            "{'class_weight': 'balanced', 'criterion': 'entropy', 'max_depth': 49, 'max_features': 9, 'n_estimators': 489}\n",
            "new best:\n",
            "0.7083640449978142\n",
            "{'class_weight': 'balanced', 'criterion': 'gini', 'max_depth': 23, 'max_features': 52, 'n_estimators': 284}\n",
            "new best:\n",
            "0.7083640449978142\n",
            "{'class_weight': 'balanced', 'criterion': 'entropy', 'max_depth': 43, 'max_features': 35, 'n_estimators': 470}\n",
            " 13%|█▎        | 13/100 [9:55:59<94:54:39, 3927.35s/trial, best loss: -0.7083640449978142]"
          ],
          "name": "stdout"
        }
      ]
    },
    {
      "cell_type": "code",
      "metadata": {
        "id": "2QZ7UNabq1qn"
      },
      "source": [
        ""
      ],
      "execution_count": null,
      "outputs": []
    }
  ]
}