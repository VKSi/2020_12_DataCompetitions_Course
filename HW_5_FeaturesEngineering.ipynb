{
  "nbformat": 4,
  "nbformat_minor": 0,
  "metadata": {
    "colab": {
      "name": "HW_5",
      "provenance": [],
      "collapsed_sections": [],
      "authorship_tag": "ABX9TyPiq5AoEyx4FcHJ/1/DUQq1",
      "include_colab_link": true
    },
    "kernelspec": {
      "name": "python3",
      "display_name": "Python 3"
    }
  },
  "cells": [
    {
      "cell_type": "markdown",
      "metadata": {
        "id": "view-in-github",
        "colab_type": "text"
      },
      "source": [
        "<a href=\"https://colab.research.google.com/github/VKSi/2020_12_DataCompetitions_Course/blob/main/HW_5_FeaturesEngineering.ipynb\" target=\"_parent\"><img src=\"https://colab.research.google.com/assets/colab-badge.svg\" alt=\"Open In Colab\"/></a>"
      ]
    },
    {
      "cell_type": "markdown",
      "metadata": {
        "id": "eJ4aFIz7LCtS"
      },
      "source": [
        "## Feature Engineering, Feature Selection, part I"
      ]
    },
    {
      "cell_type": "markdown",
      "metadata": {
        "id": "0LiiOrIYHPWN"
      },
      "source": [
        "Продолжим работу с данными, которые были использованы в ДЗ2 и 3, продолжим решать задачу обнаружения мошеннических транзакций, что позволит получить полное решение задачи / полный пайплайн.\n",
        "\n",
        "### Задание 0:\n",
        " выбрать любую модель машнного обучения и зафиксировать любой тип валидации. Обучить базовую модель и зафиксировать базовое качество модели. В каждом следующем задании нужно будет обучить выбранную модель и оценивать ее качество на зафиксированной схеме валидации. После каждого задания, требуется сделать вывод о достигаемом качестве модели, по сравнению с качестом из предыдущего шага.\n",
        "\n",
        "### Задание 1:\n",
        " признак TransactionDT - это смещение в секундах относительно базовой даты. Базовая дата - 2017-12-01, преобразовать признак TransactionDT в datetime, прибавив к базовой дате исходное значение признака. Из полученного признака выделить год, месяц, день недели, час, день.\n",
        "\n",
        "### Задание 2:\n",
        " сделать конкатенацию признаков\n",
        "* card1 + card2;\n",
        "* card1 + card2 + card_3 + card_5;\n",
        "* card1 + card2 + card_3 + card_5 + addr1 + addr2\n",
        "\n",
        "Рассматривать их как категориальных признаки.\n",
        "\n",
        "### Задание 3:\n",
        " Сделать FrequencyEncoder для признаков card1 - card6, addr1, addr2.\n",
        "\n",
        "### Задание 4:\n",
        " Создать признаки на основе отношения: TransactionAmt к вычисленной статистике. Статистика - среднее значение / стандартное отклонение TransactionAmt, сгруппированное по card1 - card6, addr1, addr2, и по признакам, созданным в задании 2.\n",
        "\n",
        "### Задание 5:\n",
        " Создать признаки на основе отношения: D15 к вычисленной статистике. Статистика - среднее значение / стандартное отклонение D15, сгруппированное по card1 - card6, addr1, addr2, и по признакам, созданным в задании 2.\n",
        "\n",
        "### Задание 6:\n",
        " выделить дробную часть и целую часть признака TransactionAmt в два отдельных признака. После создать отдельных признак - логарифм от TransactionAmt\n",
        "\n",
        "### Задание 7 (опция):\n",
        " выполнить предварительную подготовку / очистку признаков P_emaildomain и R_emaildomain (что и как делать - остается на ваше усмотрение) и сделать Frequency Encoding для очищенных признаков."
      ]
    },
    {
      "cell_type": "markdown",
      "metadata": {
        "id": "KeZgNDIQkFaU"
      },
      "source": [
        "# Общая (подготовительная) часть"
      ]
    },
    {
      "cell_type": "code",
      "metadata": {
        "id": "A53RsCfOjoQN",
        "colab": {
          "base_uri": "https://localhost:8080/"
        },
        "outputId": "1e7ea413-d3db-41b5-ca66-7a8070c8709c"
      },
      "source": [
        "!pip install catboost"
      ],
      "execution_count": null,
      "outputs": [
        {
          "output_type": "stream",
          "text": [
            "Collecting catboost\n",
            "\u001b[?25l  Downloading https://files.pythonhosted.org/packages/7e/c1/c1c4707013f9e2f8a96899dd3a87f66c9167d6d776a6dc8fe7ec8678d446/catboost-0.24.3-cp36-none-manylinux1_x86_64.whl (66.3MB)\n",
            "\u001b[K     |████████████████████████████████| 66.3MB 53kB/s \n",
            "\u001b[?25hRequirement already satisfied: matplotlib in /usr/local/lib/python3.6/dist-packages (from catboost) (3.2.2)\n",
            "Requirement already satisfied: six in /usr/local/lib/python3.6/dist-packages (from catboost) (1.15.0)\n",
            "Requirement already satisfied: graphviz in /usr/local/lib/python3.6/dist-packages (from catboost) (0.10.1)\n",
            "Requirement already satisfied: pandas>=0.24.0 in /usr/local/lib/python3.6/dist-packages (from catboost) (1.1.4)\n",
            "Requirement already satisfied: numpy>=1.16.0 in /usr/local/lib/python3.6/dist-packages (from catboost) (1.18.5)\n",
            "Requirement already satisfied: scipy in /usr/local/lib/python3.6/dist-packages (from catboost) (1.4.1)\n",
            "Requirement already satisfied: plotly in /usr/local/lib/python3.6/dist-packages (from catboost) (4.4.1)\n",
            "Requirement already satisfied: cycler>=0.10 in /usr/local/lib/python3.6/dist-packages (from matplotlib->catboost) (0.10.0)\n",
            "Requirement already satisfied: pyparsing!=2.0.4,!=2.1.2,!=2.1.6,>=2.0.1 in /usr/local/lib/python3.6/dist-packages (from matplotlib->catboost) (2.4.7)\n",
            "Requirement already satisfied: kiwisolver>=1.0.1 in /usr/local/lib/python3.6/dist-packages (from matplotlib->catboost) (1.3.1)\n",
            "Requirement already satisfied: python-dateutil>=2.1 in /usr/local/lib/python3.6/dist-packages (from matplotlib->catboost) (2.8.1)\n",
            "Requirement already satisfied: pytz>=2017.2 in /usr/local/lib/python3.6/dist-packages (from pandas>=0.24.0->catboost) (2018.9)\n",
            "Requirement already satisfied: retrying>=1.3.3 in /usr/local/lib/python3.6/dist-packages (from plotly->catboost) (1.3.3)\n",
            "Installing collected packages: catboost\n",
            "Successfully installed catboost-0.24.3\n"
          ],
          "name": "stdout"
        }
      ]
    },
    {
      "cell_type": "code",
      "metadata": {
        "id": "EmGCSBaOH_uS"
      },
      "source": [
        "import matplotlib.pyplot as plt\n",
        "import numpy as np\n",
        "import pandas as pd\n",
        "import seaborn as sns\n",
        "from google.colab import files, drive\n",
        "import pickle\n",
        "from sklearn.model_selection import KFold, StratifiedKFold, train_test_split, cross_val_score\n",
        "from sklearn.metrics import roc_auc_score\n",
        "from typing import List, Tuple\n",
        "import catboost as cb"
      ],
      "execution_count": null,
      "outputs": []
    },
    {
      "cell_type": "code",
      "metadata": {
        "id": "bYNuwmRZdQoW",
        "colab": {
          "base_uri": "https://localhost:8080/"
        },
        "outputId": "958de742-592f-4b63-9700-d4055b6ca915"
      },
      "source": [
        "drive.mount('/content/gdrive', force_remount=True)"
      ],
      "execution_count": null,
      "outputs": [
        {
          "output_type": "stream",
          "text": [
            "Mounted at /content/gdrive\n"
          ],
          "name": "stdout"
        }
      ]
    },
    {
      "cell_type": "code",
      "metadata": {
        "id": "t6lT50xLxCMK"
      },
      "source": [
        "PATH = \"gdrive/My Drive/AI/GB/Kaggle/\"\n",
        "object_path = \"gdrive/My Drive/AI/GB/Kaggle/objects/\""
      ],
      "execution_count": null,
      "outputs": []
    },
    {
      "cell_type": "code",
      "metadata": {
        "id": "WSExDrwGxOut"
      },
      "source": [
        "def save_obj(obj, name: str):\n",
        "    path = object_path + name + '.pkl'\n",
        "    with open(path, 'wb') as f:\n",
        "        pickle.dump(obj, f, pickle.HIGHEST_PROTOCOL)\n",
        "    return path\n",
        "\n",
        "\n",
        "def load_obj(name: str):\n",
        "    with open(object_path + name + '.pkl', 'rb') as f:\n",
        "        return pickle.load(f)"
      ],
      "execution_count": null,
      "outputs": []
    },
    {
      "cell_type": "code",
      "metadata": {
        "id": "awXeCZvihjs1"
      },
      "source": [
        "data = pd.read_csv(PATH + \"assignment_2_train.csv\")\n",
        "lb = pd.read_csv(PATH + \"assignment_2_test.csv\")"
      ],
      "execution_count": null,
      "outputs": []
    },
    {
      "cell_type": "code",
      "metadata": {
        "id": "3LDMZNWIhnLp",
        "colab": {
          "base_uri": "https://localhost:8080/"
        },
        "outputId": "86dcf994-1741-47ad-f1e2-251b68a35c45"
      },
      "source": [
        "print(\"data.shape = {} rows, {} cols\".format(*data.shape))\n",
        "print(\"lb.shape = {} rows, {} cols\".format(*lb.shape))"
      ],
      "execution_count": null,
      "outputs": [
        {
          "output_type": "stream",
          "text": [
            "data.shape = 180000 rows, 394 cols\n",
            "lb.shape = 100001 rows, 394 cols\n"
          ],
          "name": "stdout"
        }
      ]
    },
    {
      "cell_type": "code",
      "metadata": {
        "id": "6F_c4xJxipW-"
      },
      "source": [
        "REST_FEATURES = data.columns\n",
        "INITIAL_FEATURES = REST_FEATURES.copy()\n",
        "\n",
        "ID = 'TransactionID'\n",
        "REST_FEATURES = list(set(REST_FEATURES) - set([ID]))\n",
        "\n",
        "TARGET = 'isFraud'\n",
        "REST_FEATURES = list(set(REST_FEATURES) - set([TARGET]))\n",
        "\n",
        "NUMERICAL_FEATURES = data[REST_FEATURES].select_dtypes(include=[np.number]).columns.to_list()\n",
        "REST_FEATURES = list(set(REST_FEATURES) - set(NUMERICAL_FEATURES))\n",
        "\n",
        "CATEGORICAL_FEATURES = REST_FEATURES\n",
        "\n",
        "REST_FEATURES = None"
      ],
      "execution_count": null,
      "outputs": []
    },
    {
      "cell_type": "code",
      "metadata": {
        "id": "nL4sVIg-iu21",
        "colab": {
          "base_uri": "https://localhost:8080/"
        },
        "outputId": "d5d4fe61-2545-424b-aa51-906f9521d46b"
      },
      "source": [
        "data[TARGET].value_counts()/data.shape[0]"
      ],
      "execution_count": null,
      "outputs": [
        {
          "output_type": "execute_result",
          "data": {
            "text/plain": [
              "0    0.971439\n",
              "1    0.028561\n",
              "Name: isFraud, dtype: float64"
            ]
          },
          "metadata": {
            "tags": []
          },
          "execution_count": 9
        }
      ]
    },
    {
      "cell_type": "code",
      "metadata": {
        "id": "u7SE5BscjNfw",
        "colab": {
          "base_uri": "https://localhost:8080/"
        },
        "outputId": "39f939ed-50dd-4013-9f01-5300c2cc03d9"
      },
      "source": [
        "data[TARGET].value_counts()/data.shape[0]"
      ],
      "execution_count": null,
      "outputs": [
        {
          "output_type": "execute_result",
          "data": {
            "text/plain": [
              "0    0.971439\n",
              "1    0.028561\n",
              "Name: isFraud, dtype: float64"
            ]
          },
          "metadata": {
            "tags": []
          },
          "execution_count": 10
        }
      ]
    },
    {
      "cell_type": "code",
      "metadata": {
        "id": "xf58tFPQv_Co"
      },
      "source": [
        "data[CATEGORICAL_FEATURES] = data[CATEGORICAL_FEATURES].astype('str')\n",
        "lb[CATEGORICAL_FEATURES] = lb[CATEGORICAL_FEATURES].astype('str')"
      ],
      "execution_count": null,
      "outputs": []
    },
    {
      "cell_type": "code",
      "metadata": {
        "id": "br-neVC5Umpt"
      },
      "source": [
        "X = data.drop([ID, TARGET], axis='columns')\n",
        "y = data[TARGET]"
      ],
      "execution_count": null,
      "outputs": []
    },
    {
      "cell_type": "code",
      "metadata": {
        "id": "ijxwviD_zPS2"
      },
      "source": [
        "X_lb = lb.drop([ID, TARGET], axis='columns')\n",
        "y_lb = lb[TARGET]"
      ],
      "execution_count": null,
      "outputs": []
    },
    {
      "cell_type": "markdown",
      "metadata": {
        "id": "3aGvsoiuLlfq"
      },
      "source": [
        "# Задание 0:\n",
        " выбрать любую модель машинного обучения и зафиксировать любой тип валидации. Обучить базовую модель и зафиксировать базовое качество модели. В каждом следующем задании нужно будет обучить выбранную модель и оценивать ее качество на зафиксированной схеме валидации. После каждого задания, требуется сделать вывод о достигаемом качестве модели, по сравнению с качестом из предыдущего шага."
      ]
    },
    {
      "cell_type": "markdown",
      "metadata": {
        "id": "bCsOmduLMOIU"
      },
      "source": [
        "Доработаем функцию из лекции, чтобы она работала с catboost"
      ]
    },
    {
      "cell_type": "code",
      "metadata": {
        "id": "JRK8MqmIqJXw"
      },
      "source": [
        "def make_cross_validation(X: pd.DataFrame,\n",
        "                          y: pd.Series,\n",
        "                          estimator: object,\n",
        "                          metric: callable,\n",
        "                          cv_strategy):\n",
        "    \"\"\"\n",
        "    Кросс-валидация.\n",
        "\n",
        "    Parameters\n",
        "    ----------\n",
        "    X: pd.DataFrame\n",
        "        Матрица признаков.\n",
        "\n",
        "    y: pd.Series\n",
        "        Вектор целевой переменной.\n",
        "\n",
        "    estimator: callable\n",
        "        Объект модели для обучения.\n",
        "\n",
        "    metric: callable\n",
        "        Метрика для оценки качества решения.\n",
        "        Ожидается, что на вход будет передана функция,\n",
        "        которая принимает 2 аргумента: y_true, y_pred.\n",
        "\n",
        "    cv_strategy: cross-validation generator\n",
        "        Объект для описания стратегии кросс-валидации.\n",
        "        Ожидается, что на вход будет передан объект типа\n",
        "        KFold или StratifiedKFold.\n",
        "\n",
        "    Returns\n",
        "    -------\n",
        "    oof_score: float\n",
        "        Значение метрики качества на OOF-прогнозах.\n",
        "\n",
        "    fold_train_scores: List[float]\n",
        "        Значение метрики качества на каждом обучающем датасете кросс-валидации.\n",
        "\n",
        "    fold_valid_scores: List[float]\n",
        "        Значение метрики качества на каждом валидационном датасете кросс-валидации.\n",
        "\n",
        "    oof_predictions: np.array\n",
        "        Прогнозы на OOF.\n",
        "\n",
        "    \"\"\"\n",
        "    estimators, fold_train_scores, fold_valid_scores = [], [], []\n",
        "    oof_predictions = np.zeros(X.shape[0])\n",
        "\n",
        "    for fold_number, (train_idx, valid_idx) in enumerate(cv_strategy.split(X, y)):\n",
        "        X_train, X_valid = X.loc[train_idx], X.loc[valid_idx]\n",
        "        y_train, y_valid = y.loc[train_idx], y.loc[valid_idx]\n",
        "\n",
        "        train_pool = cb.Pool(X_train, y_train, cat_features=CATEGORICAL_FEATURES)\n",
        "        valid_pool = cb.Pool(X_valid, y_valid, cat_features=CATEGORICAL_FEATURES)\n",
        "        estimator.fit(train_pool, eval_set=[train_pool, valid_pool])\n",
        "\n",
        "        y_train_pred = estimator.predict_proba(X_train)[:, 1]\n",
        "        y_valid_pred = estimator.predict_proba(X_valid)[:, 1]\n",
        "\n",
        "        fold_train_scores.append(metric(y_train, y_train_pred))\n",
        "        fold_valid_scores.append(metric(y_valid, y_valid_pred))\n",
        "        oof_predictions[valid_idx] = y_valid_pred\n",
        "\n",
        "        msg = (\n",
        "            f\"Fold: {fold_number+1}, train-observations = {len(train_idx)}, \"\n",
        "            f\"valid-observations = {len(valid_idx)}\\n\"\n",
        "            f\"train-score = {round(fold_train_scores[fold_number], 4)}, \"\n",
        "            f\"valid-score = {round(fold_valid_scores[fold_number], 4)}\" \n",
        "        )\n",
        "        print(msg)\n",
        "        print(\"=\"*69)\n",
        "        estimators.append(estimator)\n",
        "        # save_obj(estimators, 'estimators_task_5')\n",
        "\n",
        "    oof_score = metric(y, oof_predictions)\n",
        "    print(f\"CV-results train: {round(np.mean(fold_train_scores), 4)} +/- {round(np.std(fold_train_scores), 3)}\")\n",
        "    print(f\"CV-results valid: {round(np.mean(fold_valid_scores), 4)} +/- {round(np.std(fold_valid_scores), 3)}\")\n",
        "    print(f\"OOF-score = {round(oof_score, 4)}\")\n",
        "\n",
        "    return estimators, oof_score, fold_train_scores, fold_valid_scores, oof_predictions"
      ],
      "execution_count": null,
      "outputs": []
    },
    {
      "cell_type": "code",
      "metadata": {
        "id": "_JygztX7jkf2"
      },
      "source": [
        "cb_params = {\n",
        "    \"n_estimators\": 10000,\n",
        "    \"loss_function\": \"Logloss\",\n",
        "    \"eval_metric\": \"AUC\",\n",
        "    \"task_type\": \"CPU\",\n",
        "    \"max_bin\": 20,\n",
        "    \"verbose\": 500,\n",
        "    \"max_depth\": 4,\n",
        "    \"reg_lambda\": 100,\n",
        "    \"class_weights\":[3, 97], \n",
        "    \"early_stopping_rounds\": 50,\n",
        "    \"thread_count\": 6,\n",
        "    \"random_seed\": 26\n",
        "}"
      ],
      "execution_count": null,
      "outputs": []
    },
    {
      "cell_type": "code",
      "metadata": {
        "id": "gYOSNcpMqMWP"
      },
      "source": [
        "model = cb.CatBoostClassifier(**cb_params)"
      ],
      "execution_count": null,
      "outputs": []
    },
    {
      "cell_type": "code",
      "metadata": {
        "id": "0lz0rtQDqObB"
      },
      "source": [
        "cv_strategy = StratifiedKFold(n_splits=5)"
      ],
      "execution_count": null,
      "outputs": []
    },
    {
      "cell_type": "code",
      "metadata": {
        "id": "3W99fHzTqRjQ",
        "colab": {
          "base_uri": "https://localhost:8080/"
        },
        "outputId": "802c6ef8-3cf5-4a71-89f8-07674d60f51a"
      },
      "source": [
        "estimators, oof_score, fold_train_scores, fold_valid_scores, oof_predictions = \\\n",
        "    make_cross_validation(X, y, model, metric=roc_auc_score, cv_strategy=cv_strategy)"
      ],
      "execution_count": null,
      "outputs": [
        {
          "output_type": "stream",
          "text": [
            "0:\ttest: 0.7899082\ttest1: 0.7589028\tbest: 0.7589028 (0)\ttotal: 706ms\tremaining: 1h 57m 43s\n",
            "500:\ttest: 0.9144923\ttest1: 0.8797447\tbest: 0.8797447 (500)\ttotal: 5m 9s\tremaining: 1h 37m 57s\n",
            "1000:\ttest: 0.9402914\ttest1: 0.8967962\tbest: 0.8967962 (1000)\ttotal: 10m 24s\tremaining: 1h 33m 31s\n",
            "1500:\ttest: 0.9533592\ttest1: 0.9023404\tbest: 0.9023750 (1495)\ttotal: 15m 34s\tremaining: 1h 28m 12s\n",
            "Stopped by overfitting detector  (50 iterations wait)\n",
            "\n",
            "bestTest = 0.902803538\n",
            "bestIteration = 1562\n",
            "\n",
            "Shrink model to first 1563 iterations.\n",
            "Fold: 1, train-observations = 144000, valid-observations = 36000\n",
            "train-score = 0.9547, valid-score = 0.9028\n",
            "=====================================================================\n",
            "0:\ttest: 0.7875437\ttest1: 0.8073380\tbest: 0.8073380 (0)\ttotal: 681ms\tremaining: 1h 53m 33s\n",
            "500:\ttest: 0.9138769\ttest1: 0.9010069\tbest: 0.9010069 (500)\ttotal: 5m 3s\tremaining: 1h 35m 46s\n",
            "1000:\ttest: 0.9401868\ttest1: 0.9115466\tbest: 0.9115488 (990)\ttotal: 10m 6s\tremaining: 1h 30m 51s\n",
            "1500:\ttest: 0.9522268\ttest1: 0.9159292\tbest: 0.9159292 (1500)\ttotal: 15m 9s\tremaining: 1h 25m 48s\n",
            "Stopped by overfitting detector  (50 iterations wait)\n",
            "\n",
            "bestTest = 0.9169569118\n",
            "bestIteration = 1665\n",
            "\n",
            "Shrink model to first 1666 iterations.\n",
            "Fold: 2, train-observations = 144000, valid-observations = 36000\n",
            "train-score = 0.9554, valid-score = 0.917\n",
            "=====================================================================\n",
            "0:\ttest: 0.7798538\ttest1: 0.7507736\tbest: 0.7507736 (0)\ttotal: 620ms\tremaining: 1h 43m 18s\n",
            "Stopped by overfitting detector  (50 iterations wait)\n",
            "\n",
            "bestTest = 0.8543961211\n",
            "bestIteration = 57\n",
            "\n",
            "Shrink model to first 58 iterations.\n",
            "Fold: 3, train-observations = 144000, valid-observations = 36000\n",
            "train-score = 0.8617, valid-score = 0.8544\n",
            "=====================================================================\n",
            "0:\ttest: 0.7542793\ttest1: 0.7522947\tbest: 0.7522947 (0)\ttotal: 575ms\tremaining: 1h 35m 46s\n",
            "Stopped by overfitting detector  (50 iterations wait)\n",
            "\n",
            "bestTest = 0.8705561865\n",
            "bestIteration = 108\n",
            "\n",
            "Shrink model to first 109 iterations.\n",
            "Fold: 4, train-observations = 144000, valid-observations = 36000\n",
            "train-score = 0.8713, valid-score = 0.8706\n",
            "=====================================================================\n",
            "0:\ttest: 0.8079326\ttest1: 0.7497352\tbest: 0.7497352 (0)\ttotal: 673ms\tremaining: 1h 52m 5s\n",
            "500:\ttest: 0.9143062\ttest1: 0.8851466\tbest: 0.8851466 (500)\ttotal: 5m 10s\tremaining: 1h 38m 15s\n",
            "1000:\ttest: 0.9400487\ttest1: 0.8979486\tbest: 0.8979930 (981)\ttotal: 10m 23s\tremaining: 1h 33m 26s\n",
            "1500:\ttest: 0.9528850\ttest1: 0.9052426\tbest: 0.9053819 (1493)\ttotal: 15m 34s\tremaining: 1h 28m 10s\n",
            "Stopped by overfitting detector  (50 iterations wait)\n",
            "\n",
            "bestTest = 0.9053818965\n",
            "bestIteration = 1493\n",
            "\n",
            "Shrink model to first 1494 iterations.\n",
            "Fold: 5, train-observations = 144000, valid-observations = 36000\n",
            "train-score = 0.9527, valid-score = 0.9054\n",
            "=====================================================================\n",
            "CV-results train: 0.9192 +/- 0.043\n",
            "CV-results valid: 0.89 +/- 0.024\n",
            "OOF-score = 0.8757\n"
          ],
          "name": "stdout"
        }
      ]
    },
    {
      "cell_type": "code",
      "metadata": {
        "id": "e8P02OtVqT-I",
        "colab": {
          "base_uri": "https://localhost:8080/",
          "height": 35
        },
        "outputId": "95a72fdb-1d56-40d1-bcf3-9111ce94245c"
      },
      "source": [
        "save_obj(estimators, 'estimators_HW5_task0')"
      ],
      "execution_count": null,
      "outputs": [
        {
          "output_type": "execute_result",
          "data": {
            "application/vnd.google.colaboratory.intrinsic+json": {
              "type": "string"
            },
            "text/plain": [
              "'gdrive/My Drive/AI/GB/Kaggle/objects/estimators_HW5_task0.pkl'"
            ]
          },
          "metadata": {
            "tags": []
          },
          "execution_count": 45
        }
      ]
    },
    {
      "cell_type": "code",
      "metadata": {
        "colab": {
          "base_uri": "https://localhost:8080/"
        },
        "id": "xmHP7NBLfoqt",
        "outputId": "5365f5dc-3755-4790-ab3c-4a876af16d24"
      },
      "source": [
        "proba = np.zeros((len(estimators), X.shape[0]))\n",
        "for i, est in enumerate(estimators):\n",
        "  proba[i, :] = est.predict_proba(X)[:, 1]\n",
        "proba_train = np.mean(proba, axis = 0)\n",
        "train_score = roc_auc_score(y, proba_train)\n",
        "print(f'ROC AUC train score = {round(train_score, 3)}')"
      ],
      "execution_count": null,
      "outputs": [
        {
          "output_type": "stream",
          "text": [
            "ROC AUC train score = 0.94\n"
          ],
          "name": "stdout"
        }
      ]
    },
    {
      "cell_type": "code",
      "metadata": {
        "id": "EXL92f1HfoTH"
      },
      "source": [
        "def my_validation(X, y, task_n):\n",
        "  estimators, oof_score, fold_train_scores, fold_valid_scores, oof_predictions = \\\n",
        "    make_cross_validation(X, y, model, metric=roc_auc_score, cv_strategy=cv_strategy)\n",
        "  save_obj(estimators, f'estimators_HW5_task{task_n}')\n",
        "  proba = np.zeros((len(estimators), X.shape[0]))\n",
        "  for i, est in enumerate(estimators):\n",
        "    proba[i, :] = est.predict_proba(X)[:, 1]\n",
        "  proba_train = np.mean(proba, axis = 0)\n",
        "  train_score = roc_auc_score(y, proba_train)\n",
        "  print(f'ROC AUC train score = {round(train_score, 3)}')    "
      ],
      "execution_count": null,
      "outputs": []
    },
    {
      "cell_type": "markdown",
      "metadata": {
        "id": "0GMwjdIEVh9K"
      },
      "source": [
        "# Задание 1:\n",
        "Признак TransactionDT - это смещение в секундах относительно базовой даты. Базовая дата - 2017-12-01, преобразовать признак TransactionDT в datetime, прибавив к базовой дате исходное значение признака. Из полученного признака выделить год, месяц, день недели, час, день."
      ]
    },
    {
      "cell_type": "code",
      "metadata": {
        "colab": {
          "base_uri": "https://localhost:8080/"
        },
        "id": "8wsuhxThesvy",
        "outputId": "bafc08f6-a890-4680-f43c-3c7d2c28a6c3"
      },
      "source": [
        "data['TransactionDT'] = pd.to_datetime(data.TransactionDT, origin='2017-12-01', unit='s')\n",
        "data.TransactionDT.head()"
      ],
      "execution_count": null,
      "outputs": [
        {
          "output_type": "execute_result",
          "data": {
            "text/plain": [
              "0   2017-12-02 00:00:00\n",
              "1   2017-12-02 00:00:01\n",
              "2   2017-12-02 00:01:09\n",
              "3   2017-12-02 00:01:39\n",
              "4   2017-12-02 00:01:46\n",
              "Name: TransactionDT, dtype: datetime64[ns]"
            ]
          },
          "metadata": {
            "tags": []
          },
          "execution_count": 19
        }
      ]
    },
    {
      "cell_type": "code",
      "metadata": {
        "colab": {
          "base_uri": "https://localhost:8080/",
          "height": 195
        },
        "id": "b2oZuzV4esvz",
        "outputId": "9db7d25c-a54b-4612-c9f2-5412004a83b8"
      },
      "source": [
        "data['TransactionDT_year'] = data.TransactionDT.dt.year\n",
        "data['TransactionDT_month'] = data.TransactionDT.dt.month\n",
        "data['TransactionDT_day'] = data.TransactionDT.dt.day\n",
        "data['TransactionDT_hour'] = data.TransactionDT.dt.hour\n",
        "data['TransactionDT_dow'] = data.TransactionDT.dt.dayofweek\n",
        "cols = [col for col in data.columns if col[:13] == 'TransactionDT']\n",
        "data[cols].head()"
      ],
      "execution_count": null,
      "outputs": [
        {
          "output_type": "execute_result",
          "data": {
            "text/html": [
              "<div>\n",
              "<style scoped>\n",
              "    .dataframe tbody tr th:only-of-type {\n",
              "        vertical-align: middle;\n",
              "    }\n",
              "\n",
              "    .dataframe tbody tr th {\n",
              "        vertical-align: top;\n",
              "    }\n",
              "\n",
              "    .dataframe thead th {\n",
              "        text-align: right;\n",
              "    }\n",
              "</style>\n",
              "<table border=\"1\" class=\"dataframe\">\n",
              "  <thead>\n",
              "    <tr style=\"text-align: right;\">\n",
              "      <th></th>\n",
              "      <th>TransactionDT</th>\n",
              "      <th>TransactionDT_year</th>\n",
              "      <th>TransactionDT_month</th>\n",
              "      <th>TransactionDT_day</th>\n",
              "      <th>TransactionDT_hour</th>\n",
              "      <th>TransactionDT_dow</th>\n",
              "    </tr>\n",
              "  </thead>\n",
              "  <tbody>\n",
              "    <tr>\n",
              "      <th>0</th>\n",
              "      <td>2017-12-02 00:00:00</td>\n",
              "      <td>2017</td>\n",
              "      <td>12</td>\n",
              "      <td>2</td>\n",
              "      <td>0</td>\n",
              "      <td>5</td>\n",
              "    </tr>\n",
              "    <tr>\n",
              "      <th>1</th>\n",
              "      <td>2017-12-02 00:00:01</td>\n",
              "      <td>2017</td>\n",
              "      <td>12</td>\n",
              "      <td>2</td>\n",
              "      <td>0</td>\n",
              "      <td>5</td>\n",
              "    </tr>\n",
              "    <tr>\n",
              "      <th>2</th>\n",
              "      <td>2017-12-02 00:01:09</td>\n",
              "      <td>2017</td>\n",
              "      <td>12</td>\n",
              "      <td>2</td>\n",
              "      <td>0</td>\n",
              "      <td>5</td>\n",
              "    </tr>\n",
              "    <tr>\n",
              "      <th>3</th>\n",
              "      <td>2017-12-02 00:01:39</td>\n",
              "      <td>2017</td>\n",
              "      <td>12</td>\n",
              "      <td>2</td>\n",
              "      <td>0</td>\n",
              "      <td>5</td>\n",
              "    </tr>\n",
              "    <tr>\n",
              "      <th>4</th>\n",
              "      <td>2017-12-02 00:01:46</td>\n",
              "      <td>2017</td>\n",
              "      <td>12</td>\n",
              "      <td>2</td>\n",
              "      <td>0</td>\n",
              "      <td>5</td>\n",
              "    </tr>\n",
              "  </tbody>\n",
              "</table>\n",
              "</div>"
            ],
            "text/plain": [
              "        TransactionDT  ...  TransactionDT_dow\n",
              "0 2017-12-02 00:00:00  ...                  5\n",
              "1 2017-12-02 00:00:01  ...                  5\n",
              "2 2017-12-02 00:01:09  ...                  5\n",
              "3 2017-12-02 00:01:39  ...                  5\n",
              "4 2017-12-02 00:01:46  ...                  5\n",
              "\n",
              "[5 rows x 6 columns]"
            ]
          },
          "metadata": {
            "tags": []
          },
          "execution_count": 20
        }
      ]
    },
    {
      "cell_type": "code",
      "metadata": {
        "id": "AR0so-PsfFZ7"
      },
      "source": [
        "X = data.drop([ID, TARGET], axis='columns')\n",
        "y = data[TARGET]"
      ],
      "execution_count": null,
      "outputs": []
    },
    {
      "cell_type": "code",
      "metadata": {
        "colab": {
          "base_uri": "https://localhost:8080/"
        },
        "id": "ZTpy6s_7fMmk",
        "outputId": "6de6afca-f1a8-4fc6-90da-25f1c63e4f0d"
      },
      "source": [
        "my_validation(X, y, 1)"
      ],
      "execution_count": null,
      "outputs": [
        {
          "output_type": "stream",
          "text": [
            "0:\ttest: 0.7742663\ttest1: 0.7632443\tbest: 0.7632443 (0)\ttotal: 607ms\tremaining: 1h 41m 10s\n",
            "500:\ttest: 0.9144821\ttest1: 0.8788737\tbest: 0.8788737 (500)\ttotal: 5m 11s\tremaining: 1h 38m 33s\n",
            "1000:\ttest: 0.9412517\ttest1: 0.8944355\tbest: 0.8944372 (998)\ttotal: 10m 24s\tremaining: 1h 33m 38s\n",
            "Stopped by overfitting detector  (50 iterations wait)\n",
            "\n",
            "bestTest = 0.8955071784\n",
            "bestIteration = 1060\n",
            "\n",
            "Shrink model to first 1061 iterations.\n",
            "Fold: 1, train-observations = 144000, valid-observations = 36000\n",
            "train-score = 0.9428, valid-score = 0.8955\n",
            "=====================================================================\n",
            "0:\ttest: 0.7688947\ttest1: 0.7959285\tbest: 0.7959285 (0)\ttotal: 615ms\tremaining: 1h 42m 28s\n",
            "500:\ttest: 0.9137869\ttest1: 0.8990091\tbest: 0.8990091 (500)\ttotal: 5m 10s\tremaining: 1h 38m 15s\n",
            "1000:\ttest: 0.9413172\ttest1: 0.9089941\tbest: 0.9089941 (1000)\ttotal: 10m 20s\tremaining: 1h 33m\n",
            "1500:\ttest: 0.9533595\ttest1: 0.9130811\tbest: 0.9131177 (1493)\ttotal: 15m 27s\tremaining: 1h 27m 29s\n",
            "2000:\ttest: 0.9614472\ttest1: 0.9166613\tbest: 0.9166613 (2000)\ttotal: 20m 31s\tremaining: 1h 22m 4s\n",
            "Stopped by overfitting detector  (50 iterations wait)\n",
            "\n",
            "bestTest = 0.9177167749\n",
            "bestIteration = 2298\n",
            "\n",
            "Shrink model to first 2299 iterations.\n",
            "Fold: 2, train-observations = 144000, valid-observations = 36000\n",
            "train-score = 0.9651, valid-score = 0.9177\n",
            "=====================================================================\n",
            "0:\ttest: 0.7678481\ttest1: 0.7594933\tbest: 0.7594933 (0)\ttotal: 641ms\tremaining: 1h 46m 51s\n",
            "Stopped by overfitting detector  (50 iterations wait)\n",
            "\n",
            "bestTest = 0.838671048\n",
            "bestIteration = 25\n",
            "\n",
            "Shrink model to first 26 iterations.\n",
            "Fold: 3, train-observations = 144000, valid-observations = 36000\n",
            "train-score = 0.8483, valid-score = 0.8387\n",
            "=====================================================================\n",
            "0:\ttest: 0.7693700\ttest1: 0.7546661\tbest: 0.7546661 (0)\ttotal: 620ms\tremaining: 1h 43m 24s\n",
            "Stopped by overfitting detector  (50 iterations wait)\n",
            "\n",
            "bestTest = 0.8584118963\n",
            "bestIteration = 60\n",
            "\n",
            "Shrink model to first 61 iterations.\n",
            "Fold: 4, train-observations = 144000, valid-observations = 36000\n",
            "train-score = 0.859, valid-score = 0.8584\n",
            "=====================================================================\n",
            "0:\ttest: 0.7834325\ttest1: 0.7798563\tbest: 0.7798563 (0)\ttotal: 652ms\tremaining: 1h 48m 42s\n",
            "Stopped by overfitting detector  (50 iterations wait)\n",
            "\n",
            "bestTest = 0.8698661579\n",
            "bestIteration = 382\n",
            "\n",
            "Shrink model to first 383 iterations.\n",
            "Fold: 5, train-observations = 144000, valid-observations = 36000\n",
            "train-score = 0.9039, valid-score = 0.8699\n",
            "=====================================================================\n",
            "CV-results train: 0.9038 +/- 0.046\n",
            "CV-results valid: 0.876 +/- 0.028\n",
            "OOF-score = 0.8527\n",
            "ROC AUC train score = 0.889\n"
          ],
          "name": "stdout"
        }
      ]
    },
    {
      "cell_type": "markdown",
      "metadata": {
        "id": "QD0GVC4whYEV"
      },
      "source": [
        "### Результат:\n",
        "CV-results train: 0.9038 +/- 0.046     \n",
        "CV-results valid: 0.876 +/- 0.028     \n",
        "OOF-score = 0.8527     \n",
        "ROC AUC train score = 0.889     "
      ]
    },
    {
      "cell_type": "markdown",
      "metadata": {
        "id": "FpEs95y3yKqJ"
      },
      "source": [
        "При базовом:\n",
        "CV-results train: 0.9192 +/- 0.043     \n",
        "CV-results valid: 0.89 +/- 0.024     \n",
        "OOF-score = 0.8757    \n",
        "ROC AUC train score = 0.94"
      ]
    },
    {
      "cell_type": "markdown",
      "metadata": {
        "id": "jeBIdKinfXsV"
      },
      "source": [
        "**Результат ухудшился**"
      ]
    },
    {
      "cell_type": "markdown",
      "metadata": {
        "id": "a9yD_LabhjQc"
      },
      "source": [
        "# Задание 2:\n",
        "сделать конкатенацию признаков\n",
        "\n",
        "card1 + card2;\n",
        "card1 + card2 + card_3 + card_5;\n",
        "card1 + card2 + card_3 + card_5 + addr1 + addr2\n",
        "Рассматривать их как категориальных признаки."
      ]
    },
    {
      "cell_type": "code",
      "metadata": {
        "colab": {
          "base_uri": "https://localhost:8080/"
        },
        "id": "fESIA5GEeXfI",
        "outputId": "819922ec-3767-44e0-dbab-b31c19e0c01d"
      },
      "source": [
        "mix_1 = {'card1', 'card2'}\n",
        "mix_2 = mix_1.union({'card3', 'card5'})\n",
        "mix_3 = mix_2.union({'addr1', 'addr2'})\n",
        "\n",
        "for feat in mix_3:\n",
        "  print('*'*20)\n",
        "  print(feat)\n",
        "  print(data[feat].nunique())"
      ],
      "execution_count": null,
      "outputs": [
        {
          "output_type": "stream",
          "text": [
            "********************\n",
            "addr2\n",
            "54\n",
            "********************\n",
            "addr1\n",
            "269\n",
            "********************\n",
            "card1\n",
            "9496\n",
            "********************\n",
            "card5\n",
            "95\n",
            "********************\n",
            "card3\n",
            "88\n",
            "********************\n",
            "card2\n",
            "499\n"
          ],
          "name": "stdout"
        }
      ]
    },
    {
      "cell_type": "code",
      "metadata": {
        "id": "5E9Ni207imNK"
      },
      "source": [
        "TO_CATEGORICAL = []\n",
        "for mix in [mix_1, mix_2, mix_3]:\n",
        "  feat_name = '_'.join(mix)\n",
        "  TO_CATEGORICAL.append(feat_name)\n",
        "  data[feat_name] = ''\n",
        "  for feat in mix:\n",
        "      data[feat_name] = data[feat_name] + data[feat].astype('str') +' | '\n",
        "  data[feat_name] = data[feat_name].str[:-3]"
      ],
      "execution_count": null,
      "outputs": []
    },
    {
      "cell_type": "code",
      "metadata": {
        "colab": {
          "base_uri": "https://localhost:8080/"
        },
        "id": "gDOoI45knpAl",
        "outputId": "0df328b2-2338-4156-dd39-67fcecf47481"
      },
      "source": [
        "TO_CATEGORICAL"
      ],
      "execution_count": null,
      "outputs": [
        {
          "output_type": "execute_result",
          "data": {
            "text/plain": [
              "['card1_card2',\n",
              " 'card3_card5_card1_card2',\n",
              " 'addr2_addr1_card1_card5_card3_card2']"
            ]
          },
          "metadata": {
            "tags": []
          },
          "execution_count": 24
        }
      ]
    },
    {
      "cell_type": "code",
      "metadata": {
        "colab": {
          "base_uri": "https://localhost:8080/"
        },
        "id": "GkRXVIKIpIAD",
        "outputId": "e750a609-0575-4d2d-94c2-2b4f0dfef301"
      },
      "source": [
        "CATEGORICAL_FEATURES += TO_CATEGORICAL\n",
        "CATEGORICAL_FEATURES"
      ],
      "execution_count": null,
      "outputs": [
        {
          "output_type": "execute_result",
          "data": {
            "text/plain": [
              "['M4',\n",
              " 'M5',\n",
              " 'M8',\n",
              " 'card6',\n",
              " 'card4',\n",
              " 'R_emaildomain',\n",
              " 'M7',\n",
              " 'M6',\n",
              " 'M9',\n",
              " 'M3',\n",
              " 'M1',\n",
              " 'P_emaildomain',\n",
              " 'ProductCD',\n",
              " 'M2',\n",
              " 'card1_card2',\n",
              " 'card3_card5_card1_card2',\n",
              " 'addr2_addr1_card1_card5_card3_card2']"
            ]
          },
          "metadata": {
            "tags": []
          },
          "execution_count": 25
        }
      ]
    },
    {
      "cell_type": "code",
      "metadata": {
        "id": "gVvmiUqTqgy7"
      },
      "source": [
        "X = data.drop([ID, TARGET], axis='columns')\n",
        "y = data[TARGET]"
      ],
      "execution_count": null,
      "outputs": []
    },
    {
      "cell_type": "code",
      "metadata": {
        "colab": {
          "base_uri": "https://localhost:8080/"
        },
        "id": "ooNTV9zCqh1s",
        "outputId": "658f6c27-1770-45d0-fcc9-f29335daa4c4"
      },
      "source": [
        "my_validation(X, y, 2)"
      ],
      "execution_count": null,
      "outputs": [
        {
          "output_type": "stream",
          "text": [
            "0:\ttest: 0.8763395\ttest1: 0.7543158\tbest: 0.7543158 (0)\ttotal: 903ms\tremaining: 2h 30m 30s\n",
            "500:\ttest: 0.9804959\ttest1: 0.9105092\tbest: 0.9105228 (499)\ttotal: 6m 5s\tremaining: 1h 55m 34s\n",
            "1000:\ttest: 0.9874537\ttest1: 0.9197185\tbest: 0.9197185 (1000)\ttotal: 12m 4s\tremaining: 1h 48m 36s\n",
            "1500:\ttest: 0.9901774\ttest1: 0.9220240\tbest: 0.9220352 (1499)\ttotal: 18m 1s\tremaining: 1h 42m 3s\n",
            "Stopped by overfitting detector  (50 iterations wait)\n",
            "\n",
            "bestTest = 0.9221167095\n",
            "bestIteration = 1514\n",
            "\n",
            "Shrink model to first 1515 iterations.\n",
            "Fold: 1, train-observations = 144000, valid-observations = 36000\n",
            "train-score = 0.9902, valid-score = 0.9221\n",
            "=====================================================================\n",
            "0:\ttest: 0.7749248\ttest1: 0.8013034\tbest: 0.8013034 (0)\ttotal: 792ms\tremaining: 2h 11m 57s\n",
            "500:\ttest: 0.9820669\ttest1: 0.9252751\tbest: 0.9252751 (500)\ttotal: 6m\tremaining: 1h 53m 53s\n",
            "Stopped by overfitting detector  (50 iterations wait)\n",
            "\n",
            "bestTest = 0.9308730753\n",
            "bestIteration = 724\n",
            "\n",
            "Shrink model to first 725 iterations.\n",
            "Fold: 2, train-observations = 144000, valid-observations = 36000\n",
            "train-score = 0.9861, valid-score = 0.9309\n",
            "=====================================================================\n",
            "0:\ttest: 0.7835122\ttest1: 0.7462761\tbest: 0.7462761 (0)\ttotal: 778ms\tremaining: 2h 9m 34s\n",
            "Stopped by overfitting detector  (50 iterations wait)\n",
            "\n",
            "bestTest = 0.8490384581\n",
            "bestIteration = 10\n",
            "\n",
            "Shrink model to first 11 iterations.\n",
            "Fold: 3, train-observations = 144000, valid-observations = 36000\n",
            "train-score = 0.9102, valid-score = 0.849\n",
            "=====================================================================\n",
            "0:\ttest: 0.8369846\ttest1: 0.7947361\tbest: 0.7947361 (0)\ttotal: 715ms\tremaining: 1h 59m 8s\n",
            "Stopped by overfitting detector  (50 iterations wait)\n",
            "\n",
            "bestTest = 0.8822333019\n",
            "bestIteration = 52\n",
            "\n",
            "Shrink model to first 53 iterations.\n",
            "Fold: 4, train-observations = 144000, valid-observations = 36000\n",
            "train-score = 0.9303, valid-score = 0.8822\n",
            "=====================================================================\n",
            "0:\ttest: 0.8247610\ttest1: 0.7757138\tbest: 0.7757138 (0)\ttotal: 745ms\tremaining: 2h 4m 11s\n",
            "Stopped by overfitting detector  (50 iterations wait)\n",
            "\n",
            "bestTest = 0.8935703466\n",
            "bestIteration = 278\n",
            "\n",
            "Shrink model to first 279 iterations.\n",
            "Fold: 5, train-observations = 144000, valid-observations = 36000\n",
            "train-score = 0.9673, valid-score = 0.8936\n",
            "=====================================================================\n",
            "CV-results train: 0.9568 +/- 0.032\n",
            "CV-results valid: 0.8956 +/- 0.029\n",
            "OOF-score = 0.8743\n",
            "ROC AUC train score = 0.956\n"
          ],
          "name": "stdout"
        }
      ]
    },
    {
      "cell_type": "markdown",
      "metadata": {
        "id": "PauhzTlxGh-2"
      },
      "source": [
        "### Результат пока самый лучший!"
      ]
    },
    {
      "cell_type": "markdown",
      "metadata": {
        "id": "u4MV1g6iCqca"
      },
      "source": [
        "# Задание 3:\n",
        "Сделать FrequencyEncoder для признаков card1 - card6, addr1, addr2."
      ]
    },
    {
      "cell_type": "code",
      "metadata": {
        "id": "S5-1OzDen38r",
        "colab": {
          "base_uri": "https://localhost:8080/"
        },
        "outputId": "a6a47dc8-6b05-4b11-dfa2-50dee241a823"
      },
      "source": [
        "TO_HANDLE = mix_3.union({'card4', 'card6'})\n",
        "TO_HANDLE"
      ],
      "execution_count": null,
      "outputs": [
        {
          "output_type": "execute_result",
          "data": {
            "text/plain": [
              "{'addr1', 'addr2', 'card1', 'card2', 'card3', 'card4', 'card5', 'card6'}"
            ]
          },
          "metadata": {
            "tags": []
          },
          "execution_count": 27
        }
      ]
    },
    {
      "cell_type": "code",
      "metadata": {
        "id": "TNHceQVqEtLq"
      },
      "source": [
        "for feat in TO_HANDLE:\n",
        "  data[f'{feat}_FRQ'] = data[feat].map(data[feat].value_counts())"
      ],
      "execution_count": null,
      "outputs": []
    },
    {
      "cell_type": "code",
      "metadata": {
        "id": "DYAviYg-IPs1"
      },
      "source": [
        "X = data.drop([ID, TARGET], axis='columns')\n",
        "y = data[TARGET]"
      ],
      "execution_count": null,
      "outputs": []
    },
    {
      "cell_type": "code",
      "metadata": {
        "colab": {
          "base_uri": "https://localhost:8080/"
        },
        "id": "lWIqYclNITm9",
        "outputId": "53d3e3fd-6f0d-4b4d-e44a-3939d2c5b76f"
      },
      "source": [
        "my_validation(X, y, 3)"
      ],
      "execution_count": null,
      "outputs": [
        {
          "output_type": "stream",
          "text": [
            "0:\ttest: 0.8338584\ttest1: 0.7741458\tbest: 0.7741458 (0)\ttotal: 902ms\tremaining: 2h 30m 22s\n",
            "500:\ttest: 0.9800831\ttest1: 0.9128857\tbest: 0.9128857 (500)\ttotal: 5m 45s\tremaining: 1h 49m 2s\n",
            "1000:\ttest: 0.9880490\ttest1: 0.9236569\tbest: 0.9237095 (972)\ttotal: 11m 33s\tremaining: 1h 43m 58s\n",
            "1500:\ttest: 0.9907329\ttest1: 0.9266562\tbest: 0.9266606 (1495)\ttotal: 17m 16s\tremaining: 1h 37m 51s\n",
            "2000:\ttest: 0.9923155\ttest1: 0.9279831\tbest: 0.9280199 (1966)\ttotal: 22m 52s\tremaining: 1h 31m 27s\n",
            "Stopped by overfitting detector  (50 iterations wait)\n",
            "\n",
            "bestTest = 0.9288524761\n",
            "bestIteration = 2259\n",
            "\n",
            "Shrink model to first 2260 iterations.\n",
            "Fold: 1, train-observations = 144000, valid-observations = 36000\n",
            "train-score = 0.9929, valid-score = 0.9289\n",
            "=====================================================================\n",
            "0:\ttest: 0.8284719\ttest1: 0.7520158\tbest: 0.7520158 (0)\ttotal: 1.43s\tremaining: 3h 58m 23s\n",
            "500:\ttest: 0.9801566\ttest1: 0.9265693\tbest: 0.9265693 (500)\ttotal: 5m 43s\tremaining: 1h 48m 40s\n",
            "1000:\ttest: 0.9881141\ttest1: 0.9346528\tbest: 0.9346786 (990)\ttotal: 11m 26s\tremaining: 1h 42m 49s\n",
            "Stopped by overfitting detector  (50 iterations wait)\n",
            "\n",
            "bestTest = 0.9347729991\n",
            "bestIteration = 1035\n",
            "\n",
            "Shrink model to first 1036 iterations.\n",
            "Fold: 2, train-observations = 144000, valid-observations = 36000\n",
            "train-score = 0.9883, valid-score = 0.9348\n",
            "=====================================================================\n",
            "0:\ttest: 0.7623437\ttest1: 0.7326192\tbest: 0.7326192 (0)\ttotal: 701ms\tremaining: 1h 56m 48s\n",
            "Stopped by overfitting detector  (50 iterations wait)\n",
            "\n",
            "bestTest = 0.8501217038\n",
            "bestIteration = 50\n",
            "\n",
            "Shrink model to first 51 iterations.\n",
            "Fold: 3, train-observations = 144000, valid-observations = 36000\n",
            "train-score = 0.9272, valid-score = 0.8501\n",
            "=====================================================================\n",
            "0:\ttest: 0.8490964\ttest1: 0.7681278\tbest: 0.7681278 (0)\ttotal: 677ms\tremaining: 1h 52m 47s\n",
            "Stopped by overfitting detector  (50 iterations wait)\n",
            "\n",
            "bestTest = 0.8814790576\n",
            "bestIteration = 64\n",
            "\n",
            "Shrink model to first 65 iterations.\n",
            "Fold: 4, train-observations = 144000, valid-observations = 36000\n",
            "train-score = 0.9376, valid-score = 0.8815\n",
            "=====================================================================\n",
            "0:\ttest: 0.8364334\ttest1: 0.7354562\tbest: 0.7354562 (0)\ttotal: 703ms\tremaining: 1h 57m 9s\n",
            "500:\ttest: 0.9795807\ttest1: 0.9028423\tbest: 0.9033672 (482)\ttotal: 5m 51s\tremaining: 1h 51m 5s\n",
            "Stopped by overfitting detector  (50 iterations wait)\n",
            "\n",
            "bestTest = 0.9033671909\n",
            "bestIteration = 482\n",
            "\n",
            "Shrink model to first 483 iterations.\n",
            "Fold: 5, train-observations = 144000, valid-observations = 36000\n",
            "train-score = 0.9787, valid-score = 0.9034\n",
            "=====================================================================\n",
            "CV-results train: 0.9649 +/- 0.027\n",
            "CV-results valid: 0.8997 +/- 0.031\n",
            "OOF-score = 0.8859\n",
            "ROC AUC train score = 0.967\n"
          ],
          "name": "stdout"
        }
      ]
    },
    {
      "cell_type": "markdown",
      "metadata": {
        "id": "Y9kFhljRTzHV"
      },
      "source": [
        "### Результат еще улучшился\n",
        "CV-results train: 0.9649 +/- 0.027     \n",
        "CV-results valid: 0.8997 +/- 0.031     \n",
        "OOF-score = 0.8859     \n",
        "ROC AUC train score = 0.967     "
      ]
    },
    {
      "cell_type": "markdown",
      "metadata": {
        "id": "GxuTrBDaIlmE"
      },
      "source": [
        "# Задание 4:\n",
        "Создать признаки на основе отношения: TransactionAmt к вычисленной статистике. Статистика - среднее значение / стандартное отклонение TransactionAmt, сгруппированное по card1 - card6, addr1, addr2, и по признакам, созданным в задании 2"
      ]
    },
    {
      "cell_type": "code",
      "metadata": {
        "colab": {
          "base_uri": "https://localhost:8080/"
        },
        "id": "zTVW7uRIE7wY",
        "outputId": "adbc8b31-1341-45da-b617-bb34c9435761"
      },
      "source": [
        "TO_HANDLE = TO_HANDLE.union(set(TO_CATEGORICAL))\n",
        "TO_HANDLE"
      ],
      "execution_count": null,
      "outputs": [
        {
          "output_type": "execute_result",
          "data": {
            "text/plain": [
              "{'addr1',\n",
              " 'addr2',\n",
              " 'addr2_addr1_card1_card5_card3_card2',\n",
              " 'card1',\n",
              " 'card1_card2',\n",
              " 'card2',\n",
              " 'card3',\n",
              " 'card3_card5_card1_card2',\n",
              " 'card4',\n",
              " 'card5',\n",
              " 'card6'}"
            ]
          },
          "metadata": {
            "tags": []
          },
          "execution_count": 31
        }
      ]
    },
    {
      "cell_type": "code",
      "metadata": {
        "id": "F6ke3zIAJE02"
      },
      "source": [
        "AGGREGATED_FEAT = 'TransactionAmt'"
      ],
      "execution_count": null,
      "outputs": []
    },
    {
      "cell_type": "code",
      "metadata": {
        "id": "QHET3DtKOxJj"
      },
      "source": [
        "def z_score(df_, AGGREGATED_FEAT_, feat_):\n",
        "  df_tt = df_[[AGGREGATED_FEAT_, feat_]].copy()\n",
        "  m = df_tt[[feat_, AGGREGATED_FEAT_]].groupby(feat_).mean().squeeze()\n",
        "  s = df_tt[[feat_, AGGREGATED_FEAT_]].groupby(feat_).std().squeeze()\n",
        "  df_tt['z_score'] = (df_tt[AGGREGATED_FEAT] - df_tt[feat_].map(m))/df_tt[feat_].map(s)\n",
        "  return df_tt['z_score']"
      ],
      "execution_count": null,
      "outputs": []
    },
    {
      "cell_type": "code",
      "metadata": {
        "id": "3q6VB5WaJT1P"
      },
      "source": [
        "stats_name = 'z_score'\n",
        "for feat in TO_HANDLE:\n",
        "  data[f'{AGGREGATED_FEAT}__{stats_name.upper()}_BY__{feat}'] = z_score(data, AGGREGATED_FEAT, feat)"
      ],
      "execution_count": null,
      "outputs": []
    },
    {
      "cell_type": "code",
      "metadata": {
        "id": "qNuz6qizZ0uQ"
      },
      "source": [
        "X = data.drop([ID, TARGET], axis='columns')\n",
        "y = data[TARGET]"
      ],
      "execution_count": null,
      "outputs": []
    },
    {
      "cell_type": "code",
      "metadata": {
        "colab": {
          "base_uri": "https://localhost:8080/"
        },
        "id": "6S6JGBBbaACL",
        "outputId": "e8470806-518f-4cc2-ac3a-f54071edb386"
      },
      "source": [
        "my_validation(X, y, 4)"
      ],
      "execution_count": null,
      "outputs": [
        {
          "output_type": "stream",
          "text": [
            "0:\ttest: 0.8190092\ttest1: 0.7778811\tbest: 0.7778811 (0)\ttotal: 772ms\tremaining: 2h 8m 36s\n",
            "500:\ttest: 0.9803433\ttest1: 0.9118932\tbest: 0.9118932 (500)\ttotal: 5m 49s\tremaining: 1h 50m 34s\n",
            "1000:\ttest: 0.9881566\ttest1: 0.9205431\tbest: 0.9205431 (1000)\ttotal: 11m 35s\tremaining: 1h 44m 16s\n",
            "1500:\ttest: 0.9907188\ttest1: 0.9230281\tbest: 0.9230340 (1499)\ttotal: 17m 20s\tremaining: 1h 38m 11s\n",
            "Stopped by overfitting detector  (50 iterations wait)\n",
            "\n",
            "bestTest = 0.9251364683\n",
            "bestIteration = 1881\n",
            "\n",
            "Shrink model to first 1882 iterations.\n",
            "Fold: 1, train-observations = 144000, valid-observations = 36000\n",
            "train-score = 0.9921, valid-score = 0.9251\n",
            "=====================================================================\n",
            "0:\ttest: 0.8752692\ttest1: 0.7950245\tbest: 0.7950245 (0)\ttotal: 748ms\tremaining: 2h 4m 41s\n",
            "500:\ttest: 0.9792226\ttest1: 0.9254715\tbest: 0.9254715 (500)\ttotal: 5m 45s\tremaining: 1h 49m 11s\n",
            "1000:\ttest: 0.9887211\ttest1: 0.9336643\tbest: 0.9336771 (995)\ttotal: 11m 33s\tremaining: 1h 43m 58s\n",
            "1500:\ttest: 0.9911265\ttest1: 0.9360165\tbest: 0.9360262 (1494)\ttotal: 17m 5s\tremaining: 1h 36m 44s\n",
            "Stopped by overfitting detector  (50 iterations wait)\n",
            "\n",
            "bestTest = 0.9361525073\n",
            "bestIteration = 1510\n",
            "\n",
            "Shrink model to first 1511 iterations.\n",
            "Fold: 2, train-observations = 144000, valid-observations = 36000\n",
            "train-score = 0.9912, valid-score = 0.9362\n",
            "=====================================================================\n",
            "0:\ttest: 0.7746048\ttest1: 0.7388663\tbest: 0.7388663 (0)\ttotal: 767ms\tremaining: 2h 7m 47s\n",
            "Stopped by overfitting detector  (50 iterations wait)\n",
            "\n",
            "bestTest = 0.8481903227\n",
            "bestIteration = 31\n",
            "\n",
            "Shrink model to first 32 iterations.\n",
            "Fold: 3, train-observations = 144000, valid-observations = 36000\n",
            "train-score = 0.9129, valid-score = 0.9038\n",
            "=====================================================================\n",
            "0:\ttest: 0.8346916\ttest1: 0.7788705\tbest: 0.7788705 (0)\ttotal: 678ms\tremaining: 1h 53m 2s\n",
            "Stopped by overfitting detector  (50 iterations wait)\n",
            "\n",
            "bestTest = 0.8906665215\n",
            "bestIteration = 80\n",
            "\n",
            "Shrink model to first 81 iterations.\n",
            "Fold: 4, train-observations = 144000, valid-observations = 36000\n",
            "train-score = 0.9423, valid-score = 0.8907\n",
            "=====================================================================\n",
            "0:\ttest: 0.8857023\ttest1: 0.7862813\tbest: 0.7862813 (0)\ttotal: 729ms\tremaining: 2h 1m 32s\n",
            "500:\ttest: 0.9794176\ttest1: 0.9008918\tbest: 0.9020540 (486)\ttotal: 5m 52s\tremaining: 1h 51m 21s\n",
            "Stopped by overfitting detector  (50 iterations wait)\n",
            "\n",
            "bestTest = 0.9022663482\n",
            "bestIteration = 516\n",
            "\n",
            "Shrink model to first 517 iterations.\n",
            "Fold: 5, train-observations = 144000, valid-observations = 36000\n",
            "train-score = 0.9801, valid-score = 0.9023\n",
            "=====================================================================\n",
            "CV-results train: 0.9637 +/- 0.031\n",
            "CV-results valid: 0.9116 +/- 0.017\n",
            "OOF-score = 0.8905\n",
            "ROC AUC train score = 0.968\n"
          ],
          "name": "stdout"
        }
      ]
    },
    {
      "cell_type": "markdown",
      "metadata": {
        "id": "TowdywuAaGRQ"
      },
      "source": [
        "### Результат улучшился\n",
        "CV-results train: 0.9637 +/- 0.031     \n",
        "CV-results valid: 0.9116 +/- 0.017     \n",
        "OOF-score = 0.8905     \n",
        "ROC AUC train score = 0.968"
      ]
    },
    {
      "cell_type": "markdown",
      "metadata": {
        "id": "Pya5AK7lNVER"
      },
      "source": [
        "### Задание 5:\n",
        "Создать признаки на основе отношения: D15 к вычисленной статистике. Статистика - среднее значение / стандартное отклонение D15, сгруппированное по card1 - card6, addr1, addr2, и по признакам, созданным в задании 2."
      ]
    },
    {
      "cell_type": "code",
      "metadata": {
        "id": "la0U_H9Uap11"
      },
      "source": [
        "AGGREGATED_FEAT = 'D15'"
      ],
      "execution_count": null,
      "outputs": []
    },
    {
      "cell_type": "code",
      "metadata": {
        "id": "F1h0QsAMbSU1"
      },
      "source": [
        "stats = {'mean': np.mean, 'std': np.std}\n",
        "for feat in TO_HANDLE:\n",
        "  for stat_name, stat_func in stats.items():\n",
        "    to_map = data[[feat, AGGREGATED_FEAT]].groupby(feat).agg(stat_func).squeeze()\n",
        "    data[f'{AGGREGATED_FEAT}__{stat_name.upper()}_RATIO__{feat}'] = data[AGGREGATED_FEAT]/data[feat].map(to_map)"
      ],
      "execution_count": null,
      "outputs": []
    },
    {
      "cell_type": "code",
      "metadata": {
        "id": "QOI7J5RPhRhq"
      },
      "source": [
        "X = data.drop([ID, TARGET], axis='columns')\n",
        "y = data[TARGET]"
      ],
      "execution_count": null,
      "outputs": []
    },
    {
      "cell_type": "code",
      "metadata": {
        "colab": {
          "base_uri": "https://localhost:8080/"
        },
        "id": "xZX7bVzwhU3j",
        "outputId": "a36867ac-c987-43c4-dfe9-b22ec4c54dfb"
      },
      "source": [
        "my_validation(X, y, 5)"
      ],
      "execution_count": null,
      "outputs": [
        {
          "output_type": "stream",
          "text": [
            "0:\ttest: 0.7716409\ttest1: 0.7345948\tbest: 0.7345948 (0)\ttotal: 802ms\tremaining: 2h 13m 40s\n",
            "500:\ttest: 0.9807196\ttest1: 0.9118810\tbest: 0.9118810 (500)\ttotal: 5m 57s\tremaining: 1h 52m 55s\n",
            "1000:\ttest: 0.9879156\ttest1: 0.9217803\tbest: 0.9218304 (992)\ttotal: 11m 53s\tremaining: 1h 46m 55s\n",
            "Stopped by overfitting detector  (50 iterations wait)\n",
            "\n",
            "bestTest = 0.9222425467\n",
            "bestIteration = 1065\n",
            "\n",
            "Shrink model to first 1066 iterations.\n",
            "Fold: 1, train-observations = 144000, valid-observations = 36000\n",
            "train-score = 0.9881, valid-score = 0.9222\n",
            "=====================================================================\n",
            "0:\ttest: 0.8316072\ttest1: 0.8015972\tbest: 0.8015972 (0)\ttotal: 711ms\tremaining: 1h 58m 31s\n",
            "500:\ttest: 0.9818739\ttest1: 0.9261738\tbest: 0.9261738 (500)\ttotal: 5m 50s\tremaining: 1h 50m 51s\n",
            "1000:\ttest: 0.9889747\ttest1: 0.9335081\tbest: 0.9335496 (976)\ttotal: 11m 41s\tremaining: 1h 45m 3s\n",
            "1500:\ttest: 0.9912887\ttest1: 0.9354192\tbest: 0.9354216 (1497)\ttotal: 17m 21s\tremaining: 1h 38m 15s\n",
            "Stopped by overfitting detector  (50 iterations wait)\n",
            "\n",
            "bestTest = 0.9361592943\n",
            "bestIteration = 1741\n",
            "\n",
            "Shrink model to first 1742 iterations.\n",
            "Fold: 2, train-observations = 144000, valid-observations = 36000\n",
            "train-score = 0.9922, valid-score = 0.9362\n",
            "=====================================================================\n",
            "0:\ttest: 0.8271222\ttest1: 0.7637784\tbest: 0.7637784 (0)\ttotal: 705ms\tremaining: 1h 57m 31s\n",
            "Stopped by overfitting detector  (50 iterations wait)\n",
            "\n",
            "bestTest = 0.8477014519\n",
            "bestIteration = 21\n",
            "\n",
            "Shrink model to first 22 iterations.\n",
            "Fold: 3, train-observations = 144000, valid-observations = 36000\n",
            "train-score = 0.9102, valid-score = 0.8477\n",
            "=====================================================================\n",
            "0:\ttest: 0.8342151\ttest1: 0.7837618\tbest: 0.7837618 (0)\ttotal: 713ms\tremaining: 1h 58m 47s\n",
            "Stopped by overfitting detector  (50 iterations wait)\n",
            "\n",
            "bestTest = 0.8886892727\n",
            "bestIteration = 72\n",
            "\n",
            "Shrink model to first 73 iterations.\n",
            "Fold: 4, train-observations = 144000, valid-observations = 36000\n",
            "train-score = 0.9422, valid-score = 0.8887\n",
            "=====================================================================\n",
            "0:\ttest: 0.8286362\ttest1: 0.7510657\tbest: 0.7510657 (0)\ttotal: 779ms\tremaining: 2h 9m 51s\n",
            "500:\ttest: 0.9791983\ttest1: 0.8947435\tbest: 0.8958897 (485)\ttotal: 5m 53s\tremaining: 1h 51m 38s\n",
            "Stopped by overfitting detector  (50 iterations wait)\n",
            "\n",
            "bestTest = 0.905893399\n",
            "bestIteration = 908\n",
            "\n",
            "Shrink model to first 909 iterations.\n",
            "Fold: 5, train-observations = 144000, valid-observations = 36000\n",
            "train-score = 0.9874, valid-score = 0.9059\n",
            "=====================================================================\n",
            "CV-results train: 0.964 +/- 0.033\n",
            "CV-results valid: 0.9001 +/- 0.031\n",
            "OOF-score = 0.8766\n",
            "ROC AUC train score = 0.975\n"
          ],
          "name": "stdout"
        }
      ]
    },
    {
      "cell_type": "markdown",
      "metadata": {
        "id": "LnqcD5eei82v"
      },
      "source": [
        "### Результат голосования моделей из фолдов на всех данных несколько вырос, однако средний результат по моделям не улучшился (OOF-score даже упал)\n",
        "CV-results train: 0.964 +/- 0.033     \n",
        "CV-results valid: 0.9001 +/- 0.031     \n",
        "OOF-score = 0.8766     \n",
        "ROC AUC train score = 0.975     "
      ]
    },
    {
      "cell_type": "markdown",
      "metadata": {
        "id": "OXqkA3jSbZaZ"
      },
      "source": [
        "# Задание 6:\n",
        "выделить дробную часть и целую часть признака TransactionAmt в два отдельных признака. После создать отдельных признак - логарифм от TransactionAmt"
      ]
    },
    {
      "cell_type": "code",
      "metadata": {
        "id": "nP5o4yKIb-Bp"
      },
      "source": [
        "AGGREGATED_FEAT = 'TransactionAmt'"
      ],
      "execution_count": null,
      "outputs": []
    },
    {
      "cell_type": "code",
      "metadata": {
        "id": "B_Z_7i5Ac56P"
      },
      "source": [
        "data[f'{AGGREGATED_FEAT}__ROUNDED'] = data[AGGREGATED_FEAT].apply(round)\n",
        "data[f'{AGGREGATED_FEAT}__FRACTIONAL'] = data[AGGREGATED_FEAT] - data[AGGREGATED_FEAT].apply(round)\n",
        "data[f'{AGGREGATED_FEAT}__LOG'] = data[AGGREGATED_FEAT].apply(np.log)"
      ],
      "execution_count": null,
      "outputs": []
    },
    {
      "cell_type": "code",
      "metadata": {
        "id": "VPsf0ZiTjOSq"
      },
      "source": [
        "X = data.drop([ID, TARGET], axis='columns')\n",
        "y = data[TARGET]"
      ],
      "execution_count": null,
      "outputs": []
    },
    {
      "cell_type": "code",
      "metadata": {
        "colab": {
          "base_uri": "https://localhost:8080/"
        },
        "id": "HKWkP3WvjPcH",
        "outputId": "dee51c38-e5c1-45e0-f5cd-902f96d23bd6"
      },
      "source": [
        "my_validation(X, y, 6)"
      ],
      "execution_count": null,
      "outputs": [
        {
          "output_type": "stream",
          "text": [
            "0:\ttest: 0.7713164\ttest1: 0.7437848\tbest: 0.7437848 (0)\ttotal: 789ms\tremaining: 2h 11m 33s\n",
            "500:\ttest: 0.9769060\ttest1: 0.9107825\tbest: 0.9107825 (500)\ttotal: 5m 58s\tremaining: 1h 53m 18s\n",
            "1000:\ttest: 0.9871105\ttest1: 0.9206851\tbest: 0.9206988 (999)\ttotal: 11m 55s\tremaining: 1h 47m 9s\n",
            "1500:\ttest: 0.9901635\ttest1: 0.9239470\tbest: 0.9240014 (1488)\ttotal: 17m 44s\tremaining: 1h 40m 28s\n",
            "Stopped by overfitting detector  (50 iterations wait)\n",
            "\n",
            "bestTest = 0.9244514288\n",
            "bestIteration = 1688\n",
            "\n",
            "Shrink model to first 1689 iterations.\n",
            "Fold: 1, train-observations = 144000, valid-observations = 36000\n",
            "train-score = 0.9909, valid-score = 0.9245\n",
            "=====================================================================\n",
            "0:\ttest: 0.7982959\ttest1: 0.7519856\tbest: 0.7519856 (0)\ttotal: 723ms\tremaining: 2h 24s\n",
            "500:\ttest: 0.9812255\ttest1: 0.9264107\tbest: 0.9264107 (500)\ttotal: 5m 51s\tremaining: 1h 50m 55s\n",
            "1000:\ttest: 0.9888012\ttest1: 0.9336308\tbest: 0.9336379 (999)\ttotal: 11m 43s\tremaining: 1h 45m 27s\n",
            "Stopped by overfitting detector  (50 iterations wait)\n",
            "\n",
            "bestTest = 0.9345039122\n",
            "bestIteration = 1182\n",
            "\n",
            "Shrink model to first 1183 iterations.\n",
            "Fold: 2, train-observations = 144000, valid-observations = 36000\n",
            "train-score = 0.99, valid-score = 0.9345\n",
            "=====================================================================\n",
            "0:\ttest: 0.8347048\ttest1: 0.7589716\tbest: 0.7589716 (0)\ttotal: 781ms\tremaining: 2h 10m 11s\n",
            "Stopped by overfitting detector  (50 iterations wait)\n",
            "\n",
            "bestTest = 0.84475482\n",
            "bestIteration = 30\n",
            "\n",
            "Shrink model to first 31 iterations.\n",
            "Fold: 3, train-observations = 144000, valid-observations = 36000\n",
            "train-score = 0.9204, valid-score = 0.8448\n",
            "=====================================================================\n",
            "0:\ttest: 0.8650353\ttest1: 0.7664098\tbest: 0.7664098 (0)\ttotal: 741ms\tremaining: 2h 3m 33s\n",
            "Stopped by overfitting detector  (50 iterations wait)\n",
            "\n",
            "bestTest = 0.8914502642\n",
            "bestIteration = 80\n",
            "\n",
            "Shrink model to first 81 iterations.\n",
            "Fold: 4, train-observations = 144000, valid-observations = 36000\n",
            "train-score = 0.9397, valid-score = 0.8915\n",
            "=====================================================================\n",
            "0:\ttest: 0.8295589\ttest1: 0.7304224\tbest: 0.7304224 (0)\ttotal: 810ms\tremaining: 2h 15m 1s\n",
            "Stopped by overfitting detector  (50 iterations wait)\n",
            "\n",
            "bestTest = 0.8940555188\n",
            "bestIteration = 315\n",
            "\n",
            "Shrink model to first 316 iterations.\n",
            "Fold: 5, train-observations = 144000, valid-observations = 36000\n",
            "train-score = 0.9694, valid-score = 0.8941\n",
            "=====================================================================\n",
            "CV-results train: 0.9621 +/- 0.028\n",
            "CV-results valid: 0.8978 +/- 0.031\n",
            "OOF-score = 0.8858\n",
            "ROC AUC train score = 0.958\n"
          ],
          "name": "stdout"
        }
      ]
    },
    {
      "cell_type": "markdown",
      "metadata": {
        "id": "-25gAB_iaZuw"
      },
      "source": [
        "### Результат ухудшился относительно максимального\n",
        "CV-results train: 0.9621 +/- 0.028     \n",
        "CV-results valid: 0.8978 +/- 0.031     \n",
        "OOF-score = 0.8858     \n",
        "ROC AUC train score = 0.958"
      ]
    },
    {
      "cell_type": "code",
      "metadata": {
        "id": "ddQFHPtmmEwc"
      },
      "source": [
        ""
      ],
      "execution_count": null,
      "outputs": []
    }
  ]
}