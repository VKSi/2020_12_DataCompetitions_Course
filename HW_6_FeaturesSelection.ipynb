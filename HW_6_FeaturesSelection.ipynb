{
  "nbformat": 4,
  "nbformat_minor": 0,
  "metadata": {
    "colab": {
      "name": "HW_6",
      "provenance": [],
      "collapsed_sections": [],
      "authorship_tag": "ABX9TyP3AQpCzYFo4vB8/YcjV4hC",
      "include_colab_link": true
    },
    "kernelspec": {
      "name": "python3",
      "display_name": "Python 3"
    }
  },
  "cells": [
    {
      "cell_type": "markdown",
      "metadata": {
        "id": "view-in-github",
        "colab_type": "text"
      },
      "source": [
        "<a href=\"https://colab.research.google.com/github/VKSi/2020_12_DataCompetitions_Course/blob/main/HW_6_FeaturesSelection.ipynb\" target=\"_parent\"><img src=\"https://colab.research.google.com/assets/colab-badge.svg\" alt=\"Open In Colab\"/></a>"
      ]
    },
    {
      "cell_type": "markdown",
      "metadata": {
        "id": "eJ4aFIz7LCtS"
      },
      "source": [
        "## Feature Engineering, Feature Selection, part II"
      ]
    },
    {
      "cell_type": "markdown",
      "metadata": {
        "id": "0LiiOrIYHPWN"
      },
      "source": [
        "Продолжим работу с данными, которые были использованы ранее, возмьмем за основу набор данных с дополнительными признаками, которые были созданы в предыдущем задании (оставить все признаки, вне зависимости от того, добавляют они качества или нет).\n",
        "\n",
        "Задание 0: выбрать любимую модель и схему валидации решения, зафиксировать базовое качество модели.     \n",
        "\n",
        "Задание 1: использовать внутренний способ для оценки важности признаков алгоритма, вывести его в виде диаграммы.     \n",
        "\n",
        "Задание 2: удалить признаки с нулевой или маленькой важностью, переобучить модель и оценить изменение качества.     \n",
        "\n",
        "Задание 3: использовать permutation importance, выполнить задание 1 и 2.     \n",
        "\n",
        "Задание 4: использовать BoostARoota для отбора признаков (настраивать или нет - на ваше усмотрение), переобучить модель и оценить изменение качества.     \n",
        "\n",
        "Задание 5: использовать shap, выполнить задание 1 и 2.     \n",
        "\n",
        "Задание 6: построить shap.summary_plot и shap.decision_plot для небольшой группы примеров (определить размер самостоятельно) и проанализировать влияние признаков на поведение модели."
      ]
    },
    {
      "cell_type": "markdown",
      "metadata": {
        "id": "KeZgNDIQkFaU"
      },
      "source": [
        "# Общая (подготовительная) часть"
      ]
    },
    {
      "cell_type": "code",
      "metadata": {
        "id": "A53RsCfOjoQN",
        "colab": {
          "base_uri": "https://localhost:8080/"
        },
        "outputId": "d49b94ce-c402-457a-aca7-67484d175460"
      },
      "source": [
        "!pip install catboost"
      ],
      "execution_count": null,
      "outputs": [
        {
          "output_type": "stream",
          "text": [
            "Collecting catboost\n",
            "\u001b[?25l  Downloading https://files.pythonhosted.org/packages/7e/c1/c1c4707013f9e2f8a96899dd3a87f66c9167d6d776a6dc8fe7ec8678d446/catboost-0.24.3-cp36-none-manylinux1_x86_64.whl (66.3MB)\n",
            "\u001b[K     |████████████████████████████████| 66.3MB 77kB/s \n",
            "\u001b[?25hRequirement already satisfied: numpy>=1.16.0 in /usr/local/lib/python3.6/dist-packages (from catboost) (1.18.5)\n",
            "Requirement already satisfied: matplotlib in /usr/local/lib/python3.6/dist-packages (from catboost) (3.2.2)\n",
            "Requirement already satisfied: pandas>=0.24.0 in /usr/local/lib/python3.6/dist-packages (from catboost) (1.1.4)\n",
            "Requirement already satisfied: scipy in /usr/local/lib/python3.6/dist-packages (from catboost) (1.4.1)\n",
            "Requirement already satisfied: six in /usr/local/lib/python3.6/dist-packages (from catboost) (1.15.0)\n",
            "Requirement already satisfied: plotly in /usr/local/lib/python3.6/dist-packages (from catboost) (4.4.1)\n",
            "Requirement already satisfied: graphviz in /usr/local/lib/python3.6/dist-packages (from catboost) (0.10.1)\n",
            "Requirement already satisfied: cycler>=0.10 in /usr/local/lib/python3.6/dist-packages (from matplotlib->catboost) (0.10.0)\n",
            "Requirement already satisfied: kiwisolver>=1.0.1 in /usr/local/lib/python3.6/dist-packages (from matplotlib->catboost) (1.3.1)\n",
            "Requirement already satisfied: python-dateutil>=2.1 in /usr/local/lib/python3.6/dist-packages (from matplotlib->catboost) (2.8.1)\n",
            "Requirement already satisfied: pyparsing!=2.0.4,!=2.1.2,!=2.1.6,>=2.0.1 in /usr/local/lib/python3.6/dist-packages (from matplotlib->catboost) (2.4.7)\n",
            "Requirement already satisfied: pytz>=2017.2 in /usr/local/lib/python3.6/dist-packages (from pandas>=0.24.0->catboost) (2018.9)\n",
            "Requirement already satisfied: retrying>=1.3.3 in /usr/local/lib/python3.6/dist-packages (from plotly->catboost) (1.3.3)\n",
            "Installing collected packages: catboost\n",
            "Successfully installed catboost-0.24.3\n"
          ],
          "name": "stdout"
        }
      ]
    },
    {
      "cell_type": "code",
      "metadata": {
        "id": "EmGCSBaOH_uS"
      },
      "source": [
        "import matplotlib.pyplot as plt\n",
        "import numpy as np\n",
        "import pandas as pd\n",
        "import seaborn as sns\n",
        "from google.colab import files, drive\n",
        "import pickle\n",
        "from sklearn.model_selection import KFold, StratifiedKFold, train_test_split, cross_val_score\n",
        "from sklearn.metrics import roc_auc_score\n",
        "from typing import List, Tuple\n",
        "import catboost as cb"
      ],
      "execution_count": null,
      "outputs": []
    },
    {
      "cell_type": "code",
      "metadata": {
        "id": "bYNuwmRZdQoW",
        "colab": {
          "base_uri": "https://localhost:8080/"
        },
        "outputId": "80d13c47-bdbd-4ba2-ca29-7a187ef1bdf6"
      },
      "source": [
        "drive.mount('/content/gdrive', force_remount=True)"
      ],
      "execution_count": null,
      "outputs": [
        {
          "output_type": "stream",
          "text": [
            "Mounted at /content/gdrive\n"
          ],
          "name": "stdout"
        }
      ]
    },
    {
      "cell_type": "code",
      "metadata": {
        "id": "t6lT50xLxCMK"
      },
      "source": [
        "PATH = \"gdrive/My Drive/AI/GB/Kaggle/\"\n",
        "object_path = \"gdrive/My Drive/AI/GB/Kaggle/objects/\""
      ],
      "execution_count": null,
      "outputs": []
    },
    {
      "cell_type": "code",
      "metadata": {
        "id": "WSExDrwGxOut"
      },
      "source": [
        "def save_obj(obj, name: str):\n",
        "    path = object_path + name + '.pkl'\n",
        "    with open(path, 'wb') as f:\n",
        "        pickle.dump(obj, f, pickle.HIGHEST_PROTOCOL)\n",
        "    return path\n",
        "\n",
        "\n",
        "def load_obj(name: str):\n",
        "    with open(object_path + name + '.pkl', 'rb') as f:\n",
        "        return pickle.load(f)"
      ],
      "execution_count": null,
      "outputs": []
    },
    {
      "cell_type": "code",
      "metadata": {
        "id": "awXeCZvihjs1"
      },
      "source": [
        "data = pd.read_csv(object_path + \"HW_5_FI_I_data.csv\", index_col=0)"
      ],
      "execution_count": null,
      "outputs": []
    },
    {
      "cell_type": "code",
      "metadata": {
        "id": "3LDMZNWIhnLp",
        "colab": {
          "base_uri": "https://localhost:8080/"
        },
        "outputId": "c21dcea6-97e6-4c31-d84b-f33a7ada1267"
      },
      "source": [
        "print(\"data.shape = {} rows, {} cols\".format(*data.shape))"
      ],
      "execution_count": null,
      "outputs": [
        {
          "output_type": "stream",
          "text": [
            "data.shape = 180000 rows, 446 cols\n"
          ],
          "name": "stdout"
        }
      ]
    },
    {
      "cell_type": "code",
      "metadata": {
        "colab": {
          "base_uri": "https://localhost:8080/",
          "height": 195
        },
        "id": "lmvYpnvyp9tG",
        "outputId": "6c0cda3e-d87f-4b8e-a99e-73d9d7c7a9e8"
      },
      "source": [
        "data.iloc[:5, :5]"
      ],
      "execution_count": null,
      "outputs": [
        {
          "output_type": "execute_result",
          "data": {
            "text/html": [
              "<div>\n",
              "<style scoped>\n",
              "    .dataframe tbody tr th:only-of-type {\n",
              "        vertical-align: middle;\n",
              "    }\n",
              "\n",
              "    .dataframe tbody tr th {\n",
              "        vertical-align: top;\n",
              "    }\n",
              "\n",
              "    .dataframe thead th {\n",
              "        text-align: right;\n",
              "    }\n",
              "</style>\n",
              "<table border=\"1\" class=\"dataframe\">\n",
              "  <thead>\n",
              "    <tr style=\"text-align: right;\">\n",
              "      <th></th>\n",
              "      <th>TransactionID</th>\n",
              "      <th>isFraud</th>\n",
              "      <th>TransactionDT</th>\n",
              "      <th>TransactionAmt</th>\n",
              "      <th>ProductCD</th>\n",
              "    </tr>\n",
              "  </thead>\n",
              "  <tbody>\n",
              "    <tr>\n",
              "      <th>0</th>\n",
              "      <td>2987000</td>\n",
              "      <td>0</td>\n",
              "      <td>2017-12-02 00:00:00</td>\n",
              "      <td>68.5</td>\n",
              "      <td>W</td>\n",
              "    </tr>\n",
              "    <tr>\n",
              "      <th>1</th>\n",
              "      <td>2987001</td>\n",
              "      <td>0</td>\n",
              "      <td>2017-12-02 00:00:01</td>\n",
              "      <td>29.0</td>\n",
              "      <td>W</td>\n",
              "    </tr>\n",
              "    <tr>\n",
              "      <th>2</th>\n",
              "      <td>2987002</td>\n",
              "      <td>0</td>\n",
              "      <td>2017-12-02 00:01:09</td>\n",
              "      <td>59.0</td>\n",
              "      <td>W</td>\n",
              "    </tr>\n",
              "    <tr>\n",
              "      <th>3</th>\n",
              "      <td>2987003</td>\n",
              "      <td>0</td>\n",
              "      <td>2017-12-02 00:01:39</td>\n",
              "      <td>50.0</td>\n",
              "      <td>W</td>\n",
              "    </tr>\n",
              "    <tr>\n",
              "      <th>4</th>\n",
              "      <td>2987004</td>\n",
              "      <td>0</td>\n",
              "      <td>2017-12-02 00:01:46</td>\n",
              "      <td>50.0</td>\n",
              "      <td>H</td>\n",
              "    </tr>\n",
              "  </tbody>\n",
              "</table>\n",
              "</div>"
            ],
            "text/plain": [
              "   TransactionID  isFraud        TransactionDT  TransactionAmt ProductCD\n",
              "0        2987000        0  2017-12-02 00:00:00            68.5         W\n",
              "1        2987001        0  2017-12-02 00:00:01            29.0         W\n",
              "2        2987002        0  2017-12-02 00:01:09            59.0         W\n",
              "3        2987003        0  2017-12-02 00:01:39            50.0         W\n",
              "4        2987004        0  2017-12-02 00:01:46            50.0         H"
            ]
          },
          "metadata": {
            "tags": []
          },
          "execution_count": 14
        }
      ]
    },
    {
      "cell_type": "code",
      "metadata": {
        "id": "6F_c4xJxipW-"
      },
      "source": [
        "REST_FEATURES = data.columns\n",
        "INITIAL_FEATURES = REST_FEATURES.copy()\n",
        "\n",
        "ID = 'TransactionID'\n",
        "REST_FEATURES = list(set(REST_FEATURES) - set([ID]))\n",
        "\n",
        "TARGET = 'isFraud'\n",
        "REST_FEATURES = list(set(REST_FEATURES) - set([TARGET]))\n",
        "\n",
        "NUMERICAL_FEATURES = data[REST_FEATURES].select_dtypes(include=[np.number]).columns.to_list()\n",
        "REST_FEATURES = list(set(REST_FEATURES) - set(NUMERICAL_FEATURES))\n",
        "\n",
        "CATEGORICAL_FEATURES = REST_FEATURES\n",
        "\n",
        "INITIAL_CATEGORICAL_FEATURES = CATEGORICAL_FEATURES.copy()\n",
        "\n",
        "REST_FEATURES = None"
      ],
      "execution_count": null,
      "outputs": []
    },
    {
      "cell_type": "code",
      "metadata": {
        "id": "xf58tFPQv_Co"
      },
      "source": [
        "data[CATEGORICAL_FEATURES] = data[CATEGORICAL_FEATURES].astype('str')"
      ],
      "execution_count": null,
      "outputs": []
    },
    {
      "cell_type": "markdown",
      "metadata": {
        "id": "3aGvsoiuLlfq"
      },
      "source": [
        "# Задание 0:\n",
        "выбрать любимую модель и схему валидации решения, зафиксировать базовое качество модели.     "
      ]
    },
    {
      "cell_type": "markdown",
      "metadata": {
        "id": "bCsOmduLMOIU"
      },
      "source": [
        "Используем тот-же подход, что и в предыдущем занятии.     \n",
        "PS: так как на момент подготовки задания пока не понял в чем проблема с этой схемой, использую ее. Можно использовать OOF в чистом виде."
      ]
    },
    {
      "cell_type": "code",
      "metadata": {
        "id": "_JygztX7jkf2"
      },
      "source": [
        "cb_params = {\n",
        "    \"n_estimators\": 10000,\n",
        "    \"loss_function\": \"Logloss\",\n",
        "    \"eval_metric\": \"AUC\",\n",
        "    \"task_type\": \"CPU\",\n",
        "    \"max_bin\": 20,\n",
        "    \"verbose\": 500,\n",
        "    \"max_depth\": 4,\n",
        "    \"reg_lambda\": 100,\n",
        "    \"class_weights\":[3, 97], \n",
        "    \"early_stopping_rounds\": 50,\n",
        "    \"thread_count\": 6,\n",
        "    \"random_seed\": 27\n",
        "}"
      ],
      "execution_count": null,
      "outputs": []
    },
    {
      "cell_type": "code",
      "metadata": {
        "id": "gYOSNcpMqMWP"
      },
      "source": [
        "model = cb.CatBoostClassifier(**cb_params)"
      ],
      "execution_count": null,
      "outputs": []
    },
    {
      "cell_type": "code",
      "metadata": {
        "id": "0lz0rtQDqObB"
      },
      "source": [
        "cv_strategy = StratifiedKFold(n_splits=5)"
      ],
      "execution_count": null,
      "outputs": []
    },
    {
      "cell_type": "code",
      "metadata": {
        "id": "JRK8MqmIqJXw"
      },
      "source": [
        "def make_cross_validation(X: pd.DataFrame,\n",
        "                          y: pd.Series,\n",
        "                          estimator: object,\n",
        "                          metric: callable,\n",
        "                          cv_strategy):\n",
        "    \"\"\"\n",
        "    Кросс-валидация.\n",
        "\n",
        "    Parameters\n",
        "    ----------\n",
        "    X: pd.DataFrame\n",
        "        Матрица признаков.\n",
        "\n",
        "    y: pd.Series\n",
        "        Вектор целевой переменной.\n",
        "\n",
        "    estimator: callable\n",
        "        Объект модели для обучения.\n",
        "\n",
        "    metric: callable\n",
        "        Метрика для оценки качества решения.\n",
        "        Ожидается, что на вход будет передана функция,\n",
        "        которая принимает 2 аргумента: y_true, y_pred.\n",
        "\n",
        "    cv_strategy: cross-validation generator\n",
        "        Объект для описания стратегии кросс-валидации.\n",
        "        Ожидается, что на вход будет передан объект типа\n",
        "        KFold или StratifiedKFold.\n",
        "\n",
        "    Returns\n",
        "    -------\n",
        "    oof_score: float\n",
        "        Значение метрики качества на OOF-прогнозах.\n",
        "\n",
        "    fold_train_scores: List[float]\n",
        "        Значение метрики качества на каждом обучающем датасете кросс-валидации.\n",
        "\n",
        "    fold_valid_scores: List[float]\n",
        "        Значение метрики качества на каждом валидационном датасете кросс-валидации.\n",
        "\n",
        "    oof_predictions: np.array\n",
        "        Прогнозы на OOF.\n",
        "\n",
        "    \"\"\"\n",
        "    estimators, fold_train_scores, fold_valid_scores = [], [], []\n",
        "    oof_predictions = np.zeros(X.shape[0])\n",
        "\n",
        "    for fold_number, (train_idx, valid_idx) in enumerate(cv_strategy.split(X, y)):\n",
        "        X_train, X_valid = X.loc[train_idx], X.loc[valid_idx]\n",
        "        y_train, y_valid = y.loc[train_idx], y.loc[valid_idx]\n",
        "\n",
        "        train_pool = cb.Pool(X_train, y_train, cat_features=CATEGORICAL_FEATURES)\n",
        "        valid_pool = cb.Pool(X_valid, y_valid, cat_features=CATEGORICAL_FEATURES)\n",
        "        estimator.fit(train_pool, eval_set=[train_pool, valid_pool])\n",
        "\n",
        "        y_train_pred = estimator.predict_proba(X_train)[:, 1]\n",
        "        y_valid_pred = estimator.predict_proba(X_valid)[:, 1]\n",
        "\n",
        "        fold_train_scores.append(metric(y_train, y_train_pred))\n",
        "        fold_valid_scores.append(metric(y_valid, y_valid_pred))\n",
        "        oof_predictions[valid_idx] = y_valid_pred\n",
        "\n",
        "        msg = (\n",
        "            f\"Fold: {fold_number+1}, train-observations = {len(train_idx)}, \"\n",
        "            f\"valid-observations = {len(valid_idx)}\\n\"\n",
        "            f\"train-score = {round(fold_train_scores[fold_number], 4)}, \"\n",
        "            f\"valid-score = {round(fold_valid_scores[fold_number], 4)}\" \n",
        "        )\n",
        "        print(msg)\n",
        "        print(\"=\"*69)\n",
        "        estimators.append(estimator)\n",
        "\n",
        "    oof_score = metric(y, oof_predictions)\n",
        "    print(f\"CV-results train: {round(np.mean(fold_train_scores), 4)} +/- {round(np.std(fold_train_scores), 3)}\")\n",
        "    print(f\"CV-results valid: {round(np.mean(fold_valid_scores), 4)} +/- {round(np.std(fold_valid_scores), 3)}\")\n",
        "    print(f\"OOF-score = {round(oof_score, 4)}\")\n",
        "\n",
        "    return estimators, oof_score, fold_train_scores, fold_valid_scores, oof_predictions"
      ],
      "execution_count": null,
      "outputs": []
    },
    {
      "cell_type": "code",
      "metadata": {
        "id": "EXL92f1HfoTH"
      },
      "source": [
        "def my_validation(X, y, task_n):\n",
        "  \n",
        "  estimators, oof_score, fold_train_scores, fold_valid_scores, oof_predictions = \\\n",
        "    make_cross_validation(X, y, model, metric=roc_auc_score, cv_strategy=cv_strategy)\n",
        "  save_obj(estimators, f'estimators_HW6_task{task_n}')\n",
        "  proba = np.zeros((len(estimators), X.shape[0]))\n",
        "  for i, est in enumerate(estimators):\n",
        "    proba[i, :] = est.predict_proba(X)[:, 1]\n",
        "  proba_train = np.mean(proba, axis = 0)\n",
        "  train_score = roc_auc_score(y, proba_train)\n",
        "  print(f'ROC AUC train score = {round(train_score, 3)}')\n",
        "  return estimators    "
      ],
      "execution_count": null,
      "outputs": []
    },
    {
      "cell_type": "code",
      "metadata": {
        "id": "br-neVC5Umpt"
      },
      "source": [
        "X = data.drop([ID, TARGET], axis='columns')\n",
        "y = data[TARGET]"
      ],
      "execution_count": null,
      "outputs": []
    },
    {
      "cell_type": "code",
      "metadata": {
        "colab": {
          "base_uri": "https://localhost:8080/"
        },
        "id": "MKzN6U3wr9v4",
        "outputId": "f09e2340-2c4d-47b7-fcab-f55f2b825bf2"
      },
      "source": [
        "# my_validation(X, y, 0)"
      ],
      "execution_count": null,
      "outputs": [
        {
          "output_type": "stream",
          "text": [
            "0:\ttest: 0.8812012\ttest1: 0.7778466\tbest: 0.7778466 (0)\ttotal: 938ms\tremaining: 2h 36m 20s\n",
            "500:\ttest: 0.9841130\ttest1: 0.9160219\tbest: 0.9160219 (500)\ttotal: 6m 52s\tremaining: 2h 10m 19s\n",
            "1000:\ttest: 0.9905492\ttest1: 0.9248336\tbest: 0.9248336 (1000)\ttotal: 13m 41s\tremaining: 2h 3m 4s\n",
            "1500:\ttest: 0.9927133\ttest1: 0.9273006\tbest: 0.9273147 (1498)\ttotal: 20m 25s\tremaining: 1h 55m 36s\n",
            "Stopped by overfitting detector  (50 iterations wait)\n",
            "\n",
            "bestTest = 0.9287897244\n",
            "bestIteration = 1901\n",
            "\n",
            "Shrink model to first 1902 iterations.\n",
            "Fold: 1, train-observations = 144000, valid-observations = 36000\n",
            "train-score = 0.9937, valid-score = 0.9288\n",
            "=====================================================================\n",
            "0:\ttest: 0.8682171\ttest1: 0.7735381\tbest: 0.7735381 (0)\ttotal: 1.02s\tremaining: 2h 50m 17s\n",
            "500:\ttest: 0.9847557\ttest1: 0.9298787\tbest: 0.9298964 (499)\ttotal: 6m 48s\tremaining: 2h 9m 5s\n",
            "Stopped by overfitting detector  (50 iterations wait)\n",
            "\n",
            "bestTest = 0.9356001199\n",
            "bestIteration = 833\n",
            "\n",
            "Shrink model to first 834 iterations.\n",
            "Fold: 2, train-observations = 144000, valid-observations = 36000\n",
            "train-score = 0.9901, valid-score = 0.9356\n",
            "=====================================================================\n",
            "0:\ttest: 0.8717652\ttest1: 0.7315626\tbest: 0.7315626 (0)\ttotal: 996ms\tremaining: 2h 45m 54s\n",
            "Stopped by overfitting detector  (50 iterations wait)\n",
            "\n",
            "bestTest = 0.8642117696\n",
            "bestIteration = 99\n",
            "\n",
            "Shrink model to first 100 iterations.\n",
            "Fold: 3, train-observations = 144000, valid-observations = 36000\n",
            "train-score = 0.9594, valid-score = 0.8642\n",
            "=====================================================================\n",
            "0:\ttest: 0.8542256\ttest1: 0.7721934\tbest: 0.7721934 (0)\ttotal: 889ms\tremaining: 2h 28m 5s\n",
            "Stopped by overfitting detector  (50 iterations wait)\n",
            "\n",
            "bestTest = 0.8986258351\n",
            "bestIteration = 94\n",
            "\n",
            "Shrink model to first 95 iterations.\n",
            "Fold: 4, train-observations = 144000, valid-observations = 36000\n",
            "train-score = 0.9578, valid-score = 0.8986\n",
            "=====================================================================\n",
            "0:\ttest: 0.8767489\ttest1: 0.7660025\tbest: 0.7660025 (0)\ttotal: 1.02s\tremaining: 2h 50m 4s\n",
            "500:\ttest: 0.9837519\ttest1: 0.9061925\tbest: 0.9061925 (500)\ttotal: 6m 57s\tremaining: 2h 11m 58s\n",
            "Stopped by overfitting detector  (50 iterations wait)\n",
            "\n",
            "bestTest = 0.9103444006\n",
            "bestIteration = 596\n",
            "\n",
            "Shrink model to first 597 iterations.\n",
            "Fold: 5, train-observations = 144000, valid-observations = 36000\n",
            "train-score = 0.9867, valid-score = 0.9103\n",
            "=====================================================================\n",
            "CV-results train: 0.9776 +/- 0.016\n",
            "CV-results valid: 0.9075 +/- 0.025\n",
            "OOF-score = 0.8968\n",
            "ROC AUC train score = 0.976\n"
          ],
          "name": "stdout"
        }
      ]
    },
    {
      "cell_type": "markdown",
      "metadata": {
        "id": "HzB2YThBgox8"
      },
      "source": [
        "CV-results train: 0.9776 +/- 0.016     \n",
        "CV-results valid: 0.9075 +/- 0.025     \n",
        "OOF-score = 0.8968     \n",
        "ROC AUC train score = 0.976     "
      ]
    },
    {
      "cell_type": "code",
      "metadata": {
        "id": "za763DrZs4zo"
      },
      "source": [
        "estimators_HW6_task0 = load_obj('estimators_HW6_task0')"
      ],
      "execution_count": null,
      "outputs": []
    },
    {
      "cell_type": "markdown",
      "metadata": {
        "id": "0GMwjdIEVh9K"
      },
      "source": [
        "# Задание 1:\n",
        "использовать внутренний способ для оценки важности признаков алгоритма, вывести его в виде диаграммы."
      ]
    },
    {
      "cell_type": "code",
      "metadata": {
        "id": "0oKdc4JGucA1"
      },
      "source": [
        "def feature_importance_table_builtin(estimators, features):\n",
        "  importance_df = pd.DataFrame(index = features)\n",
        "  for i, est in enumerate(estimators):\n",
        "    importance_df.loc[:, f'est_{i + 1}'] = est.feature_importances_\n",
        "  importance_df['MEAN']=importance_df.mean(axis=1)\n",
        "  importance_df['STD']=importance_df.std(axis=1)\n",
        "  importance_df = importance_df.sort_values(by='MEAN', ascending=False)\n",
        "  return importance_df\n"
      ],
      "execution_count": null,
      "outputs": []
    },
    {
      "cell_type": "code",
      "metadata": {
        "id": "AfShTWYKxGfL"
      },
      "source": [
        "importance_table = feature_importance_table_builtin(estimators=estimators_HW6_task0, features=X.columns)"
      ],
      "execution_count": null,
      "outputs": []
    },
    {
      "cell_type": "code",
      "metadata": {
        "colab": {
          "base_uri": "https://localhost:8080/",
          "height": 343
        },
        "id": "Q5g2mdSig-Rx",
        "outputId": "b9eec44b-7820-400c-ee43-0523fc195bfe"
      },
      "source": [
        "importance_table.head(10)"
      ],
      "execution_count": null,
      "outputs": [
        {
          "output_type": "execute_result",
          "data": {
            "text/html": [
              "<div>\n",
              "<style scoped>\n",
              "    .dataframe tbody tr th:only-of-type {\n",
              "        vertical-align: middle;\n",
              "    }\n",
              "\n",
              "    .dataframe tbody tr th {\n",
              "        vertical-align: top;\n",
              "    }\n",
              "\n",
              "    .dataframe thead th {\n",
              "        text-align: right;\n",
              "    }\n",
              "</style>\n",
              "<table border=\"1\" class=\"dataframe\">\n",
              "  <thead>\n",
              "    <tr style=\"text-align: right;\">\n",
              "      <th></th>\n",
              "      <th>est_1</th>\n",
              "      <th>est_2</th>\n",
              "      <th>est_3</th>\n",
              "      <th>est_4</th>\n",
              "      <th>est_5</th>\n",
              "      <th>MEAN</th>\n",
              "      <th>STD</th>\n",
              "    </tr>\n",
              "  </thead>\n",
              "  <tbody>\n",
              "    <tr>\n",
              "      <th>card1_addr2_card5_card3_addr1_card2</th>\n",
              "      <td>16.269246</td>\n",
              "      <td>16.269246</td>\n",
              "      <td>16.269246</td>\n",
              "      <td>16.269246</td>\n",
              "      <td>16.269246</td>\n",
              "      <td>16.269246</td>\n",
              "      <td>0.000000e+00</td>\n",
              "    </tr>\n",
              "    <tr>\n",
              "      <th>C14</th>\n",
              "      <td>4.637145</td>\n",
              "      <td>4.637145</td>\n",
              "      <td>4.637145</td>\n",
              "      <td>4.637145</td>\n",
              "      <td>4.637145</td>\n",
              "      <td>4.637145</td>\n",
              "      <td>9.729507e-16</td>\n",
              "    </tr>\n",
              "    <tr>\n",
              "      <th>M4</th>\n",
              "      <td>4.124764</td>\n",
              "      <td>4.124764</td>\n",
              "      <td>4.124764</td>\n",
              "      <td>4.124764</td>\n",
              "      <td>4.124764</td>\n",
              "      <td>4.124764</td>\n",
              "      <td>0.000000e+00</td>\n",
              "    </tr>\n",
              "    <tr>\n",
              "      <th>P_emaildomain</th>\n",
              "      <td>3.760362</td>\n",
              "      <td>3.760362</td>\n",
              "      <td>3.760362</td>\n",
              "      <td>3.760362</td>\n",
              "      <td>3.760362</td>\n",
              "      <td>3.760362</td>\n",
              "      <td>1.986027e-16</td>\n",
              "    </tr>\n",
              "    <tr>\n",
              "      <th>M5</th>\n",
              "      <td>3.453758</td>\n",
              "      <td>3.453758</td>\n",
              "      <td>3.453758</td>\n",
              "      <td>3.453758</td>\n",
              "      <td>3.453758</td>\n",
              "      <td>3.453758</td>\n",
              "      <td>4.440892e-16</td>\n",
              "    </tr>\n",
              "    <tr>\n",
              "      <th>TransactionDT_day</th>\n",
              "      <td>2.997869</td>\n",
              "      <td>2.997869</td>\n",
              "      <td>2.997869</td>\n",
              "      <td>2.997869</td>\n",
              "      <td>2.997869</td>\n",
              "      <td>2.997869</td>\n",
              "      <td>0.000000e+00</td>\n",
              "    </tr>\n",
              "    <tr>\n",
              "      <th>C1</th>\n",
              "      <td>2.903509</td>\n",
              "      <td>2.903509</td>\n",
              "      <td>2.903509</td>\n",
              "      <td>2.903509</td>\n",
              "      <td>2.903509</td>\n",
              "      <td>2.903509</td>\n",
              "      <td>0.000000e+00</td>\n",
              "    </tr>\n",
              "    <tr>\n",
              "      <th>C13</th>\n",
              "      <td>2.883819</td>\n",
              "      <td>2.883819</td>\n",
              "      <td>2.883819</td>\n",
              "      <td>2.883819</td>\n",
              "      <td>2.883819</td>\n",
              "      <td>2.883819</td>\n",
              "      <td>0.000000e+00</td>\n",
              "    </tr>\n",
              "    <tr>\n",
              "      <th>M6</th>\n",
              "      <td>1.779589</td>\n",
              "      <td>1.779589</td>\n",
              "      <td>1.779589</td>\n",
              "      <td>1.779589</td>\n",
              "      <td>1.779589</td>\n",
              "      <td>1.779589</td>\n",
              "      <td>2.220446e-16</td>\n",
              "    </tr>\n",
              "    <tr>\n",
              "      <th>R_emaildomain</th>\n",
              "      <td>1.779424</td>\n",
              "      <td>1.779424</td>\n",
              "      <td>1.779424</td>\n",
              "      <td>1.779424</td>\n",
              "      <td>1.779424</td>\n",
              "      <td>1.779424</td>\n",
              "      <td>9.930137e-17</td>\n",
              "    </tr>\n",
              "  </tbody>\n",
              "</table>\n",
              "</div>"
            ],
            "text/plain": [
              "                                         est_1  ...           STD\n",
              "card1_addr2_card5_card3_addr1_card2  16.269246  ...  0.000000e+00\n",
              "C14                                   4.637145  ...  9.729507e-16\n",
              "M4                                    4.124764  ...  0.000000e+00\n",
              "P_emaildomain                         3.760362  ...  1.986027e-16\n",
              "M5                                    3.453758  ...  4.440892e-16\n",
              "TransactionDT_day                     2.997869  ...  0.000000e+00\n",
              "C1                                    2.903509  ...  0.000000e+00\n",
              "C13                                   2.883819  ...  0.000000e+00\n",
              "M6                                    1.779589  ...  2.220446e-16\n",
              "R_emaildomain                         1.779424  ...  9.930137e-17\n",
              "\n",
              "[10 rows x 7 columns]"
            ]
          },
          "metadata": {
            "tags": []
          },
          "execution_count": 26
        }
      ]
    },
    {
      "cell_type": "code",
      "metadata": {
        "colab": {
          "base_uri": "https://localhost:8080/",
          "height": 626
        },
        "id": "_qvLWD5Yugeq",
        "outputId": "3e49f7ba-c2d3-42d9-b2fb-622406131e8d"
      },
      "source": [
        "plt.figure(figsize=(20, 10))\n",
        "sns.barplot(y=importance_table.index.to_list()[:20], x=importance_table.iloc[:20, :].MEAN.values, palette=\"viridis\")\n",
        "plt.title(\"Built-in feature importance\", size=14)"
      ],
      "execution_count": null,
      "outputs": [
        {
          "output_type": "execute_result",
          "data": {
            "text/plain": [
              "Text(0.5, 1.0, 'Built-in feature importance')"
            ]
          },
          "metadata": {
            "tags": []
          },
          "execution_count": 27
        },
        {
          "output_type": "display_data",
          "data": {
            "image/png": "[encoded data removed]",
            "text/plain": [
              "<Figure size 1440x720 with 1 Axes>"
            ]
          },
          "metadata": {
            "tags": [],
            "needs_background": "light"
          }
        }
      ]
    },
    {
      "cell_type": "markdown",
      "metadata": {
        "id": "a9yD_LabhjQc"
      },
      "source": [
        "# Задание 2:\n",
        "удалить признаки с нулевой или маленькой важностью, переобучить модель и оценить изменение качества."
      ]
    },
    {
      "cell_type": "markdown",
      "metadata": {
        "id": "WwvKJJ8qnXDb"
      },
      "source": [
        "Удалим все признаки, важность которых меньше 3-х стандартных отклонений (и ниже нуля в том числе)"
      ]
    },
    {
      "cell_type": "code",
      "metadata": {
        "colab": {
          "base_uri": "https://localhost:8080/",
          "height": 402
        },
        "id": "nG70EtEwxDUM",
        "outputId": "205de27e-8775-4648-ac16-79c47c295189"
      },
      "source": [
        "mask = ~(importance_table.MEAN <= 3*importance_table.STD)\n",
        "df = importance_table[mask].sort_values(by='MEAN', ascending=False)\n",
        "df"
      ],
      "execution_count": null,
      "outputs": [
        {
          "output_type": "execute_result",
          "data": {
            "text/html": [
              "<div>\n",
              "<style scoped>\n",
              "    .dataframe tbody tr th:only-of-type {\n",
              "        vertical-align: middle;\n",
              "    }\n",
              "\n",
              "    .dataframe tbody tr th {\n",
              "        vertical-align: top;\n",
              "    }\n",
              "\n",
              "    .dataframe thead th {\n",
              "        text-align: right;\n",
              "    }\n",
              "</style>\n",
              "<table border=\"1\" class=\"dataframe\">\n",
              "  <thead>\n",
              "    <tr style=\"text-align: right;\">\n",
              "      <th></th>\n",
              "      <th>est_1</th>\n",
              "      <th>est_2</th>\n",
              "      <th>est_3</th>\n",
              "      <th>est_4</th>\n",
              "      <th>est_5</th>\n",
              "      <th>MEAN</th>\n",
              "      <th>STD</th>\n",
              "    </tr>\n",
              "  </thead>\n",
              "  <tbody>\n",
              "    <tr>\n",
              "      <th>card1_addr2_card5_card3_addr1_card2</th>\n",
              "      <td>1.626925e+01</td>\n",
              "      <td>1.626925e+01</td>\n",
              "      <td>1.626925e+01</td>\n",
              "      <td>1.626925e+01</td>\n",
              "      <td>1.626925e+01</td>\n",
              "      <td>1.626925e+01</td>\n",
              "      <td>0.000000e+00</td>\n",
              "    </tr>\n",
              "    <tr>\n",
              "      <th>C14</th>\n",
              "      <td>4.637145e+00</td>\n",
              "      <td>4.637145e+00</td>\n",
              "      <td>4.637145e+00</td>\n",
              "      <td>4.637145e+00</td>\n",
              "      <td>4.637145e+00</td>\n",
              "      <td>4.637145e+00</td>\n",
              "      <td>9.729507e-16</td>\n",
              "    </tr>\n",
              "    <tr>\n",
              "      <th>M4</th>\n",
              "      <td>4.124764e+00</td>\n",
              "      <td>4.124764e+00</td>\n",
              "      <td>4.124764e+00</td>\n",
              "      <td>4.124764e+00</td>\n",
              "      <td>4.124764e+00</td>\n",
              "      <td>4.124764e+00</td>\n",
              "      <td>0.000000e+00</td>\n",
              "    </tr>\n",
              "    <tr>\n",
              "      <th>P_emaildomain</th>\n",
              "      <td>3.760362e+00</td>\n",
              "      <td>3.760362e+00</td>\n",
              "      <td>3.760362e+00</td>\n",
              "      <td>3.760362e+00</td>\n",
              "      <td>3.760362e+00</td>\n",
              "      <td>3.760362e+00</td>\n",
              "      <td>1.986027e-16</td>\n",
              "    </tr>\n",
              "    <tr>\n",
              "      <th>M5</th>\n",
              "      <td>3.453758e+00</td>\n",
              "      <td>3.453758e+00</td>\n",
              "      <td>3.453758e+00</td>\n",
              "      <td>3.453758e+00</td>\n",
              "      <td>3.453758e+00</td>\n",
              "      <td>3.453758e+00</td>\n",
              "      <td>4.440892e-16</td>\n",
              "    </tr>\n",
              "    <tr>\n",
              "      <th>...</th>\n",
              "      <td>...</td>\n",
              "      <td>...</td>\n",
              "      <td>...</td>\n",
              "      <td>...</td>\n",
              "      <td>...</td>\n",
              "      <td>...</td>\n",
              "      <td>...</td>\n",
              "    </tr>\n",
              "    <tr>\n",
              "      <th>V254</th>\n",
              "      <td>5.922680e-07</td>\n",
              "      <td>5.922680e-07</td>\n",
              "      <td>5.922680e-07</td>\n",
              "      <td>5.922680e-07</td>\n",
              "      <td>5.922680e-07</td>\n",
              "      <td>5.922680e-07</td>\n",
              "      <td>0.000000e+00</td>\n",
              "    </tr>\n",
              "    <tr>\n",
              "      <th>V115</th>\n",
              "      <td>2.821775e-07</td>\n",
              "      <td>2.821775e-07</td>\n",
              "      <td>2.821775e-07</td>\n",
              "      <td>2.821775e-07</td>\n",
              "      <td>2.821775e-07</td>\n",
              "      <td>2.821775e-07</td>\n",
              "      <td>5.799238e-23</td>\n",
              "    </tr>\n",
              "    <tr>\n",
              "      <th>V124</th>\n",
              "      <td>1.587255e-07</td>\n",
              "      <td>1.587255e-07</td>\n",
              "      <td>1.587255e-07</td>\n",
              "      <td>1.587255e-07</td>\n",
              "      <td>1.587255e-07</td>\n",
              "      <td>1.587255e-07</td>\n",
              "      <td>2.899619e-23</td>\n",
              "    </tr>\n",
              "    <tr>\n",
              "      <th>V79</th>\n",
              "      <td>5.747778e-09</td>\n",
              "      <td>5.747778e-09</td>\n",
              "      <td>5.747778e-09</td>\n",
              "      <td>5.747778e-09</td>\n",
              "      <td>5.747778e-09</td>\n",
              "      <td>5.747778e-09</td>\n",
              "      <td>9.061310e-25</td>\n",
              "    </tr>\n",
              "    <tr>\n",
              "      <th>V250</th>\n",
              "      <td>3.437369e-09</td>\n",
              "      <td>3.437369e-09</td>\n",
              "      <td>3.437369e-09</td>\n",
              "      <td>3.437369e-09</td>\n",
              "      <td>3.437369e-09</td>\n",
              "      <td>3.437369e-09</td>\n",
              "      <td>0.000000e+00</td>\n",
              "    </tr>\n",
              "  </tbody>\n",
              "</table>\n",
              "<p>355 rows × 7 columns</p>\n",
              "</div>"
            ],
            "text/plain": [
              "                                            est_1  ...           STD\n",
              "card1_addr2_card5_card3_addr1_card2  1.626925e+01  ...  0.000000e+00\n",
              "C14                                  4.637145e+00  ...  9.729507e-16\n",
              "M4                                   4.124764e+00  ...  0.000000e+00\n",
              "P_emaildomain                        3.760362e+00  ...  1.986027e-16\n",
              "M5                                   3.453758e+00  ...  4.440892e-16\n",
              "...                                           ...  ...           ...\n",
              "V254                                 5.922680e-07  ...  0.000000e+00\n",
              "V115                                 2.821775e-07  ...  5.799238e-23\n",
              "V124                                 1.587255e-07  ...  2.899619e-23\n",
              "V79                                  5.747778e-09  ...  9.061310e-25\n",
              "V250                                 3.437369e-09  ...  0.000000e+00\n",
              "\n",
              "[355 rows x 7 columns]"
            ]
          },
          "metadata": {
            "tags": []
          },
          "execution_count": 28
        }
      ]
    },
    {
      "cell_type": "code",
      "metadata": {
        "id": "AbPggurUxyGr"
      },
      "source": [
        "important_features = df.index.to_list()\n",
        "CATEGORICAL_FEATURES = list(set(INITIAL_CATEGORICAL_FEATURES).intersection(set(important_features)))"
      ],
      "execution_count": null,
      "outputs": []
    },
    {
      "cell_type": "code",
      "metadata": {
        "colab": {
          "base_uri": "https://localhost:8080/"
        },
        "id": "ZTpy6s_7fMmk",
        "outputId": "fa849afd-8895-40a2-c3fe-3f68ac4ab821"
      },
      "source": [
        "# estimators = my_validation(X[important_features], y, 2)"
      ],
      "execution_count": null,
      "outputs": [
        {
          "output_type": "stream",
          "text": [
            "0:\ttest: 0.8722446\ttest1: 0.7536879\tbest: 0.7536879 (0)\ttotal: 1.12s\tremaining: 3h 6m 9s\n",
            "500:\ttest: 0.9798300\ttest1: 0.9128838\tbest: 0.9128954 (499)\ttotal: 6m\tremaining: 1h 53m 47s\n",
            "1000:\ttest: 0.9886608\ttest1: 0.9221560\tbest: 0.9221757 (999)\ttotal: 12m 2s\tremaining: 1h 48m 17s\n",
            "1500:\ttest: 0.9911938\ttest1: 0.9244308\tbest: 0.9244308 (1500)\ttotal: 17m 56s\tremaining: 1h 41m 32s\n",
            "Stopped by overfitting detector  (50 iterations wait)\n",
            "\n",
            "bestTest = 0.9246451636\n",
            "bestIteration = 1602\n",
            "\n",
            "Shrink model to first 1603 iterations.\n",
            "Fold: 1, train-observations = 144000, valid-observations = 36000\n",
            "train-score = 0.9915, valid-score = 0.9246\n",
            "=====================================================================\n",
            "0:\ttest: 0.8135494\ttest1: 0.7888363\tbest: 0.7888363 (0)\ttotal: 822ms\tremaining: 2h 16m 54s\n",
            "500:\ttest: 0.9793422\ttest1: 0.9262488\tbest: 0.9263667 (497)\ttotal: 5m 57s\tremaining: 1h 52m 54s\n",
            "1000:\ttest: 0.9880558\ttest1: 0.9336662\tbest: 0.9336662 (1000)\ttotal: 11m 55s\tremaining: 1h 47m 14s\n",
            "Stopped by overfitting detector  (50 iterations wait)\n",
            "\n",
            "bestTest = 0.9354020459\n",
            "bestIteration = 1256\n",
            "\n",
            "Shrink model to first 1257 iterations.\n",
            "Fold: 2, train-observations = 144000, valid-observations = 36000\n",
            "train-score = 0.9899, valid-score = 0.9354\n",
            "=====================================================================\n",
            "0:\ttest: 0.7849855\ttest1: 0.7519213\tbest: 0.7519213 (0)\ttotal: 883ms\tremaining: 2h 27m 8s\n",
            "Stopped by overfitting detector  (50 iterations wait)\n",
            "\n",
            "bestTest = 0.8434202893\n",
            "bestIteration = 51\n",
            "\n",
            "Shrink model to first 52 iterations.\n",
            "Fold: 3, train-observations = 144000, valid-observations = 36000\n",
            "train-score = 0.9275, valid-score = 0.8434\n",
            "=====================================================================\n",
            "0:\ttest: 0.8205190\ttest1: 0.7569847\tbest: 0.7569847 (0)\ttotal: 797ms\tremaining: 2h 12m 53s\n",
            "Stopped by overfitting detector  (50 iterations wait)\n",
            "\n",
            "bestTest = 0.8944153794\n",
            "bestIteration = 127\n",
            "\n",
            "Shrink model to first 128 iterations.\n",
            "Fold: 4, train-observations = 144000, valid-observations = 36000\n",
            "train-score = 0.9489, valid-score = 0.8944\n",
            "=====================================================================\n",
            "0:\ttest: 0.8159898\ttest1: 0.7543665\tbest: 0.7543665 (0)\ttotal: 782ms\tremaining: 2h 10m 14s\n",
            "Stopped by overfitting detector  (50 iterations wait)\n",
            "\n",
            "bestTest = 0.8898774631\n",
            "bestIteration = 317\n",
            "\n",
            "Shrink model to first 318 iterations.\n",
            "Fold: 5, train-observations = 144000, valid-observations = 36000\n",
            "train-score = 0.9688, valid-score = 0.8899\n",
            "=====================================================================\n",
            "CV-results train: 0.9653 +/- 0.025\n",
            "CV-results valid: 0.8976 +/- 0.032\n",
            "OOF-score = 0.8905\n",
            "ROC AUC train score = 0.957\n"
          ],
          "name": "stdout"
        }
      ]
    },
    {
      "cell_type": "markdown",
      "metadata": {
        "id": "cOP2ajSbrmdq"
      },
      "source": [
        "CV-results train: 0.9653 +/- 0.025     \n",
        "CV-results valid: 0.8976 +/- 0.032     \n",
        "OOF-score = 0.8905     \n",
        "ROC AUC train score = 0.957"
      ]
    },
    {
      "cell_type": "markdown",
      "metadata": {
        "id": "u4MV1g6iCqca"
      },
      "source": [
        "# Задание 3:\n",
        "использовать permutation importance, выполнить задание 1 и 2."
      ]
    },
    {
      "cell_type": "markdown",
      "metadata": {
        "id": "vYZf1nmTz9sI"
      },
      "source": [
        "Возьмем функции с вебинара и добавим к ним свою функцию для расчета таблицы по всем эстиматорам:"
      ]
    },
    {
      "cell_type": "code",
      "metadata": {
        "id": "TipOEOoezOeh"
      },
      "source": [
        "def _predict(estimator, x_valid):\n",
        "    if hasattr(estimator, \"predict_proba\"):\n",
        "        y_pred = estimator.predict_proba(x_valid)[:, 1]\n",
        "    else:\n",
        "        y_pred = estimator.predict(x_valid)\n",
        "\n",
        "    return y_pred\n",
        "\n",
        "def calculate_permutation_importance(estimator,\n",
        "                                     metric: callable,\n",
        "                                     x_valid: pd.DataFrame,\n",
        "                                     y_valid: pd.DataFrame,\n",
        "                                     maximize: bool = True\n",
        "                                     ) -> pd.Series:\n",
        "    \"\"\"\n",
        "    Вычисление важности признаков на основе перестановочного\n",
        "    критерия (permutation importance).\n",
        "\n",
        "    Parameters\n",
        "    ----------\n",
        "    estimator: sklearn-API estimator\n",
        "        Модель машинного обучения, выполненная в sklearn-API.\n",
        "        Модель должны быть обученной (применен метод `fit`).\n",
        "\n",
        "    metric: callable\n",
        "        Функция для оценки качества прогнозов, функция принимает\n",
        "        2 аргумента: вектор истинных ответов и вектор прогнозов.\n",
        "\n",
        "    x_valid: pandas.core.frame.DataFrame\n",
        "        Матрица признаков для оценки качества модели.\n",
        "\n",
        "    y_valid: pandas.core.frame.Series\n",
        "        Вектор целевой переменной для оценки качества модели.\n",
        "\n",
        "    maximize: bool, optional, default = True\n",
        "        Флаг максимизации метрики качества.\n",
        "        Опциональный параметр, по умолчанию, равен `True`.\n",
        "        Если `True`, значит чем выше значение метрики качества,\n",
        "        тем лучше. Если `False` - иначе.\n",
        "\n",
        "    \"\"\"\n",
        "    y_pred = _predict(estimator, x_valid)\n",
        "    base_score = metric(y_valid, y_pred)\n",
        "    scores, delta = {}, {}\n",
        "\n",
        "    for feature in x_valid.columns:\n",
        "        x_valid_ = x_valid.copy(deep=True)\n",
        "        x_valid_[feature] = np.random.permutation(x_valid_[feature])\n",
        "\n",
        "        y_pred = _predict(estimator, x_valid_)\n",
        "        feature_score = metric(y_valid, y_pred)\n",
        "\n",
        "        if maximize:\n",
        "            delta[feature] = base_score - feature_score\n",
        "        else:\n",
        "            delta[feature] = feature_score - base_score\n",
        "\n",
        "        scores[feature] = feature_score\n",
        "\n",
        "    scores, delta = pd.Series(scores), pd.Series(delta)\n",
        "    scores = scores.sort_values(ascending=False)\n",
        "    delta = delta.sort_values(ascending=False)\n",
        "\n",
        "    return scores, delta"
      ],
      "execution_count": null,
      "outputs": []
    },
    {
      "cell_type": "code",
      "metadata": {
        "id": "iGMgCjF5zORL"
      },
      "source": [
        "def feature_importance_table_permutation(estimators, metric, X, y):\n",
        "  features = X.columns\n",
        "  importance_df = pd.DataFrame(index = features)\n",
        "  for i, est in enumerate(estimators):\n",
        "    scores, delta = calculate_permutation_importance(est, metric, X, y)\n",
        "    importance_df.loc[:, f'est_{i + 1}'] = delta\n",
        "    print(i)\n",
        "  importance_df['MEAN']=importance_df.mean(axis=1)\n",
        "  importance_df['STD']=importance_df.std(axis=1)\n",
        "  importance_df = importance_df.sort_values(by='MEAN', ascending=False)\n",
        "  return importance_df"
      ],
      "execution_count": null,
      "outputs": []
    },
    {
      "cell_type": "code",
      "metadata": {
        "colab": {
          "base_uri": "https://localhost:8080/"
        },
        "id": "2vmik142zOFU",
        "outputId": "151d0534-2114-4198-e795-b6228103e97a"
      },
      "source": [
        "# importance_table = feature_importance_table_permutation(estimators_HW6_task0, roc_auc_score, X, y)"
      ],
      "execution_count": null,
      "outputs": [
        {
          "output_type": "stream",
          "text": [
            "0\n",
            "1\n",
            "2\n",
            "3\n",
            "4\n"
          ],
          "name": "stdout"
        }
      ]
    },
    {
      "cell_type": "code",
      "metadata": {
        "colab": {
          "base_uri": "https://localhost:8080/",
          "height": 626
        },
        "id": "LFLfjKt-zN4l",
        "outputId": "80ec5396-c195-47ac-a7cc-c1f7fa448aaa"
      },
      "source": [
        "plt.figure(figsize=(20, 10))\n",
        "sns.barplot(y=importance_table.index.to_list()[:20], x=importance_table.MEAN.values[:20], palette=\"viridis\")\n",
        "plt.title(\"Permutation feature importance\", size=14)"
      ],
      "execution_count": null,
      "outputs": [
        {
          "output_type": "execute_result",
          "data": {
            "text/plain": [
              "Text(0.5, 1.0, 'Permutation feature importance')"
            ]
          },
          "metadata": {
            "tags": []
          },
          "execution_count": 85
        },
        {
          "output_type": "display_data",
          "data": {
            "image/png": "[encoded data removed]",
            "text/plain": [
              "<Figure size 1440x720 with 1 Axes>"
            ]
          },
          "metadata": {
            "tags": [],
            "needs_background": "light"
          }
        }
      ]
    },
    {
      "cell_type": "code",
      "metadata": {
        "colab": {
          "base_uri": "https://localhost:8080/",
          "height": 402
        },
        "id": "zg8II7II2tt_",
        "outputId": "e6f3cc5e-0637-4e01-bf78-364fbbb135d9"
      },
      "source": [
        "mask = ~(importance_table.MEAN <= 3*importance_table.STD)\n",
        "df = importance_table[mask].sort_values(by='MEAN', ascending=False)\n",
        "df"
      ],
      "execution_count": null,
      "outputs": [
        {
          "output_type": "execute_result",
          "data": {
            "text/html": [
              "<div>\n",
              "<style scoped>\n",
              "    .dataframe tbody tr th:only-of-type {\n",
              "        vertical-align: middle;\n",
              "    }\n",
              "\n",
              "    .dataframe tbody tr th {\n",
              "        vertical-align: top;\n",
              "    }\n",
              "\n",
              "    .dataframe thead th {\n",
              "        text-align: right;\n",
              "    }\n",
              "</style>\n",
              "<table border=\"1\" class=\"dataframe\">\n",
              "  <thead>\n",
              "    <tr style=\"text-align: right;\">\n",
              "      <th></th>\n",
              "      <th>est_1</th>\n",
              "      <th>est_2</th>\n",
              "      <th>est_3</th>\n",
              "      <th>est_4</th>\n",
              "      <th>est_5</th>\n",
              "      <th>MEAN</th>\n",
              "      <th>STD</th>\n",
              "    </tr>\n",
              "  </thead>\n",
              "  <tbody>\n",
              "    <tr>\n",
              "      <th>card1_addr2_card5_card3_addr1_card2</th>\n",
              "      <td>7.047919e-02</td>\n",
              "      <td>7.051818e-02</td>\n",
              "      <td>7.104598e-02</td>\n",
              "      <td>6.951298e-02</td>\n",
              "      <td>6.861170e-02</td>\n",
              "      <td>7.003360e-02</td>\n",
              "      <td>8.661549e-04</td>\n",
              "    </tr>\n",
              "    <tr>\n",
              "      <th>P_emaildomain</th>\n",
              "      <td>1.188985e-02</td>\n",
              "      <td>1.216259e-02</td>\n",
              "      <td>1.175115e-02</td>\n",
              "      <td>1.173143e-02</td>\n",
              "      <td>1.186786e-02</td>\n",
              "      <td>1.188058e-02</td>\n",
              "      <td>1.541286e-04</td>\n",
              "    </tr>\n",
              "    <tr>\n",
              "      <th>M5</th>\n",
              "      <td>4.452111e-03</td>\n",
              "      <td>4.809751e-03</td>\n",
              "      <td>4.778351e-03</td>\n",
              "      <td>4.697854e-03</td>\n",
              "      <td>4.670179e-03</td>\n",
              "      <td>4.681649e-03</td>\n",
              "      <td>1.255731e-04</td>\n",
              "    </tr>\n",
              "    <tr>\n",
              "      <th>C14</th>\n",
              "      <td>3.171407e-03</td>\n",
              "      <td>2.917351e-03</td>\n",
              "      <td>3.224130e-03</td>\n",
              "      <td>2.709758e-03</td>\n",
              "      <td>3.237497e-03</td>\n",
              "      <td>3.052029e-03</td>\n",
              "      <td>2.066669e-04</td>\n",
              "    </tr>\n",
              "    <tr>\n",
              "      <th>M6</th>\n",
              "      <td>2.547765e-03</td>\n",
              "      <td>2.536471e-03</td>\n",
              "      <td>2.692951e-03</td>\n",
              "      <td>2.675236e-03</td>\n",
              "      <td>2.749922e-03</td>\n",
              "      <td>2.640469e-03</td>\n",
              "      <td>8.408653e-05</td>\n",
              "    </tr>\n",
              "    <tr>\n",
              "      <th>...</th>\n",
              "      <td>...</td>\n",
              "      <td>...</td>\n",
              "      <td>...</td>\n",
              "      <td>...</td>\n",
              "      <td>...</td>\n",
              "      <td>...</td>\n",
              "      <td>...</td>\n",
              "    </tr>\n",
              "    <tr>\n",
              "      <th>V292</th>\n",
              "      <td>1.700873e-06</td>\n",
              "      <td>1.717559e-06</td>\n",
              "      <td>1.333778e-06</td>\n",
              "      <td>2.952333e-06</td>\n",
              "      <td>2.056844e-06</td>\n",
              "      <td>1.952277e-06</td>\n",
              "      <td>5.498879e-07</td>\n",
              "    </tr>\n",
              "    <tr>\n",
              "      <th>V236</th>\n",
              "      <td>1.430558e-06</td>\n",
              "      <td>1.566272e-06</td>\n",
              "      <td>7.909226e-07</td>\n",
              "      <td>7.308526e-07</td>\n",
              "      <td>1.377162e-06</td>\n",
              "      <td>1.179153e-06</td>\n",
              "      <td>3.475540e-07</td>\n",
              "    </tr>\n",
              "    <tr>\n",
              "      <th>V17</th>\n",
              "      <td>2.336058e-08</td>\n",
              "      <td>2.781022e-08</td>\n",
              "      <td>2.224818e-08</td>\n",
              "      <td>2.892263e-08</td>\n",
              "      <td>1.557372e-08</td>\n",
              "      <td>2.358307e-08</td>\n",
              "      <td>4.740480e-09</td>\n",
              "    </tr>\n",
              "    <tr>\n",
              "      <th>V305</th>\n",
              "      <td>1.891095e-08</td>\n",
              "      <td>2.336058e-08</td>\n",
              "      <td>1.446131e-08</td>\n",
              "      <td>8.899270e-09</td>\n",
              "      <td>2.113577e-08</td>\n",
              "      <td>1.735358e-08</td>\n",
              "      <td>5.150825e-09</td>\n",
              "    </tr>\n",
              "    <tr>\n",
              "      <th>V116</th>\n",
              "      <td>1.446131e-08</td>\n",
              "      <td>1.779854e-08</td>\n",
              "      <td>1.112409e-08</td>\n",
              "      <td>1.446131e-08</td>\n",
              "      <td>1.334891e-08</td>\n",
              "      <td>1.423883e-08</td>\n",
              "      <td>2.157041e-09</td>\n",
              "    </tr>\n",
              "  </tbody>\n",
              "</table>\n",
              "<p>151 rows × 7 columns</p>\n",
              "</div>"
            ],
            "text/plain": [
              "                                            est_1  ...           STD\n",
              "card1_addr2_card5_card3_addr1_card2  7.047919e-02  ...  8.661549e-04\n",
              "P_emaildomain                        1.188985e-02  ...  1.541286e-04\n",
              "M5                                   4.452111e-03  ...  1.255731e-04\n",
              "C14                                  3.171407e-03  ...  2.066669e-04\n",
              "M6                                   2.547765e-03  ...  8.408653e-05\n",
              "...                                           ...  ...           ...\n",
              "V292                                 1.700873e-06  ...  5.498879e-07\n",
              "V236                                 1.430558e-06  ...  3.475540e-07\n",
              "V17                                  2.336058e-08  ...  4.740480e-09\n",
              "V305                                 1.891095e-08  ...  5.150825e-09\n",
              "V116                                 1.446131e-08  ...  2.157041e-09\n",
              "\n",
              "[151 rows x 7 columns]"
            ]
          },
          "metadata": {
            "tags": []
          },
          "execution_count": 87
        }
      ]
    },
    {
      "cell_type": "code",
      "metadata": {
        "id": "NYBigoEx2tt_"
      },
      "source": [
        "important_features = df.index.to_list()\n",
        "CATEGORICAL_FEATURES = list(set(INITIAL_CATEGORICAL_FEATURES).intersection(set(important_features)))"
      ],
      "execution_count": null,
      "outputs": []
    },
    {
      "cell_type": "code",
      "metadata": {
        "colab": {
          "base_uri": "https://localhost:8080/"
        },
        "id": "pUb__rnu2tt_",
        "outputId": "05c789ef-a5fd-4a56-de71-1a2743f5a389"
      },
      "source": [
        "# estimators = my_validation(X[important_features], y, 3)"
      ],
      "execution_count": null,
      "outputs": [
        {
          "output_type": "stream",
          "text": [
            "0:\ttest: 0.7823365\ttest1: 0.7137234\tbest: 0.7137234 (0)\ttotal: 673ms\tremaining: 1h 52m 13s\n",
            "500:\ttest: 0.9806425\ttest1: 0.9095469\tbest: 0.9095469 (500)\ttotal: 4m 34s\tremaining: 1h 26m 39s\n",
            "1000:\ttest: 0.9878710\ttest1: 0.9191629\tbest: 0.9191629 (1000)\ttotal: 9m\tremaining: 1h 21m\n",
            "1500:\ttest: 0.9907136\ttest1: 0.9219333\tbest: 0.9219360 (1494)\ttotal: 13m 29s\tremaining: 1h 16m 21s\n",
            "2000:\ttest: 0.9924936\ttest1: 0.9245918\tbest: 0.9246086 (1992)\ttotal: 17m 58s\tremaining: 1h 11m 51s\n",
            "Stopped by overfitting detector  (50 iterations wait)\n",
            "\n",
            "bestTest = 0.9263854663\n",
            "bestIteration = 2428\n",
            "\n",
            "Shrink model to first 2429 iterations.\n",
            "Fold: 1, train-observations = 144000, valid-observations = 36000\n",
            "train-score = 0.9933, valid-score = 0.9264\n",
            "=====================================================================\n",
            "0:\ttest: 0.7931951\ttest1: 0.7497312\tbest: 0.7497312 (0)\ttotal: 659ms\tremaining: 1h 49m 46s\n",
            "500:\ttest: 0.9819759\ttest1: 0.9255766\tbest: 0.9255766 (500)\ttotal: 4m 31s\tremaining: 1h 25m 42s\n",
            "1000:\ttest: 0.9887196\ttest1: 0.9337461\tbest: 0.9337574 (998)\ttotal: 8m 58s\tremaining: 1h 20m 41s\n",
            "1500:\ttest: 0.9912335\ttest1: 0.9365062\tbest: 0.9365134 (1497)\ttotal: 13m 20s\tremaining: 1h 15m 35s\n",
            "Stopped by overfitting detector  (50 iterations wait)\n",
            "\n",
            "bestTest = 0.93764019\n",
            "bestIteration = 1730\n",
            "\n",
            "Shrink model to first 1731 iterations.\n",
            "Fold: 2, train-observations = 144000, valid-observations = 36000\n",
            "train-score = 0.992, valid-score = 0.9376\n",
            "=====================================================================\n",
            "0:\ttest: 0.7940418\ttest1: 0.7009273\tbest: 0.7009273 (0)\ttotal: 620ms\tremaining: 1h 43m 17s\n",
            "Stopped by overfitting detector  (50 iterations wait)\n",
            "\n",
            "bestTest = 0.873725662\n",
            "bestIteration = 356\n",
            "\n",
            "Shrink model to first 357 iterations.\n",
            "Fold: 3, train-observations = 144000, valid-observations = 36000\n",
            "train-score = 0.9773, valid-score = 0.8737\n",
            "=====================================================================\n",
            "0:\ttest: 0.8168517\ttest1: 0.7760076\tbest: 0.7760076 (0)\ttotal: 581ms\tremaining: 1h 36m 53s\n",
            "Stopped by overfitting detector  (50 iterations wait)\n",
            "\n",
            "bestTest = 0.8866433614\n",
            "bestIteration = 123\n",
            "\n",
            "Shrink model to first 124 iterations.\n",
            "Fold: 4, train-observations = 144000, valid-observations = 36000\n",
            "train-score = 0.9533, valid-score = 0.8866\n",
            "=====================================================================\n",
            "0:\ttest: 0.8240620\ttest1: 0.7132555\tbest: 0.7132555 (0)\ttotal: 625ms\tremaining: 1h 44m 4s\n",
            "500:\ttest: 0.9814857\ttest1: 0.9040269\tbest: 0.9040269 (500)\ttotal: 4m 33s\tremaining: 1h 26m 27s\n",
            "1000:\ttest: 0.9888385\ttest1: 0.9177503\tbest: 0.9177550 (999)\ttotal: 9m 3s\tremaining: 1h 21m 22s\n",
            "1500:\ttest: 0.9913851\ttest1: 0.9214400\tbest: 0.9214673 (1499)\ttotal: 13m 34s\tremaining: 1h 16m 49s\n",
            "Stopped by overfitting detector  (50 iterations wait)\n",
            "\n",
            "bestTest = 0.9216925233\n",
            "bestIteration = 1523\n",
            "\n",
            "Shrink model to first 1524 iterations.\n",
            "Fold: 5, train-observations = 144000, valid-observations = 36000\n",
            "train-score = 0.9915, valid-score = 0.9217\n",
            "=====================================================================\n",
            "CV-results train: 0.9815 +/- 0.015\n",
            "CV-results valid: 0.9092 +/- 0.025\n",
            "OOF-score = 0.8833\n",
            "ROC AUC train score = 0.979\n"
          ],
          "name": "stdout"
        }
      ]
    },
    {
      "cell_type": "markdown",
      "metadata": {
        "id": "Y9kFhljRTzHV"
      },
      "source": [
        "### Результат  \n",
        "CV-results train: 0.9815 +/- 0.015     \n",
        "CV-results valid: 0.9092 +/- 0.025     \n",
        "OOF-score = 0.8833     \n",
        "ROC AUC train score = 0.979"
      ]
    },
    {
      "cell_type": "markdown",
      "metadata": {
        "id": "GxuTrBDaIlmE"
      },
      "source": [
        "# Задание 4:\n",
        "использовать BoostARoota для отбора признаков (настраивать или нет - на ваше усмотрение), переобучить модель и оценить изменение качества.\n",
        "# Это задание пропустил ((((. См. следующее."
      ]
    },
    {
      "cell_type": "code",
      "metadata": {
        "colab": {
          "base_uri": "https://localhost:8080/"
        },
        "id": "Jw0bE7qAA1Z3",
        "outputId": "d2048e94-c68b-4a1b-9ce8-c0d3deed1d19"
      },
      "source": [
        "!pip install boostaroota"
      ],
      "execution_count": null,
      "outputs": [
        {
          "output_type": "stream",
          "text": [
            "Collecting boostaroota\n",
            "  Downloading https://files.pythonhosted.org/packages/78/ed/b9a97eb226ed9e8712fb88185bbec3a5eaf09e829277b2c09a4f13d6c8d7/boostaroota-1.3-py2.py3-none-any.whl\n",
            "Requirement already satisfied: pandas in /usr/local/lib/python3.6/dist-packages (from boostaroota) (1.1.4)\n",
            "Requirement already satisfied: xgboost in /usr/local/lib/python3.6/dist-packages (from boostaroota) (0.90)\n",
            "Requirement already satisfied: numpy in /usr/local/lib/python3.6/dist-packages (from boostaroota) (1.18.5)\n",
            "Requirement already satisfied: pytz>=2017.2 in /usr/local/lib/python3.6/dist-packages (from pandas->boostaroota) (2018.9)\n",
            "Requirement already satisfied: python-dateutil>=2.7.3 in /usr/local/lib/python3.6/dist-packages (from pandas->boostaroota) (2.8.1)\n",
            "Requirement already satisfied: scipy in /usr/local/lib/python3.6/dist-packages (from xgboost->boostaroota) (1.4.1)\n",
            "Requirement already satisfied: six>=1.5 in /usr/local/lib/python3.6/dist-packages (from python-dateutil>=2.7.3->pandas->boostaroota) (1.15.0)\n",
            "Installing collected packages: boostaroota\n",
            "Successfully installed boostaroota-1.3\n"
          ],
          "name": "stdout"
        }
      ]
    },
    {
      "cell_type": "code",
      "metadata": {
        "id": "eYKWvPYisaLF"
      },
      "source": [
        "from boostaroota import BoostARoota"
      ],
      "execution_count": null,
      "outputs": []
    },
    {
      "cell_type": "code",
      "metadata": {
        "id": "n3l99zItslP9"
      },
      "source": [
        "br = BoostARoota(metric='auc')\n",
        "br.fit(X, y)"
      ],
      "execution_count": null,
      "outputs": []
    },
    {
      "cell_type": "code",
      "metadata": {
        "id": "D4neO4UJtPwm"
      },
      "source": [
        "br.keep_vars_"
      ],
      "execution_count": null,
      "outputs": []
    },
    {
      "cell_type": "code",
      "metadata": {
        "id": "6S6JGBBbaACL"
      },
      "source": [
        "estimators = my_validation(br.transform(X), y, 4)"
      ],
      "execution_count": null,
      "outputs": []
    },
    {
      "cell_type": "markdown",
      "metadata": {
        "id": "TowdywuAaGRQ"
      },
      "source": [
        "### Результат "
      ]
    },
    {
      "cell_type": "markdown",
      "metadata": {
        "id": "Pya5AK7lNVER"
      },
      "source": [
        "# Задание 5:\n",
        "использовать shap, выполнить задание 1 и 2."
      ]
    },
    {
      "cell_type": "code",
      "metadata": {
        "colab": {
          "base_uri": "https://localhost:8080/"
        },
        "id": "ryAWjEPWCa15",
        "outputId": "801f5831-74a7-4599-a451-0fb7e03ac1eb"
      },
      "source": [
        "!pip install shap"
      ],
      "execution_count": null,
      "outputs": [
        {
          "output_type": "stream",
          "text": [
            "Requirement already satisfied: shap in /usr/local/lib/python3.6/dist-packages (0.37.0)\n",
            "Requirement already satisfied: scikit-learn in /usr/local/lib/python3.6/dist-packages (from shap) (0.22.2.post1)\n",
            "Requirement already satisfied: numpy in /usr/local/lib/python3.6/dist-packages (from shap) (1.18.5)\n",
            "Requirement already satisfied: tqdm>4.25.0 in /usr/local/lib/python3.6/dist-packages (from shap) (4.41.1)\n",
            "Requirement already satisfied: slicer==0.0.3 in /usr/local/lib/python3.6/dist-packages (from shap) (0.0.3)\n",
            "Requirement already satisfied: scipy in /usr/local/lib/python3.6/dist-packages (from shap) (1.4.1)\n",
            "Requirement already satisfied: numba in /usr/local/lib/python3.6/dist-packages (from shap) (0.48.0)\n",
            "Requirement already satisfied: pandas in /usr/local/lib/python3.6/dist-packages (from shap) (1.1.4)\n",
            "Requirement already satisfied: joblib>=0.11 in /usr/local/lib/python3.6/dist-packages (from scikit-learn->shap) (0.17.0)\n",
            "Requirement already satisfied: llvmlite<0.32.0,>=0.31.0dev0 in /usr/local/lib/python3.6/dist-packages (from numba->shap) (0.31.0)\n",
            "Requirement already satisfied: setuptools in /usr/local/lib/python3.6/dist-packages (from numba->shap) (50.3.2)\n",
            "Requirement already satisfied: pytz>=2017.2 in /usr/local/lib/python3.6/dist-packages (from pandas->shap) (2018.9)\n",
            "Requirement already satisfied: python-dateutil>=2.7.3 in /usr/local/lib/python3.6/dist-packages (from pandas->shap) (2.8.1)\n",
            "Requirement already satisfied: six>=1.5 in /usr/local/lib/python3.6/dist-packages (from python-dateutil>=2.7.3->pandas->shap) (1.15.0)\n"
          ],
          "name": "stdout"
        }
      ]
    },
    {
      "cell_type": "code",
      "metadata": {
        "id": "la0U_H9Uap11"
      },
      "source": [
        "import shap"
      ],
      "execution_count": null,
      "outputs": []
    },
    {
      "cell_type": "code",
      "metadata": {
        "id": "XLo9VCAv6vxB"
      },
      "source": [
        "def feature_importance_table_shap(estimators, X, y):\n",
        "  features = X.columns\n",
        "  importance_df = pd.DataFrame(index = features)\n",
        "  for i, est in enumerate(estimators):\n",
        "    explainer = shap.TreeExplainer(est)\n",
        "    shap_values = explainer.shap_values(X, y)\n",
        "    score = score = shap_values.mean(axis=0)\n",
        "    importance_df.loc[:, f'est_{i + 1}'] = score\n",
        "  importance_df['MEAN']=importance_df.mean(axis=1)\n",
        "  importance_df['STD']=importance_df.std(axis=1)\n",
        "  importance_df = importance_df.sort_values(by='MEAN', ascending=False)\n",
        "  return importance_df"
      ],
      "execution_count": null,
      "outputs": []
    },
    {
      "cell_type": "code",
      "metadata": {
        "id": "QZ8XrqNL-elR"
      },
      "source": [
        "importance_table = feature_importance_table_shap(estimators_HW6_task0, X, y)"
      ],
      "execution_count": null,
      "outputs": []
    },
    {
      "cell_type": "code",
      "metadata": {
        "colab": {
          "base_uri": "https://localhost:8080/",
          "height": 343
        },
        "id": "uwEcXCZQ-k_F",
        "outputId": "a7d2e702-98f1-4a08-a68a-7196c4c89b2a"
      },
      "source": [
        "importance_table.head(10)"
      ],
      "execution_count": null,
      "outputs": [
        {
          "output_type": "execute_result",
          "data": {
            "text/html": [
              "<div>\n",
              "<style scoped>\n",
              "    .dataframe tbody tr th:only-of-type {\n",
              "        vertical-align: middle;\n",
              "    }\n",
              "\n",
              "    .dataframe tbody tr th {\n",
              "        vertical-align: top;\n",
              "    }\n",
              "\n",
              "    .dataframe thead th {\n",
              "        text-align: right;\n",
              "    }\n",
              "</style>\n",
              "<table border=\"1\" class=\"dataframe\">\n",
              "  <thead>\n",
              "    <tr style=\"text-align: right;\">\n",
              "      <th></th>\n",
              "      <th>est_1</th>\n",
              "      <th>est_2</th>\n",
              "      <th>est_3</th>\n",
              "      <th>est_4</th>\n",
              "      <th>est_5</th>\n",
              "      <th>MEAN</th>\n",
              "      <th>STD</th>\n",
              "    </tr>\n",
              "  </thead>\n",
              "  <tbody>\n",
              "    <tr>\n",
              "      <th>TransactionDT_month</th>\n",
              "      <td>0.126300</td>\n",
              "      <td>0.126300</td>\n",
              "      <td>0.126300</td>\n",
              "      <td>0.126300</td>\n",
              "      <td>0.126300</td>\n",
              "      <td>0.126300</td>\n",
              "      <td>0.000000e+00</td>\n",
              "    </tr>\n",
              "    <tr>\n",
              "      <th>TransactionDT_year</th>\n",
              "      <td>0.106683</td>\n",
              "      <td>0.106683</td>\n",
              "      <td>0.106683</td>\n",
              "      <td>0.106683</td>\n",
              "      <td>0.106683</td>\n",
              "      <td>0.106683</td>\n",
              "      <td>0.000000e+00</td>\n",
              "    </tr>\n",
              "    <tr>\n",
              "      <th>TransactionDT_dow</th>\n",
              "      <td>0.018652</td>\n",
              "      <td>0.018652</td>\n",
              "      <td>0.018652</td>\n",
              "      <td>0.018652</td>\n",
              "      <td>0.018652</td>\n",
              "      <td>0.018652</td>\n",
              "      <td>0.000000e+00</td>\n",
              "    </tr>\n",
              "    <tr>\n",
              "      <th>C1</th>\n",
              "      <td>0.012313</td>\n",
              "      <td>0.012313</td>\n",
              "      <td>0.012313</td>\n",
              "      <td>0.012313</td>\n",
              "      <td>0.012313</td>\n",
              "      <td>0.012313</td>\n",
              "      <td>0.000000e+00</td>\n",
              "    </tr>\n",
              "    <tr>\n",
              "      <th>C11</th>\n",
              "      <td>0.010489</td>\n",
              "      <td>0.010489</td>\n",
              "      <td>0.010489</td>\n",
              "      <td>0.010489</td>\n",
              "      <td>0.010489</td>\n",
              "      <td>0.010489</td>\n",
              "      <td>1.900294e-18</td>\n",
              "    </tr>\n",
              "    <tr>\n",
              "      <th>M4</th>\n",
              "      <td>0.010271</td>\n",
              "      <td>0.010271</td>\n",
              "      <td>0.010271</td>\n",
              "      <td>0.010271</td>\n",
              "      <td>0.010271</td>\n",
              "      <td>0.010271</td>\n",
              "      <td>0.000000e+00</td>\n",
              "    </tr>\n",
              "    <tr>\n",
              "      <th>TransactionDT_day</th>\n",
              "      <td>0.009846</td>\n",
              "      <td>0.009846</td>\n",
              "      <td>0.009846</td>\n",
              "      <td>0.009846</td>\n",
              "      <td>0.009846</td>\n",
              "      <td>0.009846</td>\n",
              "      <td>0.000000e+00</td>\n",
              "    </tr>\n",
              "    <tr>\n",
              "      <th>V261</th>\n",
              "      <td>0.004281</td>\n",
              "      <td>0.004281</td>\n",
              "      <td>0.004281</td>\n",
              "      <td>0.004281</td>\n",
              "      <td>0.004281</td>\n",
              "      <td>0.004281</td>\n",
              "      <td>0.000000e+00</td>\n",
              "    </tr>\n",
              "    <tr>\n",
              "      <th>C2</th>\n",
              "      <td>0.004161</td>\n",
              "      <td>0.004161</td>\n",
              "      <td>0.004161</td>\n",
              "      <td>0.004161</td>\n",
              "      <td>0.004161</td>\n",
              "      <td>0.004161</td>\n",
              "      <td>0.000000e+00</td>\n",
              "    </tr>\n",
              "    <tr>\n",
              "      <th>C6</th>\n",
              "      <td>0.003570</td>\n",
              "      <td>0.003570</td>\n",
              "      <td>0.003570</td>\n",
              "      <td>0.003570</td>\n",
              "      <td>0.003570</td>\n",
              "      <td>0.003570</td>\n",
              "      <td>0.000000e+00</td>\n",
              "    </tr>\n",
              "  </tbody>\n",
              "</table>\n",
              "</div>"
            ],
            "text/plain": [
              "                        est_1     est_2  ...      MEAN           STD\n",
              "TransactionDT_month  0.126300  0.126300  ...  0.126300  0.000000e+00\n",
              "TransactionDT_year   0.106683  0.106683  ...  0.106683  0.000000e+00\n",
              "TransactionDT_dow    0.018652  0.018652  ...  0.018652  0.000000e+00\n",
              "C1                   0.012313  0.012313  ...  0.012313  0.000000e+00\n",
              "C11                  0.010489  0.010489  ...  0.010489  1.900294e-18\n",
              "M4                   0.010271  0.010271  ...  0.010271  0.000000e+00\n",
              "TransactionDT_day    0.009846  0.009846  ...  0.009846  0.000000e+00\n",
              "V261                 0.004281  0.004281  ...  0.004281  0.000000e+00\n",
              "C2                   0.004161  0.004161  ...  0.004161  0.000000e+00\n",
              "C6                   0.003570  0.003570  ...  0.003570  0.000000e+00\n",
              "\n",
              "[10 rows x 7 columns]"
            ]
          },
          "metadata": {
            "tags": []
          },
          "execution_count": 45
        }
      ]
    },
    {
      "cell_type": "code",
      "metadata": {
        "colab": {
          "base_uri": "https://localhost:8080/",
          "height": 626
        },
        "id": "47scZmVZ6vdM",
        "outputId": "afcf6c7e-a1b9-4d6a-e27b-b2e2188f3ba2"
      },
      "source": [
        "plt.figure(figsize=(20, 10))\n",
        "sns.barplot(y=importance_table.index.to_list()[:20], x=importance_table.iloc[:20, :].MEAN.values, palette=\"viridis\")\n",
        "plt.title(\"SHAP feature importance\", size=14)"
      ],
      "execution_count": null,
      "outputs": [
        {
          "output_type": "execute_result",
          "data": {
            "text/plain": [
              "Text(0.5, 1.0, 'SHAP feature importance')"
            ]
          },
          "metadata": {
            "tags": []
          },
          "execution_count": 46
        },
        {
          "output_type": "display_data",
          "data": {
            "image/png": "[encoded data removed]",
            "text/plain": [
              "<Figure size 1440x720 with 1 Axes>"
            ]
          },
          "metadata": {
            "tags": [],
            "needs_background": "light"
          }
        }
      ]
    },
    {
      "cell_type": "code",
      "metadata": {
        "colab": {
          "base_uri": "https://localhost:8080/",
          "height": 402
        },
        "id": "DNfkWYoh6vMs",
        "outputId": "4276c177-3735-4098-8b9c-1ec1b74b9fbf"
      },
      "source": [
        "mask = ~(importance_table.MEAN <= 3*importance_table.STD)\n",
        "df = importance_table[mask].sort_values(by='MEAN', ascending=False)\n",
        "df"
      ],
      "execution_count": null,
      "outputs": [
        {
          "output_type": "execute_result",
          "data": {
            "text/html": [
              "<div>\n",
              "<style scoped>\n",
              "    .dataframe tbody tr th:only-of-type {\n",
              "        vertical-align: middle;\n",
              "    }\n",
              "\n",
              "    .dataframe tbody tr th {\n",
              "        vertical-align: top;\n",
              "    }\n",
              "\n",
              "    .dataframe thead th {\n",
              "        text-align: right;\n",
              "    }\n",
              "</style>\n",
              "<table border=\"1\" class=\"dataframe\">\n",
              "  <thead>\n",
              "    <tr style=\"text-align: right;\">\n",
              "      <th></th>\n",
              "      <th>est_1</th>\n",
              "      <th>est_2</th>\n",
              "      <th>est_3</th>\n",
              "      <th>est_4</th>\n",
              "      <th>est_5</th>\n",
              "      <th>MEAN</th>\n",
              "      <th>STD</th>\n",
              "    </tr>\n",
              "  </thead>\n",
              "  <tbody>\n",
              "    <tr>\n",
              "      <th>TransactionDT_month</th>\n",
              "      <td>1.262996e-01</td>\n",
              "      <td>1.262996e-01</td>\n",
              "      <td>1.262996e-01</td>\n",
              "      <td>1.262996e-01</td>\n",
              "      <td>1.262996e-01</td>\n",
              "      <td>1.262996e-01</td>\n",
              "      <td>0.000000e+00</td>\n",
              "    </tr>\n",
              "    <tr>\n",
              "      <th>TransactionDT_year</th>\n",
              "      <td>1.066827e-01</td>\n",
              "      <td>1.066827e-01</td>\n",
              "      <td>1.066827e-01</td>\n",
              "      <td>1.066827e-01</td>\n",
              "      <td>1.066827e-01</td>\n",
              "      <td>1.066827e-01</td>\n",
              "      <td>0.000000e+00</td>\n",
              "    </tr>\n",
              "    <tr>\n",
              "      <th>TransactionDT_dow</th>\n",
              "      <td>1.865242e-02</td>\n",
              "      <td>1.865242e-02</td>\n",
              "      <td>1.865242e-02</td>\n",
              "      <td>1.865242e-02</td>\n",
              "      <td>1.865242e-02</td>\n",
              "      <td>1.865242e-02</td>\n",
              "      <td>0.000000e+00</td>\n",
              "    </tr>\n",
              "    <tr>\n",
              "      <th>C1</th>\n",
              "      <td>1.231315e-02</td>\n",
              "      <td>1.231315e-02</td>\n",
              "      <td>1.231315e-02</td>\n",
              "      <td>1.231315e-02</td>\n",
              "      <td>1.231315e-02</td>\n",
              "      <td>1.231315e-02</td>\n",
              "      <td>0.000000e+00</td>\n",
              "    </tr>\n",
              "    <tr>\n",
              "      <th>C11</th>\n",
              "      <td>1.048901e-02</td>\n",
              "      <td>1.048901e-02</td>\n",
              "      <td>1.048901e-02</td>\n",
              "      <td>1.048901e-02</td>\n",
              "      <td>1.048901e-02</td>\n",
              "      <td>1.048901e-02</td>\n",
              "      <td>1.900294e-18</td>\n",
              "    </tr>\n",
              "    <tr>\n",
              "      <th>...</th>\n",
              "      <td>...</td>\n",
              "      <td>...</td>\n",
              "      <td>...</td>\n",
              "      <td>...</td>\n",
              "      <td>...</td>\n",
              "      <td>...</td>\n",
              "      <td>...</td>\n",
              "    </tr>\n",
              "    <tr>\n",
              "      <th>V228</th>\n",
              "      <td>2.537216e-07</td>\n",
              "      <td>2.537216e-07</td>\n",
              "      <td>2.537216e-07</td>\n",
              "      <td>2.537216e-07</td>\n",
              "      <td>2.537216e-07</td>\n",
              "      <td>2.537216e-07</td>\n",
              "      <td>5.799238e-23</td>\n",
              "    </tr>\n",
              "    <tr>\n",
              "      <th>V238</th>\n",
              "      <td>1.729410e-07</td>\n",
              "      <td>1.729410e-07</td>\n",
              "      <td>1.729410e-07</td>\n",
              "      <td>1.729410e-07</td>\n",
              "      <td>1.729410e-07</td>\n",
              "      <td>1.729410e-07</td>\n",
              "      <td>0.000000e+00</td>\n",
              "    </tr>\n",
              "    <tr>\n",
              "      <th>V115</th>\n",
              "      <td>1.521801e-07</td>\n",
              "      <td>1.521801e-07</td>\n",
              "      <td>1.521801e-07</td>\n",
              "      <td>1.521801e-07</td>\n",
              "      <td>1.521801e-07</td>\n",
              "      <td>1.521801e-07</td>\n",
              "      <td>0.000000e+00</td>\n",
              "    </tr>\n",
              "    <tr>\n",
              "      <th>V250</th>\n",
              "      <td>3.333061e-08</td>\n",
              "      <td>3.333061e-08</td>\n",
              "      <td>3.333061e-08</td>\n",
              "      <td>3.333061e-08</td>\n",
              "      <td>3.333061e-08</td>\n",
              "      <td>3.333061e-08</td>\n",
              "      <td>0.000000e+00</td>\n",
              "    </tr>\n",
              "    <tr>\n",
              "      <th>V79</th>\n",
              "      <td>2.282401e-09</td>\n",
              "      <td>2.282401e-09</td>\n",
              "      <td>2.282401e-09</td>\n",
              "      <td>2.282401e-09</td>\n",
              "      <td>2.282401e-09</td>\n",
              "      <td>2.282401e-09</td>\n",
              "      <td>0.000000e+00</td>\n",
              "    </tr>\n",
              "  </tbody>\n",
              "</table>\n",
              "<p>162 rows × 7 columns</p>\n",
              "</div>"
            ],
            "text/plain": [
              "                            est_1         est_2  ...          MEAN           STD\n",
              "TransactionDT_month  1.262996e-01  1.262996e-01  ...  1.262996e-01  0.000000e+00\n",
              "TransactionDT_year   1.066827e-01  1.066827e-01  ...  1.066827e-01  0.000000e+00\n",
              "TransactionDT_dow    1.865242e-02  1.865242e-02  ...  1.865242e-02  0.000000e+00\n",
              "C1                   1.231315e-02  1.231315e-02  ...  1.231315e-02  0.000000e+00\n",
              "C11                  1.048901e-02  1.048901e-02  ...  1.048901e-02  1.900294e-18\n",
              "...                           ...           ...  ...           ...           ...\n",
              "V228                 2.537216e-07  2.537216e-07  ...  2.537216e-07  5.799238e-23\n",
              "V238                 1.729410e-07  1.729410e-07  ...  1.729410e-07  0.000000e+00\n",
              "V115                 1.521801e-07  1.521801e-07  ...  1.521801e-07  0.000000e+00\n",
              "V250                 3.333061e-08  3.333061e-08  ...  3.333061e-08  0.000000e+00\n",
              "V79                  2.282401e-09  2.282401e-09  ...  2.282401e-09  0.000000e+00\n",
              "\n",
              "[162 rows x 7 columns]"
            ]
          },
          "metadata": {
            "tags": []
          },
          "execution_count": 47
        }
      ]
    },
    {
      "cell_type": "code",
      "metadata": {
        "id": "yf7dr31Y8bxq"
      },
      "source": [
        "important_features = df.index.to_list()\n",
        "CATEGORICAL_FEATURES = list(set(INITIAL_CATEGORICAL_FEATURES).intersection(set(important_features)))"
      ],
      "execution_count": null,
      "outputs": []
    },
    {
      "cell_type": "code",
      "metadata": {
        "colab": {
          "base_uri": "https://localhost:8080/"
        },
        "id": "xZX7bVzwhU3j",
        "outputId": "84c4fd31-25f4-47ac-f5af-61d34bf2fff7"
      },
      "source": [
        "estimators = my_validation(X[important_features], y, 5)"
      ],
      "execution_count": null,
      "outputs": [
        {
          "output_type": "stream",
          "text": [
            "0:\ttest: 0.7409665\ttest1: 0.7155773\tbest: 0.7155773 (0)\ttotal: 272ms\tremaining: 45m 15s\n",
            "500:\ttest: 0.8991742\ttest1: 0.8561689\tbest: 0.8561689 (500)\ttotal: 2m 9s\tremaining: 41m\n",
            "1000:\ttest: 0.9292586\ttest1: 0.8702774\tbest: 0.8703025 (996)\ttotal: 4m 15s\tremaining: 38m 21s\n",
            "1500:\ttest: 0.9416806\ttest1: 0.8738153\tbest: 0.8739311 (1487)\ttotal: 6m 17s\tremaining: 35m 39s\n",
            "Stopped by overfitting detector  (50 iterations wait)\n",
            "\n",
            "bestTest = 0.8744332598\n",
            "bestIteration = 1578\n",
            "\n",
            "Shrink model to first 1579 iterations.\n",
            "Fold: 1, train-observations = 144000, valid-observations = 36000\n",
            "train-score = 0.9435, valid-score = 0.8744\n",
            "=====================================================================\n",
            "0:\ttest: 0.7493016\ttest1: 0.7710521\tbest: 0.7710521 (0)\ttotal: 259ms\tremaining: 43m 9s\n",
            "500:\ttest: 0.8942811\ttest1: 0.8787338\tbest: 0.8787788 (496)\ttotal: 2m 9s\tremaining: 40m 49s\n",
            "1000:\ttest: 0.9247410\ttest1: 0.8910230\tbest: 0.8910230 (1000)\ttotal: 4m 15s\tremaining: 38m 18s\n",
            "Stopped by overfitting detector  (50 iterations wait)\n",
            "\n",
            "bestTest = 0.8938612257\n",
            "bestIteration = 1315\n",
            "\n",
            "Shrink model to first 1316 iterations.\n",
            "Fold: 2, train-observations = 144000, valid-observations = 36000\n",
            "train-score = 0.936, valid-score = 0.8939\n",
            "=====================================================================\n",
            "0:\ttest: 0.7624110\ttest1: 0.7414375\tbest: 0.7414375 (0)\ttotal: 259ms\tremaining: 43m 10s\n",
            "Stopped by overfitting detector  (50 iterations wait)\n",
            "\n",
            "bestTest = 0.8307834428\n",
            "bestIteration = 15\n",
            "\n",
            "Shrink model to first 16 iterations.\n",
            "Fold: 3, train-observations = 144000, valid-observations = 36000\n",
            "train-score = 0.834, valid-score = 0.8308\n",
            "=====================================================================\n",
            "0:\ttest: 0.7550635\ttest1: 0.7475680\tbest: 0.7475680 (0)\ttotal: 253ms\tremaining: 42m 14s\n",
            "Stopped by overfitting detector  (50 iterations wait)\n",
            "\n",
            "bestTest = 0.8371587626\n",
            "bestIteration = 37\n",
            "\n",
            "Shrink model to first 38 iterations.\n",
            "Fold: 4, train-observations = 144000, valid-observations = 36000\n",
            "train-score = 0.8383, valid-score = 0.8372\n",
            "=====================================================================\n",
            "0:\ttest: 0.7542945\ttest1: 0.7503760\tbest: 0.7503760 (0)\ttotal: 269ms\tremaining: 44m 48s\n",
            "Stopped by overfitting detector  (50 iterations wait)\n",
            "\n",
            "bestTest = 0.8301102685\n",
            "bestIteration = 190\n",
            "\n",
            "Shrink model to first 191 iterations.\n",
            "Fold: 5, train-observations = 144000, valid-observations = 36000\n",
            "train-score = 0.8752, valid-score = 0.8313\n",
            "=====================================================================\n",
            "CV-results train: 0.8854 +/- 0.047\n",
            "CV-results valid: 0.8535 +/- 0.026\n",
            "OOF-score = 0.8283\n",
            "ROC AUC train score = 0.859\n"
          ],
          "name": "stdout"
        }
      ]
    },
    {
      "cell_type": "markdown",
      "metadata": {
        "id": "LnqcD5eei82v"
      },
      "source": [
        "### Результат \n",
        "CV-results train: 0.8854 +/- 0.047     \n",
        "CV-results valid: 0.8535 +/- 0.026     \n",
        "OOF-score = 0.8283     \n",
        "ROC AUC train score = 0.859"
      ]
    },
    {
      "cell_type": "markdown",
      "metadata": {
        "id": "OXqkA3jSbZaZ"
      },
      "source": [
        "# Задание 6:\n",
        "построить shap.summary_plot и shap.decision_plot для небольшой группы примеров (определить размер самостоятельно) и проанализировать влияние признаков на поведение модели."
      ]
    },
    {
      "cell_type": "code",
      "metadata": {
        "id": "ddQFHPtmmEwc"
      },
      "source": [
        "est = estimators[0]\n",
        "x_valid = X[important_features]"
      ],
      "execution_count": null,
      "outputs": []
    },
    {
      "cell_type": "code",
      "metadata": {
        "id": "681levGIQGVy"
      },
      "source": [
        "explainer = shap.TreeExplainer(est)\n",
        "shap_values = explainer.shap_values(x_valid, y)"
      ],
      "execution_count": null,
      "outputs": []
    },
    {
      "cell_type": "code",
      "metadata": {
        "colab": {
          "base_uri": "https://localhost:8080/",
          "height": 799
        },
        "id": "3RwuVfIQQGIQ",
        "outputId": "4c3e42f1-7fa2-4407-eda2-35b38474a643"
      },
      "source": [
        "shap.summary_plot(shap_values, x_valid, plot_type=\"bar\", max_display=30)"
      ],
      "execution_count": null,
      "outputs": [
        {
          "output_type": "display_data",
          "data": {
            "image/png": "[encoded data removed]",
            "text/plain": [
              "<Figure size 576x972 with 1 Axes>"
            ]
          },
          "metadata": {
            "tags": [],
            "needs_background": "light"
          }
        }
      ]
    },
    {
      "cell_type": "code",
      "metadata": {
        "colab": {
          "base_uri": "https://localhost:8080/"
        },
        "id": "p8XxEFNUQF_R",
        "outputId": "99f2a8bc-f3de-47bf-a776-b21deefcb635"
      },
      "source": [
        "expected_value = explainer.expected_value\n",
        "if isinstance(expected_value, list):\n",
        "    expected_value = expected_value[1]\n",
        "print(f\"Explainer expected value: {expected_value}\")\n",
        "\n",
        "select = range(20)\n",
        "features = x_valid.iloc[select]\n",
        "features_display = x_valid.loc[features.index]\n",
        "shap_values = explainer.shap_values(features)"
      ],
      "execution_count": null,
      "outputs": [
        {
          "output_type": "stream",
          "text": [
            "Explainer expected value: -0.8653583484401787\n"
          ],
          "name": "stdout"
        }
      ]
    },
    {
      "cell_type": "code",
      "metadata": {
        "colab": {
          "base_uri": "https://localhost:8080/",
          "height": 598
        },
        "id": "uQDbr3QjSEw_",
        "outputId": "ced7b46b-c025-4b08-a4e0-e5912eb1f30f"
      },
      "source": [
        "shap.decision_plot(expected_value, shap_values, features_display.iloc[:10], link=\"logit\")"
      ],
      "execution_count": null,
      "outputs": [
        {
          "output_type": "display_data",
          "data": {
            "image/png": "[encoded data removed]",
            "text/plain": [
              "<Figure size 576x684 with 1 Axes>"
            ]
          },
          "metadata": {
            "tags": [],
            "needs_background": "light"
          }
        }
      ]
    },
    {
      "cell_type": "code",
      "metadata": {
        "id": "W_U_u6XHQF23"
      },
      "source": [
        ""
      ],
      "execution_count": null,
      "outputs": []
    }
  ]
}